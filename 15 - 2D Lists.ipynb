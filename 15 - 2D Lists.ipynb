{
 "cells": [
  {
   "cell_type": "code",
   "execution_count": 1,
   "id": "e8c9c800",
   "metadata": {},
   "outputs": [
    {
     "data": {
      "text/plain": [
       "'\\nQuestion 1 - \\nRotate a given list by 1 element.\\n\\nINPUT = [1,2,3,4,5]\\nOUTPUT = [5,1,2,3,4]\\n'"
      ]
     },
     "execution_count": 1,
     "metadata": {},
     "output_type": "execute_result"
    }
   ],
   "source": [
    "'''\n",
    "Question 1 - \n",
    "Rotate a given list by 1 element.\n",
    "\n",
    "INPUT = [1,2,3,4,5]\n",
    "OUTPUT = [5,1,2,3,4]\n",
    "'''"
   ]
  },
  {
   "cell_type": "code",
   "execution_count": 2,
   "id": "9904c8a5",
   "metadata": {},
   "outputs": [],
   "source": [
    "a = [1,2,3,4,5]"
   ]
  },
  {
   "cell_type": "code",
   "execution_count": 3,
   "id": "a9758812",
   "metadata": {},
   "outputs": [
    {
     "data": {
      "text/plain": [
       "[1, 2, 3, 4]"
      ]
     },
     "execution_count": 3,
     "metadata": {},
     "output_type": "execute_result"
    }
   ],
   "source": [
    "a[:len(a) - 1]"
   ]
  },
  {
   "cell_type": "code",
   "execution_count": 4,
   "id": "10afab39",
   "metadata": {},
   "outputs": [
    {
     "data": {
      "text/plain": [
       "[1, 2, 3, 4, 5]"
      ]
     },
     "execution_count": 4,
     "metadata": {},
     "output_type": "execute_result"
    }
   ],
   "source": [
    "a"
   ]
  },
  {
   "cell_type": "code",
   "execution_count": 5,
   "id": "2a5672cd",
   "metadata": {},
   "outputs": [
    {
     "data": {
      "text/plain": [
       "5"
      ]
     },
     "execution_count": 5,
     "metadata": {},
     "output_type": "execute_result"
    }
   ],
   "source": [
    "a[-1]"
   ]
  },
  {
   "cell_type": "code",
   "execution_count": 6,
   "id": "9be80a03",
   "metadata": {},
   "outputs": [
    {
     "data": {
      "text/plain": [
       "[3, 4, 5, 6]"
      ]
     },
     "execution_count": 6,
     "metadata": {},
     "output_type": "execute_result"
    }
   ],
   "source": [
    "[3,4] + [5,6]"
   ]
  },
  {
   "cell_type": "code",
   "execution_count": 7,
   "id": "877406d4",
   "metadata": {},
   "outputs": [],
   "source": [
    "def solution_1(a):\n",
    "    last_element = a[-1]\n",
    "    remaining_elements = a[:len(a) - 1]\n",
    "    \n",
    "    result = [last_element] + remaining_elements\n",
    "    \n",
    "    return result"
   ]
  },
  {
   "cell_type": "code",
   "execution_count": 8,
   "id": "53bd2b90",
   "metadata": {},
   "outputs": [
    {
     "data": {
      "text/plain": [
       "[5, 1, 2, 3, 4]"
      ]
     },
     "execution_count": 8,
     "metadata": {},
     "output_type": "execute_result"
    }
   ],
   "source": [
    "solution_1(a)"
   ]
  },
  {
   "cell_type": "code",
   "execution_count": 9,
   "id": "2b3a126e",
   "metadata": {},
   "outputs": [],
   "source": [
    "def solution_1(a):\n",
    "    return [a[-1]] + a[:len(a) - 1]"
   ]
  },
  {
   "cell_type": "code",
   "execution_count": 10,
   "id": "b5309b1e",
   "metadata": {},
   "outputs": [],
   "source": [
    "def solution_2(a):\n",
    "    last_element = a.pop()\n",
    "    a.insert(0, last_element)\n",
    "    \n",
    "    return a"
   ]
  },
  {
   "cell_type": "code",
   "execution_count": 11,
   "id": "62edc3b4",
   "metadata": {},
   "outputs": [
    {
     "data": {
      "text/plain": [
       "[1, 2, 3, 4, 5]"
      ]
     },
     "execution_count": 11,
     "metadata": {},
     "output_type": "execute_result"
    }
   ],
   "source": [
    "a"
   ]
  },
  {
   "cell_type": "code",
   "execution_count": 12,
   "id": "04288e8e",
   "metadata": {},
   "outputs": [
    {
     "data": {
      "text/plain": [
       "[5, 1, 2, 3, 4]"
      ]
     },
     "execution_count": 12,
     "metadata": {},
     "output_type": "execute_result"
    }
   ],
   "source": [
    "solution_2(a)"
   ]
  },
  {
   "cell_type": "code",
   "execution_count": 13,
   "id": "373f462c",
   "metadata": {},
   "outputs": [
    {
     "data": {
      "text/plain": [
       "'\\nOPTIONAL HOMEWORK - \\nRotate a given list by n element.\\n\\nINPUT - \\na = [1,2,3,4,5]\\nn = 7\\n\\nOUTPUT = [4,5,1,2,3]\\n'"
      ]
     },
     "execution_count": 13,
     "metadata": {},
     "output_type": "execute_result"
    }
   ],
   "source": [
    "'''\n",
    "OPTIONAL HOMEWORK - \n",
    "Rotate a given list by n element.\n",
    "\n",
    "INPUT - \n",
    "a = [1,2,3,4,5]\n",
    "n = 7\n",
    "\n",
    "OUTPUT = [4,5,1,2,3]\n",
    "'''"
   ]
  },
  {
   "cell_type": "code",
   "execution_count": 14,
   "id": "08cf0159",
   "metadata": {},
   "outputs": [],
   "source": [
    "a = [5,6,7,8,9,10]"
   ]
  },
  {
   "cell_type": "code",
   "execution_count": 15,
   "id": "cdf86538",
   "metadata": {},
   "outputs": [
    {
     "data": {
      "text/plain": [
       "2"
      ]
     },
     "execution_count": 15,
     "metadata": {},
     "output_type": "execute_result"
    }
   ],
   "source": [
    "a.index(7)"
   ]
  },
  {
   "cell_type": "code",
   "execution_count": 16,
   "id": "730a74ce",
   "metadata": {},
   "outputs": [
    {
     "ename": "ValueError",
     "evalue": "20 is not in list",
     "output_type": "error",
     "traceback": [
      "\u001b[0;31m---------------------------------------------------------------------------\u001b[0m",
      "\u001b[0;31mValueError\u001b[0m                                Traceback (most recent call last)",
      "\u001b[0;32m/var/folders/nn/c52y0d3j0gq59dpsswchkt2r0000gn/T/ipykernel_6804/1583755094.py\u001b[0m in \u001b[0;36m<module>\u001b[0;34m\u001b[0m\n\u001b[0;32m----> 1\u001b[0;31m \u001b[0ma\u001b[0m\u001b[0;34m.\u001b[0m\u001b[0mindex\u001b[0m\u001b[0;34m(\u001b[0m\u001b[0;36m20\u001b[0m\u001b[0;34m)\u001b[0m\u001b[0;34m\u001b[0m\u001b[0;34m\u001b[0m\u001b[0m\n\u001b[0m",
      "\u001b[0;31mValueError\u001b[0m: 20 is not in list"
     ]
    }
   ],
   "source": [
    "a.index(20)"
   ]
  },
  {
   "cell_type": "code",
   "execution_count": 17,
   "id": "27b1e569",
   "metadata": {},
   "outputs": [],
   "source": [
    "a = [5,6,7,8,9,10,10,10,10,10,10]"
   ]
  },
  {
   "cell_type": "code",
   "execution_count": 19,
   "id": "d63336d6",
   "metadata": {},
   "outputs": [
    {
     "data": {
      "text/plain": [
       "5"
      ]
     },
     "execution_count": 19,
     "metadata": {},
     "output_type": "execute_result"
    }
   ],
   "source": [
    "a.index(10) # returns first occurence index"
   ]
  },
  {
   "cell_type": "code",
   "execution_count": 20,
   "id": "aa2e0c8c",
   "metadata": {},
   "outputs": [
    {
     "data": {
      "text/plain": [
       "6"
      ]
     },
     "execution_count": 20,
     "metadata": {},
     "output_type": "execute_result"
    }
   ],
   "source": [
    "a.count(10)"
   ]
  },
  {
   "cell_type": "code",
   "execution_count": 21,
   "id": "326fdabf",
   "metadata": {},
   "outputs": [
    {
     "data": {
      "text/plain": [
       "0"
      ]
     },
     "execution_count": 21,
     "metadata": {},
     "output_type": "execute_result"
    }
   ],
   "source": [
    "a.count(100)"
   ]
  },
  {
   "cell_type": "code",
   "execution_count": 22,
   "id": "f885de3d",
   "metadata": {},
   "outputs": [],
   "source": [
    "a = [[1,2,3], [4,5,6], [7,8,9]]"
   ]
  },
  {
   "cell_type": "code",
   "execution_count": 25,
   "id": "02f82166",
   "metadata": {},
   "outputs": [
    {
     "data": {
      "text/plain": [
       "6"
      ]
     },
     "execution_count": 25,
     "metadata": {},
     "output_type": "execute_result"
    }
   ],
   "source": [
    "a[1][2]"
   ]
  },
  {
   "cell_type": "code",
   "execution_count": 26,
   "id": "a4b7a1de",
   "metadata": {},
   "outputs": [],
   "source": [
    "# MATRICES"
   ]
  },
  {
   "cell_type": "code",
   "execution_count": 27,
   "id": "b18ed157",
   "metadata": {},
   "outputs": [],
   "source": [
    "rows = len(a)\n",
    "columns = len(a[0])"
   ]
  },
  {
   "cell_type": "code",
   "execution_count": 28,
   "id": "9da9795f",
   "metadata": {},
   "outputs": [
    {
     "name": "stdout",
     "output_type": "stream",
     "text": [
      "1 2 3 \n",
      "4 5 6 \n",
      "7 8 9 \n"
     ]
    }
   ],
   "source": [
    "for i in range(rows):\n",
    "    for j in range(columns):\n",
    "        print(a[i][j], end = \" \")\n",
    "    \n",
    "    print()"
   ]
  },
  {
   "cell_type": "code",
   "execution_count": 32,
   "id": "5a520068",
   "metadata": {},
   "outputs": [],
   "source": [
    "a = [[1,2,3], [4,5,6], [7,8,9], [0,1,2]]"
   ]
  },
  {
   "cell_type": "code",
   "execution_count": 33,
   "id": "8d06de8e",
   "metadata": {},
   "outputs": [],
   "source": [
    "rows = len(a)\n",
    "columns = len(a[0])"
   ]
  },
  {
   "cell_type": "code",
   "execution_count": 34,
   "id": "e4f526b1",
   "metadata": {},
   "outputs": [
    {
     "name": "stdout",
     "output_type": "stream",
     "text": [
      "1 2 3 \n",
      "4 5 6 \n",
      "7 8 9 \n",
      "0 1 2 \n"
     ]
    }
   ],
   "source": [
    "for i in range(rows):\n",
    "    for j in range(columns):\n",
    "        print(a[i][j], end = \" \")\n",
    "    \n",
    "    print()"
   ]
  },
  {
   "cell_type": "code",
   "execution_count": 35,
   "id": "96b87984",
   "metadata": {},
   "outputs": [
    {
     "data": {
      "text/plain": [
       "'\\nQuestion 2 - \\nTake a 3x3 matrix as input from the user.\\n\\nGiven this matrix - \\n1. Calculate the sum of all elements in the matrix\\n2. Calculate and print sum of each row\\n3. Calculate and print sum of each column\\n'"
      ]
     },
     "execution_count": 35,
     "metadata": {},
     "output_type": "execute_result"
    }
   ],
   "source": [
    "'''\n",
    "Question 2 - \n",
    "Take a 3x3 matrix as input from the user.\n",
    "\n",
    "Given this matrix - \n",
    "1. Calculate the sum of all elements in the matrix\n",
    "2. Calculate and print sum of each row\n",
    "3. Calculate and print sum of each column\n",
    "'''"
   ]
  },
  {
   "cell_type": "code",
   "execution_count": 37,
   "id": "3bb82a3b",
   "metadata": {},
   "outputs": [
    {
     "name": "stdout",
     "output_type": "stream",
     "text": [
      "1\n",
      "2\n",
      "3\n",
      "4\n",
      "5\n",
      "6\n",
      "7\n",
      "8\n",
      "9\n"
     ]
    },
    {
     "data": {
      "text/plain": [
       "'\\nmatrix = []\\n\\ni = 0 -> \\nrow = []\\nj = 0 -> input 1 = 5 -> row = [5]\\nj = 1 -> input 2 = 4 -> row = [5, 4]\\nj = 2 -> input 3 = 6 -> row = [5, 4, 6]\\n\\nrow = [5, 4, 6]\\n\\nmatrix = [[5,4,6]]\\n\\ni = 1 -> \\nrow = []\\nj = 0 -> input 1 = 1 -> row = [1]\\nj = 1 -> input 2 = 2 -> row = [1, 2]\\nj = 2 -> input 3 = 3 -> row = [1, 2, 3]\\n\\nrow = [1, 2, 3]\\n\\nmatrix = [[5,4,6], [1,2,3]]\\n'"
      ]
     },
     "execution_count": 37,
     "metadata": {},
     "output_type": "execute_result"
    }
   ],
   "source": [
    "matrix = []\n",
    "\n",
    "for i in range(3):\n",
    "    row = []\n",
    "    \n",
    "    for j in range(3):\n",
    "        row.append(int(input()))\n",
    "        \n",
    "    matrix.append(row)\n",
    "    \n",
    "'''\n",
    "matrix = []\n",
    "\n",
    "i = 0 -> \n",
    "row = []\n",
    "j = 0 -> input 1 = 5 -> row = [5]\n",
    "j = 1 -> input 2 = 4 -> row = [5, 4]\n",
    "j = 2 -> input 3 = 6 -> row = [5, 4, 6]\n",
    "\n",
    "row = [5, 4, 6]\n",
    "\n",
    "matrix = [[5,4,6]]\n",
    "\n",
    "i = 1 -> \n",
    "row = []\n",
    "j = 0 -> input 1 = 1 -> row = [1]\n",
    "j = 1 -> input 2 = 2 -> row = [1, 2]\n",
    "j = 2 -> input 3 = 3 -> row = [1, 2, 3]\n",
    "\n",
    "row = [1, 2, 3]\n",
    "\n",
    "matrix = [[5,4,6], [1,2,3]]\n",
    "'''"
   ]
  },
  {
   "cell_type": "code",
   "execution_count": 38,
   "id": "7f653d60",
   "metadata": {},
   "outputs": [
    {
     "data": {
      "text/plain": [
       "[[1, 2, 3], [4, 5, 6], [7, 8, 9]]"
      ]
     },
     "execution_count": 38,
     "metadata": {},
     "output_type": "execute_result"
    }
   ],
   "source": [
    "matrix"
   ]
  },
  {
   "cell_type": "code",
   "execution_count": 39,
   "id": "c2ab6f9a",
   "metadata": {},
   "outputs": [],
   "source": [
    "def matrix_input(rows, columns):\n",
    "    matrix = []\n",
    "    \n",
    "    for i in range(rows):\n",
    "        row = []\n",
    "        \n",
    "        for j in range(columns):\n",
    "            row.append(int(input()))\n",
    "        \n",
    "        matrix.append(row)\n",
    "        \n",
    "    return matrix"
   ]
  },
  {
   "cell_type": "code",
   "execution_count": 40,
   "id": "994ac288",
   "metadata": {},
   "outputs": [
    {
     "name": "stdout",
     "output_type": "stream",
     "text": [
      "1\n",
      "2\n",
      "3\n",
      "4\n"
     ]
    },
    {
     "data": {
      "text/plain": [
       "[[1, 2], [3, 4]]"
      ]
     },
     "execution_count": 40,
     "metadata": {},
     "output_type": "execute_result"
    }
   ],
   "source": [
    "matrix_input(2,2)"
   ]
  },
  {
   "cell_type": "code",
   "execution_count": 41,
   "id": "b05082a8",
   "metadata": {},
   "outputs": [
    {
     "name": "stdout",
     "output_type": "stream",
     "text": [
      "1\n",
      "2\n",
      "3\n",
      "4\n",
      "5\n",
      "6\n",
      "7\n",
      "8\n",
      "9\n"
     ]
    }
   ],
   "source": [
    "matrix = matrix_input(3,3)"
   ]
  },
  {
   "cell_type": "code",
   "execution_count": 42,
   "id": "4f776f21",
   "metadata": {},
   "outputs": [
    {
     "data": {
      "text/plain": [
       "[[1, 2, 3], [4, 5, 6], [7, 8, 9]]"
      ]
     },
     "execution_count": 42,
     "metadata": {},
     "output_type": "execute_result"
    }
   ],
   "source": [
    "matrix"
   ]
  },
  {
   "cell_type": "code",
   "execution_count": 45,
   "id": "e38c593e",
   "metadata": {},
   "outputs": [],
   "source": [
    "def sum_all_elements(matrix):\n",
    "    sum_all = 0\n",
    "    \n",
    "    for i in matrix:\n",
    "        for j in i:\n",
    "            sum_all += j\n",
    "            \n",
    "    return sum_all"
   ]
  },
  {
   "cell_type": "code",
   "execution_count": 46,
   "id": "d004bb97",
   "metadata": {},
   "outputs": [
    {
     "data": {
      "text/plain": [
       "45"
      ]
     },
     "execution_count": 46,
     "metadata": {},
     "output_type": "execute_result"
    }
   ],
   "source": [
    "sum_all_elements(matrix)"
   ]
  },
  {
   "cell_type": "code",
   "execution_count": 49,
   "id": "786cd927",
   "metadata": {},
   "outputs": [],
   "source": [
    "def sum_each_row(matrix):\n",
    "    rows = len(matrix)\n",
    "    columns = len(matrix[0])\n",
    "    \n",
    "    for i in range(rows):\n",
    "        sum_row = 0\n",
    "        \n",
    "        for j in range(columns):\n",
    "            sum_row += matrix[i][j]\n",
    "            \n",
    "        print(\"Sum of row\", i, \"=\", sum_row)"
   ]
  },
  {
   "cell_type": "code",
   "execution_count": 51,
   "id": "630e7e44",
   "metadata": {},
   "outputs": [
    {
     "name": "stdout",
     "output_type": "stream",
     "text": [
      "Sum of row 0 = 6\n",
      "Sum of row 1 = 15\n",
      "Sum of row 2 = 24\n"
     ]
    },
    {
     "data": {
      "text/plain": [
       "'\\nmatrix = [[1, 2, 3], [4, 5, 6], [7, 8, 9]]\\nrows = 3\\ncolumns = 3\\n\\ni = 0 ->\\n    sum_row = 0\\n    \\n    j = 0 -> sum_row = 0 + 1 = 1\\n    j = 1 -> sum_row = 1 + 2 = 3\\n    j = 2 -> sum_row = 3 + 3 = 6\\n    \\n    Sum of row 0 = 6\\n    \\ni = 1 ->\\n    sum_row = 0\\n    .\\n    .\\n    .\\n'"
      ]
     },
     "execution_count": 51,
     "metadata": {},
     "output_type": "execute_result"
    }
   ],
   "source": [
    "sum_each_row(matrix)\n",
    "\n",
    "'''\n",
    "matrix = [[1, 2, 3], [4, 5, 6], [7, 8, 9]]\n",
    "rows = 3\n",
    "columns = 3\n",
    "\n",
    "i = 0 ->\n",
    "    sum_row = 0\n",
    "    \n",
    "    j = 0 -> sum_row = 0 + 1 = 1\n",
    "    j = 1 -> sum_row = 1 + 2 = 3\n",
    "    j = 2 -> sum_row = 3 + 3 = 6\n",
    "    \n",
    "    Sum of row 0 = 6\n",
    "    \n",
    "i = 1 ->\n",
    "    sum_row = 0\n",
    "    \n",
    "    j = 0 -> sum_row = 0 + 4 = 4\n",
    "    j = 1 -> sum_row = 4 + 5 = 9\n",
    "    j = 2 -> sum_row = 9 + 6 = 15\n",
    "    \n",
    "    Sum of row 1 = 15\n",
    "    \n",
    "i = 2 ->\n",
    ".\n",
    ".\n",
    ".\n",
    "'''"
   ]
  },
  {
   "cell_type": "code",
   "execution_count": 52,
   "id": "e4f6f8db",
   "metadata": {},
   "outputs": [],
   "source": [
    "def sum_each_column(matrix):\n",
    "    # HOMEWORK\n",
    "    pass"
   ]
  },
  {
   "cell_type": "code",
   "execution_count": 53,
   "id": "d4c04c75",
   "metadata": {},
   "outputs": [],
   "source": [
    "# HOMEWORK - \n",
    "# 1. Take two matrices as input and calculate the sum of two matrices\n",
    "# 2. Take a matrix as input and calculate transpose"
   ]
  },
  {
   "cell_type": "code",
   "execution_count": 60,
   "id": "236846fc",
   "metadata": {},
   "outputs": [],
   "source": [
    "players = [\"Jadeja\", \"Rahul\", \"Rohit\"]"
   ]
  },
  {
   "cell_type": "code",
   "execution_count": 59,
   "id": "a0713360",
   "metadata": {},
   "outputs": [
    {
     "data": {
      "text/plain": [
       "['s', 't', 'r', 'i', 'n', 'g']"
      ]
     },
     "execution_count": 59,
     "metadata": {},
     "output_type": "execute_result"
    }
   ],
   "source": [
    "list(\"string\")"
   ]
  },
  {
   "cell_type": "code",
   "execution_count": 55,
   "id": "fe258140",
   "metadata": {},
   "outputs": [],
   "source": [
    "players += \"Dhoni, Virat\""
   ]
  },
  {
   "cell_type": "code",
   "execution_count": 56,
   "id": "a8069648",
   "metadata": {},
   "outputs": [
    {
     "data": {
      "text/plain": [
       "['Jadeja',\n",
       " 'Rahul',\n",
       " 'Rohit',\n",
       " 'D',\n",
       " 'h',\n",
       " 'o',\n",
       " 'n',\n",
       " 'i',\n",
       " ',',\n",
       " ' ',\n",
       " 'V',\n",
       " 'i',\n",
       " 'r',\n",
       " 'a',\n",
       " 't']"
      ]
     },
     "execution_count": 56,
     "metadata": {},
     "output_type": "execute_result"
    }
   ],
   "source": [
    "players"
   ]
  },
  {
   "cell_type": "code",
   "execution_count": 63,
   "id": "f323d685",
   "metadata": {},
   "outputs": [
    {
     "data": {
      "text/plain": [
       "[]"
      ]
     },
     "execution_count": 63,
     "metadata": {},
     "output_type": "execute_result"
    }
   ],
   "source": [
    "players[len(players):]"
   ]
  },
  {
   "cell_type": "code",
   "execution_count": 65,
   "id": "78324850",
   "metadata": {},
   "outputs": [],
   "source": [
    "players = [\"Jadeja\", \"Rahul\", \"Rohit\"]"
   ]
  },
  {
   "cell_type": "code",
   "execution_count": 66,
   "id": "79c74498",
   "metadata": {},
   "outputs": [],
   "source": [
    "players[len(players):] = players[len(players):] + [\"Dhoni\", \"Virat\"]"
   ]
  },
  {
   "cell_type": "code",
   "execution_count": 67,
   "id": "90b1a00c",
   "metadata": {},
   "outputs": [
    {
     "data": {
      "text/plain": [
       "['Jadeja', 'Rahul', 'Rohit', 'Dhoni', 'Virat']"
      ]
     },
     "execution_count": 67,
     "metadata": {},
     "output_type": "execute_result"
    }
   ],
   "source": [
    "players"
   ]
  },
  {
   "cell_type": "code",
   "execution_count": 68,
   "id": "e7744153",
   "metadata": {},
   "outputs": [],
   "source": [
    "# ['Jadeja', 'Rahul', 'Rohit', END OF LIST (len(list))]"
   ]
  },
  {
   "cell_type": "code",
   "execution_count": 74,
   "id": "38bc2d9c",
   "metadata": {},
   "outputs": [],
   "source": [
    "players = [\"Jadeja\", \"Rahul\", \"Rohit\"]"
   ]
  },
  {
   "cell_type": "code",
   "execution_count": 75,
   "id": "bd18f785",
   "metadata": {},
   "outputs": [
    {
     "data": {
      "text/plain": [
       "['Rohit']"
      ]
     },
     "execution_count": 75,
     "metadata": {},
     "output_type": "execute_result"
    }
   ],
   "source": [
    "players[-1:]"
   ]
  },
  {
   "cell_type": "code",
   "execution_count": 71,
   "id": "1ca9302a",
   "metadata": {},
   "outputs": [],
   "source": [
    "players[-1:] += [\"Dhoni\", \"Virat\"]"
   ]
  },
  {
   "cell_type": "code",
   "execution_count": 73,
   "id": "73aac1b6",
   "metadata": {},
   "outputs": [
    {
     "data": {
      "text/plain": [
       "['Virat']"
      ]
     },
     "execution_count": 73,
     "metadata": {},
     "output_type": "execute_result"
    }
   ],
   "source": [
    "players[-1:]"
   ]
  },
  {
   "cell_type": "code",
   "execution_count": 72,
   "id": "7df88020",
   "metadata": {},
   "outputs": [
    {
     "data": {
      "text/plain": [
       "['Jadeja', 'Rahul', 'Rohit', 'Dhoni', 'Virat']"
      ]
     },
     "execution_count": 72,
     "metadata": {},
     "output_type": "execute_result"
    }
   ],
   "source": [
    "players"
   ]
  },
  {
   "cell_type": "code",
   "execution_count": 77,
   "id": "e4f30053",
   "metadata": {},
   "outputs": [],
   "source": [
    "# dir(list)"
   ]
  },
  {
   "cell_type": "code",
   "execution_count": 78,
   "id": "27b2ff74",
   "metadata": {},
   "outputs": [],
   "source": [
    "a = [1,2,3,4,5]"
   ]
  },
  {
   "cell_type": "code",
   "execution_count": 79,
   "id": "381fb2d9",
   "metadata": {},
   "outputs": [],
   "source": [
    "del a[0]"
   ]
  },
  {
   "cell_type": "code",
   "execution_count": 80,
   "id": "d85e2ca2",
   "metadata": {},
   "outputs": [
    {
     "data": {
      "text/plain": [
       "[2, 3, 4, 5]"
      ]
     },
     "execution_count": 80,
     "metadata": {},
     "output_type": "execute_result"
    }
   ],
   "source": [
    "a"
   ]
  },
  {
   "cell_type": "code",
   "execution_count": 81,
   "id": "4769be57",
   "metadata": {},
   "outputs": [],
   "source": [
    "del a"
   ]
  },
  {
   "cell_type": "code",
   "execution_count": 82,
   "id": "a1652959",
   "metadata": {},
   "outputs": [
    {
     "ename": "NameError",
     "evalue": "name 'a' is not defined",
     "output_type": "error",
     "traceback": [
      "\u001b[0;31m---------------------------------------------------------------------------\u001b[0m",
      "\u001b[0;31mNameError\u001b[0m                                 Traceback (most recent call last)",
      "\u001b[0;32m/var/folders/nn/c52y0d3j0gq59dpsswchkt2r0000gn/T/ipykernel_6804/2167009006.py\u001b[0m in \u001b[0;36m<module>\u001b[0;34m\u001b[0m\n\u001b[0;32m----> 1\u001b[0;31m \u001b[0ma\u001b[0m\u001b[0;34m\u001b[0m\u001b[0;34m\u001b[0m\u001b[0m\n\u001b[0m",
      "\u001b[0;31mNameError\u001b[0m: name 'a' is not defined"
     ]
    }
   ],
   "source": [
    "a"
   ]
  },
  {
   "cell_type": "code",
   "execution_count": 84,
   "id": "6966ab1b",
   "metadata": {},
   "outputs": [],
   "source": [
    "a = [1,2,3,4,5]\n",
    "\n",
    "a.clear()"
   ]
  },
  {
   "cell_type": "code",
   "execution_count": 85,
   "id": "3d129c55",
   "metadata": {},
   "outputs": [
    {
     "data": {
      "text/plain": [
       "[]"
      ]
     },
     "execution_count": 85,
     "metadata": {},
     "output_type": "execute_result"
    }
   ],
   "source": [
    "a"
   ]
  },
  {
   "cell_type": "code",
   "execution_count": 86,
   "id": "6c5f252e",
   "metadata": {},
   "outputs": [],
   "source": [
    "a = []"
   ]
  },
  {
   "cell_type": "code",
   "execution_count": 90,
   "id": "04a50e58",
   "metadata": {},
   "outputs": [],
   "source": [
    "a = [\"a\", \"b\", \"c\", [1,2,3,4], True]"
   ]
  },
  {
   "cell_type": "code",
   "execution_count": 91,
   "id": "c7cdfbb0",
   "metadata": {},
   "outputs": [],
   "source": [
    "a = []"
   ]
  },
  {
   "cell_type": "code",
   "execution_count": 92,
   "id": "1797f632",
   "metadata": {},
   "outputs": [
    {
     "data": {
      "text/plain": [
       "[]"
      ]
     },
     "execution_count": 92,
     "metadata": {},
     "output_type": "execute_result"
    }
   ],
   "source": [
    "a"
   ]
  },
  {
   "cell_type": "code",
   "execution_count": 88,
   "id": "0fcfd8e2",
   "metadata": {},
   "outputs": [],
   "source": [
    "a.clear()"
   ]
  },
  {
   "cell_type": "code",
   "execution_count": 89,
   "id": "1cbe1ace",
   "metadata": {},
   "outputs": [
    {
     "data": {
      "text/plain": [
       "[]"
      ]
     },
     "execution_count": 89,
     "metadata": {},
     "output_type": "execute_result"
    }
   ],
   "source": [
    "a"
   ]
  },
  {
   "cell_type": "code",
   "execution_count": null,
   "id": "685ac985",
   "metadata": {},
   "outputs": [],
   "source": []
  }
 ],
 "metadata": {
  "kernelspec": {
   "display_name": "Python 3 (ipykernel)",
   "language": "python",
   "name": "python3"
  },
  "language_info": {
   "codemirror_mode": {
    "name": "ipython",
    "version": 3
   },
   "file_extension": ".py",
   "mimetype": "text/x-python",
   "name": "python",
   "nbconvert_exporter": "python",
   "pygments_lexer": "ipython3",
   "version": "3.9.5"
  }
 },
 "nbformat": 4,
 "nbformat_minor": 5
}
