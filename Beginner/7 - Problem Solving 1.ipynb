{
 "cells": [
  {
   "cell_type": "code",
   "execution_count": 1,
   "id": "7e0a3edc",
   "metadata": {},
   "outputs": [
    {
     "data": {
      "text/plain": [
       "'\\nTake an input from the user and print alternate numbers from from 1 to input.\\nIf number is > 1 -> Print as required.\\nElse print \"Number is smaller than 1!\" \\n\\nINPUT - 7\\nOUTPUT - 1 3 5 7\\n\\nINPUT - -5\\nOUTPUT - Number is smaller than or equal to 1!\\n'"
      ]
     },
     "execution_count": 1,
     "metadata": {},
     "output_type": "execute_result"
    }
   ],
   "source": [
    "\"\"\"\n",
    "Take an input from the user and print alternate numbers from from 1 to input.\n",
    "If number is > 1 -> Print as required.\n",
    "Else print \"Number is smaller than 1!\" \n",
    "\n",
    "INPUT - 7\n",
    "OUTPUT - 1 3 5 7\n",
    "\n",
    "INPUT - -5\n",
    "OUTPUT - Number is smaller than or equal to 1!\n",
    "\"\"\""
   ]
  },
  {
   "cell_type": "code",
   "execution_count": 2,
   "id": "81f71a2b",
   "metadata": {},
   "outputs": [
    {
     "name": "stdout",
     "output_type": "stream",
     "text": [
      "0 "
     ]
    }
   ],
   "source": [
    "x = 1\n",
    "for i in range(x): # [0]\n",
    "    x = x+1\n",
    "    print(i, end= \" \")"
   ]
  },
  {
   "cell_type": "code",
   "execution_count": 3,
   "id": "c9398307",
   "metadata": {},
   "outputs": [],
   "source": [
    "def random_function(a):\n",
    "    result = 2 * a\n",
    "    \n",
    "    return result"
   ]
  },
  {
   "cell_type": "code",
   "execution_count": 4,
   "id": "40dc238c",
   "metadata": {},
   "outputs": [],
   "source": [
    "a = 5\n",
    "x = random_function(a)"
   ]
  },
  {
   "cell_type": "code",
   "execution_count": 5,
   "id": "ee8f084f",
   "metadata": {},
   "outputs": [
    {
     "data": {
      "text/plain": [
       "10"
      ]
     },
     "execution_count": 5,
     "metadata": {},
     "output_type": "execute_result"
    }
   ],
   "source": [
    "x"
   ]
  },
  {
   "cell_type": "code",
   "execution_count": 6,
   "id": "39b37484",
   "metadata": {},
   "outputs": [],
   "source": [
    "a = 10"
   ]
  },
  {
   "cell_type": "code",
   "execution_count": 7,
   "id": "26232d0a",
   "metadata": {},
   "outputs": [
    {
     "data": {
      "text/plain": [
       "10"
      ]
     },
     "execution_count": 7,
     "metadata": {},
     "output_type": "execute_result"
    }
   ],
   "source": [
    "x"
   ]
  },
  {
   "cell_type": "code",
   "execution_count": 8,
   "id": "ec3f43bd",
   "metadata": {},
   "outputs": [
    {
     "name": "stdout",
     "output_type": "stream",
     "text": [
      "11\n",
      "36\n"
     ]
    }
   ],
   "source": [
    "A = int(input())\n",
    "\n",
    "sum_odd = 0\n",
    "\n",
    "for i in range(1, A + 1, 2):\n",
    "    sum_odd += i\n",
    "    \n",
    "print(sum_odd)"
   ]
  },
  {
   "cell_type": "code",
   "execution_count": 9,
   "id": "09f34379",
   "metadata": {},
   "outputs": [
    {
     "data": {
      "text/plain": [
       "0"
      ]
     },
     "execution_count": 9,
     "metadata": {},
     "output_type": "execute_result"
    }
   ],
   "source": [
    "0 % 2"
   ]
  },
  {
   "cell_type": "code",
   "execution_count": 11,
   "id": "7cb2afdb",
   "metadata": {},
   "outputs": [
    {
     "data": {
      "text/plain": [
       "'\\nc = 0 -> 0 -> Falsy\\nc = 1 -> 1 -> Truthy\\nc = 2 -> 0 -> Falsy\\n'"
      ]
     },
     "execution_count": 11,
     "metadata": {},
     "output_type": "execute_result"
    }
   ],
   "source": [
    "# c = 1\n",
    "# while c<=10:\n",
    "#     print(c)\n",
    "#     if c%2:\n",
    "#         c-=1\n",
    "#     else:\n",
    "#         c+=1\n",
    "        \n",
    "'''\n",
    "c = 0 -> 0 -> Falsy\n",
    "c = 1 -> 1 -> Truthy\n",
    "c = 2 -> 0 -> Falsy\n",
    "'''"
   ]
  },
  {
   "cell_type": "code",
   "execution_count": 12,
   "id": "b990c38d",
   "metadata": {},
   "outputs": [
    {
     "data": {
      "text/plain": [
       "'\\nGiven a number A. Print all perfect squares less than or equal to A.\\nNotes - Perfect squares are integers whose square root is an integer.\\n'"
      ]
     },
     "execution_count": 12,
     "metadata": {},
     "output_type": "execute_result"
    }
   ],
   "source": [
    "'''\n",
    "Given a number A. Print all perfect squares less than or equal to A.\n",
    "Notes - Perfect squares are integers whose square root is an integer.\n",
    "'''"
   ]
  },
  {
   "cell_type": "code",
   "execution_count": 13,
   "id": "bb3653a6",
   "metadata": {},
   "outputs": [
    {
     "name": "stdout",
     "output_type": "stream",
     "text": [
      "Please enter the number - 50\n",
      "1 4 9 16 25 36 49 "
     ]
    }
   ],
   "source": [
    "A = int(input(\"Please enter the number - \"))\n",
    "\n",
    "i = 1\n",
    "\n",
    "while i**2 <= A:\n",
    "    print(i**2, end = \" \")\n",
    "    i += 1"
   ]
  },
  {
   "cell_type": "code",
   "execution_count": 14,
   "id": "fe309e79",
   "metadata": {},
   "outputs": [],
   "source": [
    "n = 156"
   ]
  },
  {
   "cell_type": "code",
   "execution_count": 17,
   "id": "38ba80c3",
   "metadata": {},
   "outputs": [],
   "source": [
    "sum_digits = 0"
   ]
  },
  {
   "cell_type": "code",
   "execution_count": 15,
   "id": "b3d38989",
   "metadata": {},
   "outputs": [],
   "source": [
    "digit = n % 10"
   ]
  },
  {
   "cell_type": "code",
   "execution_count": 16,
   "id": "fd1a1a9a",
   "metadata": {},
   "outputs": [
    {
     "data": {
      "text/plain": [
       "6"
      ]
     },
     "execution_count": 16,
     "metadata": {},
     "output_type": "execute_result"
    }
   ],
   "source": [
    "digit"
   ]
  },
  {
   "cell_type": "code",
   "execution_count": 18,
   "id": "61b8d33a",
   "metadata": {},
   "outputs": [],
   "source": [
    "sum_digits += digit"
   ]
  },
  {
   "cell_type": "code",
   "execution_count": 19,
   "id": "c1f5ed14",
   "metadata": {},
   "outputs": [
    {
     "data": {
      "text/plain": [
       "6"
      ]
     },
     "execution_count": 19,
     "metadata": {},
     "output_type": "execute_result"
    }
   ],
   "source": [
    "sum_digits"
   ]
  },
  {
   "cell_type": "code",
   "execution_count": 20,
   "id": "7a2bedb7",
   "metadata": {},
   "outputs": [],
   "source": [
    "n = n // 10"
   ]
  },
  {
   "cell_type": "code",
   "execution_count": 21,
   "id": "35389a6d",
   "metadata": {},
   "outputs": [
    {
     "data": {
      "text/plain": [
       "15"
      ]
     },
     "execution_count": 21,
     "metadata": {},
     "output_type": "execute_result"
    }
   ],
   "source": [
    "n"
   ]
  },
  {
   "cell_type": "code",
   "execution_count": 22,
   "id": "b948ffaa",
   "metadata": {},
   "outputs": [],
   "source": [
    "digit = n % 10"
   ]
  },
  {
   "cell_type": "code",
   "execution_count": 23,
   "id": "821f657f",
   "metadata": {},
   "outputs": [],
   "source": [
    "sum_digits += digit"
   ]
  },
  {
   "cell_type": "code",
   "execution_count": 24,
   "id": "df5e8076",
   "metadata": {},
   "outputs": [
    {
     "data": {
      "text/plain": [
       "11"
      ]
     },
     "execution_count": 24,
     "metadata": {},
     "output_type": "execute_result"
    }
   ],
   "source": [
    "sum_digits"
   ]
  },
  {
   "cell_type": "code",
   "execution_count": 25,
   "id": "a5e75339",
   "metadata": {},
   "outputs": [],
   "source": [
    "n = n // 10"
   ]
  },
  {
   "cell_type": "code",
   "execution_count": 26,
   "id": "8b5b209c",
   "metadata": {},
   "outputs": [
    {
     "data": {
      "text/plain": [
       "1"
      ]
     },
     "execution_count": 26,
     "metadata": {},
     "output_type": "execute_result"
    }
   ],
   "source": [
    "n"
   ]
  },
  {
   "cell_type": "code",
   "execution_count": 27,
   "id": "ba21ff8a",
   "metadata": {},
   "outputs": [],
   "source": [
    "digit = n % 10"
   ]
  },
  {
   "cell_type": "code",
   "execution_count": 28,
   "id": "29691f47",
   "metadata": {},
   "outputs": [],
   "source": [
    "sum_digits += digit"
   ]
  },
  {
   "cell_type": "code",
   "execution_count": 29,
   "id": "ab69b28f",
   "metadata": {},
   "outputs": [
    {
     "data": {
      "text/plain": [
       "12"
      ]
     },
     "execution_count": 29,
     "metadata": {},
     "output_type": "execute_result"
    }
   ],
   "source": [
    "sum_digits"
   ]
  },
  {
   "cell_type": "code",
   "execution_count": 30,
   "id": "13a61128",
   "metadata": {},
   "outputs": [],
   "source": [
    "n = n // 10"
   ]
  },
  {
   "cell_type": "code",
   "execution_count": 31,
   "id": "f7ae61a4",
   "metadata": {},
   "outputs": [
    {
     "data": {
      "text/plain": [
       "0"
      ]
     },
     "execution_count": 31,
     "metadata": {},
     "output_type": "execute_result"
    }
   ],
   "source": [
    "n"
   ]
  },
  {
   "cell_type": "code",
   "execution_count": 33,
   "id": "1fa2af81",
   "metadata": {},
   "outputs": [
    {
     "name": "stdout",
     "output_type": "stream",
     "text": [
      "Please enter the number - 156\n",
      "12\n"
     ]
    }
   ],
   "source": [
    "# METHOD 1\n",
    "n = int(input(\"Please enter the number - \"))\n",
    "sum_digits = 0\n",
    "\n",
    "while n > 0:\n",
    "    digit = n % 10\n",
    "    sum_digits += digit\n",
    "    n = n // 10\n",
    "    \n",
    "print(sum_digits)"
   ]
  },
  {
   "cell_type": "code",
   "execution_count": 52,
   "id": "c9b5631a",
   "metadata": {
    "scrolled": true
   },
   "outputs": [
    {
     "name": "stdout",
     "output_type": "stream",
     "text": [
      "Please enter the number - 156\n"
     ]
    }
   ],
   "source": [
    "# METHOD 2\n",
    "n = input(\"Please enter the number - \")"
   ]
  },
  {
   "cell_type": "code",
   "execution_count": 53,
   "id": "71057ae1",
   "metadata": {
    "scrolled": true
   },
   "outputs": [
    {
     "data": {
      "text/plain": [
       "'156'"
      ]
     },
     "execution_count": 53,
     "metadata": {},
     "output_type": "execute_result"
    }
   ],
   "source": [
    "n"
   ]
  },
  {
   "cell_type": "code",
   "execution_count": 54,
   "id": "0e60f8fb",
   "metadata": {},
   "outputs": [
    {
     "name": "stdout",
     "output_type": "stream",
     "text": [
      "1\n",
      "5\n",
      "6\n"
     ]
    }
   ],
   "source": [
    "for i in n:\n",
    "    print(i)"
   ]
  },
  {
   "cell_type": "code",
   "execution_count": 38,
   "id": "51a37594",
   "metadata": {},
   "outputs": [],
   "source": [
    "sum_digits = 0\n",
    "for i in n:\n",
    "    sum_digits += int(i)"
   ]
  },
  {
   "cell_type": "code",
   "execution_count": 39,
   "id": "99d6861a",
   "metadata": {},
   "outputs": [
    {
     "data": {
      "text/plain": [
       "12"
      ]
     },
     "execution_count": 39,
     "metadata": {},
     "output_type": "execute_result"
    }
   ],
   "source": [
    "sum_digits"
   ]
  },
  {
   "cell_type": "code",
   "execution_count": 40,
   "id": "7c5f805e",
   "metadata": {},
   "outputs": [],
   "source": [
    "# while t <= TEST_CASES:\n",
    "#     n = int(input(\"Please enter the number - \"))\n",
    "#     sum_digits = 0\n",
    "\n",
    "#     while n > 0:\n",
    "#         digit = n % 10\n",
    "#         sum_digits += digit\n",
    "#         n = n // 10\n",
    "\n",
    "#     print(sum_digits)\n",
    "    \n",
    "#     t += 1"
   ]
  },
  {
   "cell_type": "code",
   "execution_count": 41,
   "id": "da2e53d3",
   "metadata": {},
   "outputs": [
    {
     "name": "stdout",
     "output_type": "stream",
     "text": [
      "2\n"
     ]
    }
   ],
   "source": [
    "if False:\n",
    "    print(\"1\")\n",
    "elif True:\n",
    "    print(\"2\")\n",
    "elif True:\n",
    "    print(\"3\")\n",
    "else:\n",
    "    print(\"4\")"
   ]
  },
  {
   "cell_type": "code",
   "execution_count": 42,
   "id": "2aa3cad4",
   "metadata": {},
   "outputs": [
    {
     "name": "stdout",
     "output_type": "stream",
     "text": [
      "0\n",
      "1\n",
      "3\n",
      "6\n",
      "10\n"
     ]
    }
   ],
   "source": [
    "random = 0\n",
    "\n",
    "for i in range(5):\n",
    "    random += i\n",
    "    print(random)"
   ]
  },
  {
   "cell_type": "code",
   "execution_count": 45,
   "id": "2d4367a6",
   "metadata": {},
   "outputs": [
    {
     "name": "stdout",
     "output_type": "stream",
     "text": [
      "6\n",
      "Not a Prime Number\n"
     ]
    }
   ],
   "source": [
    "# PRIME NUMBER\n",
    "\n",
    "number = int(input())\n",
    "\n",
    "num_divisors = 2\n",
    "\n",
    "for i in range(2, number // 2):\n",
    "    if number % i == 0:\n",
    "        num_divisors += 1\n",
    "        \n",
    "if num_divisors == 2:\n",
    "    print(\"Prime Number\")\n",
    "else:\n",
    "    print(\"Not a Prime Number\")"
   ]
  },
  {
   "cell_type": "code",
   "execution_count": 51,
   "id": "21c1fb84",
   "metadata": {},
   "outputs": [
    {
     "name": "stdout",
     "output_type": "stream",
     "text": [
      "Foo./Bar./Fizz\n",
      "Random\n"
     ]
    }
   ],
   "source": [
    "print(\"Foo\", \"Bar\", \"Fizz\", sep = \"./\")\n",
    "print(\"Random\")"
   ]
  },
  {
   "cell_type": "code",
   "execution_count": 46,
   "id": "16e6fa6a",
   "metadata": {
    "scrolled": true
   },
   "outputs": [
    {
     "name": "stdout",
     "output_type": "stream",
     "text": [
      "Hello,World+Foo\n",
      "Bar 123"
     ]
    }
   ],
   "source": [
    "print('Foo', sep = './')"
   ]
  },
  {
   "cell_type": "code",
   "execution_count": 55,
   "id": "bc2461ae",
   "metadata": {},
   "outputs": [
    {
     "data": {
      "text/plain": [
       "6"
      ]
     },
     "execution_count": 55,
     "metadata": {},
     "output_type": "execute_result"
    }
   ],
   "source": [
    "int(\"6\")"
   ]
  },
  {
   "cell_type": "code",
   "execution_count": 58,
   "id": "686226cd",
   "metadata": {},
   "outputs": [
    {
     "name": "stdout",
     "output_type": "stream",
     "text": [
      "0+1+2+3+4"
     ]
    }
   ],
   "source": [
    "for i in range(5):\n",
    "    if i == 4:\n",
    "        print(i, end = \"\")\n",
    "    else:\n",
    "        print(i, end = \"+\")"
   ]
  },
  {
   "cell_type": "code",
   "execution_count": 59,
   "id": "48deaa41",
   "metadata": {},
   "outputs": [
    {
     "data": {
      "text/plain": [
       "'aaaaa'"
      ]
     },
     "execution_count": 59,
     "metadata": {},
     "output_type": "execute_result"
    }
   ],
   "source": [
    "\"a\" * 5"
   ]
  },
  {
   "cell_type": "code",
   "execution_count": 60,
   "id": "e1046de1",
   "metadata": {},
   "outputs": [
    {
     "data": {
      "text/plain": [
       "'^^^^^'"
      ]
     },
     "execution_count": 60,
     "metadata": {},
     "output_type": "execute_result"
    }
   ],
   "source": [
    "\"^\" * 5"
   ]
  },
  {
   "cell_type": "code",
   "execution_count": 61,
   "id": "7cf1ed0e",
   "metadata": {},
   "outputs": [
    {
     "data": {
      "text/plain": [
       "''"
      ]
     },
     "execution_count": 61,
     "metadata": {},
     "output_type": "execute_result"
    }
   ],
   "source": [
    "\"\""
   ]
  },
  {
   "cell_type": "code",
   "execution_count": 62,
   "id": "ff7df269",
   "metadata": {},
   "outputs": [
    {
     "data": {
      "text/plain": [
       "' dasjdh  dasjdh  dasjdh  dasjdh  dasjdh '"
      ]
     },
     "execution_count": 62,
     "metadata": {},
     "output_type": "execute_result"
    }
   ],
   "source": [
    "\" dasjdh \" * 5"
   ]
  },
  {
   "cell_type": "code",
   "execution_count": 63,
   "id": "f55857ae",
   "metadata": {},
   "outputs": [
    {
     "ename": "TypeError",
     "evalue": "can only concatenate str (not \"int\") to str",
     "output_type": "error",
     "traceback": [
      "\u001b[0;31m---------------------------------------------------------------------------\u001b[0m",
      "\u001b[0;31mTypeError\u001b[0m                                 Traceback (most recent call last)",
      "\u001b[0;32m/var/folders/nn/c52y0d3j0gq59dpsswchkt2r0000gn/T/ipykernel_6785/406260688.py\u001b[0m in \u001b[0;36m<module>\u001b[0;34m\u001b[0m\n\u001b[0;32m----> 1\u001b[0;31m \u001b[0;34m\"this\"\u001b[0m \u001b[0;34m+\u001b[0m \u001b[0;36m5\u001b[0m \u001b[0;34m+\u001b[0m \u001b[0;34m\"random\"\u001b[0m\u001b[0;34m\u001b[0m\u001b[0;34m\u001b[0m\u001b[0m\n\u001b[0m",
      "\u001b[0;31mTypeError\u001b[0m: can only concatenate str (not \"int\") to str"
     ]
    }
   ],
   "source": [
    "\"this\" + 5 + \"random\""
   ]
  },
  {
   "cell_type": "code",
   "execution_count": 64,
   "id": "4a5a0267",
   "metadata": {},
   "outputs": [
    {
     "name": "stdout",
     "output_type": "stream",
     "text": [
      "10\n",
      "4\n",
      "2 0\n"
     ]
    }
   ],
   "source": [
    "x = int(input())\n",
    "y = int(input())\n",
    "\n",
    "q = 0\n",
    "r = 0\n",
    "\n",
    "#Block A\n",
    "while x>y:\n",
    "    x-=y\n",
    "    q+=1\n",
    "print(q, r)"
   ]
  },
  {
   "cell_type": "code",
   "execution_count": 65,
   "id": "ecdf992f",
   "metadata": {},
   "outputs": [
    {
     "name": "stdout",
     "output_type": "stream",
     "text": [
      "10\n",
      "4\n",
      "2 4\n"
     ]
    }
   ],
   "source": [
    "x = int(input())\n",
    "y = int(input())\n",
    "\n",
    "q = 0\n",
    "r = 0\n",
    "\n",
    "#Block B\n",
    "while x>=y:\n",
    "    x-=y\n",
    "    q+=1\n",
    "print(q, y)"
   ]
  },
  {
   "cell_type": "code",
   "execution_count": 66,
   "id": "554b074c",
   "metadata": {},
   "outputs": [
    {
     "name": "stdout",
     "output_type": "stream",
     "text": [
      "10\n",
      "4\n",
      "2 2\n"
     ]
    }
   ],
   "source": [
    "x = int(input())\n",
    "y = int(input())\n",
    "\n",
    "q = 0\n",
    "r = 0\n",
    "\n",
    "#Block C\n",
    "while x>=y:\n",
    "    x-=y\n",
    "    q+=1\n",
    "print(q, x)\n",
    "\n",
    "'''\n",
    "x = 10, y = 4\n",
    "\n",
    "q = 0, r = 0\n",
    "\n",
    "x -= y -> 10 -= 4 ->\n",
    "x = 6\n",
    "q = 1\n",
    "\n",
    "x -= y -> 6 -= 4 ->\n",
    "x = 2\n",
    "q = 2\n",
    "'''"
   ]
  },
  {
   "cell_type": "code",
   "execution_count": 67,
   "id": "c43ac788",
   "metadata": {},
   "outputs": [
    {
     "ename": "SyntaxError",
     "evalue": "invalid syntax (957732523.py, line 5)",
     "output_type": "error",
     "traceback": [
      "\u001b[0;36m  File \u001b[0;32m\"/var/folders/nn/c52y0d3j0gq59dpsswchkt2r0000gn/T/ipykernel_6785/957732523.py\"\u001b[0;36m, line \u001b[0;32m5\u001b[0m\n\u001b[0;31m    if (a == b __1__ a == c) and b == c: # or / and\u001b[0m\n\u001b[0m               ^\u001b[0m\n\u001b[0;31mSyntaxError\u001b[0m\u001b[0;31m:\u001b[0m invalid syntax\n"
     ]
    }
   ],
   "source": [
    "a = int(input())\n",
    "b = int(input())\n",
    "c = int(input())\n",
    "\n",
    "if (a == b __1__ a == c) and b == c: # or / and\n",
    "    print(\"Equilateral\")\n",
    "elif a == b __2__ b == c or c == a: # or \n",
    "    print(\"Isosceles\")\n",
    "else:\n",
    "    print(\"Scalene\")"
   ]
  },
  {
   "cell_type": "code",
   "execution_count": 70,
   "id": "40ad5f58",
   "metadata": {},
   "outputs": [
    {
     "name": "stdout",
     "output_type": "stream",
     "text": [
      "0\n",
      "1\n",
      "2\n",
      "3\n",
      "4\n"
     ]
    }
   ],
   "source": [
    "for i in range(5):\n",
    "    if i == 3:\n",
    "        pass # empty block in python\n",
    "    \n",
    "    print(i)"
   ]
  },
  {
   "cell_type": "code",
   "execution_count": 71,
   "id": "d3ef93bb",
   "metadata": {},
   "outputs": [],
   "source": [
    "if True:\n",
    "    # statement here -> at least 1 line of code is required.\n",
    "    pass"
   ]
  },
  {
   "cell_type": "code",
   "execution_count": 74,
   "id": "bcf20ee5",
   "metadata": {},
   "outputs": [
    {
     "ename": "IndentationError",
     "evalue": "expected an indented block (2961736738.py, line 1)",
     "output_type": "error",
     "traceback": [
      "\u001b[0;36m  File \u001b[0;32m\"/var/folders/nn/c52y0d3j0gq59dpsswchkt2r0000gn/T/ipykernel_6785/2961736738.py\"\u001b[0;36m, line \u001b[0;32m1\u001b[0m\n\u001b[0;31m    if True:\u001b[0m\n\u001b[0m            ^\u001b[0m\n\u001b[0;31mIndentationError\u001b[0m\u001b[0;31m:\u001b[0m expected an indented block\n"
     ]
    }
   ],
   "source": [
    "if True:"
   ]
  },
  {
   "cell_type": "code",
   "execution_count": 73,
   "id": "93e76058",
   "metadata": {},
   "outputs": [
    {
     "name": "stdout",
     "output_type": "stream",
     "text": [
      "0\n",
      "1\n",
      "2\n",
      "4\n"
     ]
    }
   ],
   "source": [
    "for i in range(5):\n",
    "    if i == 3:\n",
    "        continue # continues to the next iteration immediately \n",
    "    \n",
    "    print(i)"
   ]
  },
  {
   "cell_type": "code",
   "execution_count": 76,
   "id": "d9418bbf",
   "metadata": {},
   "outputs": [
    {
     "name": "stdout",
     "output_type": "stream",
     "text": [
      "0\n",
      "1\n",
      "2\n"
     ]
    }
   ],
   "source": [
    "for i in range(5):\n",
    "    if i == 3:\n",
    "        break # stops iteration\n",
    "    \n",
    "    print(i)"
   ]
  },
  {
   "cell_type": "code",
   "execution_count": null,
   "id": "aa45155d",
   "metadata": {},
   "outputs": [],
   "source": []
  }
 ],
 "metadata": {
  "kernelspec": {
   "display_name": "Python 3 (ipykernel)",
   "language": "python",
   "name": "python3"
  },
  "language_info": {
   "codemirror_mode": {
    "name": "ipython",
    "version": 3
   },
   "file_extension": ".py",
   "mimetype": "text/x-python",
   "name": "python",
   "nbconvert_exporter": "python",
   "pygments_lexer": "ipython3",
   "version": "3.9.5"
  }
 },
 "nbformat": 4,
 "nbformat_minor": 5
}
