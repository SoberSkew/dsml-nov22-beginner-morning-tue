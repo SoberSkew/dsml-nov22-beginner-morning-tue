{
 "cells": [
  {
   "cell_type": "code",
   "execution_count": 7,
   "id": "82cb632b",
   "metadata": {},
   "outputs": [
    {
     "name": "stdout",
     "output_type": "stream",
     "text": [
      "45 54\n"
     ]
    }
   ],
   "source": [
    "print(45, end = \" \")\n",
    "print(54)"
   ]
  },
  {
   "cell_type": "code",
   "execution_count": 11,
   "id": "03458f08",
   "metadata": {
    "scrolled": true
   },
   "outputs": [
    {
     "name": "stdout",
     "output_type": "stream",
     "text": [
      "45 _ 56 _ 78 _ 85\n"
     ]
    }
   ],
   "source": [
    "print(45,56,78,85,sep = \" _ \")"
   ]
  },
  {
   "cell_type": "code",
   "execution_count": 12,
   "id": "59dbeaaa",
   "metadata": {},
   "outputs": [
    {
     "name": "stdout",
     "output_type": "stream",
     "text": [
      "45+56 - 67\n"
     ]
    }
   ],
   "source": [
    "print(45, 56, sep = \"+\", end = \" - \")\n",
    "print(67)"
   ]
  },
  {
   "cell_type": "code",
   "execution_count": 1,
   "id": "26786ad4",
   "metadata": {},
   "outputs": [
    {
     "data": {
      "text/plain": [
       "'\\nPractice Question - \\nPrint all numbers from 0 to 5 with 5 included.\\n'"
      ]
     },
     "execution_count": 1,
     "metadata": {},
     "output_type": "execute_result"
    }
   ],
   "source": [
    "'''\n",
    "Practice Question - \n",
    "Print all numbers from 0 to 5 with 5 included.\n",
    "'''"
   ]
  },
  {
   "cell_type": "code",
   "execution_count": 2,
   "id": "1d12c01b",
   "metadata": {},
   "outputs": [
    {
     "name": "stdout",
     "output_type": "stream",
     "text": [
      "0 1 2 3 4 5 "
     ]
    }
   ],
   "source": [
    "number = 0 # initialization\n",
    "\n",
    "while number <= 5: # condition\n",
    "    print(number, end = \" \")\n",
    "    number += 1 # updation"
   ]
  },
  {
   "cell_type": "code",
   "execution_count": 14,
   "id": "c38989d0",
   "metadata": {},
   "outputs": [
    {
     "name": "stdout",
     "output_type": "stream",
     "text": [
      "5 6 7 8 9 10 11 12 13 14 15 16 17 18 19 20 21 22 23 24 "
     ]
    }
   ],
   "source": [
    "number = 5\n",
    "\n",
    "while number < 25:\n",
    "    print(number, end = \" \")\n",
    "    number += 1"
   ]
  },
  {
   "cell_type": "code",
   "execution_count": 15,
   "id": "eaffcc0c",
   "metadata": {},
   "outputs": [
    {
     "data": {
      "text/plain": [
       "'\\nQuestion 1 - \\nTake an input from the user and print alternate numbers from from 1 to input.\\nInput will be a positive number > 1.\\n\\nINPUT - 7\\nOUTPUT - 1 3 5 7\\n'"
      ]
     },
     "execution_count": 15,
     "metadata": {},
     "output_type": "execute_result"
    }
   ],
   "source": [
    "'''\n",
    "Question 1 - \n",
    "Take an input from the user and print alternate numbers from from 1 to input.\n",
    "Input will be a positive number > 1.\n",
    "\n",
    "INPUT - 7\n",
    "OUTPUT - 1 3 5 7\n",
    "'''"
   ]
  },
  {
   "cell_type": "code",
   "execution_count": 19,
   "id": "ce7d49f7",
   "metadata": {},
   "outputs": [
    {
     "name": "stdout",
     "output_type": "stream",
     "text": [
      "Enter a number > 1 - 7\n",
      "1\n",
      "3\n",
      "5\n",
      "7\n"
     ]
    }
   ],
   "source": [
    "number = int(input(\"Enter a number > 1 - \"))\n",
    "\n",
    "i = 1 # initialization\n",
    "\n",
    "while i <= number: # condition\n",
    "    print(i)\n",
    "    i += 2 # updation"
   ]
  },
  {
   "cell_type": "code",
   "execution_count": 21,
   "id": "7ec62834",
   "metadata": {},
   "outputs": [
    {
     "name": "stdout",
     "output_type": "stream",
     "text": [
      "Enter a number > 1 - 7\n",
      "3\n",
      "5\n",
      "7\n",
      "9\n"
     ]
    },
    {
     "data": {
      "text/plain": [
       "'\\ni -> 1: True\\n    - i = 3\\n    - 3\\ni -> 3: True\\n    - i = 5\\n    - 5\\ni -> 5: True\\n    - i = 7\\n    - 7\\ni -> 7: True\\n    - i -> 9\\n    - 9\\n'"
      ]
     },
     "execution_count": 21,
     "metadata": {},
     "output_type": "execute_result"
    }
   ],
   "source": [
    "number = int(input(\"Enter a number > 1 - \"))\n",
    "\n",
    "i = 1 \n",
    "\n",
    "while i <= number: \n",
    "    i += 2\n",
    "    print(i)\n",
    "    \n",
    "'''\n",
    "i -> 1: True\n",
    "    - i = 3\n",
    "    - 3\n",
    "i -> 3: True\n",
    "    - i = 5\n",
    "    - 5\n",
    "i -> 5: True\n",
    "    - i = 7\n",
    "    - 7\n",
    "i -> 7: True\n",
    "    - i -> 9\n",
    "    - 9\n",
    "'''"
   ]
  },
  {
   "cell_type": "code",
   "execution_count": 22,
   "id": "386fd175",
   "metadata": {},
   "outputs": [
    {
     "data": {
      "text/plain": [
       "'\\nQuestion 2 - \\nTake an input from the user and print alternate numbers from from 1 to input.\\nIf number is > 1 -> Print as required.\\nElse print \"Number is smaller than 1!\"\\n\\nINPUT - 7\\nOUTPUT - 1 3 5 7\\n\\nINPUT - -5\\nOUTPUT - Number is smaller than 1!\\n'"
      ]
     },
     "execution_count": 22,
     "metadata": {},
     "output_type": "execute_result"
    }
   ],
   "source": [
    "'''\n",
    "Question 2 - \n",
    "Take an input from the user and print alternate numbers from from 1 to input.\n",
    "If number is > 1 -> Print as required.\n",
    "Else print \"Number is smaller than 1!\"\n",
    "\n",
    "INPUT - 7\n",
    "OUTPUT - 1 3 5 7\n",
    "\n",
    "INPUT - -5\n",
    "OUTPUT - Number is smaller than or equal to 1!\n",
    "'''"
   ]
  },
  {
   "cell_type": "code",
   "execution_count": 24,
   "id": "344039f0",
   "metadata": {},
   "outputs": [
    {
     "name": "stdout",
     "output_type": "stream",
     "text": [
      "Please provide a number - -2\n",
      "Number is smaller than or equal to 1!\n"
     ]
    }
   ],
   "source": [
    "number = int(input(\"Please provide a number - \"))\n",
    "\n",
    "# i = 1\n",
    "\n",
    "if number > 1:\n",
    "    i = 1\n",
    "    \n",
    "    while i <= number:\n",
    "        print(i)\n",
    "        i += 2\n",
    "else:\n",
    "    print(\"Number is smaller than or equal to 1!\")"
   ]
  },
  {
   "cell_type": "code",
   "execution_count": 26,
   "id": "e28e0165",
   "metadata": {},
   "outputs": [
    {
     "name": "stdout",
     "output_type": "stream",
     "text": [
      "Please provide a number - -2\n",
      "Number is smaller than or equal to 1!\n"
     ]
    }
   ],
   "source": [
    "number = int(input(\"Please provide a number - \"))\n",
    "\n",
    "# i = 1\n",
    "\n",
    "if number <= 1:\n",
    "    print(\"Number is smaller than or equal to 1!\")\n",
    "else:\n",
    "    i = 1\n",
    "    \n",
    "    while i <= number:\n",
    "        print(i)\n",
    "        i += 2"
   ]
  },
  {
   "cell_type": "code",
   "execution_count": 27,
   "id": "2da255d5",
   "metadata": {},
   "outputs": [
    {
     "data": {
      "text/plain": [
       "'\\nQuestion 3 - \\nTake two inputs from user for start and end integer values.\\nPrint every third number starting at start till end (end included).\\n'"
      ]
     },
     "execution_count": 27,
     "metadata": {},
     "output_type": "execute_result"
    }
   ],
   "source": [
    "'''\n",
    "Question 3 - \n",
    "Take two inputs from user for start and end integer values.\n",
    "Print every third number starting at start till end (end included).\n",
    "'''"
   ]
  },
  {
   "cell_type": "code",
   "execution_count": 39,
   "id": "9a7439de",
   "metadata": {},
   "outputs": [
    {
     "name": "stdout",
     "output_type": "stream",
     "text": [
      "Enter starting value - 8\n",
      "Enter ending value - 1\n"
     ]
    }
   ],
   "source": [
    "s = int(input(\"Enter starting value - \")) # initialization\n",
    "e = int(input(\"Enter ending value - \")) # final value\n",
    "\n",
    "while s <= e: # condition\n",
    "    print(s, end = \" \")\n",
    "    s += 3 # updation"
   ]
  },
  {
   "cell_type": "code",
   "execution_count": 41,
   "id": "02309536",
   "metadata": {},
   "outputs": [
    {
     "data": {
      "text/plain": [
       "True"
      ]
     },
     "execution_count": 41,
     "metadata": {},
     "output_type": "execute_result"
    }
   ],
   "source": [
    "6 % 2 == 0"
   ]
  },
  {
   "cell_type": "code",
   "execution_count": 42,
   "id": "eaa83bd3",
   "metadata": {},
   "outputs": [
    {
     "data": {
      "text/plain": [
       "'\\nQuestion 4 - \\nTake an input from user for start and end values.\\nPrint all even numbers between them. (start and end included)\\n\\nINPUT - \\n3\\n7\\n\\nOUTPUT - 4 6\\n'"
      ]
     },
     "execution_count": 42,
     "metadata": {},
     "output_type": "execute_result"
    }
   ],
   "source": [
    "'''\n",
    "Question 4 - \n",
    "Take an input from user for start and end values.\n",
    "Print all even numbers between them. (start and end included)\n",
    "\n",
    "INPUT - \n",
    "3\n",
    "7\n",
    "\n",
    "OUTPUT - 4 6\n",
    "'''"
   ]
  },
  {
   "cell_type": "code",
   "execution_count": 49,
   "id": "c44c59ac",
   "metadata": {},
   "outputs": [
    {
     "name": "stdout",
     "output_type": "stream",
     "text": [
      "Enter start value - 3\n",
      "Enter end value - 11\n",
      "4 6 8 10 This loop ran 9 times.\n"
     ]
    }
   ],
   "source": [
    "s = int(input(\"Enter start value - \"))\n",
    "e = int(input(\"Enter end value - \"))\n",
    "\n",
    "counter = 0\n",
    "\n",
    "while s <= e:\n",
    "    counter += 1\n",
    "    \n",
    "    if s % 2 == 0:\n",
    "        print(s, end = \" \")\n",
    "        \n",
    "    s += 1\n",
    "    \n",
    "print(\"This loop ran\", counter, \"times.\")"
   ]
  },
  {
   "cell_type": "code",
   "execution_count": 45,
   "id": "bc7f9a59",
   "metadata": {},
   "outputs": [
    {
     "name": "stdout",
     "output_type": "stream",
     "text": [
      "Enter start value - 4\n",
      "Enter end value - 9\n",
      "4 "
     ]
    },
    {
     "ename": "KeyboardInterrupt",
     "evalue": "",
     "output_type": "error",
     "traceback": [
      "\u001b[0;31m---------------------------------------------------------------------------\u001b[0m",
      "\u001b[0;31mKeyboardInterrupt\u001b[0m                         Traceback (most recent call last)",
      "\u001b[0;32m/var/folders/nn/c52y0d3j0gq59dpsswchkt2r0000gn/T/ipykernel_29646/3645374826.py\u001b[0m in \u001b[0;36m<module>\u001b[0;34m\u001b[0m\n\u001b[1;32m      2\u001b[0m \u001b[0me\u001b[0m \u001b[0;34m=\u001b[0m \u001b[0mint\u001b[0m\u001b[0;34m(\u001b[0m\u001b[0minput\u001b[0m\u001b[0;34m(\u001b[0m\u001b[0;34m\"Enter end value - \"\u001b[0m\u001b[0;34m)\u001b[0m\u001b[0;34m)\u001b[0m\u001b[0;34m\u001b[0m\u001b[0;34m\u001b[0m\u001b[0m\n\u001b[1;32m      3\u001b[0m \u001b[0;34m\u001b[0m\u001b[0m\n\u001b[0;32m----> 4\u001b[0;31m \u001b[0;32mwhile\u001b[0m \u001b[0ms\u001b[0m \u001b[0;34m<=\u001b[0m \u001b[0me\u001b[0m\u001b[0;34m:\u001b[0m\u001b[0;34m\u001b[0m\u001b[0;34m\u001b[0m\u001b[0m\n\u001b[0m\u001b[1;32m      5\u001b[0m     \u001b[0;32mif\u001b[0m \u001b[0ms\u001b[0m \u001b[0;34m%\u001b[0m \u001b[0;36m2\u001b[0m \u001b[0;34m==\u001b[0m \u001b[0;36m0\u001b[0m\u001b[0;34m:\u001b[0m\u001b[0;34m\u001b[0m\u001b[0;34m\u001b[0m\u001b[0m\n\u001b[1;32m      6\u001b[0m         \u001b[0mprint\u001b[0m\u001b[0;34m(\u001b[0m\u001b[0ms\u001b[0m\u001b[0;34m,\u001b[0m \u001b[0mend\u001b[0m \u001b[0;34m=\u001b[0m \u001b[0;34m\" \"\u001b[0m\u001b[0;34m)\u001b[0m\u001b[0;34m\u001b[0m\u001b[0;34m\u001b[0m\u001b[0m\n",
      "\u001b[0;31mKeyboardInterrupt\u001b[0m: "
     ]
    }
   ],
   "source": [
    "s = int(input(\"Enter start value - \"))\n",
    "e = int(input(\"Enter end value - \"))\n",
    "\n",
    "while s <= e:\n",
    "    if s % 2 == 0:\n",
    "        print(s, end = \" \")\n",
    "        s += 1 # s will stop getting updated"
   ]
  },
  {
   "cell_type": "code",
   "execution_count": 51,
   "id": "22bce0fb",
   "metadata": {},
   "outputs": [
    {
     "name": "stdout",
     "output_type": "stream",
     "text": [
      "Enter start value - 3\n",
      "Enter end value - 11\n",
      "4\n",
      "6\n",
      "8\n",
      "10\n",
      "This loop ran 4 times.\n"
     ]
    }
   ],
   "source": [
    "s = int(input(\"Enter start value - \"))\n",
    "e = int(input(\"Enter end value - \"))\n",
    "\n",
    "if s % 2 == 0:\n",
    "    s = s\n",
    "else:\n",
    "    s = s + 1\n",
    "    \n",
    "counter = 0\n",
    "    \n",
    "while s <= e:\n",
    "    counter += 1\n",
    "    print(s)\n",
    "    s += 2\n",
    "    \n",
    "print(\"This loop ran\", counter, \"times.\")"
   ]
  },
  {
   "cell_type": "code",
   "execution_count": 53,
   "id": "d05c58fa",
   "metadata": {},
   "outputs": [
    {
     "data": {
      "text/plain": [
       "'\\nQuestion 5 -\\nTake a number input from user.\\nPrint its multiplication table till 10th multiple.\\n\\nINPUT - 7\\nOUTPUT - 7 14 21 28 35 42 49 56 63 70\\n'"
      ]
     },
     "execution_count": 53,
     "metadata": {},
     "output_type": "execute_result"
    }
   ],
   "source": [
    "'''\n",
    "Question 5 -\n",
    "Take a number input from user.\n",
    "Print its multiplication table till 10th multiple.\n",
    "\n",
    "INPUT - 7\n",
    "OUTPUT - 7 14 21 28 35 42 49 56 63 70\n",
    "'''"
   ]
  },
  {
   "cell_type": "code",
   "execution_count": 55,
   "id": "b8a204e2",
   "metadata": {},
   "outputs": [
    {
     "name": "stdout",
     "output_type": "stream",
     "text": [
      "7\n",
      "7 14 21 28 35 42 49 56 63 70 "
     ]
    }
   ],
   "source": [
    "number = int(input())\n",
    "\n",
    "i = 1\n",
    "\n",
    "while i <= 10:\n",
    "    print(number*i, end = \" \")\n",
    "    i += 1"
   ]
  },
  {
   "cell_type": "code",
   "execution_count": 57,
   "id": "1b4b7a29",
   "metadata": {},
   "outputs": [
    {
     "data": {
      "text/plain": [
       "'\\nQuestion 6 - \\n1. Take an integer input from user. This is the number of test cases. (count)\\n2. Take int for each count from the user.\\n3. Print multiplication table of that integer.\\n\\n\\nINPUT - 3\\n\\nOUTPUT - \\nPlease input number 1 - 2\\nMultiplication table - 2 4 6 8 10 12 14 16 18 20\\n\\nPlese input number 2 - 1\\nMultiplication table - 1 2 3 4 5 6 7 8 9 10\\n\\nPlease input number 3 - 5\\nMultiplication table - 5 10 15 20 25 30 35 40 45 50\\n'"
      ]
     },
     "execution_count": 57,
     "metadata": {},
     "output_type": "execute_result"
    }
   ],
   "source": [
    "'''\n",
    "Question 6 - \n",
    "1. Take an integer input from user. This is the number of test cases. (count)\n",
    "2. Take int for each count from the user.\n",
    "3. Print multiplication table of that integer.\n",
    "\n",
    "\n",
    "INPUT - 3\n",
    "\n",
    "OUTPUT - \n",
    "Please input number 1 - 2\n",
    "Multiplication table - 2 4 6 8 10 12 14 16 18 20\n",
    "\n",
    "Plese input number 2 - 1\n",
    "Multiplication table - 1 2 3 4 5 6 7 8 9 10\n",
    "\n",
    "Please input number 3 - 5\n",
    "Multiplication table - 5 10 15 20 25 30 35 40 45 50\n",
    "'''"
   ]
  },
  {
   "cell_type": "code",
   "execution_count": 60,
   "id": "935cbb4a",
   "metadata": {},
   "outputs": [
    {
     "data": {
      "text/plain": [
       "'this is string 145'"
      ]
     },
     "execution_count": 60,
     "metadata": {},
     "output_type": "execute_result"
    }
   ],
   "source": [
    "\"this is string 1\" + str(45)"
   ]
  },
  {
   "cell_type": "code",
   "execution_count": 65,
   "id": "5cfcedb0",
   "metadata": {},
   "outputs": [
    {
     "ename": "TypeError",
     "evalue": "can only concatenate str (not \"int\") to str",
     "output_type": "error",
     "traceback": [
      "\u001b[0;31m---------------------------------------------------------------------------\u001b[0m",
      "\u001b[0;31mTypeError\u001b[0m                                 Traceback (most recent call last)",
      "\u001b[0;32m/var/folders/nn/c52y0d3j0gq59dpsswchkt2r0000gn/T/ipykernel_29646/2069270883.py\u001b[0m in \u001b[0;36m<module>\u001b[0;34m\u001b[0m\n\u001b[0;32m----> 1\u001b[0;31m \u001b[0;34m\"string\"\u001b[0m \u001b[0;34m+\u001b[0m \u001b[0;36m45\u001b[0m\u001b[0;34m\u001b[0m\u001b[0;34m\u001b[0m\u001b[0m\n\u001b[0m",
      "\u001b[0;31mTypeError\u001b[0m: can only concatenate str (not \"int\") to str"
     ]
    }
   ],
   "source": [
    "\"string\" + 45"
   ]
  },
  {
   "cell_type": "code",
   "execution_count": 67,
   "id": "eb95ced1",
   "metadata": {},
   "outputs": [
    {
     "name": "stdout",
     "output_type": "stream",
     "text": [
      "Please enter the number of test cases - 3\n",
      "Please input number - 4\n",
      "Multiplication table is - 4 8 12 16 20 24 28 32 36 40 \n",
      "Please input number - 5\n",
      "Multiplication table is - 5 10 15 20 25 30 35 40 45 50 \n",
      "Please input number - 7\n",
      "Multiplication table is - 7 14 21 28 35 42 49 56 63 70 \n"
     ]
    }
   ],
   "source": [
    "test_cases = int(input(\"Please enter the number of test cases - \"))\n",
    "\n",
    "t = 1\n",
    "\n",
    "while t <= test_cases:\n",
    "    number = int(input(\"Please input number - \"))\n",
    "\n",
    "    i = 1\n",
    "    \n",
    "    print(\"Multiplication table is -\", end = \" \")\n",
    "    while i <= 10:\n",
    "        print(number*i, end = \" \")\n",
    "        i += 1\n",
    "        \n",
    "    print()\n",
    "    \n",
    "    t += 1"
   ]
  },
  {
   "cell_type": "code",
   "execution_count": 70,
   "id": "fe2ce337",
   "metadata": {},
   "outputs": [
    {
     "data": {
      "text/plain": [
       "'stringstring2String 345'"
      ]
     },
     "execution_count": 70,
     "metadata": {},
     "output_type": "execute_result"
    }
   ],
   "source": [
    "\"string\" + \"string2\" + \"String 3\" + str(45)"
   ]
  },
  {
   "cell_type": "code",
   "execution_count": 71,
   "id": "e1229844",
   "metadata": {},
   "outputs": [
    {
     "name": "stdout",
     "output_type": "stream",
     "text": [
      "string1 45 True 67.8 string 3\n"
     ]
    }
   ],
   "source": [
    "print(\"string1\", 45, True, 67.8, \"string 3\")"
   ]
  },
  {
   "cell_type": "code",
   "execution_count": null,
   "id": "98f0701e",
   "metadata": {},
   "outputs": [],
   "source": []
  }
 ],
 "metadata": {
  "kernelspec": {
   "display_name": "Python 3 (ipykernel)",
   "language": "python",
   "name": "python3"
  },
  "language_info": {
   "codemirror_mode": {
    "name": "ipython",
    "version": 3
   },
   "file_extension": ".py",
   "mimetype": "text/x-python",
   "name": "python",
   "nbconvert_exporter": "python",
   "pygments_lexer": "ipython3",
   "version": "3.9.5"
  }
 },
 "nbformat": 4,
 "nbformat_minor": 5
}
