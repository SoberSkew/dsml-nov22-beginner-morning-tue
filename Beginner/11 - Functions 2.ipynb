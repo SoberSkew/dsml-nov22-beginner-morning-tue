{
 "cells": [
  {
   "cell_type": "code",
   "execution_count": 2,
   "id": "9005c25f",
   "metadata": {},
   "outputs": [],
   "source": [
    "def random():\n",
    "    return True\n",
    "\n",
    "def random2():\n",
    "    print(True)"
   ]
  },
  {
   "cell_type": "code",
   "execution_count": 4,
   "id": "3ea98ca3",
   "metadata": {},
   "outputs": [
    {
     "name": "stdout",
     "output_type": "stream",
     "text": [
      "True\n"
     ]
    }
   ],
   "source": [
    "result1 = random()\n",
    "result2 = random2()\n",
    "\n",
    "# The True which is printed comes in from the print statement of random2"
   ]
  },
  {
   "cell_type": "code",
   "execution_count": 5,
   "id": "51ce7bc5",
   "metadata": {},
   "outputs": [
    {
     "name": "stdout",
     "output_type": "stream",
     "text": [
      "True\n"
     ]
    }
   ],
   "source": [
    "print(result1)"
   ]
  },
  {
   "cell_type": "code",
   "execution_count": 6,
   "id": "c44bf035",
   "metadata": {},
   "outputs": [
    {
     "name": "stdout",
     "output_type": "stream",
     "text": [
      "None\n"
     ]
    }
   ],
   "source": [
    "print(result2)"
   ]
  },
  {
   "cell_type": "code",
   "execution_count": 10,
   "id": "bb4d99d8",
   "metadata": {},
   "outputs": [],
   "source": [
    "a = 10\n",
    "b = a"
   ]
  },
  {
   "cell_type": "code",
   "execution_count": 11,
   "id": "d30b4bf3",
   "metadata": {},
   "outputs": [],
   "source": [
    "b = 15"
   ]
  },
  {
   "cell_type": "code",
   "execution_count": 12,
   "id": "e2fa563f",
   "metadata": {},
   "outputs": [
    {
     "data": {
      "text/plain": [
       "10"
      ]
     },
     "execution_count": 12,
     "metadata": {},
     "output_type": "execute_result"
    }
   ],
   "source": [
    "a"
   ]
  },
  {
   "cell_type": "code",
   "execution_count": 9,
   "id": "f14cc130",
   "metadata": {},
   "outputs": [
    {
     "name": "stdout",
     "output_type": "stream",
     "text": [
      "40\n"
     ]
    }
   ],
   "source": [
    "# Example 1 ->\n",
    "\n",
    "a = 40\n",
    "\n",
    "def calculator(number):\n",
    "    return number * 10\n",
    "\n",
    "calculator(a)\n",
    "print(a)\n",
    "# print(number)\n",
    "\n",
    "\n",
    "# Explanation\n",
    "# calculator(a) -> number = a\n",
    "# number * 10"
   ]
  },
  {
   "cell_type": "code",
   "execution_count": 14,
   "id": "cef67600",
   "metadata": {},
   "outputs": [
    {
     "ename": "NameError",
     "evalue": "name 'number' is not defined",
     "output_type": "error",
     "traceback": [
      "\u001b[0;31m---------------------------------------------------------------------------\u001b[0m",
      "\u001b[0;31mNameError\u001b[0m                                 Traceback (most recent call last)",
      "\u001b[0;32m/var/folders/nn/c52y0d3j0gq59dpsswchkt2r0000gn/T/ipykernel_41249/3096201968.py\u001b[0m in \u001b[0;36m<module>\u001b[0;34m\u001b[0m\n\u001b[1;32m      8\u001b[0m \u001b[0mcalculator\u001b[0m\u001b[0;34m(\u001b[0m\u001b[0ma\u001b[0m\u001b[0;34m)\u001b[0m\u001b[0;34m\u001b[0m\u001b[0;34m\u001b[0m\u001b[0m\n\u001b[1;32m      9\u001b[0m \u001b[0;31m# print(a)\u001b[0m\u001b[0;34m\u001b[0m\u001b[0;34m\u001b[0m\u001b[0;34m\u001b[0m\u001b[0m\n\u001b[0;32m---> 10\u001b[0;31m \u001b[0mprint\u001b[0m\u001b[0;34m(\u001b[0m\u001b[0mnumber\u001b[0m\u001b[0;34m)\u001b[0m\u001b[0;34m\u001b[0m\u001b[0;34m\u001b[0m\u001b[0m\n\u001b[0m",
      "\u001b[0;31mNameError\u001b[0m: name 'number' is not defined"
     ]
    }
   ],
   "source": [
    "# Example 2 ->\n",
    "\n",
    "a = 40\n",
    "\n",
    "def calculator(number):\n",
    "    return number * 10\n",
    "\n",
    "calculator(a)\n",
    "# print(a)\n",
    "print(number)"
   ]
  },
  {
   "cell_type": "code",
   "execution_count": 17,
   "id": "33094be6",
   "metadata": {},
   "outputs": [
    {
     "name": "stdout",
     "output_type": "stream",
     "text": [
      "50\n"
     ]
    },
    {
     "data": {
      "text/plain": [
       "'BIG'"
      ]
     },
     "execution_count": 17,
     "metadata": {},
     "output_type": "execute_result"
    }
   ],
   "source": [
    "a = int(input())\n",
    "\n",
    "def simple_function(a):\n",
    "    if a <= 10:\n",
    "        return \"SMALL\"\n",
    "    else:\n",
    "        return \"BIG\"\n",
    "    \n",
    "simple_function(a)"
   ]
  },
  {
   "cell_type": "code",
   "execution_count": 19,
   "id": "893a8f5e",
   "metadata": {},
   "outputs": [],
   "source": [
    "def introduce_family(my_name, sibling_name, father_name, mother_name):\n",
    "    '''\n",
    "    Family Introduction Function. Takes 4 arguments - \n",
    "    my_name, sibling_name, father_name, mother_name\n",
    "    \n",
    "    Prints introduction for all 4 family members.\n",
    "    '''\n",
    "    \n",
    "    print(\"My name is\", my_name)\n",
    "    print(\"My sibling's name is\", sibling_name)\n",
    "    print(\"My father's name is\", father_name)\n",
    "    print(\"My mother's name is\", mother_name)"
   ]
  },
  {
   "cell_type": "code",
   "execution_count": 24,
   "id": "58d1ee5b",
   "metadata": {},
   "outputs": [],
   "source": [
    "# help(introduce_family)"
   ]
  },
  {
   "cell_type": "code",
   "execution_count": 21,
   "id": "5a45233d",
   "metadata": {},
   "outputs": [],
   "source": [
    "# KEYWORDED ARGUMENTS"
   ]
  },
  {
   "cell_type": "code",
   "execution_count": 22,
   "id": "98f6acb2",
   "metadata": {},
   "outputs": [
    {
     "name": "stdout",
     "output_type": "stream",
     "text": [
      "My name is Bipin\n",
      "My sibling's name is Vidhi\n",
      "My father's name is Deepak\n",
      "My mother's name is Deepa\n"
     ]
    }
   ],
   "source": [
    "introduce_family(\"Bipin\", \"Vidhi\", \"Deepak\", \"Deepa\")"
   ]
  },
  {
   "cell_type": "code",
   "execution_count": 23,
   "id": "d81cea2a",
   "metadata": {},
   "outputs": [
    {
     "name": "stdout",
     "output_type": "stream",
     "text": [
      "My name is Bipin\n",
      "My sibling's name is Vidhi\n",
      "My father's name is Deepak\n",
      "My mother's name is Deepa\n"
     ]
    }
   ],
   "source": [
    "introduce_family(my_name = \"Bipin\", father_name = \"Deepak\", mother_name = \"Deepa\", sibling_name = \"Vidhi\")"
   ]
  },
  {
   "cell_type": "code",
   "execution_count": 25,
   "id": "2bd62bc9",
   "metadata": {},
   "outputs": [
    {
     "name": "stdout",
     "output_type": "stream",
     "text": [
      "My name is Bipin\n",
      "My sibling's name is Vidhi\n",
      "My father's name is Deepak\n",
      "My mother's name is Deepa\n"
     ]
    }
   ],
   "source": [
    "introduce_family(\n",
    "    my_name = \"Bipin\",\n",
    "    father_name = \"Deepak\",\n",
    "    mother_name = \"Deepa\",\n",
    "    sibling_name = \"Vidhi\"\n",
    ")"
   ]
  },
  {
   "cell_type": "code",
   "execution_count": 26,
   "id": "41b83f46",
   "metadata": {},
   "outputs": [],
   "source": [
    "def random(a, b, c, d):\n",
    "    print(\"a ->\", a)\n",
    "    print(\"b ->\", b)\n",
    "    print(\"c ->\", c)\n",
    "    print(\"d ->\", d)"
   ]
  },
  {
   "cell_type": "code",
   "execution_count": 27,
   "id": "a740ad6f",
   "metadata": {},
   "outputs": [
    {
     "ename": "SyntaxError",
     "evalue": "positional argument follows keyword argument (4058565175.py, line 1)",
     "output_type": "error",
     "traceback": [
      "\u001b[0;36m  File \u001b[0;32m\"/var/folders/nn/c52y0d3j0gq59dpsswchkt2r0000gn/T/ipykernel_41249/4058565175.py\"\u001b[0;36m, line \u001b[0;32m1\u001b[0m\n\u001b[0;31m    random(b = 6, c = 7, d = 8, 9)\u001b[0m\n\u001b[0m                                 ^\u001b[0m\n\u001b[0;31mSyntaxError\u001b[0m\u001b[0;31m:\u001b[0m positional argument follows keyword argument\n"
     ]
    }
   ],
   "source": [
    "random(b = 6, c = 7, d = 8, 9)"
   ]
  },
  {
   "cell_type": "code",
   "execution_count": 28,
   "id": "4451409d",
   "metadata": {},
   "outputs": [
    {
     "name": "stdout",
     "output_type": "stream",
     "text": [
      "a -> 9\n",
      "b -> 7\n",
      "c -> 5\n",
      "d -> 6\n"
     ]
    }
   ],
   "source": [
    "random(9, 7, d = 6, c = 5)"
   ]
  },
  {
   "cell_type": "code",
   "execution_count": 29,
   "id": "5161ed72",
   "metadata": {},
   "outputs": [
    {
     "ename": "TypeError",
     "evalue": "random() got multiple values for argument 'b'",
     "output_type": "error",
     "traceback": [
      "\u001b[0;31m---------------------------------------------------------------------------\u001b[0m",
      "\u001b[0;31mTypeError\u001b[0m                                 Traceback (most recent call last)",
      "\u001b[0;32m/var/folders/nn/c52y0d3j0gq59dpsswchkt2r0000gn/T/ipykernel_41249/2615661076.py\u001b[0m in \u001b[0;36m<module>\u001b[0;34m\u001b[0m\n\u001b[0;32m----> 1\u001b[0;31m \u001b[0mrandom\u001b[0m\u001b[0;34m(\u001b[0m\u001b[0;36m9\u001b[0m\u001b[0;34m,\u001b[0m \u001b[0;36m7\u001b[0m\u001b[0;34m,\u001b[0m \u001b[0mb\u001b[0m \u001b[0;34m=\u001b[0m \u001b[0;36m8\u001b[0m\u001b[0;34m,\u001b[0m \u001b[0md\u001b[0m \u001b[0;34m=\u001b[0m \u001b[0;36m6\u001b[0m\u001b[0;34m)\u001b[0m\u001b[0;34m\u001b[0m\u001b[0;34m\u001b[0m\u001b[0m\n\u001b[0m",
      "\u001b[0;31mTypeError\u001b[0m: random() got multiple values for argument 'b'"
     ]
    }
   ],
   "source": [
    "random(9, 7, b = 8, d = 6)"
   ]
  },
  {
   "cell_type": "code",
   "execution_count": 30,
   "id": "6220cc92",
   "metadata": {},
   "outputs": [],
   "source": [
    "def simple_interest(p, r, t):\n",
    "    interest = (p * r * t) / 100\n",
    "    \n",
    "    return interest"
   ]
  },
  {
   "cell_type": "code",
   "execution_count": 31,
   "id": "61b3f5f0",
   "metadata": {},
   "outputs": [
    {
     "ename": "TypeError",
     "evalue": "simple_interest() missing 1 required positional argument: 't'",
     "output_type": "error",
     "traceback": [
      "\u001b[0;31m---------------------------------------------------------------------------\u001b[0m",
      "\u001b[0;31mTypeError\u001b[0m                                 Traceback (most recent call last)",
      "\u001b[0;32m/var/folders/nn/c52y0d3j0gq59dpsswchkt2r0000gn/T/ipykernel_41249/1519175884.py\u001b[0m in \u001b[0;36m<module>\u001b[0;34m\u001b[0m\n\u001b[0;32m----> 1\u001b[0;31m \u001b[0msimple_interest\u001b[0m\u001b[0;34m(\u001b[0m\u001b[0;36m5000\u001b[0m\u001b[0;34m,\u001b[0m \u001b[0;36m3\u001b[0m\u001b[0;34m)\u001b[0m\u001b[0;34m\u001b[0m\u001b[0;34m\u001b[0m\u001b[0m\n\u001b[0m",
      "\u001b[0;31mTypeError\u001b[0m: simple_interest() missing 1 required positional argument: 't'"
     ]
    }
   ],
   "source": [
    "simple_interest(5000, 3)"
   ]
  },
  {
   "cell_type": "code",
   "execution_count": 32,
   "id": "9c1a20bf",
   "metadata": {},
   "outputs": [],
   "source": [
    "def simple_interest(p, r, t = 2): # providing a default value for t\n",
    "    interest = (p * r * t) / 100\n",
    "    \n",
    "    return interest"
   ]
  },
  {
   "cell_type": "code",
   "execution_count": 34,
   "id": "4dc358ec",
   "metadata": {},
   "outputs": [
    {
     "data": {
      "text/plain": [
       "300.0"
      ]
     },
     "execution_count": 34,
     "metadata": {},
     "output_type": "execute_result"
    }
   ],
   "source": [
    "simple_interest(5000, 3) # t = 2 was taken by default since t was not provided."
   ]
  },
  {
   "cell_type": "code",
   "execution_count": 35,
   "id": "077cab77",
   "metadata": {},
   "outputs": [
    {
     "data": {
      "text/plain": [
       "1500.0"
      ]
     },
     "execution_count": 35,
     "metadata": {},
     "output_type": "execute_result"
    }
   ],
   "source": [
    "simple_interest(5000, 3, 10) # t = 10 since custom value was provided."
   ]
  },
  {
   "cell_type": "code",
   "execution_count": 36,
   "id": "c0163c11",
   "metadata": {},
   "outputs": [
    {
     "ename": "SyntaxError",
     "evalue": "non-default argument follows default argument (2281321899.py, line 1)",
     "output_type": "error",
     "traceback": [
      "\u001b[0;36m  File \u001b[0;32m\"/var/folders/nn/c52y0d3j0gq59dpsswchkt2r0000gn/T/ipykernel_41249/2281321899.py\"\u001b[0;36m, line \u001b[0;32m1\u001b[0m\n\u001b[0;31m    def simple_interest(p, r = 3, t):\u001b[0m\n\u001b[0m                                   ^\u001b[0m\n\u001b[0;31mSyntaxError\u001b[0m\u001b[0;31m:\u001b[0m non-default argument follows default argument\n"
     ]
    }
   ],
   "source": [
    "def simple_interest(p, r = 3, t):\n",
    "    interest = (p * r * t) / 100\n",
    "    \n",
    "    return interest"
   ]
  },
  {
   "cell_type": "code",
   "execution_count": 37,
   "id": "429eb69e",
   "metadata": {},
   "outputs": [],
   "source": [
    "# FIXES ->\n",
    "# 1. Have default arguments at the end\n",
    "# 2. Have default values for every argument after a default argument"
   ]
  },
  {
   "cell_type": "code",
   "execution_count": 38,
   "id": "f53aad4e",
   "metadata": {},
   "outputs": [],
   "source": [
    "def simple_interest(p, r = 3, t = 2):\n",
    "    interest = (p * r * t) / 100\n",
    "    \n",
    "    return interest"
   ]
  },
  {
   "cell_type": "code",
   "execution_count": 39,
   "id": "4d6fe979",
   "metadata": {},
   "outputs": [
    {
     "data": {
      "text/plain": [
       "300.0"
      ]
     },
     "execution_count": 39,
     "metadata": {},
     "output_type": "execute_result"
    }
   ],
   "source": [
    "simple_interest(5000)"
   ]
  },
  {
   "cell_type": "code",
   "execution_count": 40,
   "id": "192be354",
   "metadata": {},
   "outputs": [
    {
     "data": {
      "text/plain": [
       "200.0"
      ]
     },
     "execution_count": 40,
     "metadata": {},
     "output_type": "execute_result"
    }
   ],
   "source": [
    "simple_interest(5000, 2)"
   ]
  },
  {
   "cell_type": "code",
   "execution_count": 41,
   "id": "2fd28650",
   "metadata": {},
   "outputs": [
    {
     "data": {
      "text/plain": [
       "300.0"
      ]
     },
     "execution_count": 41,
     "metadata": {},
     "output_type": "execute_result"
    }
   ],
   "source": [
    "simple_interest(5000, 2, 3)"
   ]
  },
  {
   "cell_type": "code",
   "execution_count": 1,
   "id": "0723de27",
   "metadata": {},
   "outputs": [
    {
     "data": {
      "text/plain": [
       "'\\nQuestion 1 - \\nCreate a date printing function - \\nShould take 4 arguments -> day, month, year and style\\n\\nStyling Logic - \\nstyle -> 0 -> d/m/y\\nstyle -> 1 -> m/d/y\\nstyle -> any other value -> Invalid Style\\n\\ndefault style is 0.\\n'"
      ]
     },
     "execution_count": 1,
     "metadata": {},
     "output_type": "execute_result"
    }
   ],
   "source": [
    "'''\n",
    "Question 1 - \n",
    "Create a date printing function - \n",
    "Should take 4 arguments -> day, month, year and style\n",
    "\n",
    "Styling Logic - \n",
    "style -> 0 -> d/m/y\n",
    "style -> 1 -> m/d/y\n",
    "style -> any other value -> Invalid Style\n",
    "\n",
    "default style is 0.\n",
    "'''"
   ]
  },
  {
   "cell_type": "code",
   "execution_count": 2,
   "id": "69f871a5",
   "metadata": {},
   "outputs": [],
   "source": [
    "def print_date(day, month, year, style = 0):\n",
    "    if style == 0:\n",
    "        print(day, month, year, sep = \"/\")\n",
    "    elif style == 1:\n",
    "        print(month, day, year, sep = \"/\")\n",
    "    else:\n",
    "        print(\"Invalid Style!\")"
   ]
  },
  {
   "cell_type": "code",
   "execution_count": 5,
   "id": "867c455a",
   "metadata": {},
   "outputs": [
    {
     "name": "stdout",
     "output_type": "stream",
     "text": [
      "Invalid Style!\n"
     ]
    }
   ],
   "source": [
    "print_date(10,12,2022,100)"
   ]
  },
  {
   "cell_type": "code",
   "execution_count": 6,
   "id": "306e9f4d",
   "metadata": {},
   "outputs": [],
   "source": [
    "# SCOPES"
   ]
  },
  {
   "cell_type": "code",
   "execution_count": 8,
   "id": "20d9067a",
   "metadata": {},
   "outputs": [
    {
     "name": "stdout",
     "output_type": "stream",
     "text": [
      "Chief of the house is - Mother\n",
      "Chief of the house is now - Father\n",
      "The actual chief will always be - Mother\n"
     ]
    }
   ],
   "source": [
    "chief_of_house = \"Mother\" # global variable\n",
    "\n",
    "print(\"Chief of the house is -\", chief_of_house)\n",
    "\n",
    "def change_chief():\n",
    "    chief_of_house = \"Father\" # local variable\n",
    "    print(\"Chief of the house is now -\", chief_of_house)\n",
    "    \n",
    "change_chief()\n",
    "\n",
    "print(\"The actual chief will always be -\", chief_of_house)"
   ]
  },
  {
   "cell_type": "code",
   "execution_count": 9,
   "id": "ef099fc1",
   "metadata": {},
   "outputs": [],
   "source": [
    "a = 10 # global variable\n",
    "\n",
    "def random1():\n",
    "    a = 50 # local variable\n",
    "    print(\"Inside random1 -\", a)\n",
    "    \n",
    "def random2():\n",
    "    print(\"Inside random2 -\", a)"
   ]
  },
  {
   "cell_type": "code",
   "execution_count": 10,
   "id": "deebb280",
   "metadata": {},
   "outputs": [
    {
     "name": "stdout",
     "output_type": "stream",
     "text": [
      "Inside random1 - 50\n"
     ]
    }
   ],
   "source": [
    "random1()"
   ]
  },
  {
   "cell_type": "code",
   "execution_count": 11,
   "id": "5fc791da",
   "metadata": {},
   "outputs": [
    {
     "name": "stdout",
     "output_type": "stream",
     "text": [
      "Inside random2 - 10\n"
     ]
    }
   ],
   "source": [
    "random2()"
   ]
  },
  {
   "cell_type": "code",
   "execution_count": 12,
   "id": "b4bb45a8",
   "metadata": {},
   "outputs": [
    {
     "name": "stdout",
     "output_type": "stream",
     "text": [
      "10\n"
     ]
    }
   ],
   "source": [
    "print(a)"
   ]
  },
  {
   "cell_type": "code",
   "execution_count": 17,
   "id": "ca6c235c",
   "metadata": {},
   "outputs": [
    {
     "name": "stdout",
     "output_type": "stream",
     "text": [
      "Inside random - 20\n",
      "In global scope - 10\n"
     ]
    }
   ],
   "source": [
    "a = 10 # global variable\n",
    "\n",
    "def random():\n",
    "    a = 20\n",
    "    print(\"Inside random -\", a)\n",
    "    \n",
    "random()\n",
    "print(\"In global scope -\", a)"
   ]
  },
  {
   "cell_type": "code",
   "execution_count": 18,
   "id": "aa7635b0",
   "metadata": {},
   "outputs": [
    {
     "name": "stdout",
     "output_type": "stream",
     "text": [
      "Inside random - 20\n",
      "In global scope - 20\n"
     ]
    }
   ],
   "source": [
    "a = 10 # global variable\n",
    "\n",
    "def random():\n",
    "    global a # to use the global a instead of creating a local a\n",
    "    \n",
    "    a = 20\n",
    "    print(\"Inside random -\", a)\n",
    "    \n",
    "random()\n",
    "print(\"In global scope -\", a)"
   ]
  },
  {
   "cell_type": "code",
   "execution_count": 14,
   "id": "ac215b3a",
   "metadata": {},
   "outputs": [
    {
     "name": "stdout",
     "output_type": "stream",
     "text": [
      "20\n"
     ]
    }
   ],
   "source": [
    "random()"
   ]
  },
  {
   "cell_type": "code",
   "execution_count": 15,
   "id": "1efe7efc",
   "metadata": {},
   "outputs": [
    {
     "data": {
      "text/plain": [
       "20"
      ]
     },
     "execution_count": 15,
     "metadata": {},
     "output_type": "execute_result"
    }
   ],
   "source": [
    "a"
   ]
  },
  {
   "cell_type": "code",
   "execution_count": 19,
   "id": "ce40c605",
   "metadata": {},
   "outputs": [],
   "source": [
    "def random():\n",
    "    global xyz\n",
    "    \n",
    "    print(xyz)"
   ]
  },
  {
   "cell_type": "code",
   "execution_count": 20,
   "id": "87ba1aaf",
   "metadata": {},
   "outputs": [
    {
     "ename": "NameError",
     "evalue": "name 'xyz' is not defined",
     "output_type": "error",
     "traceback": [
      "\u001b[0;31m---------------------------------------------------------------------------\u001b[0m",
      "\u001b[0;31mNameError\u001b[0m                                 Traceback (most recent call last)",
      "\u001b[0;32m/var/folders/nn/c52y0d3j0gq59dpsswchkt2r0000gn/T/ipykernel_41938/343173219.py\u001b[0m in \u001b[0;36m<module>\u001b[0;34m\u001b[0m\n\u001b[0;32m----> 1\u001b[0;31m \u001b[0mrandom\u001b[0m\u001b[0;34m(\u001b[0m\u001b[0;34m)\u001b[0m\u001b[0;34m\u001b[0m\u001b[0;34m\u001b[0m\u001b[0m\n\u001b[0m",
      "\u001b[0;32m/var/folders/nn/c52y0d3j0gq59dpsswchkt2r0000gn/T/ipykernel_41938/3084096101.py\u001b[0m in \u001b[0;36mrandom\u001b[0;34m()\u001b[0m\n\u001b[1;32m      2\u001b[0m     \u001b[0;32mglobal\u001b[0m \u001b[0mxyz\u001b[0m\u001b[0;34m\u001b[0m\u001b[0;34m\u001b[0m\u001b[0m\n\u001b[1;32m      3\u001b[0m \u001b[0;34m\u001b[0m\u001b[0m\n\u001b[0;32m----> 4\u001b[0;31m     \u001b[0mprint\u001b[0m\u001b[0;34m(\u001b[0m\u001b[0mxyz\u001b[0m\u001b[0;34m)\u001b[0m\u001b[0;34m\u001b[0m\u001b[0;34m\u001b[0m\u001b[0m\n\u001b[0m",
      "\u001b[0;31mNameError\u001b[0m: name 'xyz' is not defined"
     ]
    }
   ],
   "source": [
    "random()"
   ]
  },
  {
   "cell_type": "code",
   "execution_count": 21,
   "id": "a8144ad6",
   "metadata": {},
   "outputs": [],
   "source": [
    "a = 10 # global variable\n",
    "\n",
    "def random1():\n",
    "    a = 50 # local variable\n",
    "    print(\"Inside random1 -\", id(a))\n",
    "    \n",
    "def random2():\n",
    "    print(\"Inside random2 -\", id(a))"
   ]
  },
  {
   "cell_type": "code",
   "execution_count": 22,
   "id": "37276aed",
   "metadata": {},
   "outputs": [
    {
     "name": "stdout",
     "output_type": "stream",
     "text": [
      "Inside random1 - 140464221122384\n"
     ]
    }
   ],
   "source": [
    "random1()"
   ]
  },
  {
   "cell_type": "code",
   "execution_count": 23,
   "id": "a81518e1",
   "metadata": {},
   "outputs": [
    {
     "name": "stdout",
     "output_type": "stream",
     "text": [
      "Inside random2 - 140464221121104\n"
     ]
    }
   ],
   "source": [
    "random2()"
   ]
  },
  {
   "cell_type": "code",
   "execution_count": 24,
   "id": "8bc6a861",
   "metadata": {},
   "outputs": [
    {
     "data": {
      "text/plain": [
       "140464221121104"
      ]
     },
     "execution_count": 24,
     "metadata": {},
     "output_type": "execute_result"
    }
   ],
   "source": [
    "id(a)"
   ]
  },
  {
   "cell_type": "code",
   "execution_count": 26,
   "id": "29596998",
   "metadata": {},
   "outputs": [
    {
     "ename": "SyntaxError",
     "evalue": "name 'a' is assigned to before global declaration (848054760.py, line 3)",
     "output_type": "error",
     "traceback": [
      "\u001b[0;36m  File \u001b[0;32m\"/var/folders/nn/c52y0d3j0gq59dpsswchkt2r0000gn/T/ipykernel_41938/848054760.py\"\u001b[0;36m, line \u001b[0;32m3\u001b[0m\n\u001b[0;31m    global a\u001b[0m\n\u001b[0m    ^\u001b[0m\n\u001b[0;31mSyntaxError\u001b[0m\u001b[0;31m:\u001b[0m name 'a' is assigned to before global declaration\n"
     ]
    }
   ],
   "source": [
    "def random():\n",
    "    a = 20\n",
    "    global a\n",
    "    print(a)\n",
    "    \n",
    "random()\n",
    "print(a)"
   ]
  },
  {
   "cell_type": "code",
   "execution_count": null,
   "id": "1321a202",
   "metadata": {},
   "outputs": [],
   "source": [
    "a = 10 \n",
    "\n",
    "def fun():\n",
    "    a = 20\n",
    "    print(a)"
   ]
  }
 ],
 "metadata": {
  "kernelspec": {
   "display_name": "Python 3 (ipykernel)",
   "language": "python",
   "name": "python3"
  },
  "language_info": {
   "codemirror_mode": {
    "name": "ipython",
    "version": 3
   },
   "file_extension": ".py",
   "mimetype": "text/x-python",
   "name": "python",
   "nbconvert_exporter": "python",
   "pygments_lexer": "ipython3",
   "version": "3.9.5"
  }
 },
 "nbformat": 4,
 "nbformat_minor": 5
}
