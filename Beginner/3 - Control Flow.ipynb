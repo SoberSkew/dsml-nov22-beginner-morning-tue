{
 "cells": [
  {
   "cell_type": "code",
   "execution_count": 1,
   "id": "34f5e16b",
   "metadata": {},
   "outputs": [
    {
     "name": "stdout",
     "output_type": "stream",
     "text": [
      "0\n",
      "3\n"
     ]
    }
   ],
   "source": [
    "print(\"0\") # printed normally\n",
    "\n",
    "if 56 > 60:\n",
    "    print(\"1\") # not printed - condition false\n",
    "    print(\"2\") # not printed - condition false\n",
    "    \n",
    "print(\"3\") # printed normally - after the if block"
   ]
  },
  {
   "cell_type": "code",
   "execution_count": 2,
   "id": "273f620c",
   "metadata": {},
   "outputs": [
    {
     "name": "stdout",
     "output_type": "stream",
     "text": [
      "0\n",
      "1\n",
      "2\n",
      "3\n"
     ]
    }
   ],
   "source": [
    "print(\"0\") \n",
    "\n",
    "if 56 < 60:\n",
    "    print(\"1\") \n",
    "    print(\"2\") \n",
    "    \n",
    "print(\"3\")"
   ]
  },
  {
   "cell_type": "code",
   "execution_count": null,
   "id": "e27dfdb3",
   "metadata": {},
   "outputs": [],
   "source": []
  },
  {
   "cell_type": "code",
   "execution_count": 4,
   "id": "d2575a20",
   "metadata": {},
   "outputs": [],
   "source": [
    "# these lines will always run\n",
    "\n",
    "# if True:\n",
    "    # These lines will run if condition is True\n",
    "    # Statement 2\n",
    "    # Statement 3\n",
    "# else:\n",
    "    # These lines will run if condition is False\n",
    "    # Statement 4\n",
    "    # Statement 5\n",
    "    \n",
    "# these lines will always run"
   ]
  },
  {
   "cell_type": "code",
   "execution_count": 5,
   "id": "9eb3a453",
   "metadata": {},
   "outputs": [
    {
     "data": {
      "text/plain": [
       "'\\nQuestion 1 - \\n1. Take an integer as input from the user.\\n2. Calculate the cube of that input.\\n3. If result > 50 print \"Massive Number\" else print \"Small Number\"\\n4. After this pring \"Code is complete!\"\\n'"
      ]
     },
     "execution_count": 5,
     "metadata": {},
     "output_type": "execute_result"
    }
   ],
   "source": [
    "'''\n",
    "Question 1 - \n",
    "1. Take an integer as input from the user.\n",
    "2. Calculate the cube of that input.\n",
    "3. If result > 50 print \"Massive Number\" else print \"Small Number\"\n",
    "4. After this pring \"Code is complete!\"\n",
    "'''"
   ]
  },
  {
   "cell_type": "code",
   "execution_count": 7,
   "id": "ca5e4878",
   "metadata": {},
   "outputs": [
    {
     "name": "stdout",
     "output_type": "stream",
     "text": [
      "5\n",
      "Massive Number\n",
      "Code is complete!\n"
     ]
    }
   ],
   "source": [
    "n = int(input())\n",
    "\n",
    "result = n ** 3\n",
    "\n",
    "if result > 50:\n",
    "    print(\"Massive Number\")\n",
    "else:\n",
    "    print(\"Small Number\")\n",
    "    \n",
    "print(\"Code is complete!\")"
   ]
  },
  {
   "cell_type": "code",
   "execution_count": 8,
   "id": "0c3f74be",
   "metadata": {},
   "outputs": [
    {
     "data": {
      "text/plain": [
       "'\\nQuestion 2 - \\n1. Take Password input from the user.\\n2. Take another input to verify password.\\n3. If both inputs are same -> \"Password matches! :)\"\\notherwisw print \"Password mismatch, try again! :(\"\\n'"
      ]
     },
     "execution_count": 8,
     "metadata": {},
     "output_type": "execute_result"
    }
   ],
   "source": [
    "'''\n",
    "Question 2 - \n",
    "1. Take Password input from the user.\n",
    "2. Take another input to verify password.\n",
    "3. If both inputs are same -> \"Password matches! :)\"\n",
    "otherwisw print \"Password mismatch, try again! :(\"\n",
    "'''"
   ]
  },
  {
   "cell_type": "code",
   "execution_count": 12,
   "id": "a363461b",
   "metadata": {},
   "outputs": [
    {
     "name": "stdout",
     "output_type": "stream",
     "text": [
      "Enter password - 12345\n",
      "Enter password again - 1234\n",
      "Password mismatch, try again :(\n"
     ]
    }
   ],
   "source": [
    "password = input(\"Enter password - \")\n",
    "password_check = input(\"Enter password again - \")\n",
    "\n",
    "if password == password_check:\n",
    "    print(\"Password matches! :)\")\n",
    "else:\n",
    "    print(\"Password mismatch, try again :(\")"
   ]
  },
  {
   "cell_type": "code",
   "execution_count": 13,
   "id": "0289eac9",
   "metadata": {},
   "outputs": [
    {
     "data": {
      "text/plain": [
       "'\\nQuestion 3 -\\n1. Take an amount as input from the user.\\n2. You only have 200 and 500 Rs Notes in the ATM. For one transaction,\\n    you can only dispatch notes of a single type.\\n3. Given the amount - \\n    - \"Dispatching Cash!\" if it can be dispatched.\\n    - \"Denomination not available!\" if it can not be dispatched.\\n'"
      ]
     },
     "execution_count": 13,
     "metadata": {},
     "output_type": "execute_result"
    }
   ],
   "source": [
    "'''\n",
    "Question 3 -\n",
    "1. Take an amount as input from the user.\n",
    "2. You only have 200 and 500 Rs Notes in the ATM. For one transaction,\n",
    "    you can only dispatch notes of a single type.\n",
    "3. Given the amount - \n",
    "    - \"Dispatching Cash!\" if it can be dispatched.\n",
    "    - \"Denomination not available!\" if it can not be dispatched.\n",
    "'''"
   ]
  },
  {
   "cell_type": "code",
   "execution_count": 14,
   "id": "510979de",
   "metadata": {},
   "outputs": [
    {
     "data": {
      "text/plain": [
       "0"
      ]
     },
     "execution_count": 14,
     "metadata": {},
     "output_type": "execute_result"
    }
   ],
   "source": [
    "1500 % 500"
   ]
  },
  {
   "cell_type": "code",
   "execution_count": 15,
   "id": "bc1132dc",
   "metadata": {},
   "outputs": [
    {
     "data": {
      "text/plain": [
       "0"
      ]
     },
     "execution_count": 15,
     "metadata": {},
     "output_type": "execute_result"
    }
   ],
   "source": [
    "1400 % 200"
   ]
  },
  {
   "cell_type": "code",
   "execution_count": 17,
   "id": "49bdd7fa",
   "metadata": {},
   "outputs": [
    {
     "name": "stdout",
     "output_type": "stream",
     "text": [
      "900\n",
      "Not Possible!\n"
     ]
    }
   ],
   "source": [
    "amount = int(input())\n",
    "\n",
    "if amount % 500 == 0 or amount % 200 == 0:\n",
    "    print(\"Possible!\")\n",
    "else:\n",
    "    print(\"Not Possible!\")"
   ]
  },
  {
   "cell_type": "code",
   "execution_count": 19,
   "id": "c1353d72",
   "metadata": {},
   "outputs": [
    {
     "name": "stdout",
     "output_type": "stream",
     "text": [
      "2000\n",
      "Possible!\n"
     ]
    }
   ],
   "source": [
    "amount = int(input())\n",
    "\n",
    "if amount % 500 == 0 and amount % 200 == 0:\n",
    "    print(\"Possible!\")\n",
    "else:\n",
    "    print(\"Not Possible!\")"
   ]
  },
  {
   "cell_type": "code",
   "execution_count": 20,
   "id": "6ec0ed16",
   "metadata": {},
   "outputs": [],
   "source": [
    "# Greeting Program"
   ]
  },
  {
   "cell_type": "code",
   "execution_count": 22,
   "id": "751d7a71",
   "metadata": {},
   "outputs": [
    {
     "name": "stdout",
     "output_type": "stream",
     "text": [
      "Good Evening\n"
     ]
    }
   ],
   "source": [
    "time = 15\n",
    "\n",
    "if time >= 9 and time < 12:\n",
    "    print(\"Good Morning\")\n",
    "else:\n",
    "    if time >= 12 and time < 17:\n",
    "        print(\"Good Evening\")\n",
    "    else:\n",
    "        if time >= 17 and time <= 24:\n",
    "            print(\"Good Night\")\n",
    "        else:\n",
    "            print(\"SOJAAAOOO! :)\")"
   ]
  },
  {
   "cell_type": "code",
   "execution_count": 23,
   "id": "cfc70e48",
   "metadata": {},
   "outputs": [
    {
     "name": "stdout",
     "output_type": "stream",
     "text": [
      "Good Evening\n"
     ]
    }
   ],
   "source": [
    "time = 15\n",
    "\n",
    "if time >= 9 and time < 12:\n",
    "    print(\"Good Morning\")\n",
    "elif time >= 12 and time < 17:\n",
    "    print(\"Good Evening\")\n",
    "elif time >= 17 and time <= 24:\n",
    "    print(\"Good Night\")\n",
    "else:\n",
    "    print(\"SOJAAAOOO! :)\")"
   ]
  },
  {
   "cell_type": "markdown",
   "id": "f5b2998c",
   "metadata": {},
   "source": [
    "## PRACTICE TIME!"
   ]
  },
  {
   "cell_type": "code",
   "execution_count": 24,
   "id": "978baa91",
   "metadata": {},
   "outputs": [
    {
     "data": {
      "text/plain": [
       "'\\nQuestion 4 - \\n1. Take an integer as input.\\n2. Print whether the integer is positive or not.\\n'"
      ]
     },
     "execution_count": 24,
     "metadata": {},
     "output_type": "execute_result"
    }
   ],
   "source": [
    "'''\n",
    "Question 4 - \n",
    "1. Take an integer as input.\n",
    "2. Print whether the integer is positive or not.\n",
    "'''"
   ]
  },
  {
   "cell_type": "code",
   "execution_count": 26,
   "id": "897eac61",
   "metadata": {},
   "outputs": [
    {
     "name": "stdout",
     "output_type": "stream",
     "text": [
      "-678\n",
      "Negative\n"
     ]
    }
   ],
   "source": [
    "number = int(input())\n",
    "\n",
    "if number > 0:\n",
    "    print(\"Positive\")\n",
    "else:\n",
    "    print(\"Negative\")"
   ]
  },
  {
   "cell_type": "code",
   "execution_count": 27,
   "id": "39e6331c",
   "metadata": {},
   "outputs": [
    {
     "name": "stdout",
     "output_type": "stream",
     "text": [
      "0\n",
      "ZERO!\n"
     ]
    }
   ],
   "source": [
    "number = int(input())\n",
    "\n",
    "if number > 0:\n",
    "    print(\"Positive\")\n",
    "elif number == 0:\n",
    "    print(\"ZERO!\")\n",
    "else:\n",
    "    print(\"Negative\")"
   ]
  },
  {
   "cell_type": "code",
   "execution_count": 29,
   "id": "d01afc95",
   "metadata": {},
   "outputs": [
    {
     "data": {
      "text/plain": [
       "'\\nQuestion 5 -\\nTake a non-negative single digit number as int input.\\nIf num**5%50+20-6 is > 15\\nthen print(\"BLACK\") else print(\"BLUE\").\\n\\nNote - Reject any inputs which are not single digit or positive\\n'"
      ]
     },
     "execution_count": 29,
     "metadata": {},
     "output_type": "execute_result"
    }
   ],
   "source": [
    "'''\n",
    "Question 5 -\n",
    "Take a non-negative single digit number as int input.\n",
    "If num**5%50+20-6 is > 15\n",
    "then print(\"BLACK\") else print(\"BLUE\").\n",
    "\n",
    "Note - Reject any inputs which are not single digit or positive\n",
    "'''"
   ]
  },
  {
   "cell_type": "code",
   "execution_count": 30,
   "id": "2602d0af",
   "metadata": {},
   "outputs": [
    {
     "name": "stdout",
     "output_type": "stream",
     "text": [
      "5\n",
      "Black\n"
     ]
    }
   ],
   "source": [
    "number = int(input())\n",
    "\n",
    "if number >= 0 and number <=9:\n",
    "    if number ** 5 % 50 + 20 - 6 > 15:\n",
    "        print(\"Black\")\n",
    "    else:\n",
    "        print(\"Blue\")\n",
    "else:\n",
    "    print(\"Number is not valid!\")"
   ]
  },
  {
   "cell_type": "code",
   "execution_count": 32,
   "id": "36262c98",
   "metadata": {},
   "outputs": [
    {
     "name": "stdout",
     "output_type": "stream",
     "text": [
      "30\n",
      "Number is not valid!\n"
     ]
    }
   ],
   "source": [
    "number = int(input())\n",
    "\n",
    "if number < 0 or number > 9:\n",
    "    print(\"Number is not valid!\")\n",
    "else:\n",
    "    if number ** 5 % 50 + 20 - 6 > 15:\n",
    "        print(\"Black\")\n",
    "    else:\n",
    "        print(\"Blue\")"
   ]
  },
  {
   "cell_type": "code",
   "execution_count": 34,
   "id": "5dbd8ba6",
   "metadata": {},
   "outputs": [
    {
     "name": "stdout",
     "output_type": "stream",
     "text": [
      "5\n",
      "Black\n"
     ]
    }
   ],
   "source": [
    "number = int(input())\n",
    "\n",
    "if not (number >= 0 and number <=9):\n",
    "    print(\"Number is not valid!\")\n",
    "else:\n",
    "    if number ** 5 % 50 + 20 - 6 > 15:\n",
    "        print(\"Black\")\n",
    "    else:\n",
    "        print(\"Blue\")"
   ]
  },
  {
   "cell_type": "code",
   "execution_count": 35,
   "id": "c400280a",
   "metadata": {},
   "outputs": [
    {
     "data": {
      "text/plain": [
       "'\\nQuestion 6 -\\nTake in a string as input and if the entered language is \"Python\",\\nprint(\"Great Choice\") else print(\"Think Again?\")\\n'"
      ]
     },
     "execution_count": 35,
     "metadata": {},
     "output_type": "execute_result"
    }
   ],
   "source": [
    "'''\n",
    "Question 6 -\n",
    "Take in a string as input and if the entered language is \"Python\",\n",
    "print(\"Great Choice\") else print(\"Think Again?\")\n",
    "'''"
   ]
  },
  {
   "cell_type": "code",
   "execution_count": 36,
   "id": "937936f1",
   "metadata": {},
   "outputs": [],
   "source": [
    "a = \"ranDOM StrinG\""
   ]
  },
  {
   "cell_type": "code",
   "execution_count": 37,
   "id": "59be760a",
   "metadata": {},
   "outputs": [
    {
     "data": {
      "text/plain": [
       "'random string'"
      ]
     },
     "execution_count": 37,
     "metadata": {},
     "output_type": "execute_result"
    }
   ],
   "source": [
    "a.lower()"
   ]
  },
  {
   "cell_type": "code",
   "execution_count": 40,
   "id": "57a18518",
   "metadata": {},
   "outputs": [
    {
     "name": "stdout",
     "output_type": "stream",
     "text": [
      "Python\n",
      "Great choice!\n"
     ]
    }
   ],
   "source": [
    "language = input()\n",
    "\n",
    "if language.lower() == \"python\":\n",
    "    print(\"Great choice!\")\n",
    "else:\n",
    "    print(\"Think again?\")"
   ]
  },
  {
   "cell_type": "code",
   "execution_count": 41,
   "id": "0ff8c2b2",
   "metadata": {},
   "outputs": [
    {
     "data": {
      "text/plain": [
       "'\\nQuestion 7 -\\nFeedback System - Take string feedback from a user.\\nNow,\\n    If any the feedback is provided,\\n        print(\"Thank you for providing the feedback\").\\n    If feedback is \"Super\", \"Great\", \"Fantastic\", \"Awesome\",\\n        print(\"Thank you so much!\")\\n        \\nExample ->\\nINPUT - Super\\nOUTPUT -\\nThank you for providing feedback\\nThank you so much!\\n'"
      ]
     },
     "execution_count": 41,
     "metadata": {},
     "output_type": "execute_result"
    }
   ],
   "source": [
    "'''\n",
    "Question 7 -\n",
    "Feedback System - Take string feedback from a user.\n",
    "Now,\n",
    "    If any the feedback is provided,\n",
    "        print(\"Thank you for providing the feedback\").\n",
    "    If feedback is \"Super\", \"Great\", \"Fantastic\", \"Awesome\",\n",
    "        print(\"Thank you so much!\")\n",
    "        \n",
    "Example ->\n",
    "INPUT - Super\n",
    "OUTPUT -\n",
    "Thank you for providing feedback\n",
    "Thank you so much!\n",
    "'''"
   ]
  },
  {
   "cell_type": "code",
   "execution_count": 47,
   "id": "4feeb541",
   "metadata": {},
   "outputs": [
    {
     "name": "stdout",
     "output_type": "stream",
     "text": [
      "super\n",
      "Thank you for providing feedback\n",
      "Thank you so much :)\n"
     ]
    }
   ],
   "source": [
    "feedback = input()\n",
    "feedback = feedback.lower()\n",
    "\n",
    "if feedback == \"\":\n",
    "    print(\"Please provide feedback next time :)\")\n",
    "else:\n",
    "    print(\"Thank you for providing feedback\")\n",
    "    \n",
    "    if feedback == \"super\" or feedback == \"fantastic\" or feedback == \"great\":\n",
    "        print(\"Thank you so much :)\")"
   ]
  },
  {
   "cell_type": "code",
   "execution_count": 48,
   "id": "371b6df8",
   "metadata": {},
   "outputs": [
    {
     "name": "stdout",
     "output_type": "stream",
     "text": [
      "Truthy\n"
     ]
    }
   ],
   "source": [
    "if 45:\n",
    "    print(\"Truthy\")"
   ]
  },
  {
   "cell_type": "code",
   "execution_count": 50,
   "id": "7285fc41",
   "metadata": {},
   "outputs": [
    {
     "name": "stdout",
     "output_type": "stream",
     "text": [
      "Falsy\n"
     ]
    }
   ],
   "source": [
    "if \"\":\n",
    "    print(\"Truthy\")\n",
    "else:\n",
    "    print(\"Falsy\")"
   ]
  },
  {
   "cell_type": "code",
   "execution_count": 57,
   "id": "4ea90d8f",
   "metadata": {},
   "outputs": [
    {
     "name": "stdout",
     "output_type": "stream",
     "text": [
      "super\n",
      "Thank you for providing feedback\n",
      "Thank you so much :)\n"
     ]
    }
   ],
   "source": [
    "feedback = input()\n",
    "feedback = feedback.lower()\n",
    "\n",
    "if not feedback: # true if feedback empty else false\n",
    "    print(\"Please provide feedback next time :)\")\n",
    "else:\n",
    "    print(\"Thank you for providing feedback\")\n",
    "    \n",
    "    if feedback == \"super\" or feedback == \"fantastic\" or feedback == \"great\":\n",
    "        print(\"Thank you so much :)\")"
   ]
  },
  {
   "cell_type": "code",
   "execution_count": 52,
   "id": "367f405f",
   "metadata": {},
   "outputs": [
    {
     "name": "stdout",
     "output_type": "stream",
     "text": [
      "Truthy\n"
     ]
    }
   ],
   "source": [
    "if \"something\":\n",
    "    print(\"Truthy\")\n",
    "else:\n",
    "    print(\"Falsy\")"
   ]
  },
  {
   "cell_type": "code",
   "execution_count": 53,
   "id": "7f2f189c",
   "metadata": {},
   "outputs": [
    {
     "name": "stdout",
     "output_type": "stream",
     "text": [
      "Falsy\n"
     ]
    }
   ],
   "source": [
    "if \"\":\n",
    "    print(\"Truthy\")\n",
    "else:\n",
    "    print(\"Falsy\")"
   ]
  },
  {
   "cell_type": "code",
   "execution_count": 54,
   "id": "0004a1bf",
   "metadata": {},
   "outputs": [
    {
     "data": {
      "text/plain": [
       "False"
      ]
     },
     "execution_count": 54,
     "metadata": {},
     "output_type": "execute_result"
    }
   ],
   "source": [
    "not True"
   ]
  },
  {
   "cell_type": "code",
   "execution_count": 55,
   "id": "984e046f",
   "metadata": {},
   "outputs": [
    {
     "data": {
      "text/plain": [
       "True"
      ]
     },
     "execution_count": 55,
     "metadata": {},
     "output_type": "execute_result"
    }
   ],
   "source": [
    "not False"
   ]
  },
  {
   "cell_type": "code",
   "execution_count": null,
   "id": "78c78bed",
   "metadata": {},
   "outputs": [],
   "source": []
  }
 ],
 "metadata": {
  "kernelspec": {
   "display_name": "Python 3 (ipykernel)",
   "language": "python",
   "name": "python3"
  },
  "language_info": {
   "codemirror_mode": {
    "name": "ipython",
    "version": 3
   },
   "file_extension": ".py",
   "mimetype": "text/x-python",
   "name": "python",
   "nbconvert_exporter": "python",
   "pygments_lexer": "ipython3",
   "version": "3.9.5"
  }
 },
 "nbformat": 4,
 "nbformat_minor": 5
}
