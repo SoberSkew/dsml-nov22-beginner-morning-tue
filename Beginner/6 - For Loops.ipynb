{
 "cells": [
  {
   "cell_type": "code",
   "execution_count": 1,
   "id": "0ff3f129",
   "metadata": {},
   "outputs": [
    {
     "data": {
      "text/plain": [
       "range(2, 8)"
      ]
     },
     "execution_count": 1,
     "metadata": {},
     "output_type": "execute_result"
    }
   ],
   "source": [
    "range(2,8)"
   ]
  },
  {
   "cell_type": "code",
   "execution_count": 2,
   "id": "ead6549d",
   "metadata": {},
   "outputs": [
    {
     "data": {
      "text/plain": [
       "6"
      ]
     },
     "execution_count": 2,
     "metadata": {},
     "output_type": "execute_result"
    }
   ],
   "source": [
    "len(range(2,8))"
   ]
  },
  {
   "cell_type": "code",
   "execution_count": 3,
   "id": "681c2f1e",
   "metadata": {},
   "outputs": [
    {
     "data": {
      "text/plain": [
       "range(0, 8)"
      ]
     },
     "execution_count": 3,
     "metadata": {},
     "output_type": "execute_result"
    }
   ],
   "source": [
    "range(8) # start value is set at 0 by default"
   ]
  },
  {
   "cell_type": "code",
   "execution_count": 5,
   "id": "60df6787",
   "metadata": {},
   "outputs": [
    {
     "ename": "TypeError",
     "evalue": "'float' object cannot be interpreted as an integer",
     "output_type": "error",
     "traceback": [
      "\u001b[0;31m---------------------------------------------------------------------------\u001b[0m",
      "\u001b[0;31mTypeError\u001b[0m                                 Traceback (most recent call last)",
      "\u001b[0;32m/var/folders/nn/c52y0d3j0gq59dpsswchkt2r0000gn/T/ipykernel_36078/2893207046.py\u001b[0m in \u001b[0;36m<module>\u001b[0;34m\u001b[0m\n\u001b[0;32m----> 1\u001b[0;31m \u001b[0mrange\u001b[0m\u001b[0;34m(\u001b[0m\u001b[0;36m1.5\u001b[0m\u001b[0;34m,\u001b[0m \u001b[0;36m7.5\u001b[0m\u001b[0;34m)\u001b[0m \u001b[0;31m# ranges can only work with integers\u001b[0m\u001b[0;34m\u001b[0m\u001b[0;34m\u001b[0m\u001b[0m\n\u001b[0m",
      "\u001b[0;31mTypeError\u001b[0m: 'float' object cannot be interpreted as an integer"
     ]
    }
   ],
   "source": [
    "range(1.5, 7.5) # ranges can only work with integers"
   ]
  },
  {
   "cell_type": "code",
   "execution_count": 6,
   "id": "6195e525",
   "metadata": {},
   "outputs": [
    {
     "ename": "TypeError",
     "evalue": "'float' object cannot be interpreted as an integer",
     "output_type": "error",
     "traceback": [
      "\u001b[0;31m---------------------------------------------------------------------------\u001b[0m",
      "\u001b[0;31mTypeError\u001b[0m                                 Traceback (most recent call last)",
      "\u001b[0;32m/var/folders/nn/c52y0d3j0gq59dpsswchkt2r0000gn/T/ipykernel_36078/3684941445.py\u001b[0m in \u001b[0;36m<module>\u001b[0;34m\u001b[0m\n\u001b[0;32m----> 1\u001b[0;31m \u001b[0mrange\u001b[0m\u001b[0;34m(\u001b[0m\u001b[0;36m2\u001b[0m\u001b[0;34m,\u001b[0m \u001b[0;36m6\u001b[0m\u001b[0;34m,\u001b[0m \u001b[0;36m0.5\u001b[0m\u001b[0;34m)\u001b[0m\u001b[0;34m\u001b[0m\u001b[0;34m\u001b[0m\u001b[0m\n\u001b[0m",
      "\u001b[0;31mTypeError\u001b[0m: 'float' object cannot be interpreted as an integer"
     ]
    }
   ],
   "source": [
    "range(2, 6, 0.5)"
   ]
  },
  {
   "cell_type": "code",
   "execution_count": 7,
   "id": "09e3bb67",
   "metadata": {},
   "outputs": [
    {
     "data": {
      "text/plain": [
       "range(6, 2, -1)"
      ]
     },
     "execution_count": 7,
     "metadata": {},
     "output_type": "execute_result"
    }
   ],
   "source": [
    "range(6, 2, -1)"
   ]
  },
  {
   "cell_type": "code",
   "execution_count": 11,
   "id": "bc3910a5",
   "metadata": {},
   "outputs": [
    {
     "name": "stdout",
     "output_type": "stream",
     "text": [
      "2\n",
      "4\n",
      "6\n",
      "8\n"
     ]
    }
   ],
   "source": [
    "for i in range(2,9,2):\n",
    "    print(i)"
   ]
  },
  {
   "cell_type": "code",
   "execution_count": 15,
   "id": "facd14bb",
   "metadata": {},
   "outputs": [
    {
     "name": "stdout",
     "output_type": "stream",
     "text": [
      "9 7 5 3 "
     ]
    }
   ],
   "source": [
    "for i in range(9,2,-2):\n",
    "    print(i, end = \" \")"
   ]
  },
  {
   "cell_type": "code",
   "execution_count": 14,
   "id": "af85093f",
   "metadata": {},
   "outputs": [],
   "source": [
    "for i in range(9,2,2): # generates an empty range\n",
    "    print(i)"
   ]
  },
  {
   "cell_type": "code",
   "execution_count": 17,
   "id": "a03f739a",
   "metadata": {},
   "outputs": [
    {
     "name": "stdout",
     "output_type": "stream",
     "text": [
      "-5\n",
      "-6\n",
      "-7\n",
      "-8\n",
      "-9\n"
     ]
    }
   ],
   "source": [
    "for i in range(-5, -10, -1):\n",
    "    print(i)"
   ]
  },
  {
   "cell_type": "code",
   "execution_count": 18,
   "id": "f6a0eed7",
   "metadata": {},
   "outputs": [
    {
     "ename": "ValueError",
     "evalue": "range() arg 3 must not be zero",
     "output_type": "error",
     "traceback": [
      "\u001b[0;31m---------------------------------------------------------------------------\u001b[0m",
      "\u001b[0;31mValueError\u001b[0m                                Traceback (most recent call last)",
      "\u001b[0;32m/var/folders/nn/c52y0d3j0gq59dpsswchkt2r0000gn/T/ipykernel_36078/301322818.py\u001b[0m in \u001b[0;36m<module>\u001b[0;34m\u001b[0m\n\u001b[0;32m----> 1\u001b[0;31m \u001b[0;32mfor\u001b[0m \u001b[0mi\u001b[0m \u001b[0;32min\u001b[0m \u001b[0mrange\u001b[0m\u001b[0;34m(\u001b[0m\u001b[0;36m0\u001b[0m\u001b[0;34m,\u001b[0m \u001b[0;36m9\u001b[0m\u001b[0;34m,\u001b[0m \u001b[0;36m0\u001b[0m\u001b[0;34m)\u001b[0m\u001b[0;34m:\u001b[0m\u001b[0;34m\u001b[0m\u001b[0;34m\u001b[0m\u001b[0m\n\u001b[0m\u001b[1;32m      2\u001b[0m     \u001b[0mprint\u001b[0m\u001b[0;34m(\u001b[0m\u001b[0mi\u001b[0m\u001b[0;34m)\u001b[0m\u001b[0;34m\u001b[0m\u001b[0;34m\u001b[0m\u001b[0m\n",
      "\u001b[0;31mValueError\u001b[0m: range() arg 3 must not be zero"
     ]
    }
   ],
   "source": [
    "for i in range(0, 9, 0):\n",
    "    print(i)"
   ]
  },
  {
   "cell_type": "code",
   "execution_count": 20,
   "id": "2904fdba",
   "metadata": {},
   "outputs": [
    {
     "data": {
      "text/plain": [
       "'\\nQuestion 1 - \\nPrint all numbers from 1 to N using a for loop. N included.\\nTake N as input from the user.\\n'"
      ]
     },
     "execution_count": 20,
     "metadata": {},
     "output_type": "execute_result"
    }
   ],
   "source": [
    "'''\n",
    "Question 1 - \n",
    "Print all numbers from 1 to N using a for loop. N included.\n",
    "Take N as input from the user.\n",
    "'''"
   ]
  },
  {
   "cell_type": "code",
   "execution_count": 24,
   "id": "2357f47a",
   "metadata": {},
   "outputs": [
    {
     "name": "stdout",
     "output_type": "stream",
     "text": [
      "Please enter a number - 3\n",
      "1\n",
      "2\n",
      "3\n"
     ]
    }
   ],
   "source": [
    "number = int(input(\"Please enter a number - \"))\n",
    "\n",
    "for i in range(1, number + 1):\n",
    "    print(i)"
   ]
  },
  {
   "cell_type": "code",
   "execution_count": 26,
   "id": "eac8341d",
   "metadata": {},
   "outputs": [
    {
     "name": "stdout",
     "output_type": "stream",
     "text": [
      "0\n",
      "1\n",
      "2\n",
      "3\n",
      "4\n"
     ]
    }
   ],
   "source": [
    "x = 0\n",
    "\n",
    "while x < 5:\n",
    "    print(x)\n",
    "    x += 1"
   ]
  },
  {
   "cell_type": "code",
   "execution_count": 27,
   "id": "2c3d8858",
   "metadata": {},
   "outputs": [
    {
     "name": "stdout",
     "output_type": "stream",
     "text": [
      "0\n",
      "1\n",
      "2\n",
      "3\n",
      "4\n"
     ]
    }
   ],
   "source": [
    "for x in range(5):\n",
    "    print(x)"
   ]
  },
  {
   "cell_type": "code",
   "execution_count": 28,
   "id": "adeff29f",
   "metadata": {},
   "outputs": [
    {
     "data": {
      "text/plain": [
       "'\\nQuestion 2 - \\nTake N as input from the user.\\nCalculate the sum of all numbers from 1 to N. (N included)\\n'"
      ]
     },
     "execution_count": 28,
     "metadata": {},
     "output_type": "execute_result"
    }
   ],
   "source": [
    "'''\n",
    "Question 2 - \n",
    "Take N as input from the user.\n",
    "Calculate the sum of all numbers from 1 to N. (N included)\n",
    "'''"
   ]
  },
  {
   "cell_type": "code",
   "execution_count": 31,
   "id": "ad006edc",
   "metadata": {},
   "outputs": [
    {
     "name": "stdout",
     "output_type": "stream",
     "text": [
      "Please Enter a positive number -5\n",
      "15\n"
     ]
    }
   ],
   "source": [
    "number = int(input(\"Please Enter a positive number -\"))\n",
    "\n",
    "final_sum = 0\n",
    "\n",
    "for value in range(1, number + 1):\n",
    "    final_sum += value\n",
    "    \n",
    "print(final_sum)"
   ]
  },
  {
   "cell_type": "code",
   "execution_count": 33,
   "id": "dbd2e445",
   "metadata": {},
   "outputs": [
    {
     "data": {
      "text/plain": [
       "'\\nQuestion 3 - \\nTake N an input from the user.\\nCalculate the product of all numbers from 1 to N. (N included)\\n'"
      ]
     },
     "execution_count": 33,
     "metadata": {},
     "output_type": "execute_result"
    }
   ],
   "source": [
    "'''\n",
    "Question 3 - \n",
    "Take N an input from the user.\n",
    "Calculate the product of all numbers from 1 to N. (N included)\n",
    "'''"
   ]
  },
  {
   "cell_type": "code",
   "execution_count": 37,
   "id": "9ff12ce9",
   "metadata": {},
   "outputs": [
    {
     "name": "stdout",
     "output_type": "stream",
     "text": [
      "4\n",
      "24\n"
     ]
    }
   ],
   "source": [
    "number = int(input())\n",
    "\n",
    "factorial = 1\n",
    "\n",
    "for i in range(1, number + 1):\n",
    "    factorial *= i\n",
    "    \n",
    "print(factorial)"
   ]
  },
  {
   "cell_type": "code",
   "execution_count": 38,
   "id": "3dad9bbd",
   "metadata": {},
   "outputs": [
    {
     "data": {
      "text/plain": [
       "'\\nQuestion 4 - \\nTake N as input from the user.\\nCalculate the product of all even numbers between 1 and N. \\nBoth included.\\n'"
      ]
     },
     "execution_count": 38,
     "metadata": {},
     "output_type": "execute_result"
    }
   ],
   "source": [
    "'''\n",
    "Question 4 - \n",
    "Take N as input from the user.\n",
    "Calculate the product of all even numbers between 1 and N. \n",
    "Both included.\n",
    "'''"
   ]
  },
  {
   "cell_type": "code",
   "execution_count": 39,
   "id": "66130a1b",
   "metadata": {},
   "outputs": [
    {
     "name": "stdout",
     "output_type": "stream",
     "text": [
      "Please enter a number - 10\n",
      "3840\n"
     ]
    }
   ],
   "source": [
    "number = int(input(\"Please enter a number - \"))\n",
    "\n",
    "even_product = 1\n",
    "\n",
    "for i in range(2, number + 1, 2):\n",
    "    even_product *= i\n",
    "    \n",
    "print(even_product)"
   ]
  },
  {
   "cell_type": "code",
   "execution_count": 40,
   "id": "1121b7d0",
   "metadata": {},
   "outputs": [
    {
     "name": "stdout",
     "output_type": "stream",
     "text": [
      "Please enter a number - 10\n",
      "3840\n"
     ]
    }
   ],
   "source": [
    "number = int(input(\"Please enter a number - \"))\n",
    "\n",
    "even_product = 1\n",
    "\n",
    "for i in range(1, number + 1):\n",
    "    if i % 2 == 0:\n",
    "        even_product *= i\n",
    "    \n",
    "print(even_product)"
   ]
  },
  {
   "cell_type": "code",
   "execution_count": 41,
   "id": "c86b83d0",
   "metadata": {},
   "outputs": [
    {
     "data": {
      "text/plain": [
       "'\\nQuestion 5 - \\nTake start and end as input from the user.\\nCalculate the product of all even numbers between start and end.\\nBoth included.\\n'"
      ]
     },
     "execution_count": 41,
     "metadata": {},
     "output_type": "execute_result"
    }
   ],
   "source": [
    "'''\n",
    "Question 5 - \n",
    "Take start and end as input from the user.\n",
    "Calculate the product of all even numbers between start and end.\n",
    "Both included.\n",
    "'''"
   ]
  },
  {
   "cell_type": "code",
   "execution_count": 44,
   "id": "de942f4c",
   "metadata": {},
   "outputs": [
    {
     "name": "stdout",
     "output_type": "stream",
     "text": [
      "Start - 3\n",
      "End - 7\n",
      "24\n"
     ]
    }
   ],
   "source": [
    "# EASY WAY\n",
    "\n",
    "s = int(input(\"Start - \"))\n",
    "e = int(input(\"End - \"))\n",
    "\n",
    "even_product = 1\n",
    "\n",
    "for i in range(s, e + 1):\n",
    "    if i % 2 == 0:\n",
    "        even_product *= i\n",
    "    \n",
    "print(even_product)"
   ]
  },
  {
   "cell_type": "code",
   "execution_count": 45,
   "id": "9af63b18",
   "metadata": {},
   "outputs": [
    {
     "name": "stdout",
     "output_type": "stream",
     "text": [
      "Start - 3\n",
      "End - 7\n",
      "24\n"
     ]
    }
   ],
   "source": [
    "# BETTER WAY\n",
    "\n",
    "s = int(input(\"Start - \"))\n",
    "e = int(input(\"End - \"))\n",
    "\n",
    "even_product = 1\n",
    "\n",
    "if s % 2 != 0:\n",
    "    s += 1\n",
    "    \n",
    "for i in range(s, e + 1, 2):\n",
    "    even_product *= i\n",
    "    \n",
    "print(even_product)"
   ]
  },
  {
   "cell_type": "code",
   "execution_count": 51,
   "id": "167b0093",
   "metadata": {},
   "outputs": [
    {
     "data": {
      "text/plain": [
       "'\\nQuestion 6 -\\nPrint all the numbers from an input N to 1 in reverse order. 1 included.\\nN > 1 -> Given\\n'"
      ]
     },
     "execution_count": 51,
     "metadata": {},
     "output_type": "execute_result"
    }
   ],
   "source": [
    "'''\n",
    "Question 6 -\n",
    "Print all the numbers from an input N to 1 in reverse order. 1 included.\n",
    "N > 1 -> Given\n",
    "'''"
   ]
  },
  {
   "cell_type": "code",
   "execution_count": 52,
   "id": "9ac0203b",
   "metadata": {},
   "outputs": [
    {
     "name": "stdout",
     "output_type": "stream",
     "text": [
      "Please enter number > 1 - 5\n",
      "5\n",
      "4\n",
      "3\n",
      "2\n",
      "1\n"
     ]
    }
   ],
   "source": [
    "number = int(input(\"Please enter number > 1 - \"))\n",
    "\n",
    "for i in range(number, 0, -1):\n",
    "    print(i)"
   ]
  },
  {
   "cell_type": "code",
   "execution_count": 50,
   "id": "e1b765ac",
   "metadata": {},
   "outputs": [
    {
     "data": {
      "text/plain": [
       "'\\nQuestion 7 -\\nPrint all the numbers from an input N to 1 in reverse order.\\nWithout using a negative jump!\\nN > 1 -> Given\\n'"
      ]
     },
     "execution_count": 50,
     "metadata": {},
     "output_type": "execute_result"
    }
   ],
   "source": [
    "'''\n",
    "Question 7 -\n",
    "Print all the numbers from an input N to 1 in reverse order. 1 included.\n",
    "Without using a negative jump!\n",
    "N > 1 -> Given\n",
    "'''"
   ]
  },
  {
   "cell_type": "code",
   "execution_count": 58,
   "id": "5ae0607f",
   "metadata": {},
   "outputs": [
    {
     "name": "stdout",
     "output_type": "stream",
     "text": [
      "5\n",
      "5 4 3 2 1 "
     ]
    }
   ],
   "source": [
    "# Approach 1\n",
    "n = int(input())\n",
    "\n",
    "for i in range(1, n + 1):\n",
    "    print((n + 1) - i, end = \" \")\n",
    "    \n",
    "'''\n",
    "n = 5\n",
    "i = 1 -> 5\n",
    "i = 2 -> 4\n",
    "i = 3 -> 3\n",
    "i = 4 -> 2\n",
    "i = 5 -> 1\n",
    "'''"
   ]
  },
  {
   "cell_type": "code",
   "execution_count": 55,
   "id": "186df0cc",
   "metadata": {},
   "outputs": [
    {
     "name": "stdout",
     "output_type": "stream",
     "text": [
      "7\n",
      "7 6 5 4 3 2 1 "
     ]
    }
   ],
   "source": [
    "# Approach 2\n",
    "n = int(input())\n",
    "\n",
    "for i in range(-n, 0):\n",
    "    print(-i, end = \" \")"
   ]
  },
  {
   "cell_type": "code",
   "execution_count": 57,
   "id": "a845f9bc",
   "metadata": {},
   "outputs": [
    {
     "name": "stdout",
     "output_type": "stream",
     "text": [
      "B\n",
      "I\n",
      "P\n",
      "I\n",
      "N\n"
     ]
    }
   ],
   "source": [
    "name = \"BIPIN\"\n",
    "# string is also an iterable similar to ranges\n",
    "\n",
    "for i in name:\n",
    "    print(i)"
   ]
  },
  {
   "cell_type": "code",
   "execution_count": null,
   "id": "d45a93c9",
   "metadata": {},
   "outputs": [],
   "source": []
  }
 ],
 "metadata": {
  "kernelspec": {
   "display_name": "Python 3 (ipykernel)",
   "language": "python",
   "name": "python3"
  },
  "language_info": {
   "codemirror_mode": {
    "name": "ipython",
    "version": 3
   },
   "file_extension": ".py",
   "mimetype": "text/x-python",
   "name": "python",
   "nbconvert_exporter": "python",
   "pygments_lexer": "ipython3",
   "version": "3.9.5"
  }
 },
 "nbformat": 4,
 "nbformat_minor": 5
}
