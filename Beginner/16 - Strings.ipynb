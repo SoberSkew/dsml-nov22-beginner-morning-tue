{
 "cells": [
  {
   "cell_type": "code",
   "execution_count": 1,
   "id": "cf7ac5ab",
   "metadata": {},
   "outputs": [],
   "source": [
    "a = \"double quotes\""
   ]
  },
  {
   "cell_type": "code",
   "execution_count": 2,
   "id": "7b219d08",
   "metadata": {},
   "outputs": [],
   "source": [
    "b = 'single quotes'"
   ]
  },
  {
   "cell_type": "code",
   "execution_count": 3,
   "id": "c001b722",
   "metadata": {},
   "outputs": [],
   "source": [
    "c = '''triple quotes''' # docstrings"
   ]
  },
  {
   "cell_type": "code",
   "execution_count": 4,
   "id": "2922c7c5",
   "metadata": {},
   "outputs": [],
   "source": [
    "d = \"\"\"triple double quotes\"\"\" # docstrings"
   ]
  },
  {
   "cell_type": "code",
   "execution_count": 7,
   "id": "6805120f",
   "metadata": {},
   "outputs": [
    {
     "data": {
      "text/plain": [
       "str"
      ]
     },
     "execution_count": 7,
     "metadata": {},
     "output_type": "execute_result"
    }
   ],
   "source": [
    "type(d)"
   ]
  },
  {
   "cell_type": "code",
   "execution_count": 8,
   "id": "6085916a",
   "metadata": {},
   "outputs": [],
   "source": [
    "x = \"anything that you write here, including 1234567890 !@#$%^&*(){:>?{}}\""
   ]
  },
  {
   "cell_type": "code",
   "execution_count": 9,
   "id": "0fcb934e",
   "metadata": {},
   "outputs": [
    {
     "data": {
      "text/plain": [
       "str"
      ]
     },
     "execution_count": 9,
     "metadata": {},
     "output_type": "execute_result"
    }
   ],
   "source": [
    "type(x)"
   ]
  },
  {
   "cell_type": "code",
   "execution_count": 12,
   "id": "2fa94b67",
   "metadata": {},
   "outputs": [],
   "source": [
    "# mixed quotations are not valid"
   ]
  },
  {
   "cell_type": "code",
   "execution_count": 13,
   "id": "aaae4ae9",
   "metadata": {},
   "outputs": [
    {
     "ename": "SyntaxError",
     "evalue": "EOL while scanning string literal (1492347280.py, line 1)",
     "output_type": "error",
     "traceback": [
      "\u001b[0;36m  File \u001b[0;32m\"/var/folders/nn/c52y0d3j0gq59dpsswchkt2r0000gn/T/ipykernel_21256/1492347280.py\"\u001b[0;36m, line \u001b[0;32m1\u001b[0m\n\u001b[0;31m    'a\"\u001b[0m\n\u001b[0m       ^\u001b[0m\n\u001b[0;31mSyntaxError\u001b[0m\u001b[0;31m:\u001b[0m EOL while scanning string literal\n"
     ]
    }
   ],
   "source": [
    "'a\""
   ]
  },
  {
   "cell_type": "code",
   "execution_count": 22,
   "id": "8873702e",
   "metadata": {},
   "outputs": [],
   "source": [
    "a = \"I am writing something \\\"double quotes\\\" something something\"\n",
    "# escape characters"
   ]
  },
  {
   "cell_type": "code",
   "execution_count": 15,
   "id": "6a95bf08",
   "metadata": {},
   "outputs": [
    {
     "data": {
      "text/plain": [
       "'I am writing something \"double quotes\" something something'"
      ]
     },
     "execution_count": 15,
     "metadata": {},
     "output_type": "execute_result"
    }
   ],
   "source": [
    "a"
   ]
  },
  {
   "cell_type": "code",
   "execution_count": 16,
   "id": "65cbf463",
   "metadata": {},
   "outputs": [],
   "source": [
    "a = 'abc \"random\" def' # double quotes inside single quotes"
   ]
  },
  {
   "cell_type": "code",
   "execution_count": 17,
   "id": "c3047d32",
   "metadata": {},
   "outputs": [
    {
     "data": {
      "text/plain": [
       "'abc \"random\" def'"
      ]
     },
     "execution_count": 17,
     "metadata": {},
     "output_type": "execute_result"
    }
   ],
   "source": [
    "a"
   ]
  },
  {
   "cell_type": "code",
   "execution_count": 23,
   "id": "76a0342c",
   "metadata": {},
   "outputs": [],
   "source": [
    "a = \"abc 'random' def\" # single quotes inside double quotes"
   ]
  },
  {
   "cell_type": "code",
   "execution_count": 24,
   "id": "5c779fd0",
   "metadata": {},
   "outputs": [
    {
     "data": {
      "text/plain": [
       "\"abc 'random' def\""
      ]
     },
     "execution_count": 24,
     "metadata": {},
     "output_type": "execute_result"
    }
   ],
   "source": [
    "a"
   ]
  },
  {
   "cell_type": "code",
   "execution_count": 31,
   "id": "65a95e37",
   "metadata": {},
   "outputs": [
    {
     "data": {
      "text/plain": [
       "False"
      ]
     },
     "execution_count": 31,
     "metadata": {},
     "output_type": "execute_result"
    }
   ],
   "source": [
    "\"a\" > \"b\"\n",
    "\n",
    "# lexicographical comparison - string which will come later in a dictionary will have higher value\n",
    "# ASCII -> What? Why? Where? -> SECOND HALF OF THIS LECTURE."
   ]
  },
  {
   "cell_type": "code",
   "execution_count": 28,
   "id": "68d0d5d8",
   "metadata": {},
   "outputs": [
    {
     "data": {
      "text/plain": [
       "True"
      ]
     },
     "execution_count": 28,
     "metadata": {},
     "output_type": "execute_result"
    }
   ],
   "source": [
    "\"a\" > \"A\" # also because of ASCII"
   ]
  },
  {
   "cell_type": "code",
   "execution_count": 29,
   "id": "32397b24",
   "metadata": {},
   "outputs": [
    {
     "data": {
      "text/plain": [
       "'random123'"
      ]
     },
     "execution_count": 29,
     "metadata": {},
     "output_type": "execute_result"
    }
   ],
   "source": [
    "\"random\" + \"123\""
   ]
  },
  {
   "cell_type": "code",
   "execution_count": 30,
   "id": "c6c770d7",
   "metadata": {},
   "outputs": [
    {
     "data": {
      "text/plain": [
       "'blablablablablabla'"
      ]
     },
     "execution_count": 30,
     "metadata": {},
     "output_type": "execute_result"
    }
   ],
   "source": [
    "\"bla\" * 2 * 3"
   ]
  },
  {
   "cell_type": "code",
   "execution_count": 32,
   "id": "e3f39dc7",
   "metadata": {},
   "outputs": [
    {
     "data": {
      "text/plain": [
       "True"
      ]
     },
     "execution_count": 32,
     "metadata": {},
     "output_type": "execute_result"
    }
   ],
   "source": [
    "\"zebra\" > \"ahfgjsdhefusgdfhaegfdasfdhajdaghasjvdhsgdfahsvxajbcjhawgdhabcvdzhg\""
   ]
  },
  {
   "cell_type": "code",
   "execution_count": 33,
   "id": "b8f61a80",
   "metadata": {},
   "outputs": [],
   "source": [
    "# INPUTS -> length and breadth\n",
    "# Calculate Area.\n",
    "# Print the following string -\n",
    "# \"Length = <l>, Breadth = <b>, Area = <a>\""
   ]
  },
  {
   "cell_type": "code",
   "execution_count": 34,
   "id": "ee6a06b1",
   "metadata": {},
   "outputs": [],
   "source": [
    "length = 5\n",
    "breadth = 10"
   ]
  },
  {
   "cell_type": "code",
   "execution_count": 35,
   "id": "da85100c",
   "metadata": {},
   "outputs": [],
   "source": [
    "def calc_area_1(l, b):\n",
    "    a = l * b\n",
    "    \n",
    "    print(\"Length =\", l, \"Breadth =\", b, \"Area =\", a)"
   ]
  },
  {
   "cell_type": "code",
   "execution_count": 36,
   "id": "cd186ed9",
   "metadata": {},
   "outputs": [
    {
     "name": "stdout",
     "output_type": "stream",
     "text": [
      "Length = 5 Breadth = 10 Area = 50\n"
     ]
    }
   ],
   "source": [
    "calc_area_1(length, breadth)"
   ]
  },
  {
   "cell_type": "code",
   "execution_count": 37,
   "id": "e9924a26",
   "metadata": {},
   "outputs": [],
   "source": [
    "def calc_area_2(l, b):\n",
    "    a = l * b\n",
    "    \n",
    "    print(\"Length = {}, Breadth = {}, Area = {}\".format(l, b, a))"
   ]
  },
  {
   "cell_type": "code",
   "execution_count": 38,
   "id": "6cabfb6d",
   "metadata": {},
   "outputs": [
    {
     "name": "stdout",
     "output_type": "stream",
     "text": [
      "Length = 5, Breadth = 10, Area = 50\n"
     ]
    }
   ],
   "source": [
    "calc_area_2(length, breadth)"
   ]
  },
  {
   "cell_type": "code",
   "execution_count": 39,
   "id": "114c2cdc",
   "metadata": {},
   "outputs": [],
   "source": [
    "def calc_area_2(l, b):\n",
    "    a = l * b\n",
    "    \n",
    "    print(\"Length = {2}, Breadth = {1}, Area = {0}\".format(a, b, l))"
   ]
  },
  {
   "cell_type": "code",
   "execution_count": 40,
   "id": "4e1ff7d0",
   "metadata": {},
   "outputs": [],
   "source": [
    "def calc_area_3(l, b):\n",
    "    a = l * b\n",
    "    \n",
    "    print(f\"Length = {l}, Breadth = {b}, Area = {a}\")"
   ]
  },
  {
   "cell_type": "code",
   "execution_count": 41,
   "id": "2d9d8d81",
   "metadata": {},
   "outputs": [
    {
     "name": "stdout",
     "output_type": "stream",
     "text": [
      "Length = 5, Breadth = 10, Area = 50\n"
     ]
    }
   ],
   "source": [
    "calc_area_3(length, breadth)"
   ]
  },
  {
   "cell_type": "code",
   "execution_count": 42,
   "id": "0890cb26",
   "metadata": {},
   "outputs": [],
   "source": [
    "l = 5\n",
    "b = 10\n",
    "a = l * b"
   ]
  },
  {
   "cell_type": "code",
   "execution_count": 46,
   "id": "320bb62c",
   "metadata": {},
   "outputs": [
    {
     "name": "stdout",
     "output_type": "stream",
     "text": [
      "Length = 5 , Breadth = 10 , Area = 50\n",
      "Length = 5, Breadth = 10, Area = 50\n",
      "Length = 5, Breadth = 10, Area = 50\n"
     ]
    }
   ],
   "source": [
    "print(\"Length =\", l, \", Breadth =\", b, \", Area =\", a)\n",
    "print(\"Length = {}, Breadth = {}, Area = {}\".format(l, b, a))\n",
    "print(f\"Length = {l}, Breadth = {b}, Area = {a}\")"
   ]
  },
  {
   "cell_type": "code",
   "execution_count": 47,
   "id": "31df6f1d",
   "metadata": {},
   "outputs": [],
   "source": [
    "s1 = \"string1\"\n",
    "s2 = \"string2\"\n",
    "\n",
    "a = s1 + \" , \" + s2"
   ]
  },
  {
   "cell_type": "code",
   "execution_count": 48,
   "id": "7c352435",
   "metadata": {},
   "outputs": [
    {
     "data": {
      "text/plain": [
       "'string1 , string2'"
      ]
     },
     "execution_count": 48,
     "metadata": {},
     "output_type": "execute_result"
    }
   ],
   "source": [
    "a"
   ]
  },
  {
   "cell_type": "code",
   "execution_count": 50,
   "id": "7cbb8c45",
   "metadata": {},
   "outputs": [],
   "source": [
    "b = f\"{s1} , {s2}\""
   ]
  },
  {
   "cell_type": "code",
   "execution_count": 51,
   "id": "b8a2632b",
   "metadata": {},
   "outputs": [
    {
     "data": {
      "text/plain": [
       "'string1 , string2'"
      ]
     },
     "execution_count": 51,
     "metadata": {},
     "output_type": "execute_result"
    }
   ],
   "source": [
    "b"
   ]
  },
  {
   "cell_type": "code",
   "execution_count": 52,
   "id": "a81899e8",
   "metadata": {},
   "outputs": [
    {
     "data": {
      "text/plain": [
       "97"
      ]
     },
     "execution_count": 52,
     "metadata": {},
     "output_type": "execute_result"
    }
   ],
   "source": [
    "# given a character - get the integer value (mapping)\n",
    "ord(\"a\")"
   ]
  },
  {
   "cell_type": "code",
   "execution_count": 53,
   "id": "2fa8caad",
   "metadata": {},
   "outputs": [
    {
     "data": {
      "text/plain": [
       "10"
      ]
     },
     "execution_count": 53,
     "metadata": {},
     "output_type": "execute_result"
    }
   ],
   "source": [
    "ord(\"\\n\")"
   ]
  },
  {
   "cell_type": "code",
   "execution_count": 54,
   "id": "6d035c05",
   "metadata": {},
   "outputs": [
    {
     "data": {
      "text/plain": [
       "32"
      ]
     },
     "execution_count": 54,
     "metadata": {},
     "output_type": "execute_result"
    }
   ],
   "source": [
    "ord(\" \")"
   ]
  },
  {
   "cell_type": "code",
   "execution_count": 55,
   "id": "8346ac89",
   "metadata": {},
   "outputs": [
    {
     "data": {
      "text/plain": [
       "'a'"
      ]
     },
     "execution_count": 55,
     "metadata": {},
     "output_type": "execute_result"
    }
   ],
   "source": [
    "# given an integer / mapping value - get the corresponding character\n",
    "chr(97)"
   ]
  },
  {
   "cell_type": "code",
   "execution_count": 56,
   "id": "3d432d09",
   "metadata": {},
   "outputs": [
    {
     "data": {
      "text/plain": [
       "'b'"
      ]
     },
     "execution_count": 56,
     "metadata": {},
     "output_type": "execute_result"
    }
   ],
   "source": [
    "chr(98)"
   ]
  },
  {
   "cell_type": "code",
   "execution_count": 57,
   "id": "4f6e6d7a",
   "metadata": {},
   "outputs": [
    {
     "data": {
      "text/plain": [
       "'0'"
      ]
     },
     "execution_count": 57,
     "metadata": {},
     "output_type": "execute_result"
    }
   ],
   "source": [
    "chr(48)"
   ]
  },
  {
   "cell_type": "code",
   "execution_count": 58,
   "id": "afb8466a",
   "metadata": {},
   "outputs": [
    {
     "data": {
      "text/plain": [
       "'\\nQuestion 1 - \\n1. Take a string as input from the user.\\n2. Print the string character by character in new lines.\\n\\nINPUT - VIRAT\\nOUTPUT - \\nV\\nI\\nR\\nA\\nT\\n'"
      ]
     },
     "execution_count": 58,
     "metadata": {},
     "output_type": "execute_result"
    }
   ],
   "source": [
    "'''\n",
    "Question 1 - \n",
    "1. Take a string as input from the user.\n",
    "2. Print the string character by character in new lines.\n",
    "\n",
    "INPUT - VIRAT\n",
    "OUTPUT - \n",
    "V\n",
    "I\n",
    "R\n",
    "A\n",
    "T\n",
    "'''"
   ]
  },
  {
   "cell_type": "code",
   "execution_count": 59,
   "id": "cd2b83b9",
   "metadata": {},
   "outputs": [
    {
     "name": "stdout",
     "output_type": "stream",
     "text": [
      "SHUBHMAN\n",
      "S\n",
      "H\n",
      "U\n",
      "B\n",
      "H\n",
      "M\n",
      "A\n",
      "N\n"
     ]
    }
   ],
   "source": [
    "a = input()\n",
    "\n",
    "for i in a:\n",
    "    print(i)"
   ]
  },
  {
   "cell_type": "code",
   "execution_count": 60,
   "id": "36467865",
   "metadata": {},
   "outputs": [
    {
     "data": {
      "text/plain": [
       "'\\nQuestion 2 - \\n1. Take a string as input from the user.\\n2. Print the following - \\n\"First character - f, Last character - l\"\\n'"
      ]
     },
     "execution_count": 60,
     "metadata": {},
     "output_type": "execute_result"
    }
   ],
   "source": [
    "'''\n",
    "Question 2 - \n",
    "1. Take a string as input from the user.\n",
    "2. Print the following - \n",
    "\"First character - f, Last character - l\"\n",
    "'''"
   ]
  },
  {
   "cell_type": "code",
   "execution_count": 63,
   "id": "5a798f1c",
   "metadata": {},
   "outputs": [
    {
     "name": "stdout",
     "output_type": "stream",
     "text": [
      "random\n",
      "First character - r, Last character - m\n"
     ]
    }
   ],
   "source": [
    "a = input()\n",
    "\n",
    "print(f\"First character - {a[0]}, Last character - {a[-1]}\")"
   ]
  },
  {
   "cell_type": "code",
   "execution_count": 64,
   "id": "57e628e1",
   "metadata": {},
   "outputs": [
    {
     "data": {
      "text/plain": [
       "'\\nQuestion 3 - \\n1. Take a string as input.\\n2. Reverse that string.\\n'"
      ]
     },
     "execution_count": 64,
     "metadata": {},
     "output_type": "execute_result"
    }
   ],
   "source": [
    "'''\n",
    "Question 3 - \n",
    "1. Take a string as input.\n",
    "2. Reverse that string.\n",
    "'''"
   ]
  },
  {
   "cell_type": "code",
   "execution_count": 65,
   "id": "5cc30be2",
   "metadata": {},
   "outputs": [
    {
     "name": "stdout",
     "output_type": "stream",
     "text": [
      "pooja\n",
      "ajoop\n"
     ]
    }
   ],
   "source": [
    "a = input()\n",
    "\n",
    "print(a[::-1])"
   ]
  },
  {
   "cell_type": "code",
   "execution_count": 66,
   "id": "998a8963",
   "metadata": {},
   "outputs": [
    {
     "data": {
      "text/plain": [
       "'\\nQuestion 4 - \\n1. Take a string as input.\\n2. Check whether that string is a palindrome or not.\\n\\nNAMAN - Palindrome\\nSHAKER - Not a palindrome\\n'"
      ]
     },
     "execution_count": 66,
     "metadata": {},
     "output_type": "execute_result"
    }
   ],
   "source": [
    "'''\n",
    "Question 4 - \n",
    "1. Take a string as input.\n",
    "2. Check whether that string is a palindrome or not.\n",
    "\n",
    "NAMAN - Palindrome\n",
    "SHAKER - Not a palindrome\n",
    "'''"
   ]
  },
  {
   "cell_type": "code",
   "execution_count": 68,
   "id": "1160096a",
   "metadata": {},
   "outputs": [
    {
     "data": {
      "text/plain": [
       "'naman'"
      ]
     },
     "execution_count": 68,
     "metadata": {},
     "output_type": "execute_result"
    }
   ],
   "source": [
    "\"Naman\".lower()"
   ]
  },
  {
   "cell_type": "code",
   "execution_count": 69,
   "id": "c43cd68c",
   "metadata": {},
   "outputs": [],
   "source": [
    "def check_palindrome(a):\n",
    "    a = a.lower()\n",
    "    \n",
    "    if a == a[::-1]:\n",
    "        return True\n",
    "    else:\n",
    "        return False"
   ]
  },
  {
   "cell_type": "code",
   "execution_count": 73,
   "id": "e9ccf24b",
   "metadata": {},
   "outputs": [
    {
     "name": "stdout",
     "output_type": "stream",
     "text": [
      "shubham\n"
     ]
    },
    {
     "data": {
      "text/plain": [
       "False"
      ]
     },
     "execution_count": 73,
     "metadata": {},
     "output_type": "execute_result"
    }
   ],
   "source": [
    "a = input()\n",
    "\n",
    "check_palindrome(a)"
   ]
  },
  {
   "cell_type": "code",
   "execution_count": 74,
   "id": "066021ab",
   "metadata": {},
   "outputs": [
    {
     "data": {
      "text/plain": [
       "'\\nQuestion 5 -\\n1. Take a string as input from the user.\\n2. Print the number of uppercase characters in that string. (alphabets)\\n\\nINPUT - \"This is a Random%^&*()\"\\nOUTPUT - 2\\n'"
      ]
     },
     "execution_count": 74,
     "metadata": {},
     "output_type": "execute_result"
    }
   ],
   "source": [
    "'''\n",
    "Question 5 -\n",
    "1. Take a string as input from the user.\n",
    "2. Print the number of uppercase characters in that string. (alphabets)\n",
    "\n",
    "INPUT - \"This is a Random%^&*()\"\n",
    "OUTPUT - 2\n",
    "'''"
   ]
  },
  {
   "cell_type": "code",
   "execution_count": 75,
   "id": "7d309255",
   "metadata": {},
   "outputs": [],
   "source": [
    "a = \"This is a Random%^&*()\""
   ]
  },
  {
   "cell_type": "code",
   "execution_count": 76,
   "id": "0742a483",
   "metadata": {},
   "outputs": [],
   "source": [
    "def count_uppercase(a):\n",
    "    count = 0\n",
    "    \n",
    "    for i in a:\n",
    "        if ord(i) >= 65 and ord(i) <= 90:\n",
    "            count += 1\n",
    "            \n",
    "    return count"
   ]
  },
  {
   "cell_type": "code",
   "execution_count": 77,
   "id": "eedd62cc",
   "metadata": {},
   "outputs": [
    {
     "data": {
      "text/plain": [
       "2"
      ]
     },
     "execution_count": 77,
     "metadata": {},
     "output_type": "execute_result"
    }
   ],
   "source": [
    "count_uppercase(a)"
   ]
  },
  {
   "cell_type": "code",
   "execution_count": 80,
   "id": "6dd9f248",
   "metadata": {},
   "outputs": [],
   "source": [
    "def count_uppercase(a):\n",
    "    count = 0\n",
    "    \n",
    "    for i in a:\n",
    "        if i.isupper():\n",
    "            # returns True if uppercase else returns False\n",
    "            count += 1\n",
    "    \n",
    "    return count"
   ]
  },
  {
   "cell_type": "code",
   "execution_count": 81,
   "id": "d07b62b7",
   "metadata": {},
   "outputs": [
    {
     "data": {
      "text/plain": [
       "2"
      ]
     },
     "execution_count": 81,
     "metadata": {},
     "output_type": "execute_result"
    }
   ],
   "source": [
    "count_uppercase(a)"
   ]
  },
  {
   "cell_type": "code",
   "execution_count": 82,
   "id": "7a87378d",
   "metadata": {},
   "outputs": [
    {
     "data": {
      "text/plain": [
       "'a'"
      ]
     },
     "execution_count": 82,
     "metadata": {},
     "output_type": "execute_result"
    }
   ],
   "source": [
    "\"A\".lower()"
   ]
  },
  {
   "cell_type": "code",
   "execution_count": 83,
   "id": "949c0091",
   "metadata": {},
   "outputs": [
    {
     "data": {
      "text/plain": [
       "False"
      ]
     },
     "execution_count": 83,
     "metadata": {},
     "output_type": "execute_result"
    }
   ],
   "source": [
    "\"A\".islower()"
   ]
  },
  {
   "cell_type": "code",
   "execution_count": 84,
   "id": "2cdeeaf5",
   "metadata": {},
   "outputs": [
    {
     "data": {
      "text/plain": [
       "True"
      ]
     },
     "execution_count": 84,
     "metadata": {},
     "output_type": "execute_result"
    }
   ],
   "source": [
    "\"A\".isupper()"
   ]
  },
  {
   "cell_type": "code",
   "execution_count": 85,
   "id": "893811ac",
   "metadata": {},
   "outputs": [
    {
     "data": {
      "text/plain": [
       "'A'"
      ]
     },
     "execution_count": 85,
     "metadata": {},
     "output_type": "execute_result"
    }
   ],
   "source": [
    "\"a\".upper()"
   ]
  },
  {
   "cell_type": "code",
   "execution_count": 86,
   "id": "72ad4681",
   "metadata": {},
   "outputs": [
    {
     "data": {
      "text/plain": [
       "'\\nQuestion 6 -\\n1. You are given a list as input to a function.\\n2. Generate a string from the chr values of the integers in the list.\\n\\nINPUT = [65, 97, 68]\\nOUTPUT = \"AaD\"\\n\\nEXPLANATION - \\n\"A\" -> 65\\n\"a\" -> 97\\n\"D\" -> 68\\n'"
      ]
     },
     "execution_count": 86,
     "metadata": {},
     "output_type": "execute_result"
    }
   ],
   "source": [
    "'''\n",
    "Question 6 -\n",
    "1. You are given a list as input to a function.\n",
    "2. Generate a string from the chr values of the integers in the list.\n",
    "\n",
    "INPUT = [65, 97, 68]\n",
    "OUTPUT = \"AaD\"\n",
    "\n",
    "EXPLANATION - \n",
    "\"A\" -> 65\n",
    "\"a\" -> 97\n",
    "\"D\" -> 68\n",
    "'''"
   ]
  },
  {
   "cell_type": "code",
   "execution_count": 87,
   "id": "67403c9b",
   "metadata": {},
   "outputs": [
    {
     "name": "stdout",
     "output_type": "stream",
     "text": [
      "56\n",
      "49\n",
      "100\n",
      "102\n",
      "67\n"
     ]
    }
   ],
   "source": [
    "input_list = []\n",
    "\n",
    "for i in range(5):\n",
    "    input_list.append(int(input()))"
   ]
  },
  {
   "cell_type": "code",
   "execution_count": 88,
   "id": "4e5bf960",
   "metadata": {},
   "outputs": [
    {
     "data": {
      "text/plain": [
       "[56, 49, 100, 102, 67]"
      ]
     },
     "execution_count": 88,
     "metadata": {},
     "output_type": "execute_result"
    }
   ],
   "source": [
    "input_list"
   ]
  },
  {
   "cell_type": "code",
   "execution_count": 93,
   "id": "ec0be94d",
   "metadata": {},
   "outputs": [
    {
     "data": {
      "text/plain": [
       "'\\ni = 56 -> chr(56) = 8\\nresult = \"\" -> result = result + \"8\" -> \"8\"\\n\\ni = 49 -> chr(49) = 1\\nresult = \"8\" -> result = result + \"1\" -> \"81\"\\n.\\n.\\n.\\n'"
      ]
     },
     "execution_count": 93,
     "metadata": {},
     "output_type": "execute_result"
    }
   ],
   "source": [
    "def generate_string(a):\n",
    "    result = \"\"\n",
    "    \n",
    "    for i in a:\n",
    "        result += chr(i)\n",
    "        \n",
    "    return result\n",
    "\n",
    "\n",
    "'''\n",
    "i = 56 -> chr(56) = 8\n",
    "result = \"\" -> result = result + \"8\" -> \"8\"\n",
    "\n",
    "i = 49 -> chr(49) = 1\n",
    "result = \"8\" -> result = result + \"1\" -> \"81\"\n",
    ".\n",
    ".\n",
    ".\n",
    "'''"
   ]
  },
  {
   "cell_type": "code",
   "execution_count": 92,
   "id": "fd895f6a",
   "metadata": {},
   "outputs": [
    {
     "data": {
      "text/plain": [
       "'81dfC'"
      ]
     },
     "execution_count": 92,
     "metadata": {},
     "output_type": "execute_result"
    }
   ],
   "source": [
    "generate_string(input_list)"
   ]
  },
  {
   "cell_type": "code",
   "execution_count": null,
   "id": "b4e8bbb3",
   "metadata": {},
   "outputs": [],
   "source": []
  }
 ],
 "metadata": {
  "kernelspec": {
   "display_name": "Python 3 (ipykernel)",
   "language": "python",
   "name": "python3"
  },
  "language_info": {
   "codemirror_mode": {
    "name": "ipython",
    "version": 3
   },
   "file_extension": ".py",
   "mimetype": "text/x-python",
   "name": "python",
   "nbconvert_exporter": "python",
   "pygments_lexer": "ipython3",
   "version": "3.9.5"
  }
 },
 "nbformat": 4,
 "nbformat_minor": 5
}
