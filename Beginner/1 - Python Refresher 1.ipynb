{
 "cells": [
  {
   "cell_type": "code",
   "execution_count": 1,
   "id": "09daf701",
   "metadata": {},
   "outputs": [],
   "source": [
    "a = 56"
   ]
  },
  {
   "cell_type": "code",
   "execution_count": 2,
   "id": "d95f3723",
   "metadata": {},
   "outputs": [
    {
     "data": {
      "text/plain": [
       "int"
      ]
     },
     "execution_count": 2,
     "metadata": {},
     "output_type": "execute_result"
    }
   ],
   "source": [
    "type(a)"
   ]
  },
  {
   "cell_type": "code",
   "execution_count": 3,
   "id": "8c04221f",
   "metadata": {},
   "outputs": [
    {
     "data": {
      "text/plain": [
       "True"
      ]
     },
     "execution_count": 3,
     "metadata": {},
     "output_type": "execute_result"
    }
   ],
   "source": [
    "isinstance(a, int)"
   ]
  },
  {
   "cell_type": "code",
   "execution_count": 4,
   "id": "60735f08",
   "metadata": {},
   "outputs": [
    {
     "data": {
      "text/plain": [
       "True"
      ]
     },
     "execution_count": 4,
     "metadata": {},
     "output_type": "execute_result"
    }
   ],
   "source": [
    "isinstance(a, object)"
   ]
  },
  {
   "cell_type": "code",
   "execution_count": 5,
   "id": "52f4bda3",
   "metadata": {},
   "outputs": [
    {
     "data": {
      "text/plain": [
       "True"
      ]
     },
     "execution_count": 5,
     "metadata": {},
     "output_type": "execute_result"
    }
   ],
   "source": [
    "isinstance(True, object)"
   ]
  },
  {
   "cell_type": "code",
   "execution_count": 6,
   "id": "a239fc50",
   "metadata": {},
   "outputs": [
    {
     "data": {
      "text/plain": [
       "True"
      ]
     },
     "execution_count": 6,
     "metadata": {},
     "output_type": "execute_result"
    }
   ],
   "source": [
    "isinstance(print, object)"
   ]
  },
  {
   "cell_type": "code",
   "execution_count": 8,
   "id": "03baf67b",
   "metadata": {},
   "outputs": [
    {
     "data": {
      "text/plain": [
       "-4"
      ]
     },
     "execution_count": 8,
     "metadata": {},
     "output_type": "execute_result"
    }
   ],
   "source": [
    "-10 // (10 % 7)\n",
    "\n",
    "# 10 % 7 -> 3\n",
    "# -10 // 3 -> -3.333333 -> -4"
   ]
  },
  {
   "cell_type": "code",
   "execution_count": 9,
   "id": "3cfe40ec",
   "metadata": {},
   "outputs": [],
   "source": [
    "a = 5"
   ]
  },
  {
   "cell_type": "code",
   "execution_count": 10,
   "id": "5e8cd27d",
   "metadata": {},
   "outputs": [],
   "source": [
    "a = 6"
   ]
  },
  {
   "cell_type": "code",
   "execution_count": 11,
   "id": "fc2cf4ff",
   "metadata": {},
   "outputs": [
    {
     "data": {
      "text/plain": [
       "6"
      ]
     },
     "execution_count": 11,
     "metadata": {},
     "output_type": "execute_result"
    }
   ],
   "source": [
    "a"
   ]
  },
  {
   "cell_type": "code",
   "execution_count": 12,
   "id": "436a6792",
   "metadata": {},
   "outputs": [],
   "source": [
    "a = 10"
   ]
  },
  {
   "cell_type": "code",
   "execution_count": 13,
   "id": "e9a62667",
   "metadata": {},
   "outputs": [
    {
     "data": {
      "text/plain": [
       "140396843821648"
      ]
     },
     "execution_count": 13,
     "metadata": {},
     "output_type": "execute_result"
    }
   ],
   "source": [
    "id(a)"
   ]
  },
  {
   "cell_type": "code",
   "execution_count": 14,
   "id": "e732917e",
   "metadata": {},
   "outputs": [],
   "source": [
    "a = 20"
   ]
  },
  {
   "cell_type": "code",
   "execution_count": 15,
   "id": "e981d88f",
   "metadata": {},
   "outputs": [
    {
     "data": {
      "text/plain": [
       "140396843821968"
      ]
     },
     "execution_count": 15,
     "metadata": {},
     "output_type": "execute_result"
    }
   ],
   "source": [
    "id(a)"
   ]
  },
  {
   "cell_type": "code",
   "execution_count": 16,
   "id": "f028f4ac",
   "metadata": {},
   "outputs": [],
   "source": [
    "a = 50"
   ]
  },
  {
   "cell_type": "code",
   "execution_count": 17,
   "id": "457d9203",
   "metadata": {},
   "outputs": [
    {
     "data": {
      "text/plain": [
       "140396843822928"
      ]
     },
     "execution_count": 17,
     "metadata": {},
     "output_type": "execute_result"
    }
   ],
   "source": [
    "id(a)"
   ]
  },
  {
   "cell_type": "code",
   "execution_count": 18,
   "id": "6c6d113e",
   "metadata": {},
   "outputs": [],
   "source": [
    "b = 50"
   ]
  },
  {
   "cell_type": "code",
   "execution_count": 20,
   "id": "aa14201a",
   "metadata": {},
   "outputs": [
    {
     "data": {
      "text/plain": [
       "140396843822928"
      ]
     },
     "execution_count": 20,
     "metadata": {},
     "output_type": "execute_result"
    }
   ],
   "source": [
    "id(b)"
   ]
  },
  {
   "cell_type": "code",
   "execution_count": 21,
   "id": "17b5d762",
   "metadata": {},
   "outputs": [],
   "source": [
    "b = 100"
   ]
  },
  {
   "cell_type": "code",
   "execution_count": 22,
   "id": "30a427bb",
   "metadata": {},
   "outputs": [
    {
     "data": {
      "text/plain": [
       "140396844013008"
      ]
     },
     "execution_count": 22,
     "metadata": {},
     "output_type": "execute_result"
    }
   ],
   "source": [
    "id(b)"
   ]
  },
  {
   "cell_type": "code",
   "execution_count": 23,
   "id": "702adedb",
   "metadata": {},
   "outputs": [
    {
     "data": {
      "text/plain": [
       "50"
      ]
     },
     "execution_count": 23,
     "metadata": {},
     "output_type": "execute_result"
    }
   ],
   "source": [
    "a"
   ]
  },
  {
   "cell_type": "code",
   "execution_count": 24,
   "id": "f504ffb8",
   "metadata": {},
   "outputs": [],
   "source": [
    "a = \"random\""
   ]
  },
  {
   "cell_type": "code",
   "execution_count": 25,
   "id": "c5569cfc",
   "metadata": {},
   "outputs": [],
   "source": [
    "b = \"random\""
   ]
  },
  {
   "cell_type": "code",
   "execution_count": 26,
   "id": "1ee41bc7",
   "metadata": {},
   "outputs": [
    {
     "data": {
      "text/plain": [
       "True"
      ]
     },
     "execution_count": 26,
     "metadata": {},
     "output_type": "execute_result"
    }
   ],
   "source": [
    "id(a) == id(b)"
   ]
  },
  {
   "cell_type": "code",
   "execution_count": 27,
   "id": "95fdc94a",
   "metadata": {},
   "outputs": [
    {
     "data": {
      "text/plain": [
       "'\\nQuestion 1 - \\nWrite a simple program which takes a number as input from the user.\\n\\nPrint \"Foo\" if number is a multiple of 3\\nPrint \"Bar\" if number is a multiple of 5\\nPrint \"FooBar\" if number is a multiple of 15\\n'"
      ]
     },
     "execution_count": 27,
     "metadata": {},
     "output_type": "execute_result"
    }
   ],
   "source": [
    "'''\n",
    "Question 1 - \n",
    "Write a simple program which takes a number as input from the user.\n",
    "\n",
    "Print \"Foo\" if number is a multiple of 3\n",
    "Print \"Bar\" if number is a multiple of 5\n",
    "Print \"FooBar\" if number is a multiple of 15\n",
    "'''"
   ]
  },
  {
   "cell_type": "code",
   "execution_count": 31,
   "id": "59d5c95c",
   "metadata": {},
   "outputs": [
    {
     "name": "stdout",
     "output_type": "stream",
     "text": [
      "22\n"
     ]
    }
   ],
   "source": [
    "number = int(input())\n",
    "\n",
    "if number % 15 == 0:\n",
    "    print(\"FooBar\")\n",
    "elif number % 3 == 0:\n",
    "    print(\"Foo\")\n",
    "elif number % 5 == 0:\n",
    "    print(\"Bar\")"
   ]
  },
  {
   "cell_type": "code",
   "execution_count": 32,
   "id": "87ba5430",
   "metadata": {},
   "outputs": [
    {
     "name": "stdout",
     "output_type": "stream",
     "text": [
      "15\n",
      "Bar\n"
     ]
    }
   ],
   "source": [
    "number = int(input())\n",
    "\n",
    "if number % 5 == 0:\n",
    "    print(\"Bar\")\n",
    "elif number % 3 == 0:\n",
    "    print(\"Foo\")\n",
    "elif number % 15 == 0:\n",
    "    print(\"FooBar\")"
   ]
  },
  {
   "cell_type": "markdown",
   "id": "8a3cbb4c",
   "metadata": {},
   "source": [
    "### Iteration Protocol"
   ]
  },
  {
   "cell_type": "code",
   "execution_count": 33,
   "id": "4e4250af",
   "metadata": {},
   "outputs": [],
   "source": [
    "# iter() and next()"
   ]
  },
  {
   "cell_type": "code",
   "execution_count": 34,
   "id": "829b78dc",
   "metadata": {},
   "outputs": [
    {
     "name": "stdout",
     "output_type": "stream",
     "text": [
      "s\n",
      "t\n",
      "r\n",
      "i\n",
      "n\n",
      "g\n"
     ]
    }
   ],
   "source": [
    "for i in \"string\":\n",
    "    print(i)"
   ]
  },
  {
   "cell_type": "code",
   "execution_count": 35,
   "id": "ab1f25a8",
   "metadata": {},
   "outputs": [
    {
     "name": "stdout",
     "output_type": "stream",
     "text": [
      "1\n",
      "2\n",
      "3\n"
     ]
    }
   ],
   "source": [
    "for i in [1,2,3]:\n",
    "    print(i)"
   ]
  },
  {
   "cell_type": "code",
   "execution_count": 36,
   "id": "0c2153c1",
   "metadata": {},
   "outputs": [
    {
     "ename": "TypeError",
     "evalue": "'int' object is not iterable",
     "output_type": "error",
     "traceback": [
      "\u001b[0;31m---------------------------------------------------------------------------\u001b[0m",
      "\u001b[0;31mTypeError\u001b[0m                                 Traceback (most recent call last)",
      "\u001b[0;32m/var/folders/nn/c52y0d3j0gq59dpsswchkt2r0000gn/T/ipykernel_10414/2311998893.py\u001b[0m in \u001b[0;36m<module>\u001b[0;34m\u001b[0m\n\u001b[0;32m----> 1\u001b[0;31m \u001b[0;32mfor\u001b[0m \u001b[0mi\u001b[0m \u001b[0;32min\u001b[0m \u001b[0;36m45\u001b[0m\u001b[0;34m:\u001b[0m\u001b[0;34m\u001b[0m\u001b[0;34m\u001b[0m\u001b[0m\n\u001b[0m\u001b[1;32m      2\u001b[0m     \u001b[0mprint\u001b[0m\u001b[0;34m(\u001b[0m\u001b[0mi\u001b[0m\u001b[0;34m)\u001b[0m\u001b[0;34m\u001b[0m\u001b[0;34m\u001b[0m\u001b[0m\n",
      "\u001b[0;31mTypeError\u001b[0m: 'int' object is not iterable"
     ]
    }
   ],
   "source": [
    "for i in 45:\n",
    "    print(i)"
   ]
  },
  {
   "cell_type": "code",
   "execution_count": 37,
   "id": "1a9ff926",
   "metadata": {},
   "outputs": [],
   "source": [
    "a = \"python\""
   ]
  },
  {
   "cell_type": "code",
   "execution_count": 38,
   "id": "4f57841e",
   "metadata": {},
   "outputs": [],
   "source": [
    "it = iter(a) # passing an iterable to the iter function will return an iterator"
   ]
  },
  {
   "cell_type": "code",
   "execution_count": 39,
   "id": "93e925d4",
   "metadata": {},
   "outputs": [
    {
     "data": {
      "text/plain": [
       "<str_iterator at 0x7fb0900dcf70>"
      ]
     },
     "execution_count": 39,
     "metadata": {},
     "output_type": "execute_result"
    }
   ],
   "source": [
    "it"
   ]
  },
  {
   "cell_type": "code",
   "execution_count": 40,
   "id": "71ec1dac",
   "metadata": {},
   "outputs": [
    {
     "data": {
      "text/plain": [
       "'p'"
      ]
     },
     "execution_count": 40,
     "metadata": {},
     "output_type": "execute_result"
    }
   ],
   "source": [
    "next(it)"
   ]
  },
  {
   "cell_type": "code",
   "execution_count": 41,
   "id": "f6ff28f4",
   "metadata": {},
   "outputs": [
    {
     "data": {
      "text/plain": [
       "'y'"
      ]
     },
     "execution_count": 41,
     "metadata": {},
     "output_type": "execute_result"
    }
   ],
   "source": [
    "next(it)"
   ]
  },
  {
   "cell_type": "code",
   "execution_count": 42,
   "id": "9c47d319",
   "metadata": {},
   "outputs": [
    {
     "data": {
      "text/plain": [
       "'t'"
      ]
     },
     "execution_count": 42,
     "metadata": {},
     "output_type": "execute_result"
    }
   ],
   "source": [
    "next(it)"
   ]
  },
  {
   "cell_type": "code",
   "execution_count": 43,
   "id": "1991e147",
   "metadata": {},
   "outputs": [
    {
     "data": {
      "text/plain": [
       "'h'"
      ]
     },
     "execution_count": 43,
     "metadata": {},
     "output_type": "execute_result"
    }
   ],
   "source": [
    "next(it)"
   ]
  },
  {
   "cell_type": "code",
   "execution_count": 44,
   "id": "e4fb3361",
   "metadata": {},
   "outputs": [
    {
     "data": {
      "text/plain": [
       "'o'"
      ]
     },
     "execution_count": 44,
     "metadata": {},
     "output_type": "execute_result"
    }
   ],
   "source": [
    "next(it)"
   ]
  },
  {
   "cell_type": "code",
   "execution_count": 45,
   "id": "644422ea",
   "metadata": {},
   "outputs": [
    {
     "data": {
      "text/plain": [
       "'n'"
      ]
     },
     "execution_count": 45,
     "metadata": {},
     "output_type": "execute_result"
    }
   ],
   "source": [
    "next(it)"
   ]
  },
  {
   "cell_type": "code",
   "execution_count": 46,
   "id": "b03961c4",
   "metadata": {},
   "outputs": [
    {
     "ename": "StopIteration",
     "evalue": "",
     "output_type": "error",
     "traceback": [
      "\u001b[0;31m---------------------------------------------------------------------------\u001b[0m",
      "\u001b[0;31mStopIteration\u001b[0m                             Traceback (most recent call last)",
      "\u001b[0;32m/var/folders/nn/c52y0d3j0gq59dpsswchkt2r0000gn/T/ipykernel_10414/600241529.py\u001b[0m in \u001b[0;36m<module>\u001b[0;34m\u001b[0m\n\u001b[0;32m----> 1\u001b[0;31m \u001b[0mnext\u001b[0m\u001b[0;34m(\u001b[0m\u001b[0mit\u001b[0m\u001b[0;34m)\u001b[0m\u001b[0;34m\u001b[0m\u001b[0;34m\u001b[0m\u001b[0m\n\u001b[0m",
      "\u001b[0;31mStopIteration\u001b[0m: "
     ]
    }
   ],
   "source": [
    "next(it)"
   ]
  },
  {
   "cell_type": "code",
   "execution_count": 47,
   "id": "6d224c19",
   "metadata": {},
   "outputs": [],
   "source": [
    "a = [1,2,3,4,5]"
   ]
  },
  {
   "cell_type": "code",
   "execution_count": 48,
   "id": "2b688b19",
   "metadata": {},
   "outputs": [],
   "source": [
    "it = iter(a)"
   ]
  },
  {
   "cell_type": "code",
   "execution_count": 49,
   "id": "24881de6",
   "metadata": {},
   "outputs": [
    {
     "data": {
      "text/plain": [
       "<list_iterator at 0x7fb0900dc3d0>"
      ]
     },
     "execution_count": 49,
     "metadata": {},
     "output_type": "execute_result"
    }
   ],
   "source": [
    "it"
   ]
  },
  {
   "cell_type": "code",
   "execution_count": 50,
   "id": "df32b567",
   "metadata": {},
   "outputs": [],
   "source": [
    "a = range(5)"
   ]
  },
  {
   "cell_type": "code",
   "execution_count": 51,
   "id": "fc31f546",
   "metadata": {},
   "outputs": [],
   "source": [
    "it = iter(a)"
   ]
  },
  {
   "cell_type": "code",
   "execution_count": 52,
   "id": "feeeec36",
   "metadata": {},
   "outputs": [
    {
     "data": {
      "text/plain": [
       "<range_iterator at 0x7fb0900dcdb0>"
      ]
     },
     "execution_count": 52,
     "metadata": {},
     "output_type": "execute_result"
    }
   ],
   "source": [
    "it"
   ]
  },
  {
   "cell_type": "code",
   "execution_count": 53,
   "id": "04a292d5",
   "metadata": {},
   "outputs": [],
   "source": [
    "board = [[\"\"]*3]*3"
   ]
  },
  {
   "cell_type": "code",
   "execution_count": 55,
   "id": "e909325a",
   "metadata": {},
   "outputs": [
    {
     "data": {
      "text/plain": [
       "[['', '', ''], ['', '', ''], ['', '', '']]"
      ]
     },
     "execution_count": 55,
     "metadata": {},
     "output_type": "execute_result"
    }
   ],
   "source": [
    "board"
   ]
  },
  {
   "cell_type": "code",
   "execution_count": 56,
   "id": "1c65d032",
   "metadata": {},
   "outputs": [],
   "source": [
    "board[0][0] = \"0\""
   ]
  },
  {
   "cell_type": "code",
   "execution_count": 57,
   "id": "7ae89464",
   "metadata": {},
   "outputs": [
    {
     "data": {
      "text/plain": [
       "[['0', '', ''], ['0', '', ''], ['0', '', '']]"
      ]
     },
     "execution_count": 57,
     "metadata": {},
     "output_type": "execute_result"
    }
   ],
   "source": [
    "board"
   ]
  },
  {
   "cell_type": "code",
   "execution_count": 58,
   "id": "9510b074",
   "metadata": {},
   "outputs": [],
   "source": [
    "# HOMEWORK - Explain the above!"
   ]
  },
  {
   "cell_type": "markdown",
   "id": "e538158c",
   "metadata": {},
   "source": [
    "### Comprehension (List Comprehension)"
   ]
  },
  {
   "cell_type": "code",
   "execution_count": 59,
   "id": "078811af",
   "metadata": {},
   "outputs": [],
   "source": [
    "result = []\n",
    "for i in range(1,11):\n",
    "    result.append(i**2)"
   ]
  },
  {
   "cell_type": "code",
   "execution_count": 60,
   "id": "d13b34c8",
   "metadata": {},
   "outputs": [
    {
     "data": {
      "text/plain": [
       "[1, 4, 9, 16, 25, 36, 49, 64, 81, 100]"
      ]
     },
     "execution_count": 60,
     "metadata": {},
     "output_type": "execute_result"
    }
   ],
   "source": [
    "result"
   ]
  },
  {
   "cell_type": "code",
   "execution_count": 61,
   "id": "19cde341",
   "metadata": {},
   "outputs": [],
   "source": [
    "result = [ i**2 for i in range(1, 11) ]"
   ]
  },
  {
   "cell_type": "code",
   "execution_count": 62,
   "id": "9fbaf836",
   "metadata": {},
   "outputs": [
    {
     "data": {
      "text/plain": [
       "[1, 4, 9, 16, 25, 36, 49, 64, 81, 100]"
      ]
     },
     "execution_count": 62,
     "metadata": {},
     "output_type": "execute_result"
    }
   ],
   "source": [
    "result"
   ]
  },
  {
   "cell_type": "code",
   "execution_count": 63,
   "id": "e2bf1cfd",
   "metadata": {},
   "outputs": [
    {
     "data": {
      "text/plain": [
       "['cool', 'cool', 'cool', 'cool', 'cool']"
      ]
     },
     "execution_count": 63,
     "metadata": {},
     "output_type": "execute_result"
    }
   ],
   "source": [
    "[ \"cool\" for i in range(5) ]"
   ]
  },
  {
   "cell_type": "code",
   "execution_count": 64,
   "id": "cbb46c5c",
   "metadata": {},
   "outputs": [
    {
     "data": {
      "text/plain": [
       "'\\nQuestion 2 - \\n\\nPrint the multiplication table till 10 using a single line of python code.\\n\\n1 2 3 4 5 6 7 8 9 10\\n2 4 6 8 10 12 14 16 18 20\\n.\\n.\\n.\\n.\\n.\\n10 20 30 40 50 60 70 80 90 100\\n'"
      ]
     },
     "execution_count": 64,
     "metadata": {},
     "output_type": "execute_result"
    }
   ],
   "source": [
    "'''\n",
    "Question 2 - \n",
    "\n",
    "Print the multiplication table till 10 using a single line of python code.\n",
    "\n",
    "1 2 3 4 5 6 7 8 9 10\n",
    "2 4 6 8 10 12 14 16 18 20\n",
    ".\n",
    ".\n",
    ".\n",
    ".\n",
    ".\n",
    "10 20 30 40 50 60 70 80 90 100\n",
    "'''"
   ]
  },
  {
   "cell_type": "code",
   "execution_count": 66,
   "id": "03982778",
   "metadata": {},
   "outputs": [
    {
     "data": {
      "text/plain": [
       "[[1, 2, 3, 4, 5, 6, 7, 8, 9, 10],\n",
       " [2, 4, 6, 8, 10, 12, 14, 16, 18, 20],\n",
       " [3, 6, 9, 12, 15, 18, 21, 24, 27, 30],\n",
       " [4, 8, 12, 16, 20, 24, 28, 32, 36, 40],\n",
       " [5, 10, 15, 20, 25, 30, 35, 40, 45, 50],\n",
       " [6, 12, 18, 24, 30, 36, 42, 48, 54, 60],\n",
       " [7, 14, 21, 28, 35, 42, 49, 56, 63, 70],\n",
       " [8, 16, 24, 32, 40, 48, 56, 64, 72, 80],\n",
       " [9, 18, 27, 36, 45, 54, 63, 72, 81, 90],\n",
       " [10, 20, 30, 40, 50, 60, 70, 80, 90, 100]]"
      ]
     },
     "execution_count": 66,
     "metadata": {},
     "output_type": "execute_result"
    }
   ],
   "source": [
    "[ [ i*j for j in range(1,11) ] for i in range(1,11) ]"
   ]
  },
  {
   "cell_type": "code",
   "execution_count": 67,
   "id": "6b50c1ae",
   "metadata": {},
   "outputs": [],
   "source": [
    "result = []\n",
    "for i in range(1,11):\n",
    "    row = []\n",
    "    for j in range(1,11):\n",
    "        row.append(i*j)\n",
    "        \n",
    "    result.append(row)"
   ]
  },
  {
   "cell_type": "code",
   "execution_count": 68,
   "id": "2425b472",
   "metadata": {},
   "outputs": [
    {
     "data": {
      "text/plain": [
       "[[1, 2, 3, 4, 5, 6, 7, 8, 9, 10],\n",
       " [2, 4, 6, 8, 10, 12, 14, 16, 18, 20],\n",
       " [3, 6, 9, 12, 15, 18, 21, 24, 27, 30],\n",
       " [4, 8, 12, 16, 20, 24, 28, 32, 36, 40],\n",
       " [5, 10, 15, 20, 25, 30, 35, 40, 45, 50],\n",
       " [6, 12, 18, 24, 30, 36, 42, 48, 54, 60],\n",
       " [7, 14, 21, 28, 35, 42, 49, 56, 63, 70],\n",
       " [8, 16, 24, 32, 40, 48, 56, 64, 72, 80],\n",
       " [9, 18, 27, 36, 45, 54, 63, 72, 81, 90],\n",
       " [10, 20, 30, 40, 50, 60, 70, 80, 90, 100]]"
      ]
     },
     "execution_count": 68,
     "metadata": {},
     "output_type": "execute_result"
    }
   ],
   "source": [
    "result"
   ]
  },
  {
   "cell_type": "code",
   "execution_count": 69,
   "id": "b1e9c4e9",
   "metadata": {},
   "outputs": [],
   "source": [
    "t1 = ( i for i in range(1,11) )"
   ]
  },
  {
   "cell_type": "code",
   "execution_count": 72,
   "id": "f6547ba9",
   "metadata": {},
   "outputs": [
    {
     "data": {
      "text/plain": [
       "(1, 2, 3, 4, 5, 6, 7, 8, 9, 10)"
      ]
     },
     "execution_count": 72,
     "metadata": {},
     "output_type": "execute_result"
    }
   ],
   "source": [
    "tuple(t1) # generator object"
   ]
  },
  {
   "cell_type": "code",
   "execution_count": 73,
   "id": "094c3073",
   "metadata": {},
   "outputs": [],
   "source": [
    "s1 = { i for i in range(1,11) }"
   ]
  },
  {
   "cell_type": "code",
   "execution_count": 74,
   "id": "a571b705",
   "metadata": {},
   "outputs": [
    {
     "data": {
      "text/plain": [
       "{1, 2, 3, 4, 5, 6, 7, 8, 9, 10}"
      ]
     },
     "execution_count": 74,
     "metadata": {},
     "output_type": "execute_result"
    }
   ],
   "source": [
    "s1"
   ]
  },
  {
   "cell_type": "code",
   "execution_count": 77,
   "id": "2a33e9b3",
   "metadata": {},
   "outputs": [],
   "source": [
    "d1 = { f\"value - {i}\": i**2 for i in range(1,11) }"
   ]
  },
  {
   "cell_type": "code",
   "execution_count": 78,
   "id": "d5544aa7",
   "metadata": {},
   "outputs": [
    {
     "data": {
      "text/plain": [
       "{'value - 1': 1,\n",
       " 'value - 2': 4,\n",
       " 'value - 3': 9,\n",
       " 'value - 4': 16,\n",
       " 'value - 5': 25,\n",
       " 'value - 6': 36,\n",
       " 'value - 7': 49,\n",
       " 'value - 8': 64,\n",
       " 'value - 9': 81,\n",
       " 'value - 10': 100}"
      ]
     },
     "execution_count": 78,
     "metadata": {},
     "output_type": "execute_result"
    }
   ],
   "source": [
    "d1"
   ]
  },
  {
   "cell_type": "code",
   "execution_count": 79,
   "id": "8363d619",
   "metadata": {},
   "outputs": [],
   "source": [
    "s1 = \" i**2 for i in range(1,11) \""
   ]
  },
  {
   "cell_type": "code",
   "execution_count": 80,
   "id": "b43b0cfe",
   "metadata": {},
   "outputs": [
    {
     "data": {
      "text/plain": [
       "' i**2 for i in range(1,11) '"
      ]
     },
     "execution_count": 80,
     "metadata": {},
     "output_type": "execute_result"
    }
   ],
   "source": [
    "s1"
   ]
  },
  {
   "cell_type": "code",
   "execution_count": 81,
   "id": "ac230d55",
   "metadata": {},
   "outputs": [],
   "source": [
    "s1 = \"i**2\""
   ]
  },
  {
   "cell_type": "code",
   "execution_count": 85,
   "id": "845ef0f5",
   "metadata": {},
   "outputs": [
    {
     "data": {
      "text/plain": [
       "10"
      ]
     },
     "execution_count": 85,
     "metadata": {},
     "output_type": "execute_result"
    }
   ],
   "source": [
    "i"
   ]
  },
  {
   "cell_type": "code",
   "execution_count": 82,
   "id": "79fc1b23",
   "metadata": {},
   "outputs": [
    {
     "data": {
      "text/plain": [
       "'i**2'"
      ]
     },
     "execution_count": 82,
     "metadata": {},
     "output_type": "execute_result"
    }
   ],
   "source": [
    "s1"
   ]
  },
  {
   "cell_type": "code",
   "execution_count": 83,
   "id": "c7428378",
   "metadata": {},
   "outputs": [],
   "source": [
    "s1 = f\"{i**2}\""
   ]
  },
  {
   "cell_type": "code",
   "execution_count": 84,
   "id": "367bbf9c",
   "metadata": {},
   "outputs": [
    {
     "data": {
      "text/plain": [
       "'100'"
      ]
     },
     "execution_count": 84,
     "metadata": {},
     "output_type": "execute_result"
    }
   ],
   "source": [
    "s1"
   ]
  },
  {
   "cell_type": "code",
   "execution_count": 86,
   "id": "e4e72723",
   "metadata": {},
   "outputs": [
    {
     "data": {
      "text/plain": [
       "[[1, 2, 3, 4, 5, 6, 7, 8, 9, 10],\n",
       " [2, 4, 6, 8, 10, 12, 14, 16, 18, 20],\n",
       " [3, 6, 9, 12, 15, 18, 21, 24, 27, 30],\n",
       " [4, 8, 12, 16, 20, 24, 28, 32, 36, 40],\n",
       " [5, 10, 15, 20, 25, 30, 35, 40, 45, 50],\n",
       " [6, 12, 18, 24, 30, 36, 42, 48, 54, 60],\n",
       " [7, 14, 21, 28, 35, 42, 49, 56, 63, 70],\n",
       " [8, 16, 24, 32, 40, 48, 56, 64, 72, 80],\n",
       " [9, 18, 27, 36, 45, 54, 63, 72, 81, 90],\n",
       " [10, 20, 30, 40, 50, 60, 70, 80, 90, 100]]"
      ]
     },
     "execution_count": 86,
     "metadata": {},
     "output_type": "execute_result"
    }
   ],
   "source": [
    "[ [ i*j for j in range(1,11) ] for i in range(1,11) ]"
   ]
  },
  {
   "cell_type": "code",
   "execution_count": null,
   "id": "5f956bb2",
   "metadata": {},
   "outputs": [],
   "source": []
  }
 ],
 "metadata": {
  "kernelspec": {
   "display_name": "Python 3 (ipykernel)",
   "language": "python",
   "name": "python3"
  },
  "language_info": {
   "codemirror_mode": {
    "name": "ipython",
    "version": 3
   },
   "file_extension": ".py",
   "mimetype": "text/x-python",
   "name": "python",
   "nbconvert_exporter": "python",
   "pygments_lexer": "ipython3",
   "version": "3.9.5"
  }
 },
 "nbformat": 4,
 "nbformat_minor": 5
}
