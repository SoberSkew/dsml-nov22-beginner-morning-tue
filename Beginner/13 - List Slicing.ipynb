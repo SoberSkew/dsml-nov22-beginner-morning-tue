{
 "cells": [
  {
   "cell_type": "code",
   "execution_count": 1,
   "id": "31b54df5",
   "metadata": {},
   "outputs": [],
   "source": [
    "runs = [62, 85, 71, 10, 12, 101, 122, 99, 81, 55]"
   ]
  },
  {
   "cell_type": "code",
   "execution_count": 2,
   "id": "49bcd13a",
   "metadata": {},
   "outputs": [
    {
     "data": {
      "text/plain": [
       "'\\nQuestion 1 - \\nGiven a list of all runs, print runs made in odd numbered matches.\\n'"
      ]
     },
     "execution_count": 2,
     "metadata": {},
     "output_type": "execute_result"
    }
   ],
   "source": [
    "'''\n",
    "Question 1 - \n",
    "Given a list of all runs, print runs made in odd numbered matches.\n",
    "'''"
   ]
  },
  {
   "cell_type": "code",
   "execution_count": 6,
   "id": "7dbb2bfa",
   "metadata": {},
   "outputs": [
    {
     "name": "stdout",
     "output_type": "stream",
     "text": [
      "62 71 12 122 81 count - 10\n"
     ]
    }
   ],
   "source": [
    "# Solution 1\n",
    "\n",
    "count = 0\n",
    "\n",
    "for i in range(len(runs)):\n",
    "    count += 1\n",
    "    \n",
    "    if i % 2 == 0:\n",
    "        print(runs[i], end = \" \")\n",
    "        \n",
    "print(\"count -\", count)"
   ]
  },
  {
   "cell_type": "code",
   "execution_count": 7,
   "id": "1fbb379d",
   "metadata": {},
   "outputs": [
    {
     "name": "stdout",
     "output_type": "stream",
     "text": [
      "62 71 12 122 81 count - 5\n"
     ]
    }
   ],
   "source": [
    "# Solution 2\n",
    "\n",
    "count = 0\n",
    "\n",
    "for i in range(0, len(runs), 2):\n",
    "    count += 1\n",
    "    \n",
    "    print(runs[i], end = \" \")\n",
    "    \n",
    "print(\"count -\", count)"
   ]
  },
  {
   "cell_type": "code",
   "execution_count": 8,
   "id": "7e0441e4",
   "metadata": {},
   "outputs": [
    {
     "data": {
      "text/plain": [
       "'\\nQuestion 2 - \\nGiven a list of all runs, make a new list of runs made in odd numbered matches.\\n'"
      ]
     },
     "execution_count": 8,
     "metadata": {},
     "output_type": "execute_result"
    }
   ],
   "source": [
    "'''\n",
    "Question 2 - \n",
    "Given a list of all runs, make a new list of runs made in odd numbered matches.\n",
    "'''"
   ]
  },
  {
   "cell_type": "code",
   "execution_count": 9,
   "id": "3621a9ae",
   "metadata": {},
   "outputs": [],
   "source": [
    "result = []\n",
    "\n",
    "for i in range(0, len(runs), 2):\n",
    "    result.append(runs[i])"
   ]
  },
  {
   "cell_type": "code",
   "execution_count": 10,
   "id": "69b3fcae",
   "metadata": {},
   "outputs": [
    {
     "data": {
      "text/plain": [
       "[62, 71, 12, 122, 81]"
      ]
     },
     "execution_count": 10,
     "metadata": {},
     "output_type": "execute_result"
    }
   ],
   "source": [
    "result"
   ]
  },
  {
   "cell_type": "code",
   "execution_count": 11,
   "id": "653aba0f",
   "metadata": {},
   "outputs": [
    {
     "data": {
      "text/plain": [
       "'\\nQuestion 3 - \\nCreate a list of runs made in the last 5 matches.\\n'"
      ]
     },
     "execution_count": 11,
     "metadata": {},
     "output_type": "execute_result"
    }
   ],
   "source": [
    "'''\n",
    "Question 3 - \n",
    "Create a list of runs made in the last 5 matches.\n",
    "'''"
   ]
  },
  {
   "cell_type": "code",
   "execution_count": 15,
   "id": "436dc731",
   "metadata": {},
   "outputs": [
    {
     "data": {
      "text/plain": [
       "101"
      ]
     },
     "execution_count": 15,
     "metadata": {},
     "output_type": "execute_result"
    }
   ],
   "source": [
    "# [62, 85, 71, 10, 12, 101, 122, 99, 81, 55]\n",
    "runs[len(runs) - 5]"
   ]
  },
  {
   "cell_type": "code",
   "execution_count": 16,
   "id": "151c1e25",
   "metadata": {},
   "outputs": [],
   "source": [
    "result = []\n",
    "for i in range(len(runs) - 5, len(runs)):\n",
    "    result.append(runs[i])"
   ]
  },
  {
   "cell_type": "code",
   "execution_count": 17,
   "id": "a1e14dcd",
   "metadata": {},
   "outputs": [
    {
     "data": {
      "text/plain": [
       "[101, 122, 99, 81, 55]"
      ]
     },
     "execution_count": 17,
     "metadata": {},
     "output_type": "execute_result"
    }
   ],
   "source": [
    "result"
   ]
  },
  {
   "cell_type": "code",
   "execution_count": 20,
   "id": "343f3ade",
   "metadata": {},
   "outputs": [],
   "source": [
    "result = []\n",
    "for i in range(-1, -6, -1): # [start, end)\n",
    "    result.append(runs[i])"
   ]
  },
  {
   "cell_type": "code",
   "execution_count": 21,
   "id": "da7c6da0",
   "metadata": {},
   "outputs": [
    {
     "data": {
      "text/plain": [
       "[55, 81, 99, 122, 101]"
      ]
     },
     "execution_count": 21,
     "metadata": {},
     "output_type": "execute_result"
    }
   ],
   "source": [
    "result"
   ]
  },
  {
   "cell_type": "code",
   "execution_count": 28,
   "id": "18f41eec",
   "metadata": {},
   "outputs": [],
   "source": [
    "result = []\n",
    "for i in range(-5, 0):\n",
    "    result.append(runs[i])"
   ]
  },
  {
   "cell_type": "code",
   "execution_count": 29,
   "id": "7fafe44d",
   "metadata": {},
   "outputs": [
    {
     "data": {
      "text/plain": [
       "[101, 122, 99, 81, 55]"
      ]
     },
     "execution_count": 29,
     "metadata": {},
     "output_type": "execute_result"
    }
   ],
   "source": [
    "result"
   ]
  },
  {
   "cell_type": "code",
   "execution_count": 30,
   "id": "3aa60765",
   "metadata": {},
   "outputs": [
    {
     "data": {
      "text/plain": [
       "'\\nQuestion 4 - \\nCreate a list of runs made in the first 3 matches.\\n'"
      ]
     },
     "execution_count": 30,
     "metadata": {},
     "output_type": "execute_result"
    }
   ],
   "source": [
    "'''\n",
    "Question 4 - \n",
    "Create a list of runs made in the first 3 matches.\n",
    "'''"
   ]
  },
  {
   "cell_type": "code",
   "execution_count": 32,
   "id": "23335160",
   "metadata": {},
   "outputs": [
    {
     "name": "stdout",
     "output_type": "stream",
     "text": [
      "[62, 85, 71]\n"
     ]
    }
   ],
   "source": [
    "result = []\n",
    "\n",
    "for i in range(3):\n",
    "    result.append(runs[i])\n",
    "    \n",
    "print(result)"
   ]
  },
  {
   "cell_type": "code",
   "execution_count": 33,
   "id": "180fb8b4",
   "metadata": {},
   "outputs": [
    {
     "data": {
      "text/plain": [
       "'\\nQuestion 5 - \\nCreate a list of runs made from the 3rd match to the 7th match. \\nBoth included.\\n'"
      ]
     },
     "execution_count": 33,
     "metadata": {},
     "output_type": "execute_result"
    }
   ],
   "source": [
    "'''\n",
    "Question 5 - \n",
    "Create a list of runs made from the 3rd match to the 7th match. \n",
    "Both included.\n",
    "'''"
   ]
  },
  {
   "cell_type": "code",
   "execution_count": 34,
   "id": "9290563c",
   "metadata": {},
   "outputs": [
    {
     "name": "stdout",
     "output_type": "stream",
     "text": [
      "[71, 10, 12, 101, 122]\n"
     ]
    }
   ],
   "source": [
    "result = []\n",
    "\n",
    "for i in range(2, 7):\n",
    "    result.append(runs[i])\n",
    "    \n",
    "print(result)"
   ]
  },
  {
   "cell_type": "code",
   "execution_count": 35,
   "id": "4e1f0a8c",
   "metadata": {},
   "outputs": [
    {
     "data": {
      "text/plain": [
       "[62, 85, 71]"
      ]
     },
     "execution_count": 35,
     "metadata": {},
     "output_type": "execute_result"
    }
   ],
   "source": [
    "runs[0:3]"
   ]
  },
  {
   "cell_type": "code",
   "execution_count": 36,
   "id": "ce600225",
   "metadata": {},
   "outputs": [
    {
     "data": {
      "text/plain": [
       "[71, 10, 12, 101, 122]"
      ]
     },
     "execution_count": 36,
     "metadata": {},
     "output_type": "execute_result"
    }
   ],
   "source": [
    "runs[2:7]"
   ]
  },
  {
   "cell_type": "code",
   "execution_count": 39,
   "id": "fc35de69",
   "metadata": {},
   "outputs": [
    {
     "data": {
      "text/plain": [
       "[101, 122, 99, 81]"
      ]
     },
     "execution_count": 39,
     "metadata": {},
     "output_type": "execute_result"
    }
   ],
   "source": [
    "runs[-5:-1] # negative numbers - Let's explore further"
   ]
  },
  {
   "cell_type": "code",
   "execution_count": 40,
   "id": "8d3caccd",
   "metadata": {},
   "outputs": [],
   "source": [
    "runs = [62, 85, 71, 10, 12, 101, 122, 99, 81, 55]"
   ]
  },
  {
   "cell_type": "code",
   "execution_count": 42,
   "id": "6007c308",
   "metadata": {},
   "outputs": [
    {
     "data": {
      "text/plain": [
       "[62, 85, 71]"
      ]
     },
     "execution_count": 42,
     "metadata": {},
     "output_type": "execute_result"
    }
   ],
   "source": [
    "runs[:3] # default value for start is 0"
   ]
  },
  {
   "cell_type": "code",
   "execution_count": 43,
   "id": "35594d99",
   "metadata": {},
   "outputs": [
    {
     "data": {
      "text/plain": [
       "[101, 122, 99, 81, 55]"
      ]
     },
     "execution_count": 43,
     "metadata": {},
     "output_type": "execute_result"
    }
   ],
   "source": [
    "runs[5:] # default value for end is len(a) -> till the end of list"
   ]
  },
  {
   "cell_type": "code",
   "execution_count": 45,
   "id": "5ca3abf6",
   "metadata": {},
   "outputs": [
    {
     "data": {
      "text/plain": [
       "[62, 85, 71, 10, 12, 101, 122, 99, 81, 55]"
      ]
     },
     "execution_count": 45,
     "metadata": {},
     "output_type": "execute_result"
    }
   ],
   "source": [
    "runs[:] # Prints the entire list"
   ]
  },
  {
   "cell_type": "code",
   "execution_count": 46,
   "id": "ad91bf33",
   "metadata": {},
   "outputs": [
    {
     "data": {
      "text/plain": [
       "[]"
      ]
     },
     "execution_count": 46,
     "metadata": {},
     "output_type": "execute_result"
    }
   ],
   "source": [
    "runs[200:300]"
   ]
  },
  {
   "cell_type": "code",
   "execution_count": 47,
   "id": "6d4b3e2c",
   "metadata": {},
   "outputs": [
    {
     "data": {
      "text/plain": [
       "[71, 10, 12, 101, 122, 99, 81, 55]"
      ]
     },
     "execution_count": 47,
     "metadata": {},
     "output_type": "execute_result"
    }
   ],
   "source": [
    "runs[2:400]"
   ]
  },
  {
   "cell_type": "code",
   "execution_count": 48,
   "id": "8bbd0361",
   "metadata": {},
   "outputs": [
    {
     "ename": "IndexError",
     "evalue": "list index out of range",
     "output_type": "error",
     "traceback": [
      "\u001b[0;31m---------------------------------------------------------------------------\u001b[0m",
      "\u001b[0;31mIndexError\u001b[0m                                Traceback (most recent call last)",
      "\u001b[0;32m/var/folders/nn/c52y0d3j0gq59dpsswchkt2r0000gn/T/ipykernel_85157/2632780221.py\u001b[0m in \u001b[0;36m<module>\u001b[0;34m\u001b[0m\n\u001b[0;32m----> 1\u001b[0;31m \u001b[0mruns\u001b[0m\u001b[0;34m[\u001b[0m\u001b[0;36m400\u001b[0m\u001b[0;34m]\u001b[0m\u001b[0;34m\u001b[0m\u001b[0;34m\u001b[0m\u001b[0m\n\u001b[0m",
      "\u001b[0;31mIndexError\u001b[0m: list index out of range"
     ]
    }
   ],
   "source": [
    "runs[400]"
   ]
  },
  {
   "cell_type": "code",
   "execution_count": 49,
   "id": "20aec53f",
   "metadata": {},
   "outputs": [
    {
     "data": {
      "text/plain": [
       "[62, 71, 12, 122, 81]"
      ]
     },
     "execution_count": 49,
     "metadata": {},
     "output_type": "execute_result"
    }
   ],
   "source": [
    "runs[0:len(runs):2]"
   ]
  },
  {
   "cell_type": "code",
   "execution_count": 51,
   "id": "d25563fd",
   "metadata": {},
   "outputs": [
    {
     "data": {
      "text/plain": [
       "[62, 71, 12, 122, 81]"
      ]
     },
     "execution_count": 51,
     "metadata": {},
     "output_type": "execute_result"
    }
   ],
   "source": [
    "runs[:len(runs):2]"
   ]
  },
  {
   "cell_type": "code",
   "execution_count": 52,
   "id": "aa798fcf",
   "metadata": {},
   "outputs": [
    {
     "data": {
      "text/plain": [
       "[62, 71, 12, 122, 81]"
      ]
     },
     "execution_count": 52,
     "metadata": {},
     "output_type": "execute_result"
    }
   ],
   "source": [
    "runs[::2]"
   ]
  },
  {
   "cell_type": "code",
   "execution_count": 53,
   "id": "1d3dc25a",
   "metadata": {},
   "outputs": [
    {
     "data": {
      "text/plain": [
       "[85, 10, 101, 99, 55]"
      ]
     },
     "execution_count": 53,
     "metadata": {},
     "output_type": "execute_result"
    }
   ],
   "source": [
    "runs[1::2]"
   ]
  },
  {
   "cell_type": "code",
   "execution_count": 54,
   "id": "d2d7079c",
   "metadata": {},
   "outputs": [
    {
     "data": {
      "text/plain": [
       "[]"
      ]
     },
     "execution_count": 54,
     "metadata": {},
     "output_type": "execute_result"
    }
   ],
   "source": [
    "runs[5:0]"
   ]
  },
  {
   "cell_type": "code",
   "execution_count": 57,
   "id": "d70b7d7d",
   "metadata": {},
   "outputs": [
    {
     "data": {
      "text/plain": [
       "[101, 12, 10, 71, 85]"
      ]
     },
     "execution_count": 57,
     "metadata": {},
     "output_type": "execute_result"
    }
   ],
   "source": [
    "runs[5:0:-1] # Negative Step Size"
   ]
  },
  {
   "cell_type": "markdown",
   "id": "0cf539f7",
   "metadata": {},
   "source": [
    "## Default Values in List Slicing\n",
    "\n",
    "### Jump / Step Size is positive ->\n",
    "- start = 0\n",
    "- end = end of list\n",
    "\n",
    "### Jump / Step Size is negative ->\n",
    "- start = len(list) - 1\n",
    "- end = start of list (first element included)"
   ]
  },
  {
   "cell_type": "code",
   "execution_count": 58,
   "id": "b981ed43",
   "metadata": {},
   "outputs": [
    {
     "data": {
      "text/plain": [
       "[62, 85, 71, 10, 12, 101, 122, 99, 81, 55]"
      ]
     },
     "execution_count": 58,
     "metadata": {},
     "output_type": "execute_result"
    }
   ],
   "source": [
    "runs[::1]"
   ]
  },
  {
   "cell_type": "code",
   "execution_count": 60,
   "id": "4a6772b4",
   "metadata": {},
   "outputs": [
    {
     "data": {
      "text/plain": [
       "[55, 81, 99, 122, 101, 12, 10, 71, 85, 62]"
      ]
     },
     "execution_count": 60,
     "metadata": {},
     "output_type": "execute_result"
    }
   ],
   "source": [
    "runs[::-1] # shortest code to reverse a list"
   ]
  },
  {
   "cell_type": "code",
   "execution_count": 61,
   "id": "ba6d1778",
   "metadata": {},
   "outputs": [
    {
     "data": {
      "text/plain": [
       "'\\nQuestion 6 - \\na = [10,20,30,40,50,60,70,80,90,100]\\n\\n1. a[3:5]\\n2. a[:8]\\n3. a[:]\\n4. a[7:]\\n5. a[-2:-5:-1]\\n6. a[-2:-7]\\n7. a[:-5]\\n8. a[-2:]\\n9. a[-8:5]\\n10. a[-8:5:-1]\\n'"
      ]
     },
     "execution_count": 61,
     "metadata": {},
     "output_type": "execute_result"
    }
   ],
   "source": [
    "'''\n",
    "Question 6 - \n",
    "a = [10,20,30,40,50,60,70,80,90,100]\n",
    "\n",
    "1. a[3:5]\n",
    "2. a[:8]\n",
    "3. a[:]\n",
    "4. a[7:]\n",
    "5. a[-2:-5:-1]\n",
    "6. a[-2:-7]\n",
    "7. a[:-5]\n",
    "8. a[-2:]\n",
    "9. a[-8:5]\n",
    "10. a[-8:5:-1]\n",
    "'''"
   ]
  },
  {
   "cell_type": "code",
   "execution_count": 63,
   "id": "3ea8b2f2",
   "metadata": {},
   "outputs": [],
   "source": [
    "a = [10,20,30,40,50,60,70,80,90,100]"
   ]
  },
  {
   "cell_type": "code",
   "execution_count": 64,
   "id": "04fa8d96",
   "metadata": {},
   "outputs": [
    {
     "data": {
      "text/plain": [
       "[40, 50]"
      ]
     },
     "execution_count": 64,
     "metadata": {},
     "output_type": "execute_result"
    }
   ],
   "source": [
    "# [10,20,30,40,50,60,70,80,90,100]\n",
    "a[3:5]"
   ]
  },
  {
   "cell_type": "code",
   "execution_count": 65,
   "id": "29d5c971",
   "metadata": {},
   "outputs": [
    {
     "data": {
      "text/plain": [
       "[10, 20, 30, 40, 50, 60, 70, 80]"
      ]
     },
     "execution_count": 65,
     "metadata": {},
     "output_type": "execute_result"
    }
   ],
   "source": [
    "# [10,20,30,40,50,60,70,80,90,100]\n",
    "a[:8]"
   ]
  },
  {
   "cell_type": "code",
   "execution_count": 66,
   "id": "3cbf0751",
   "metadata": {},
   "outputs": [
    {
     "data": {
      "text/plain": [
       "[10, 20, 30, 40, 50, 60, 70, 80, 90, 100]"
      ]
     },
     "execution_count": 66,
     "metadata": {},
     "output_type": "execute_result"
    }
   ],
   "source": [
    "# [10,20,30,40,50,60,70,80,90,100]\n",
    "a[:]"
   ]
  },
  {
   "cell_type": "code",
   "execution_count": 67,
   "id": "01657c46",
   "metadata": {},
   "outputs": [
    {
     "data": {
      "text/plain": [
       "[80, 90, 100]"
      ]
     },
     "execution_count": 67,
     "metadata": {},
     "output_type": "execute_result"
    }
   ],
   "source": [
    "# [10,20,30,40,50,60,70,80,90,100]\n",
    "a[7:]"
   ]
  },
  {
   "cell_type": "code",
   "execution_count": 68,
   "id": "c852a968",
   "metadata": {},
   "outputs": [
    {
     "data": {
      "text/plain": [
       "[90, 80, 70]"
      ]
     },
     "execution_count": 68,
     "metadata": {},
     "output_type": "execute_result"
    }
   ],
   "source": [
    "# [10,20,30,40,50,60,70,80,90,100]\n",
    "a[-2:-5:-1]"
   ]
  },
  {
   "cell_type": "code",
   "execution_count": 69,
   "id": "b2bb5120",
   "metadata": {},
   "outputs": [
    {
     "data": {
      "text/plain": [
       "[]"
      ]
     },
     "execution_count": 69,
     "metadata": {},
     "output_type": "execute_result"
    }
   ],
   "source": [
    "# [10,20,30,40,50,60,70,80,90,100]\n",
    "a[-2:-7]"
   ]
  },
  {
   "cell_type": "code",
   "execution_count": 70,
   "id": "fb8cbe07",
   "metadata": {},
   "outputs": [
    {
     "data": {
      "text/plain": [
       "[10, 20, 30, 40, 50]"
      ]
     },
     "execution_count": 70,
     "metadata": {},
     "output_type": "execute_result"
    }
   ],
   "source": [
    "# [10,20,30,40,50,60,70,80,90,100]\n",
    "a[:-5]"
   ]
  },
  {
   "cell_type": "code",
   "execution_count": 71,
   "id": "377ed77b",
   "metadata": {},
   "outputs": [
    {
     "data": {
      "text/plain": [
       "[90, 100]"
      ]
     },
     "execution_count": 71,
     "metadata": {},
     "output_type": "execute_result"
    }
   ],
   "source": [
    "# [10,20,30,40,50,60,70,80,90,100]\n",
    "a[-2:]"
   ]
  },
  {
   "cell_type": "code",
   "execution_count": 72,
   "id": "ec38d90d",
   "metadata": {},
   "outputs": [
    {
     "data": {
      "text/plain": [
       "[30, 40, 50]"
      ]
     },
     "execution_count": 72,
     "metadata": {},
     "output_type": "execute_result"
    }
   ],
   "source": [
    "# [10,20,30,40,50,60,70,80,90,100]\n",
    "a[-8:5]"
   ]
  },
  {
   "cell_type": "code",
   "execution_count": 73,
   "id": "b4b3e539",
   "metadata": {},
   "outputs": [
    {
     "data": {
      "text/plain": [
       "[]"
      ]
     },
     "execution_count": 73,
     "metadata": {},
     "output_type": "execute_result"
    }
   ],
   "source": [
    "# [10,20,30,40,50,60,70,80,90,100]\n",
    "a[-8:5:-1]"
   ]
  },
  {
   "cell_type": "code",
   "execution_count": null,
   "id": "688b2885",
   "metadata": {},
   "outputs": [],
   "source": []
  }
 ],
 "metadata": {
  "kernelspec": {
   "display_name": "Python 3 (ipykernel)",
   "language": "python",
   "name": "python3"
  },
  "language_info": {
   "codemirror_mode": {
    "name": "ipython",
    "version": 3
   },
   "file_extension": ".py",
   "mimetype": "text/x-python",
   "name": "python",
   "nbconvert_exporter": "python",
   "pygments_lexer": "ipython3",
   "version": "3.9.5"
  }
 },
 "nbformat": 4,
 "nbformat_minor": 5
}
