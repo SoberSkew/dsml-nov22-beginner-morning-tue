{
 "cells": [
  {
   "cell_type": "code",
   "execution_count": 1,
   "id": "cae793a1",
   "metadata": {},
   "outputs": [],
   "source": [
    "a = {\"value1\", \"value2\", \"value3\"}"
   ]
  },
  {
   "cell_type": "code",
   "execution_count": 2,
   "id": "d2ee25ef",
   "metadata": {},
   "outputs": [
    {
     "data": {
      "text/plain": [
       "{'value1', 'value2', 'value3'}"
      ]
     },
     "execution_count": 2,
     "metadata": {},
     "output_type": "execute_result"
    }
   ],
   "source": [
    "a"
   ]
  },
  {
   "cell_type": "code",
   "execution_count": 3,
   "id": "3dd4cfa3",
   "metadata": {},
   "outputs": [],
   "source": [
    "a = {\n",
    "    \"key1\": \"value1\",\n",
    "    \"key2\": \"value2\",\n",
    "    \"key3\": \"value3\"\n",
    "}"
   ]
  },
  {
   "cell_type": "code",
   "execution_count": 4,
   "id": "2bc959ad",
   "metadata": {},
   "outputs": [],
   "source": [
    "# Approach 1 \n",
    "state_wise_data = [(\"Delhi\", 70), (\"Kerala\", 99), (\"UP\", 50), (\"Nagaland\", 65)]"
   ]
  },
  {
   "cell_type": "code",
   "execution_count": 5,
   "id": "d7da6ff2",
   "metadata": {},
   "outputs": [
    {
     "data": {
      "text/plain": [
       "('UP', 50)"
      ]
     },
     "execution_count": 5,
     "metadata": {},
     "output_type": "execute_result"
    }
   ],
   "source": [
    "state_wise_data[2]"
   ]
  },
  {
   "cell_type": "code",
   "execution_count": 7,
   "id": "a4c33542",
   "metadata": {},
   "outputs": [],
   "source": [
    "# Approach 2\n",
    "state_wise_data = {\n",
    "    \"Delhi\": 70,\n",
    "    \"Kerala\": 99,\n",
    "    \"UP\": 50,\n",
    "    \"Nagaland\": 65\n",
    "}"
   ]
  },
  {
   "cell_type": "code",
   "execution_count": 8,
   "id": "be07cb2b",
   "metadata": {},
   "outputs": [
    {
     "data": {
      "text/plain": [
       "70"
      ]
     },
     "execution_count": 8,
     "metadata": {},
     "output_type": "execute_result"
    }
   ],
   "source": [
    "state_wise_data[\"Delhi\"]"
   ]
  },
  {
   "cell_type": "code",
   "execution_count": 9,
   "id": "8becf76f",
   "metadata": {},
   "outputs": [
    {
     "data": {
      "text/plain": [
       "50"
      ]
     },
     "execution_count": 9,
     "metadata": {},
     "output_type": "execute_result"
    }
   ],
   "source": [
    "state_wise_data[\"UP\"]"
   ]
  },
  {
   "cell_type": "code",
   "execution_count": 10,
   "id": "d13d4035",
   "metadata": {},
   "outputs": [
    {
     "ename": "KeyError",
     "evalue": "1",
     "output_type": "error",
     "traceback": [
      "\u001b[0;31m---------------------------------------------------------------------------\u001b[0m",
      "\u001b[0;31mKeyError\u001b[0m                                  Traceback (most recent call last)",
      "\u001b[0;32m/var/folders/nn/c52y0d3j0gq59dpsswchkt2r0000gn/T/ipykernel_23174/36350193.py\u001b[0m in \u001b[0;36m<module>\u001b[0;34m\u001b[0m\n\u001b[0;32m----> 1\u001b[0;31m \u001b[0mstate_wise_data\u001b[0m\u001b[0;34m[\u001b[0m\u001b[0;36m1\u001b[0m\u001b[0;34m]\u001b[0m\u001b[0;34m\u001b[0m\u001b[0;34m\u001b[0m\u001b[0m\n\u001b[0m",
      "\u001b[0;31mKeyError\u001b[0m: 1"
     ]
    }
   ],
   "source": [
    "state_wise_data[1]"
   ]
  },
  {
   "cell_type": "code",
   "execution_count": 11,
   "id": "2fa905c0",
   "metadata": {},
   "outputs": [
    {
     "data": {
      "text/plain": [
       "{'Delhi': 70, 'Kerala': 99, 'UP': 50, 'Nagaland': 65}"
      ]
     },
     "execution_count": 11,
     "metadata": {},
     "output_type": "execute_result"
    }
   ],
   "source": [
    "state_wise_data"
   ]
  },
  {
   "cell_type": "code",
   "execution_count": 13,
   "id": "3aa16867",
   "metadata": {},
   "outputs": [
    {
     "data": {
      "text/plain": [
       "'\\nBefore Python 3.7 -> Dictionaries were unordered\\nAfter Python 3.7 -> Dictionaries are ordered internally but we will not consider them as that.\\n'"
      ]
     },
     "execution_count": 13,
     "metadata": {},
     "output_type": "execute_result"
    }
   ],
   "source": [
    "'''\n",
    "Before Python 3.7 -> Dictionaries were unordered\n",
    "After Python 3.7 -> Dictionaries are ordered internally but we will not consider them as that.\n",
    "'''"
   ]
  },
  {
   "cell_type": "code",
   "execution_count": 14,
   "id": "299e3b43",
   "metadata": {},
   "outputs": [],
   "source": [
    "a = {}"
   ]
  },
  {
   "cell_type": "code",
   "execution_count": 15,
   "id": "a7678b2b",
   "metadata": {},
   "outputs": [
    {
     "data": {
      "text/plain": [
       "dict"
      ]
     },
     "execution_count": 15,
     "metadata": {},
     "output_type": "execute_result"
    }
   ],
   "source": [
    "type(a)"
   ]
  },
  {
   "cell_type": "code",
   "execution_count": 16,
   "id": "bce6b254",
   "metadata": {},
   "outputs": [
    {
     "data": {
      "text/plain": [
       "{}"
      ]
     },
     "execution_count": 16,
     "metadata": {},
     "output_type": "execute_result"
    }
   ],
   "source": [
    "a"
   ]
  },
  {
   "cell_type": "code",
   "execution_count": 17,
   "id": "3a824fdc",
   "metadata": {},
   "outputs": [],
   "source": [
    "a = {\n",
    "    \"Delhi\": 70,\n",
    "    \"Kerala\": 99,\n",
    "    \"UP\": 50,\n",
    "    \"Nagaland\": 65\n",
    "}"
   ]
  },
  {
   "cell_type": "code",
   "execution_count": 18,
   "id": "02794c8a",
   "metadata": {},
   "outputs": [],
   "source": [
    "a[\"Maharashtra\"] = 80"
   ]
  },
  {
   "cell_type": "code",
   "execution_count": 19,
   "id": "0d4d13cc",
   "metadata": {},
   "outputs": [
    {
     "data": {
      "text/plain": [
       "{'Delhi': 70, 'Kerala': 99, 'UP': 50, 'Nagaland': 65, 'Maharashtra': 80}"
      ]
     },
     "execution_count": 19,
     "metadata": {},
     "output_type": "execute_result"
    }
   ],
   "source": [
    "a"
   ]
  },
  {
   "cell_type": "code",
   "execution_count": 22,
   "id": "dd762651",
   "metadata": {},
   "outputs": [],
   "source": [
    "a[\"Delhi\"] = 85 # THESE KEYS ARE CASE SENSITIVE"
   ]
  },
  {
   "cell_type": "code",
   "execution_count": 23,
   "id": "437a5526",
   "metadata": {},
   "outputs": [
    {
     "data": {
      "text/plain": [
       "{'Delhi': 85, 'Kerala': 99, 'UP': 50, 'Nagaland': 65, 'Maharashtra': 80}"
      ]
     },
     "execution_count": 23,
     "metadata": {},
     "output_type": "execute_result"
    }
   ],
   "source": [
    "a"
   ]
  },
  {
   "cell_type": "code",
   "execution_count": 24,
   "id": "2a40e425",
   "metadata": {},
   "outputs": [],
   "source": [
    "# Heterogeneity in a dictionary\n",
    "# Keys -> Strings\n",
    "# Values -> ANY PYTHON OBJECT"
   ]
  },
  {
   "cell_type": "code",
   "execution_count": 26,
   "id": "0f5093d4",
   "metadata": {},
   "outputs": [],
   "source": [
    "Avenger = {\n",
    "    \"name\": \"Thor\",\n",
    "    \"age\": 1500,\n",
    "    \"weapons\": [\"stormbreaker\", \"mjolnir\"]\n",
    "}"
   ]
  },
  {
   "cell_type": "code",
   "execution_count": 27,
   "id": "91008c23",
   "metadata": {},
   "outputs": [],
   "source": [
    "# Adding and updating values with one operation"
   ]
  },
  {
   "cell_type": "code",
   "execution_count": 28,
   "id": "cc9a75f7",
   "metadata": {},
   "outputs": [],
   "source": [
    "Avenger.update({\n",
    "    \"name\": \"Thor Odinson\",\n",
    "    \"weapons\": [\"stormbreaker\"],\n",
    "    \"strongest?\": True,\n",
    "    \"eyes\": 1\n",
    "})"
   ]
  },
  {
   "cell_type": "code",
   "execution_count": 29,
   "id": "2b7dfe85",
   "metadata": {},
   "outputs": [
    {
     "data": {
      "text/plain": [
       "{'name': 'Thor Odinson',\n",
       " 'age': 1500,\n",
       " 'weapons': ['stormbreaker'],\n",
       " 'strongest?': True,\n",
       " 'eyes': 1}"
      ]
     },
     "execution_count": 29,
     "metadata": {},
     "output_type": "execute_result"
    }
   ],
   "source": [
    "Avenger"
   ]
  },
  {
   "cell_type": "code",
   "execution_count": 30,
   "id": "a9a7f7c0",
   "metadata": {},
   "outputs": [],
   "source": [
    "random = {\n",
    "    \"a\": 1,\n",
    "    \"b\": 2,\n",
    "    \"c\": 3,\n",
    "    \"d\": None\n",
    "}"
   ]
  },
  {
   "cell_type": "code",
   "execution_count": 31,
   "id": "8ff6b3eb",
   "metadata": {},
   "outputs": [
    {
     "data": {
      "text/plain": [
       "2"
      ]
     },
     "execution_count": 31,
     "metadata": {},
     "output_type": "execute_result"
    }
   ],
   "source": [
    "random[\"b\"]"
   ]
  },
  {
   "cell_type": "code",
   "execution_count": 34,
   "id": "8cc78e0b",
   "metadata": {},
   "outputs": [
    {
     "ename": "KeyError",
     "evalue": "'e'",
     "output_type": "error",
     "traceback": [
      "\u001b[0;31m---------------------------------------------------------------------------\u001b[0m",
      "\u001b[0;31mKeyError\u001b[0m                                  Traceback (most recent call last)",
      "\u001b[0;32m/var/folders/nn/c52y0d3j0gq59dpsswchkt2r0000gn/T/ipykernel_23174/3290652174.py\u001b[0m in \u001b[0;36m<module>\u001b[0;34m\u001b[0m\n\u001b[0;32m----> 1\u001b[0;31m \u001b[0mresult\u001b[0m \u001b[0;34m=\u001b[0m \u001b[0mrandom\u001b[0m\u001b[0;34m[\u001b[0m\u001b[0;34m\"e\"\u001b[0m\u001b[0;34m]\u001b[0m \u001b[0;31m# Key is not present in the dictionary\u001b[0m\u001b[0;34m\u001b[0m\u001b[0;34m\u001b[0m\u001b[0m\n\u001b[0m",
      "\u001b[0;31mKeyError\u001b[0m: 'e'"
     ]
    }
   ],
   "source": [
    "result = random[\"e\"] # Key is not present in the dictionary"
   ]
  },
  {
   "cell_type": "code",
   "execution_count": 35,
   "id": "716c2772",
   "metadata": {},
   "outputs": [],
   "source": [
    "result = random.get(\"e\")"
   ]
  },
  {
   "cell_type": "code",
   "execution_count": 36,
   "id": "a4e6b70b",
   "metadata": {},
   "outputs": [
    {
     "name": "stdout",
     "output_type": "stream",
     "text": [
      "None\n"
     ]
    }
   ],
   "source": [
    "print(result)"
   ]
  },
  {
   "cell_type": "code",
   "execution_count": 39,
   "id": "e3a7614e",
   "metadata": {},
   "outputs": [],
   "source": [
    "result = random.get(\"e\", False)\n",
    "# This default value will be returned in case the key does not exist"
   ]
  },
  {
   "cell_type": "code",
   "execution_count": 40,
   "id": "d8ff080d",
   "metadata": {},
   "outputs": [
    {
     "data": {
      "text/plain": [
       "False"
      ]
     },
     "execution_count": 40,
     "metadata": {},
     "output_type": "execute_result"
    }
   ],
   "source": [
    "result"
   ]
  },
  {
   "cell_type": "code",
   "execution_count": 41,
   "id": "ddc2b836",
   "metadata": {},
   "outputs": [
    {
     "data": {
      "text/plain": [
       "1"
      ]
     },
     "execution_count": 41,
     "metadata": {},
     "output_type": "execute_result"
    }
   ],
   "source": [
    "random.get(\"a\")"
   ]
  },
  {
   "cell_type": "code",
   "execution_count": 42,
   "id": "27aa3d6d",
   "metadata": {},
   "outputs": [
    {
     "data": {
      "text/plain": [
       "{'name': 'Thor Odinson',\n",
       " 'age': 1500,\n",
       " 'weapons': ['stormbreaker'],\n",
       " 'strongest?': True,\n",
       " 'eyes': 1}"
      ]
     },
     "execution_count": 42,
     "metadata": {},
     "output_type": "execute_result"
    }
   ],
   "source": [
    "Avenger"
   ]
  },
  {
   "cell_type": "code",
   "execution_count": 44,
   "id": "b627a81e",
   "metadata": {},
   "outputs": [],
   "source": [
    "Avenger.get(\"weapons\").append(\"mjolnir\")"
   ]
  },
  {
   "cell_type": "code",
   "execution_count": 45,
   "id": "634284ff",
   "metadata": {},
   "outputs": [
    {
     "data": {
      "text/plain": [
       "{'name': 'Thor Odinson',\n",
       " 'age': 1500,\n",
       " 'weapons': ['stormbreaker', 'mjolnir'],\n",
       " 'strongest?': True,\n",
       " 'eyes': 1}"
      ]
     },
     "execution_count": 45,
     "metadata": {},
     "output_type": "execute_result"
    }
   ],
   "source": [
    "Avenger"
   ]
  },
  {
   "cell_type": "code",
   "execution_count": 46,
   "id": "acbd2ef3",
   "metadata": {},
   "outputs": [
    {
     "data": {
      "text/plain": [
       "{'Delhi': 85, 'Kerala': 99, 'UP': 50, 'Nagaland': 65, 'Maharashtra': 80}"
      ]
     },
     "execution_count": 46,
     "metadata": {},
     "output_type": "execute_result"
    }
   ],
   "source": [
    "a"
   ]
  },
  {
   "cell_type": "code",
   "execution_count": 51,
   "id": "47e08f16",
   "metadata": {},
   "outputs": [
    {
     "data": {
      "text/plain": [
       "{'a': 1, 'b': 2, 'c': 3}"
      ]
     },
     "execution_count": 51,
     "metadata": {},
     "output_type": "execute_result"
    }
   ],
   "source": [
    "random"
   ]
  },
  {
   "cell_type": "code",
   "execution_count": 53,
   "id": "eba1fc71",
   "metadata": {},
   "outputs": [],
   "source": [
    "random = {\n",
    "    \"a\": 1,\n",
    "    \"b\": 2,\n",
    "    \"c\": 3,\n",
    "    \"d\": None\n",
    "}\n",
    "# takes a key as input and removes that key value pair"
   ]
  },
  {
   "cell_type": "code",
   "execution_count": 54,
   "id": "2820f768",
   "metadata": {},
   "outputs": [
    {
     "data": {
      "text/plain": [
       "{'a': 1, 'b': 2, 'c': 3, 'd': None}"
      ]
     },
     "execution_count": 54,
     "metadata": {},
     "output_type": "execute_result"
    }
   ],
   "source": [
    "random"
   ]
  },
  {
   "cell_type": "code",
   "execution_count": 55,
   "id": "876c8001",
   "metadata": {},
   "outputs": [],
   "source": [
    "random.pop(\"d\")"
   ]
  },
  {
   "cell_type": "code",
   "execution_count": 56,
   "id": "6f57f11f",
   "metadata": {},
   "outputs": [
    {
     "data": {
      "text/plain": [
       "{'a': 1, 'b': 2, 'c': 3}"
      ]
     },
     "execution_count": 56,
     "metadata": {},
     "output_type": "execute_result"
    }
   ],
   "source": [
    "random"
   ]
  },
  {
   "cell_type": "code",
   "execution_count": 57,
   "id": "aaa8ec70",
   "metadata": {},
   "outputs": [
    {
     "ename": "TypeError",
     "evalue": "pop expected at least 1 argument, got 0",
     "output_type": "error",
     "traceback": [
      "\u001b[0;31m---------------------------------------------------------------------------\u001b[0m",
      "\u001b[0;31mTypeError\u001b[0m                                 Traceback (most recent call last)",
      "\u001b[0;32m/var/folders/nn/c52y0d3j0gq59dpsswchkt2r0000gn/T/ipykernel_23174/1396421673.py\u001b[0m in \u001b[0;36m<module>\u001b[0;34m\u001b[0m\n\u001b[0;32m----> 1\u001b[0;31m \u001b[0mrandom\u001b[0m\u001b[0;34m.\u001b[0m\u001b[0mpop\u001b[0m\u001b[0;34m(\u001b[0m\u001b[0;34m)\u001b[0m\u001b[0;34m\u001b[0m\u001b[0;34m\u001b[0m\u001b[0m\n\u001b[0m",
      "\u001b[0;31mTypeError\u001b[0m: pop expected at least 1 argument, got 0"
     ]
    }
   ],
   "source": [
    "random.pop()"
   ]
  },
  {
   "cell_type": "code",
   "execution_count": 58,
   "id": "1688fd61",
   "metadata": {},
   "outputs": [],
   "source": [
    "# KEYS IN A DICIONARY ARE UNIQUE"
   ]
  },
  {
   "cell_type": "code",
   "execution_count": 60,
   "id": "6d61fa7e",
   "metadata": {},
   "outputs": [],
   "source": [
    "a = {\n",
    "    \"a\": 1,\n",
    "    \"b\": 2\n",
    "}"
   ]
  },
  {
   "cell_type": "code",
   "execution_count": 61,
   "id": "2a816ff0",
   "metadata": {},
   "outputs": [],
   "source": [
    "a[\"a\"] = 4"
   ]
  },
  {
   "cell_type": "code",
   "execution_count": 62,
   "id": "63228593",
   "metadata": {},
   "outputs": [
    {
     "data": {
      "text/plain": [
       "{'a': 4, 'b': 2}"
      ]
     },
     "execution_count": 62,
     "metadata": {},
     "output_type": "execute_result"
    }
   ],
   "source": [
    "a"
   ]
  },
  {
   "cell_type": "code",
   "execution_count": 64,
   "id": "84d0e14f",
   "metadata": {},
   "outputs": [
    {
     "data": {
      "text/plain": [
       "'\\nQuestion 1 - \\nGiven two dictionaries A and B, Write a python program to merge these two dictionaries.\\n\\nA = {\\n    \"a\": 5,\\n    \"b\": 6\\n}\\n\\nB = {\\n    \"b\": 7,\\n    \"d\": 2\\n}\\n\\nResult = {\\n    \"a\": 5,\\n    \"b\": 7,\\n    \"d\": 2\\n}\\n'"
      ]
     },
     "execution_count": 64,
     "metadata": {},
     "output_type": "execute_result"
    }
   ],
   "source": [
    "'''\n",
    "Question 1 - \n",
    "Given two dictionaries A and B, Write a python program to merge these two dictionaries.\n",
    "\n",
    "A = {\n",
    "    \"a\": 5,\n",
    "    \"b\": 6\n",
    "}\n",
    "\n",
    "B = {\n",
    "    \"b\": 7,\n",
    "    \"d\": 2\n",
    "}\n",
    "\n",
    "Result = {\n",
    "    \"a\": 5,\n",
    "    \"b\": 7,\n",
    "    \"d\": 2\n",
    "}\n",
    "'''"
   ]
  },
  {
   "cell_type": "code",
   "execution_count": 72,
   "id": "ad3c6592",
   "metadata": {},
   "outputs": [],
   "source": [
    "A = {\n",
    "    \"a\": 5,\n",
    "    \"b\": 6\n",
    "}\n",
    "\n",
    "B = {\n",
    "    \"b\": 7,\n",
    "    \"d\": 2\n",
    "}"
   ]
  },
  {
   "cell_type": "code",
   "execution_count": 66,
   "id": "f8dd3e13",
   "metadata": {},
   "outputs": [],
   "source": [
    "A.update(B) # Method 1"
   ]
  },
  {
   "cell_type": "code",
   "execution_count": 67,
   "id": "7eae8ed6",
   "metadata": {},
   "outputs": [
    {
     "data": {
      "text/plain": [
       "{'a': 5, 'b': 7, 'd': 2}"
      ]
     },
     "execution_count": 67,
     "metadata": {},
     "output_type": "execute_result"
    }
   ],
   "source": [
    "A"
   ]
  },
  {
   "cell_type": "code",
   "execution_count": 73,
   "id": "1e858055",
   "metadata": {},
   "outputs": [],
   "source": [
    "result = A | B # Method 2 - VERY NEW"
   ]
  },
  {
   "cell_type": "code",
   "execution_count": 74,
   "id": "03c78f8e",
   "metadata": {},
   "outputs": [
    {
     "data": {
      "text/plain": [
       "{'a': 5, 'b': 7, 'd': 2}"
      ]
     },
     "execution_count": 74,
     "metadata": {},
     "output_type": "execute_result"
    }
   ],
   "source": [
    "result"
   ]
  },
  {
   "cell_type": "code",
   "execution_count": 75,
   "id": "7546dd27",
   "metadata": {},
   "outputs": [
    {
     "ename": "AttributeError",
     "evalue": "'dict' object has no attribute 'union'",
     "output_type": "error",
     "traceback": [
      "\u001b[0;31m---------------------------------------------------------------------------\u001b[0m",
      "\u001b[0;31mAttributeError\u001b[0m                            Traceback (most recent call last)",
      "\u001b[0;32m/var/folders/nn/c52y0d3j0gq59dpsswchkt2r0000gn/T/ipykernel_23174/1047232157.py\u001b[0m in \u001b[0;36m<module>\u001b[0;34m\u001b[0m\n\u001b[0;32m----> 1\u001b[0;31m \u001b[0mresult\u001b[0m \u001b[0;34m=\u001b[0m \u001b[0mA\u001b[0m\u001b[0;34m.\u001b[0m\u001b[0munion\u001b[0m\u001b[0;34m(\u001b[0m\u001b[0mB\u001b[0m\u001b[0;34m)\u001b[0m\u001b[0;34m\u001b[0m\u001b[0;34m\u001b[0m\u001b[0m\n\u001b[0m",
      "\u001b[0;31mAttributeError\u001b[0m: 'dict' object has no attribute 'union'"
     ]
    }
   ],
   "source": [
    "result = A.union(B)"
   ]
  },
  {
   "cell_type": "code",
   "execution_count": 76,
   "id": "6bb8d899",
   "metadata": {},
   "outputs": [],
   "source": [
    "# ITERATION IN A DICTIONARY"
   ]
  },
  {
   "cell_type": "code",
   "execution_count": 79,
   "id": "26695218",
   "metadata": {},
   "outputs": [],
   "source": [
    "a = Avenger"
   ]
  },
  {
   "cell_type": "code",
   "execution_count": 80,
   "id": "19a0874e",
   "metadata": {},
   "outputs": [
    {
     "data": {
      "text/plain": [
       "{'name': 'Thor Odinson',\n",
       " 'age': 1500,\n",
       " 'weapons': ['stormbreaker', 'mjolnir'],\n",
       " 'strongest?': True,\n",
       " 'eyes': 1}"
      ]
     },
     "execution_count": 80,
     "metadata": {},
     "output_type": "execute_result"
    }
   ],
   "source": [
    "a"
   ]
  },
  {
   "cell_type": "code",
   "execution_count": 82,
   "id": "bd227faf",
   "metadata": {},
   "outputs": [
    {
     "name": "stdout",
     "output_type": "stream",
     "text": [
      "name\n",
      "age\n",
      "weapons\n",
      "strongest?\n",
      "eyes\n"
     ]
    }
   ],
   "source": [
    "for i in a: # by default iteration happens over keys\n",
    "    print(i)"
   ]
  },
  {
   "cell_type": "code",
   "execution_count": 83,
   "id": "102259ef",
   "metadata": {},
   "outputs": [
    {
     "name": "stdout",
     "output_type": "stream",
     "text": [
      "Thor Odinson\n",
      "1500\n",
      "['stormbreaker', 'mjolnir']\n",
      "True\n",
      "1\n"
     ]
    }
   ],
   "source": [
    "for i in a:\n",
    "    print(a[i])"
   ]
  },
  {
   "cell_type": "code",
   "execution_count": 84,
   "id": "03baa522",
   "metadata": {},
   "outputs": [
    {
     "name": "stdout",
     "output_type": "stream",
     "text": [
      "name -> Thor Odinson\n",
      "age -> 1500\n",
      "weapons -> ['stormbreaker', 'mjolnir']\n",
      "strongest? -> True\n",
      "eyes -> 1\n"
     ]
    }
   ],
   "source": [
    "for i in a:\n",
    "    print(f\"{i} -> {a[i]}\")"
   ]
  },
  {
   "cell_type": "code",
   "execution_count": 87,
   "id": "d13472bb",
   "metadata": {},
   "outputs": [
    {
     "data": {
      "text/plain": [
       "dict_keys(['name', 'age', 'weapons', 'strongest?', 'eyes'])"
      ]
     },
     "execution_count": 87,
     "metadata": {},
     "output_type": "execute_result"
    }
   ],
   "source": [
    "a.keys()"
   ]
  },
  {
   "cell_type": "code",
   "execution_count": 85,
   "id": "26bb9ff4",
   "metadata": {
    "scrolled": true
   },
   "outputs": [
    {
     "name": "stdout",
     "output_type": "stream",
     "text": [
      "name\n",
      "age\n",
      "weapons\n",
      "strongest?\n",
      "eyes\n"
     ]
    }
   ],
   "source": [
    "for i in a.keys():\n",
    "    print(i)"
   ]
  },
  {
   "cell_type": "code",
   "execution_count": 88,
   "id": "7900e92a",
   "metadata": {},
   "outputs": [
    {
     "data": {
      "text/plain": [
       "dict_values(['Thor Odinson', 1500, ['stormbreaker', 'mjolnir'], True, 1])"
      ]
     },
     "execution_count": 88,
     "metadata": {},
     "output_type": "execute_result"
    }
   ],
   "source": [
    "a.values()"
   ]
  },
  {
   "cell_type": "code",
   "execution_count": 86,
   "id": "0a132d1d",
   "metadata": {},
   "outputs": [
    {
     "name": "stdout",
     "output_type": "stream",
     "text": [
      "Thor Odinson\n",
      "1500\n",
      "['stormbreaker', 'mjolnir']\n",
      "True\n",
      "1\n"
     ]
    }
   ],
   "source": [
    "for i in a.values():\n",
    "    print(i)"
   ]
  },
  {
   "cell_type": "code",
   "execution_count": 90,
   "id": "5c43420c",
   "metadata": {},
   "outputs": [
    {
     "data": {
      "text/plain": [
       "dict_items([('name', 'Thor Odinson'), ('age', 1500), ('weapons', ['stormbreaker', 'mjolnir']), ('strongest?', True), ('eyes', 1)])"
      ]
     },
     "execution_count": 90,
     "metadata": {},
     "output_type": "execute_result"
    }
   ],
   "source": [
    "a.items()"
   ]
  },
  {
   "cell_type": "code",
   "execution_count": 89,
   "id": "42ad00e3",
   "metadata": {},
   "outputs": [
    {
     "name": "stdout",
     "output_type": "stream",
     "text": [
      "('name', 'Thor Odinson')\n",
      "('age', 1500)\n",
      "('weapons', ['stormbreaker', 'mjolnir'])\n",
      "('strongest?', True)\n",
      "('eyes', 1)\n"
     ]
    }
   ],
   "source": [
    "for i in a.items():\n",
    "    print(i)"
   ]
  },
  {
   "cell_type": "code",
   "execution_count": 91,
   "id": "bff5f60f",
   "metadata": {},
   "outputs": [
    {
     "name": "stdout",
     "output_type": "stream",
     "text": [
      "name -> Thor Odinson\n",
      "age -> 1500\n",
      "weapons -> ['stormbreaker', 'mjolnir']\n",
      "strongest? -> True\n",
      "eyes -> 1\n"
     ]
    }
   ],
   "source": [
    "for key, value in a.items():\n",
    "    print(f\"{key} -> {value}\")"
   ]
  },
  {
   "cell_type": "code",
   "execution_count": 92,
   "id": "f2fa28f9",
   "metadata": {},
   "outputs": [],
   "source": [
    "a = [1,2,3,4,5]"
   ]
  },
  {
   "cell_type": "code",
   "execution_count": 93,
   "id": "ee887aeb",
   "metadata": {},
   "outputs": [
    {
     "data": {
      "text/plain": [
       "True"
      ]
     },
     "execution_count": 93,
     "metadata": {},
     "output_type": "execute_result"
    }
   ],
   "source": [
    "5 in a"
   ]
  },
  {
   "cell_type": "code",
   "execution_count": 95,
   "id": "f6e96b2a",
   "metadata": {},
   "outputs": [
    {
     "data": {
      "text/plain": [
       "False"
      ]
     },
     "execution_count": 95,
     "metadata": {},
     "output_type": "execute_result"
    }
   ],
   "source": [
    "\"random\" in Avenger.keys()"
   ]
  },
  {
   "cell_type": "code",
   "execution_count": 96,
   "id": "01de17dd",
   "metadata": {},
   "outputs": [
    {
     "data": {
      "text/plain": [
       "True"
      ]
     },
     "execution_count": 96,
     "metadata": {},
     "output_type": "execute_result"
    }
   ],
   "source": [
    "\"age\" in Avenger"
   ]
  },
  {
   "cell_type": "code",
   "execution_count": 97,
   "id": "cfc1006a",
   "metadata": {},
   "outputs": [
    {
     "data": {
      "text/plain": [
       "False"
      ]
     },
     "execution_count": 97,
     "metadata": {},
     "output_type": "execute_result"
    }
   ],
   "source": [
    "\"random\" in Avenger"
   ]
  },
  {
   "cell_type": "code",
   "execution_count": 98,
   "id": "7ebd26d4",
   "metadata": {},
   "outputs": [
    {
     "data": {
      "text/plain": [
       "'\\nQuestion 2 - \\n1. Take a string as input.\\n2. Create a dictionary acc to the following criteria - \\n- There will be one key value pair for each unique character - \\n- Key will be character and value will be the count of character inside the string\\n\\nINPUT - \"rrsssstttt\"\\nOUTPUT -\\n{\\n    \"r\": 2,\\n    \"s\": 4,\\n    \"t\": 4\\n}\\n'"
      ]
     },
     "execution_count": 98,
     "metadata": {},
     "output_type": "execute_result"
    }
   ],
   "source": [
    "'''\n",
    "Question 2 - \n",
    "1. Take a string as input.\n",
    "2. Create a dictionary acc to the following criteria - \n",
    "- There will be one key value pair for each unique character - \n",
    "- Key will be character and value will be the count of character inside the string\n",
    "\n",
    "INPUT - \"rrsssstttt\"\n",
    "OUTPUT -\n",
    "{\n",
    "    \"r\": 2,\n",
    "    \"s\": 4,\n",
    "    \"t\": 4\n",
    "}\n",
    "'''"
   ]
  },
  {
   "cell_type": "code",
   "execution_count": 121,
   "id": "fca2b317",
   "metadata": {},
   "outputs": [],
   "source": [
    "a = \"random input with lots of random randomness\""
   ]
  },
  {
   "cell_type": "code",
   "execution_count": 123,
   "id": "e75f9f0d",
   "metadata": {
    "scrolled": true
   },
   "outputs": [
    {
     "data": {
      "text/plain": [
       "6"
      ]
     },
     "execution_count": 123,
     "metadata": {},
     "output_type": "execute_result"
    }
   ],
   "source": [
    "a.count(\" \")"
   ]
  },
  {
   "cell_type": "code",
   "execution_count": 124,
   "id": "797df596",
   "metadata": {},
   "outputs": [],
   "source": [
    "result = {}"
   ]
  },
  {
   "cell_type": "code",
   "execution_count": 125,
   "id": "09314da9",
   "metadata": {},
   "outputs": [],
   "source": [
    "result[\" \"] = a.count(\" \")"
   ]
  },
  {
   "cell_type": "code",
   "execution_count": 126,
   "id": "fbda5944",
   "metadata": {},
   "outputs": [
    {
     "data": {
      "text/plain": [
       "{' ': 6}"
      ]
     },
     "execution_count": 126,
     "metadata": {},
     "output_type": "execute_result"
    }
   ],
   "source": [
    "result"
   ]
  },
  {
   "cell_type": "code",
   "execution_count": 122,
   "id": "d0813871",
   "metadata": {},
   "outputs": [
    {
     "data": {
      "text/plain": [
       "{' ',\n",
       " 'a',\n",
       " 'd',\n",
       " 'e',\n",
       " 'f',\n",
       " 'h',\n",
       " 'i',\n",
       " 'l',\n",
       " 'm',\n",
       " 'n',\n",
       " 'o',\n",
       " 'p',\n",
       " 'r',\n",
       " 's',\n",
       " 't',\n",
       " 'u',\n",
       " 'w'}"
      ]
     },
     "execution_count": 122,
     "metadata": {},
     "output_type": "execute_result"
    }
   ],
   "source": [
    "set(a)"
   ]
  },
  {
   "cell_type": "code",
   "execution_count": 102,
   "id": "7a364a20",
   "metadata": {},
   "outputs": [],
   "source": [
    "def count_frequency(a):\n",
    "    result = {}\n",
    "    \n",
    "    for i in set(a):\n",
    "        result[i] = a.count(i)\n",
    "        \n",
    "    return result"
   ]
  },
  {
   "cell_type": "code",
   "execution_count": 103,
   "id": "3ea88c19",
   "metadata": {},
   "outputs": [
    {
     "data": {
      "text/plain": [
       "{'r': 3,\n",
       " ' ': 6,\n",
       " 'n': 5,\n",
       " 'm': 3,\n",
       " 'i': 2,\n",
       " 't': 3,\n",
       " 'o': 5,\n",
       " 'w': 1,\n",
       " 's': 3,\n",
       " 'f': 1,\n",
       " 'd': 3,\n",
       " 'e': 1,\n",
       " 'a': 3,\n",
       " 'p': 1,\n",
       " 'u': 1,\n",
       " 'h': 1,\n",
       " 'l': 1}"
      ]
     },
     "execution_count": 103,
     "metadata": {},
     "output_type": "execute_result"
    }
   ],
   "source": [
    "count_frequency(a)"
   ]
  },
  {
   "cell_type": "code",
   "execution_count": 106,
   "id": "9ac1dc05",
   "metadata": {},
   "outputs": [
    {
     "name": "stdout",
     "output_type": "stream",
     "text": [
      "n\n",
      "5\n",
      "Do you want to add another key value pair? (N/n if no) - n\n"
     ]
    }
   ],
   "source": [
    "result = {}\n",
    "while True:\n",
    "    key = input()\n",
    "    value = input()\n",
    "    result[key] = value\n",
    "    \n",
    "    choice = input(\"Do you want to add another key value pair? (N/n if no) - \")\n",
    "    \n",
    "    if choice in [\"N\", \"n\"]:\n",
    "        break"
   ]
  },
  {
   "cell_type": "code",
   "execution_count": 105,
   "id": "a78dc9f4",
   "metadata": {},
   "outputs": [
    {
     "data": {
      "text/plain": [
       "{'random': '1', 'random2': '2'}"
      ]
     },
     "execution_count": 105,
     "metadata": {},
     "output_type": "execute_result"
    }
   ],
   "source": [
    "result"
   ]
  },
  {
   "cell_type": "code",
   "execution_count": 107,
   "id": "4925dc2c",
   "metadata": {},
   "outputs": [],
   "source": [
    "# ACTUAL HETEROGENEITY"
   ]
  },
  {
   "cell_type": "code",
   "execution_count": 108,
   "id": "b532b37e",
   "metadata": {},
   "outputs": [],
   "source": [
    "# Keys -> Any immutable data type (Anything other than lists / dictionaries / sets)"
   ]
  },
  {
   "cell_type": "code",
   "execution_count": 112,
   "id": "e04c8e93",
   "metadata": {},
   "outputs": [],
   "source": [
    "# Mutable (Can be changed) -> Lists, Sets and Dictionaries\n",
    "# Immutable (Can't be changed) -> Int, Float, Boolean, String, Tuples"
   ]
  },
  {
   "cell_type": "code",
   "execution_count": 109,
   "id": "4be1bd14",
   "metadata": {},
   "outputs": [],
   "source": [
    "random = {\n",
    "    \"key1\": [4,45,67],\n",
    "    \"key2\": {\n",
    "        (1,2,3): 45\n",
    "    },\n",
    "    45: \"value2\",\n",
    "    45.67: \"value3\",\n",
    "    True: {2,3,4}\n",
    "}"
   ]
  },
  {
   "cell_type": "code",
   "execution_count": 110,
   "id": "1a369407",
   "metadata": {},
   "outputs": [
    {
     "ename": "TypeError",
     "evalue": "unhashable type: 'list'",
     "output_type": "error",
     "traceback": [
      "\u001b[0;31m---------------------------------------------------------------------------\u001b[0m",
      "\u001b[0;31mTypeError\u001b[0m                                 Traceback (most recent call last)",
      "\u001b[0;32m/var/folders/nn/c52y0d3j0gq59dpsswchkt2r0000gn/T/ipykernel_23174/358654970.py\u001b[0m in \u001b[0;36m<module>\u001b[0;34m\u001b[0m\n\u001b[1;32m      1\u001b[0m random = {\n\u001b[1;32m      2\u001b[0m     \u001b[0;34m\"key1\"\u001b[0m\u001b[0;34m:\u001b[0m \u001b[0;34m[\u001b[0m\u001b[0;36m4\u001b[0m\u001b[0;34m,\u001b[0m\u001b[0;36m45\u001b[0m\u001b[0;34m,\u001b[0m\u001b[0;36m67\u001b[0m\u001b[0;34m]\u001b[0m\u001b[0;34m,\u001b[0m\u001b[0;34m\u001b[0m\u001b[0;34m\u001b[0m\u001b[0m\n\u001b[0;32m----> 3\u001b[0;31m     \"key2\": {\n\u001b[0m\u001b[1;32m      4\u001b[0m         \u001b[0;34m[\u001b[0m\u001b[0;36m1\u001b[0m\u001b[0;34m,\u001b[0m\u001b[0;36m2\u001b[0m\u001b[0;34m,\u001b[0m\u001b[0;36m3\u001b[0m\u001b[0;34m]\u001b[0m\u001b[0;34m:\u001b[0m \u001b[0;36m45\u001b[0m\u001b[0;34m\u001b[0m\u001b[0;34m\u001b[0m\u001b[0m\n\u001b[1;32m      5\u001b[0m     },\n",
      "\u001b[0;31mTypeError\u001b[0m: unhashable type: 'list'"
     ]
    }
   ],
   "source": [
    "random = {\n",
    "    \"key1\": [4,45,67],\n",
    "    \"key2\": {\n",
    "        [1,2,3]: 45\n",
    "    },\n",
    "    45: \"value2\",\n",
    "    45.67: \"value3\",\n",
    "    True: {2,3,4}\n",
    "}"
   ]
  },
  {
   "cell_type": "code",
   "execution_count": 111,
   "id": "d874a8e3",
   "metadata": {},
   "outputs": [],
   "source": [
    "# UNHASHABLE -> HASHING - We will be revisiting sets an dictionaries once again in Intermediate"
   ]
  },
  {
   "cell_type": "code",
   "execution_count": 113,
   "id": "4122a937",
   "metadata": {},
   "outputs": [],
   "source": [
    "# We will be covering the following two concepts in Intermediate - \n",
    "# 1. Python Refresher 1 -> Mutable vs Immutable\n",
    "# 2. Hashing -> Why sets and dictionaries throw this unhashable error"
   ]
  },
  {
   "cell_type": "code",
   "execution_count": 114,
   "id": "66dc629e",
   "metadata": {},
   "outputs": [],
   "source": [
    "a = [(\"Delhi\", 70), (\"Kerala\", 99), (\"UP\", 50), (\"Nagaland\", 65)]"
   ]
  },
  {
   "cell_type": "code",
   "execution_count": 115,
   "id": "c86581f0",
   "metadata": {},
   "outputs": [
    {
     "data": {
      "text/plain": [
       "{'Delhi': 70, 'Kerala': 99, 'UP': 50, 'Nagaland': 65}"
      ]
     },
     "execution_count": 115,
     "metadata": {},
     "output_type": "execute_result"
    }
   ],
   "source": [
    "dict(a)"
   ]
  },
  {
   "cell_type": "code",
   "execution_count": 117,
   "id": "4288495e",
   "metadata": {},
   "outputs": [],
   "source": [
    "# TRUE = 1"
   ]
  },
  {
   "cell_type": "code",
   "execution_count": 119,
   "id": "269be0e8",
   "metadata": {},
   "outputs": [],
   "source": [
    "# FALSE = 0"
   ]
  },
  {
   "cell_type": "code",
   "execution_count": null,
   "id": "b92c86ea",
   "metadata": {},
   "outputs": [],
   "source": []
  }
 ],
 "metadata": {
  "kernelspec": {
   "display_name": "Python 3 (ipykernel)",
   "language": "python",
   "name": "python3"
  },
  "language_info": {
   "codemirror_mode": {
    "name": "ipython",
    "version": 3
   },
   "file_extension": ".py",
   "mimetype": "text/x-python",
   "name": "python",
   "nbconvert_exporter": "python",
   "pygments_lexer": "ipython3",
   "version": "3.9.5"
  }
 },
 "nbformat": 4,
 "nbformat_minor": 5
}
