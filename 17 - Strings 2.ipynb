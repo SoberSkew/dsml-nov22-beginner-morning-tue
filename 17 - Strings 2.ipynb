{
 "cells": [
  {
   "cell_type": "markdown",
   "id": "de118cbe",
   "metadata": {},
   "source": [
    "## SPLIT"
   ]
  },
  {
   "cell_type": "code",
   "execution_count": 2,
   "id": "f73cafc2",
   "metadata": {},
   "outputs": [],
   "source": [
    "a = \"this is a long string of words!\""
   ]
  },
  {
   "cell_type": "code",
   "execution_count": 3,
   "id": "21920098",
   "metadata": {},
   "outputs": [],
   "source": [
    "# string -> list of strings"
   ]
  },
  {
   "cell_type": "code",
   "execution_count": 5,
   "id": "8b65387e",
   "metadata": {},
   "outputs": [
    {
     "data": {
      "text/plain": [
       "['this', 'is', 'a', 'long', 'string', 'of', 'words!']"
      ]
     },
     "execution_count": 5,
     "metadata": {},
     "output_type": "execute_result"
    }
   ],
   "source": [
    "a.split(\" \") # delimiter"
   ]
  },
  {
   "cell_type": "code",
   "execution_count": 11,
   "id": "f9e5e046",
   "metadata": {},
   "outputs": [],
   "source": [
    "a = \"thisRANDOMisRANDOMveryRANDOM\""
   ]
  },
  {
   "cell_type": "code",
   "execution_count": 12,
   "id": "4a40118e",
   "metadata": {},
   "outputs": [
    {
     "data": {
      "text/plain": [
       "['this', 'is', 'very', '']"
      ]
     },
     "execution_count": 12,
     "metadata": {},
     "output_type": "execute_result"
    }
   ],
   "source": [
    "a.split(\"RANDOM\")"
   ]
  },
  {
   "cell_type": "code",
   "execution_count": 13,
   "id": "d190e602",
   "metadata": {},
   "outputs": [
    {
     "data": {
      "text/plain": [
       "['thisRANDOMisRANDOMveryRANDOM']"
      ]
     },
     "execution_count": 13,
     "metadata": {},
     "output_type": "execute_result"
    }
   ],
   "source": [
    "a.split(\"random\")"
   ]
  },
  {
   "cell_type": "code",
   "execution_count": 8,
   "id": "7c6183b9",
   "metadata": {},
   "outputs": [],
   "source": [
    "a = \"this is very very weird. Why are we doing this?\""
   ]
  },
  {
   "cell_type": "code",
   "execution_count": 9,
   "id": "01879032",
   "metadata": {},
   "outputs": [
    {
     "data": {
      "text/plain": [
       "['this is v', 'ry v', 'ry w', 'ird. Why ar', ' w', ' doing this?']"
      ]
     },
     "execution_count": 9,
     "metadata": {},
     "output_type": "execute_result"
    }
   ],
   "source": [
    "a.split(\"e\")"
   ]
  },
  {
   "cell_type": "markdown",
   "id": "aa1b5946",
   "metadata": {},
   "source": [
    "## JOIN"
   ]
  },
  {
   "cell_type": "code",
   "execution_count": 15,
   "id": "a2e4c1d6",
   "metadata": {},
   "outputs": [],
   "source": [
    "a = \"this is a long string of words!\""
   ]
  },
  {
   "cell_type": "code",
   "execution_count": 17,
   "id": "57e7e4b1",
   "metadata": {},
   "outputs": [],
   "source": [
    "b = a.split(\" \")"
   ]
  },
  {
   "cell_type": "code",
   "execution_count": 18,
   "id": "ea01ba98",
   "metadata": {},
   "outputs": [
    {
     "data": {
      "text/plain": [
       "['this', 'is', 'a', 'long', 'string', 'of', 'words!']"
      ]
     },
     "execution_count": 18,
     "metadata": {},
     "output_type": "execute_result"
    }
   ],
   "source": [
    "b"
   ]
  },
  {
   "cell_type": "code",
   "execution_count": 19,
   "id": "af2daa46",
   "metadata": {},
   "outputs": [
    {
     "data": {
      "text/plain": [
       "'this+is+a+long+string+of+words!'"
      ]
     },
     "execution_count": 19,
     "metadata": {},
     "output_type": "execute_result"
    }
   ],
   "source": [
    "\"+\".join(b)"
   ]
  },
  {
   "cell_type": "code",
   "execution_count": 25,
   "id": "71ee0bc6",
   "metadata": {},
   "outputs": [],
   "source": [
    "def join_strings(a, joiner = \" \"):\n",
    "    result = \"\"\n",
    "    \n",
    "    for i in range(len(a)):\n",
    "        if i == 0:\n",
    "            result += a[i]\n",
    "        else:\n",
    "            result += joiner + a[i]\n",
    "        \n",
    "    return result"
   ]
  },
  {
   "cell_type": "code",
   "execution_count": 26,
   "id": "ac7ee62e",
   "metadata": {},
   "outputs": [
    {
     "data": {
      "text/plain": [
       "'this+is+a+long+string+of+words!'"
      ]
     },
     "execution_count": 26,
     "metadata": {},
     "output_type": "execute_result"
    }
   ],
   "source": [
    "join_strings(b, \"+\")"
   ]
  },
  {
   "cell_type": "code",
   "execution_count": 29,
   "id": "86e265cc",
   "metadata": {},
   "outputs": [],
   "source": [
    "a = [45, 67.8, True, \"string\", [1,2]]\n",
    "# Python join function only works with a list of strings"
   ]
  },
  {
   "cell_type": "code",
   "execution_count": 30,
   "id": "b5733e25",
   "metadata": {},
   "outputs": [
    {
     "ename": "TypeError",
     "evalue": "sequence item 0: expected str instance, int found",
     "output_type": "error",
     "traceback": [
      "\u001b[0;31m---------------------------------------------------------------------------\u001b[0m",
      "\u001b[0;31mTypeError\u001b[0m                                 Traceback (most recent call last)",
      "\u001b[0;32m/var/folders/nn/c52y0d3j0gq59dpsswchkt2r0000gn/T/ipykernel_31376/1781443001.py\u001b[0m in \u001b[0;36m<module>\u001b[0;34m\u001b[0m\n\u001b[0;32m----> 1\u001b[0;31m \u001b[0;34m\" \"\u001b[0m\u001b[0;34m.\u001b[0m\u001b[0mjoin\u001b[0m\u001b[0;34m(\u001b[0m\u001b[0ma\u001b[0m\u001b[0;34m)\u001b[0m\u001b[0;34m\u001b[0m\u001b[0;34m\u001b[0m\u001b[0m\n\u001b[0m",
      "\u001b[0;31mTypeError\u001b[0m: sequence item 0: expected str instance, int found"
     ]
    }
   ],
   "source": [
    "\" \".join(a)"
   ]
  },
  {
   "cell_type": "markdown",
   "id": "219fafcd",
   "metadata": {},
   "source": [
    "## FIND"
   ]
  },
  {
   "cell_type": "code",
   "execution_count": 31,
   "id": "fa24ed82",
   "metadata": {},
   "outputs": [],
   "source": [
    "a = \"this is a random string with various words!\""
   ]
  },
  {
   "cell_type": "code",
   "execution_count": 33,
   "id": "a895b16e",
   "metadata": {},
   "outputs": [
    {
     "data": {
      "text/plain": [
       "10"
      ]
     },
     "execution_count": 33,
     "metadata": {},
     "output_type": "execute_result"
    }
   ],
   "source": [
    "a.find(\"r\")\n",
    "# Returns index of the first instance of the character"
   ]
  },
  {
   "cell_type": "code",
   "execution_count": 35,
   "id": "cc59dff4",
   "metadata": {},
   "outputs": [
    {
     "data": {
      "text/plain": [
       "10"
      ]
     },
     "execution_count": 35,
     "metadata": {},
     "output_type": "execute_result"
    }
   ],
   "source": [
    "a.find(\"random string\")\n",
    "# Returns the starting index of a substring if substring is present"
   ]
  },
  {
   "cell_type": "code",
   "execution_count": 37,
   "id": "d73c6fb8",
   "metadata": {},
   "outputs": [
    {
     "data": {
      "text/plain": [
       "-1"
      ]
     },
     "execution_count": 37,
     "metadata": {},
     "output_type": "execute_result"
    }
   ],
   "source": [
    "a.find(\"FALTU SOMETHING\")\n",
    "# Returns -1 if substring is not present"
   ]
  },
  {
   "cell_type": "markdown",
   "id": "c465fe05",
   "metadata": {},
   "source": [
    "## Replace"
   ]
  },
  {
   "cell_type": "code",
   "execution_count": 38,
   "id": "5a33303e",
   "metadata": {},
   "outputs": [],
   "source": [
    "a = \"this is a random string with various random random words! random!\""
   ]
  },
  {
   "cell_type": "code",
   "execution_count": 40,
   "id": "715aaaf5",
   "metadata": {},
   "outputs": [
    {
     "data": {
      "text/plain": [
       "'this is a WEIRD string with various WEIRD WEIRD words! WEIRD!'"
      ]
     },
     "execution_count": 40,
     "metadata": {},
     "output_type": "execute_result"
    }
   ],
   "source": [
    "a.replace(\"random\", \"WEIRD\")\n",
    "# every instance of substring inside the string gets replaced"
   ]
  },
  {
   "cell_type": "code",
   "execution_count": 41,
   "id": "7591e4c4",
   "metadata": {},
   "outputs": [
    {
     "data": {
      "text/plain": [
       "'this is a random string with various random random words! random!'"
      ]
     },
     "execution_count": 41,
     "metadata": {},
     "output_type": "execute_result"
    }
   ],
   "source": [
    "a"
   ]
  },
  {
   "cell_type": "code",
   "execution_count": 42,
   "id": "d2eb4c66",
   "metadata": {},
   "outputs": [],
   "source": [
    "a = \"random string of values\""
   ]
  },
  {
   "cell_type": "code",
   "execution_count": 43,
   "id": "5d357f0b",
   "metadata": {},
   "outputs": [
    {
     "data": {
      "text/plain": [
       "'random,string,of,values'"
      ]
     },
     "execution_count": 43,
     "metadata": {},
     "output_type": "execute_result"
    }
   ],
   "source": [
    "a.replace(\" \", \",\")"
   ]
  },
  {
   "cell_type": "markdown",
   "id": "8870b02d",
   "metadata": {},
   "source": [
    "## Membership Operator"
   ]
  },
  {
   "cell_type": "code",
   "execution_count": 45,
   "id": "c9ca8550",
   "metadata": {},
   "outputs": [
    {
     "data": {
      "text/plain": [
       "False"
      ]
     },
     "execution_count": 45,
     "metadata": {},
     "output_type": "execute_result"
    }
   ],
   "source": [
    "5 in [1,2,3,4]"
   ]
  },
  {
   "cell_type": "code",
   "execution_count": 46,
   "id": "00d6b88b",
   "metadata": {},
   "outputs": [
    {
     "data": {
      "text/plain": [
       "True"
      ]
     },
     "execution_count": 46,
     "metadata": {},
     "output_type": "execute_result"
    }
   ],
   "source": [
    "\"amazing\" in \"I am amazing wohoo!\""
   ]
  },
  {
   "cell_type": "code",
   "execution_count": 48,
   "id": "b52fc67c",
   "metadata": {},
   "outputs": [
    {
     "data": {
      "text/plain": [
       "False"
      ]
     },
     "execution_count": 48,
     "metadata": {},
     "output_type": "execute_result"
    }
   ],
   "source": [
    "\"amazing\" in \"I AM AMAZING!\""
   ]
  },
  {
   "cell_type": "code",
   "execution_count": 50,
   "id": "f2865cbc",
   "metadata": {},
   "outputs": [
    {
     "data": {
      "text/plain": [
       "True"
      ]
     },
     "execution_count": 50,
     "metadata": {},
     "output_type": "execute_result"
    }
   ],
   "source": [
    "\"amazing\" in \"youallareamazing!\""
   ]
  },
  {
   "cell_type": "code",
   "execution_count": 52,
   "id": "70e19962",
   "metadata": {},
   "outputs": [
    {
     "data": {
      "text/plain": [
       "'\\nQuestion 1 - \\nReverse a sentence. A sentence is a string containing space separated words.\\n\\nINPUT = \"this is a sentence\"\\nOUTPUT = \"sentence a is this\"\\n'"
      ]
     },
     "execution_count": 52,
     "metadata": {},
     "output_type": "execute_result"
    }
   ],
   "source": [
    "'''\n",
    "Question 1 - \n",
    "Reverse a sentence. A sentence is a string containing space separated words.\n",
    "\n",
    "INPUT = \"this is a sentence\"\n",
    "OUTPUT = \"sentence a is this\"\n",
    "'''"
   ]
  },
  {
   "cell_type": "code",
   "execution_count": 55,
   "id": "1cf0c84c",
   "metadata": {},
   "outputs": [],
   "source": [
    "def reverse_sentence(a):\n",
    "    a = a.split(\" \")\n",
    "    a = a[::-1]\n",
    "    a = \" \".join(a)\n",
    "    \n",
    "    # a = \" \".join(a.split(\" \")[::-1])\n",
    "    \n",
    "    return a"
   ]
  },
  {
   "cell_type": "code",
   "execution_count": 56,
   "id": "281dd1b6",
   "metadata": {},
   "outputs": [
    {
     "data": {
      "text/plain": [
       "'sentence a is this'"
      ]
     },
     "execution_count": 56,
     "metadata": {},
     "output_type": "execute_result"
    }
   ],
   "source": [
    "reverse_sentence(\"this is a sentence\")"
   ]
  },
  {
   "cell_type": "markdown",
   "id": "25282308",
   "metadata": {},
   "source": [
    "## Some interesting functions"
   ]
  },
  {
   "cell_type": "code",
   "execution_count": 57,
   "id": "beb46763",
   "metadata": {},
   "outputs": [
    {
     "data": {
      "text/plain": [
       "True"
      ]
     },
     "execution_count": 57,
     "metadata": {},
     "output_type": "execute_result"
    }
   ],
   "source": [
    "\"6\".isdigit()"
   ]
  },
  {
   "cell_type": "code",
   "execution_count": 64,
   "id": "fd861946",
   "metadata": {},
   "outputs": [
    {
     "data": {
      "text/plain": [
       "True"
      ]
     },
     "execution_count": 64,
     "metadata": {},
     "output_type": "execute_result"
    }
   ],
   "source": [
    "\"6532754612\".isdigit() # returns True if every character inside the string is a digit"
   ]
  },
  {
   "cell_type": "code",
   "execution_count": 62,
   "id": "d69defe6",
   "metadata": {},
   "outputs": [
    {
     "data": {
      "text/plain": [
       "False"
      ]
     },
     "execution_count": 62,
     "metadata": {},
     "output_type": "execute_result"
    }
   ],
   "source": [
    "\"67 89\".isdigit()"
   ]
  },
  {
   "cell_type": "code",
   "execution_count": 63,
   "id": "e95a8f74",
   "metadata": {},
   "outputs": [
    {
     "data": {
      "text/plain": [
       "False"
      ]
     },
     "execution_count": 63,
     "metadata": {},
     "output_type": "execute_result"
    }
   ],
   "source": [
    "\"56.78\".isdigit()"
   ]
  },
  {
   "cell_type": "code",
   "execution_count": 66,
   "id": "adb19db9",
   "metadata": {},
   "outputs": [
    {
     "data": {
      "text/plain": [
       "True"
      ]
     },
     "execution_count": 66,
     "metadata": {},
     "output_type": "execute_result"
    }
   ],
   "source": [
    "\"ehfgjshgdfhjaghhjfajg\".isalpha()\n",
    "# returns True if every character in the string is an alphabet"
   ]
  },
  {
   "cell_type": "code",
   "execution_count": 67,
   "id": "b0f6a6b2",
   "metadata": {},
   "outputs": [
    {
     "data": {
      "text/plain": [
       "False"
      ]
     },
     "execution_count": 67,
     "metadata": {},
     "output_type": "execute_result"
    }
   ],
   "source": [
    "\"dgfsdfsh3456789\".isalpha()"
   ]
  },
  {
   "cell_type": "code",
   "execution_count": 68,
   "id": "2a358b1d",
   "metadata": {},
   "outputs": [
    {
     "data": {
      "text/plain": [
       "False"
      ]
     },
     "execution_count": 68,
     "metadata": {},
     "output_type": "execute_result"
    }
   ],
   "source": [
    "\"A\".islower()"
   ]
  },
  {
   "cell_type": "code",
   "execution_count": 69,
   "id": "7fa75e0a",
   "metadata": {},
   "outputs": [
    {
     "data": {
      "text/plain": [
       "True"
      ]
     },
     "execution_count": 69,
     "metadata": {},
     "output_type": "execute_result"
    }
   ],
   "source": [
    "\"a\".islower()"
   ]
  },
  {
   "cell_type": "code",
   "execution_count": 70,
   "id": "787c567b",
   "metadata": {},
   "outputs": [
    {
     "data": {
      "text/plain": [
       "True"
      ]
     },
     "execution_count": 70,
     "metadata": {},
     "output_type": "execute_result"
    }
   ],
   "source": [
    "\"A\".isupper()"
   ]
  },
  {
   "cell_type": "code",
   "execution_count": 71,
   "id": "64e42cfc",
   "metadata": {},
   "outputs": [
    {
     "data": {
      "text/plain": [
       "False"
      ]
     },
     "execution_count": 71,
     "metadata": {},
     "output_type": "execute_result"
    }
   ],
   "source": [
    "\"a\".isupper()"
   ]
  },
  {
   "cell_type": "code",
   "execution_count": 72,
   "id": "4c379255",
   "metadata": {},
   "outputs": [
    {
     "data": {
      "text/plain": [
       "'\\nQuestion 2 - \\n1. Create a isalphanumeric() function.\\n2. It takes a string as input.\\n    - If all characters in the string are either digits or alphabets -> TRUE\\n    - If any character is different -> FALSE\\n'"
      ]
     },
     "execution_count": 72,
     "metadata": {},
     "output_type": "execute_result"
    }
   ],
   "source": [
    "'''\n",
    "Question 2 - \n",
    "1. Create a isalphanumeric() function.\n",
    "2. It takes a string as input.\n",
    "    - If all characters in the string are either digits or alphabets -> TRUE\n",
    "    - If any character is different -> FALSE\n",
    "'''"
   ]
  },
  {
   "cell_type": "code",
   "execution_count": 74,
   "id": "89667f6e",
   "metadata": {},
   "outputs": [],
   "source": [
    "def isalphanumeric(a):\n",
    "    for i in a:\n",
    "        if not (i.isalpha() or i.isdigit()):\n",
    "            return False\n",
    "        \n",
    "    return True"
   ]
  },
  {
   "cell_type": "code",
   "execution_count": 75,
   "id": "738de899",
   "metadata": {},
   "outputs": [
    {
     "data": {
      "text/plain": [
       "True"
      ]
     },
     "execution_count": 75,
     "metadata": {},
     "output_type": "execute_result"
    }
   ],
   "source": [
    "isalphanumeric(\"ahgdfuagduya452362154732sdhg\")"
   ]
  },
  {
   "cell_type": "code",
   "execution_count": 76,
   "id": "37b5fd8f",
   "metadata": {},
   "outputs": [
    {
     "data": {
      "text/plain": [
       "False"
      ]
     },
     "execution_count": 76,
     "metadata": {},
     "output_type": "execute_result"
    }
   ],
   "source": [
    "isalphanumeric(\"@#$%^&hdsgfhsdg\")"
   ]
  },
  {
   "cell_type": "code",
   "execution_count": 77,
   "id": "6ee5355a",
   "metadata": {},
   "outputs": [
    {
     "data": {
      "text/plain": [
       "True"
      ]
     },
     "execution_count": 77,
     "metadata": {},
     "output_type": "execute_result"
    }
   ],
   "source": [
    "\" \".isspace()"
   ]
  },
  {
   "cell_type": "code",
   "execution_count": 78,
   "id": "ad4bcb87",
   "metadata": {},
   "outputs": [
    {
     "data": {
      "text/plain": [
       "False"
      ]
     },
     "execution_count": 78,
     "metadata": {},
     "output_type": "execute_result"
    }
   ],
   "source": [
    "\"a\".isspace()"
   ]
  },
  {
   "cell_type": "code",
   "execution_count": 79,
   "id": "00bbc147",
   "metadata": {},
   "outputs": [
    {
     "data": {
      "text/plain": [
       "True"
      ]
     },
     "execution_count": 79,
     "metadata": {},
     "output_type": "execute_result"
    }
   ],
   "source": [
    "\"       \".isspace()"
   ]
  },
  {
   "cell_type": "code",
   "execution_count": 81,
   "id": "10e1d59a",
   "metadata": {},
   "outputs": [
    {
     "data": {
      "text/plain": [
       "'\\nQuestion 3 - \\nCustom Replace (Character Only) - \\nFunctions should take 3 arguments, a string, \\na character to be replaced (c) and a replacement character (r).\\n\\nIt should replace all instances of c with r.\\n\\nINPUT - \"randomr\", c = \"r\", r = \"m\"\\nOUTPUT - \"mandomm\"\\n'"
      ]
     },
     "execution_count": 81,
     "metadata": {},
     "output_type": "execute_result"
    }
   ],
   "source": [
    "'''\n",
    "Question 3 - \n",
    "Custom Replace (Character Only) - \n",
    "Functions should take 3 arguments, a string, \n",
    "a character to be replaced (c) and a replacement character (r).\n",
    "\n",
    "It should replace all instances of c with r.\n",
    "\n",
    "INPUT - \"randomr\", c = \"r\", r = \"m\"\n",
    "OUTPUT - \"mandomm\"\n",
    "'''"
   ]
  },
  {
   "cell_type": "code",
   "execution_count": 84,
   "id": "05cca8e8",
   "metadata": {},
   "outputs": [],
   "source": [
    "a = \"random\" # strings are immutable"
   ]
  },
  {
   "cell_type": "code",
   "execution_count": 85,
   "id": "a1e24932",
   "metadata": {},
   "outputs": [
    {
     "ename": "TypeError",
     "evalue": "'str' object does not support item assignment",
     "output_type": "error",
     "traceback": [
      "\u001b[0;31m---------------------------------------------------------------------------\u001b[0m",
      "\u001b[0;31mTypeError\u001b[0m                                 Traceback (most recent call last)",
      "\u001b[0;32m/var/folders/nn/c52y0d3j0gq59dpsswchkt2r0000gn/T/ipykernel_31376/3445723331.py\u001b[0m in \u001b[0;36m<module>\u001b[0;34m\u001b[0m\n\u001b[0;32m----> 1\u001b[0;31m \u001b[0ma\u001b[0m\u001b[0;34m[\u001b[0m\u001b[0;36m4\u001b[0m\u001b[0;34m]\u001b[0m \u001b[0;34m=\u001b[0m \u001b[0;34m\"m\"\u001b[0m\u001b[0;34m\u001b[0m\u001b[0;34m\u001b[0m\u001b[0m\n\u001b[0m",
      "\u001b[0;31mTypeError\u001b[0m: 'str' object does not support item assignment"
     ]
    }
   ],
   "source": [
    "a[4] = \"m\""
   ]
  },
  {
   "cell_type": "code",
   "execution_count": 89,
   "id": "ece6a7cf",
   "metadata": {},
   "outputs": [
    {
     "data": {
      "text/plain": [
       "'\\na = \"bipin\"\\ninitial = \"i\"\\nfinal = \"a\"\\n\\nresult = \"\"\\n\\n1. i = \"b\"\\n    - \"b\" == \"i\" -> FALSE\\n    - result += \"b\" -> result = \"b\"\\n    \\n2. i = \"i\"\\n    - \"i\" == \"i\" -> TRUE\\n    - result += \"a\" -> \"ba\"\\n    \\n3. i = \"p\"\\n    - \"p\" == \"i\" -> FALSE\\n    - result += \"p\" -> \"bap\"\\n'"
      ]
     },
     "execution_count": 89,
     "metadata": {},
     "output_type": "execute_result"
    }
   ],
   "source": [
    "def replace_character(a, initial = \"m \", final = \" \"):\n",
    "    result = \"\"\n",
    "    \n",
    "    for i in a:\n",
    "        if i == initial:\n",
    "            result += final\n",
    "        else:\n",
    "            result += i\n",
    "    \n",
    "    return result\n",
    "\n",
    "\n",
    "'''\n",
    "a = \"bipin\"\n",
    "initial = \"i\"\n",
    "final = \"a\"\n",
    "\n",
    "result = \"\"\n",
    "\n",
    "1. i = \"b\"\n",
    "    - \"b\" == \"i\" -> FALSE\n",
    "    - result += \"b\" -> result = \"b\"\n",
    "    \n",
    "2. i = \"i\"\n",
    "    - \"i\" == \"i\" -> TRUE\n",
    "    - result += \"a\" -> \"ba\"\n",
    "    \n",
    "3. i = \"p\"\n",
    "    - \"p\" == \"i\" -> FALSE\n",
    "    - result += \"p\" -> \"bap\"\n",
    "'''"
   ]
  },
  {
   "cell_type": "code",
   "execution_count": 90,
   "id": "87fcebcc",
   "metadata": {},
   "outputs": [
    {
     "data": {
      "text/plain": [
       "'bapan'"
      ]
     },
     "execution_count": 90,
     "metadata": {},
     "output_type": "execute_result"
    }
   ],
   "source": [
    "replace_character(\"bipin\", \"i\", \"a\")"
   ]
  },
  {
   "cell_type": "markdown",
   "id": "a7180c30",
   "metadata": {},
   "source": [
    "## Glossary of string methods\n",
    "\n",
    "1. **split** -> `\"this is a string\".split(\" \")` -> string to a list\n",
    "\n",
    "2. **join** -> `\" \".join([\"list\", \"of\", \"strings\"])` -> list of strings to a string\n",
    "\n",
    "3. **replace** -> \"this is a string\".replace(\" \", \"_\") -> replaces all occurences of the first character by the second character. IMP - CREATES A NEW STRING\n",
    "\n",
    "4. **find** -> \"this is a string\".find(\" a \") -> Finds the exact sequence or substring in the original string and returns the starting index of that substring.\n",
    "\n",
    "5. **count** -> \"this is a string\".count(\"a\") -> Counts the number of times a character or substring is present within a string\n",
    "\n",
    "6. **isdigit** -> True if content inside the string is only digits.\n",
    "\n",
    "7. **isalpha** -> True if content inside the string is only alphabets.\n",
    "\n",
    "8. **islower** / **isupper** -> True if content inside the string is all lower case / all upper case\n",
    "\n",
    "9. **isspace** -> True if the character is a space\n",
    "\n",
    "10. lower / *upper** -> Converts a string to lowercase / uppercase\n",
    "\n",
    "### Special Mention\n",
    "\n",
    "11. \"random\" in \"this is random!\" -> MEMBERSHIP OPERATOR - True if operand1 is present inside operand2."
   ]
  },
  {
   "cell_type": "code",
   "execution_count": null,
   "id": "839e5f12",
   "metadata": {},
   "outputs": [],
   "source": []
  }
 ],
 "metadata": {
  "kernelspec": {
   "display_name": "Python 3 (ipykernel)",
   "language": "python",
   "name": "python3"
  },
  "language_info": {
   "codemirror_mode": {
    "name": "ipython",
    "version": 3
   },
   "file_extension": ".py",
   "mimetype": "text/x-python",
   "name": "python",
   "nbconvert_exporter": "python",
   "pygments_lexer": "ipython3",
   "version": "3.9.5"
  }
 },
 "nbformat": 4,
 "nbformat_minor": 5
}
