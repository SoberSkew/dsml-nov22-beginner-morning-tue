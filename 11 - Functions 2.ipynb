{
 "cells": [
  {
   "cell_type": "code",
   "execution_count": 2,
   "id": "97d3b199",
   "metadata": {},
   "outputs": [],
   "source": [
    "def random():\n",
    "    return True\n",
    "\n",
    "def random2():\n",
    "    print(True)"
   ]
  },
  {
   "cell_type": "code",
   "execution_count": 4,
   "id": "086a3188",
   "metadata": {},
   "outputs": [
    {
     "name": "stdout",
     "output_type": "stream",
     "text": [
      "True\n"
     ]
    }
   ],
   "source": [
    "result1 = random()\n",
    "result2 = random2()\n",
    "\n",
    "# The True which is printed comes in from the print statement of random2"
   ]
  },
  {
   "cell_type": "code",
   "execution_count": 5,
   "id": "94153a2a",
   "metadata": {},
   "outputs": [
    {
     "name": "stdout",
     "output_type": "stream",
     "text": [
      "True\n"
     ]
    }
   ],
   "source": [
    "print(result1)"
   ]
  },
  {
   "cell_type": "code",
   "execution_count": 6,
   "id": "69f7eb62",
   "metadata": {},
   "outputs": [
    {
     "name": "stdout",
     "output_type": "stream",
     "text": [
      "None\n"
     ]
    }
   ],
   "source": [
    "print(result2)"
   ]
  },
  {
   "cell_type": "code",
   "execution_count": 10,
   "id": "b6168bfd",
   "metadata": {},
   "outputs": [],
   "source": [
    "a = 10\n",
    "b = a"
   ]
  },
  {
   "cell_type": "code",
   "execution_count": 11,
   "id": "a3b6c1ff",
   "metadata": {},
   "outputs": [],
   "source": [
    "b = 15"
   ]
  },
  {
   "cell_type": "code",
   "execution_count": 12,
   "id": "e7820947",
   "metadata": {},
   "outputs": [
    {
     "data": {
      "text/plain": [
       "10"
      ]
     },
     "execution_count": 12,
     "metadata": {},
     "output_type": "execute_result"
    }
   ],
   "source": [
    "a"
   ]
  },
  {
   "cell_type": "code",
   "execution_count": 9,
   "id": "98493abb",
   "metadata": {},
   "outputs": [
    {
     "name": "stdout",
     "output_type": "stream",
     "text": [
      "40\n"
     ]
    }
   ],
   "source": [
    "# Example 1 ->\n",
    "\n",
    "a = 40\n",
    "\n",
    "def calculator(number):\n",
    "    return number * 10\n",
    "\n",
    "calculator(a)\n",
    "print(a)\n",
    "# print(number)\n",
    "\n",
    "\n",
    "# Explanation\n",
    "# calculator(a) -> number = a\n",
    "# number * 10"
   ]
  },
  {
   "cell_type": "code",
   "execution_count": 14,
   "id": "4576fc58",
   "metadata": {},
   "outputs": [
    {
     "ename": "NameError",
     "evalue": "name 'number' is not defined",
     "output_type": "error",
     "traceback": [
      "\u001b[0;31m---------------------------------------------------------------------------\u001b[0m",
      "\u001b[0;31mNameError\u001b[0m                                 Traceback (most recent call last)",
      "\u001b[0;32m/var/folders/nn/c52y0d3j0gq59dpsswchkt2r0000gn/T/ipykernel_41249/3096201968.py\u001b[0m in \u001b[0;36m<module>\u001b[0;34m\u001b[0m\n\u001b[1;32m      8\u001b[0m \u001b[0mcalculator\u001b[0m\u001b[0;34m(\u001b[0m\u001b[0ma\u001b[0m\u001b[0;34m)\u001b[0m\u001b[0;34m\u001b[0m\u001b[0;34m\u001b[0m\u001b[0m\n\u001b[1;32m      9\u001b[0m \u001b[0;31m# print(a)\u001b[0m\u001b[0;34m\u001b[0m\u001b[0;34m\u001b[0m\u001b[0;34m\u001b[0m\u001b[0m\n\u001b[0;32m---> 10\u001b[0;31m \u001b[0mprint\u001b[0m\u001b[0;34m(\u001b[0m\u001b[0mnumber\u001b[0m\u001b[0;34m)\u001b[0m\u001b[0;34m\u001b[0m\u001b[0;34m\u001b[0m\u001b[0m\n\u001b[0m",
      "\u001b[0;31mNameError\u001b[0m: name 'number' is not defined"
     ]
    }
   ],
   "source": [
    "# Example 2 ->\n",
    "\n",
    "a = 40\n",
    "\n",
    "def calculator(number):\n",
    "    return number * 10\n",
    "\n",
    "calculator(a)\n",
    "# print(a)\n",
    "print(number)"
   ]
  },
  {
   "cell_type": "code",
   "execution_count": 17,
   "id": "7fc461e4",
   "metadata": {},
   "outputs": [
    {
     "name": "stdout",
     "output_type": "stream",
     "text": [
      "50\n"
     ]
    },
    {
     "data": {
      "text/plain": [
       "'BIG'"
      ]
     },
     "execution_count": 17,
     "metadata": {},
     "output_type": "execute_result"
    }
   ],
   "source": [
    "a = int(input())\n",
    "\n",
    "def simple_function(a):\n",
    "    if a <= 10:\n",
    "        return \"SMALL\"\n",
    "    else:\n",
    "        return \"BIG\"\n",
    "    \n",
    "simple_function(a)"
   ]
  },
  {
   "cell_type": "code",
   "execution_count": 19,
   "id": "5cec1c6c",
   "metadata": {},
   "outputs": [],
   "source": [
    "def introduce_family(my_name, sibling_name, father_name, mother_name):\n",
    "    '''\n",
    "    Family Introduction Function. Takes 4 arguments - \n",
    "    my_name, sibling_name, father_name, mother_name\n",
    "    \n",
    "    Prints introduction for all 4 family members.\n",
    "    '''\n",
    "    \n",
    "    print(\"My name is\", my_name)\n",
    "    print(\"My sibling's name is\", sibling_name)\n",
    "    print(\"My father's name is\", father_name)\n",
    "    print(\"My mother's name is\", mother_name)"
   ]
  },
  {
   "cell_type": "code",
   "execution_count": 24,
   "id": "942df0ff",
   "metadata": {},
   "outputs": [],
   "source": [
    "# help(introduce_family)"
   ]
  },
  {
   "cell_type": "code",
   "execution_count": 21,
   "id": "8098d73c",
   "metadata": {},
   "outputs": [],
   "source": [
    "# KEYWORDED ARGUMENTS"
   ]
  },
  {
   "cell_type": "code",
   "execution_count": 22,
   "id": "17d50f55",
   "metadata": {},
   "outputs": [
    {
     "name": "stdout",
     "output_type": "stream",
     "text": [
      "My name is Bipin\n",
      "My sibling's name is Vidhi\n",
      "My father's name is Deepak\n",
      "My mother's name is Deepa\n"
     ]
    }
   ],
   "source": [
    "introduce_family(\"Bipin\", \"Vidhi\", \"Deepak\", \"Deepa\")"
   ]
  },
  {
   "cell_type": "code",
   "execution_count": 23,
   "id": "27167e6a",
   "metadata": {},
   "outputs": [
    {
     "name": "stdout",
     "output_type": "stream",
     "text": [
      "My name is Bipin\n",
      "My sibling's name is Vidhi\n",
      "My father's name is Deepak\n",
      "My mother's name is Deepa\n"
     ]
    }
   ],
   "source": [
    "introduce_family(my_name = \"Bipin\", father_name = \"Deepak\", mother_name = \"Deepa\", sibling_name = \"Vidhi\")"
   ]
  },
  {
   "cell_type": "code",
   "execution_count": 25,
   "id": "46f462cd",
   "metadata": {},
   "outputs": [
    {
     "name": "stdout",
     "output_type": "stream",
     "text": [
      "My name is Bipin\n",
      "My sibling's name is Vidhi\n",
      "My father's name is Deepak\n",
      "My mother's name is Deepa\n"
     ]
    }
   ],
   "source": [
    "introduce_family(\n",
    "    my_name = \"Bipin\",\n",
    "    father_name = \"Deepak\",\n",
    "    mother_name = \"Deepa\",\n",
    "    sibling_name = \"Vidhi\"\n",
    ")"
   ]
  },
  {
   "cell_type": "code",
   "execution_count": 26,
   "id": "26b67308",
   "metadata": {},
   "outputs": [],
   "source": [
    "def random(a, b, c, d):\n",
    "    print(\"a ->\", a)\n",
    "    print(\"b ->\", b)\n",
    "    print(\"c ->\", c)\n",
    "    print(\"d ->\", d)"
   ]
  },
  {
   "cell_type": "code",
   "execution_count": 27,
   "id": "7dfab7c9",
   "metadata": {},
   "outputs": [
    {
     "ename": "SyntaxError",
     "evalue": "positional argument follows keyword argument (4058565175.py, line 1)",
     "output_type": "error",
     "traceback": [
      "\u001b[0;36m  File \u001b[0;32m\"/var/folders/nn/c52y0d3j0gq59dpsswchkt2r0000gn/T/ipykernel_41249/4058565175.py\"\u001b[0;36m, line \u001b[0;32m1\u001b[0m\n\u001b[0;31m    random(b = 6, c = 7, d = 8, 9)\u001b[0m\n\u001b[0m                                 ^\u001b[0m\n\u001b[0;31mSyntaxError\u001b[0m\u001b[0;31m:\u001b[0m positional argument follows keyword argument\n"
     ]
    }
   ],
   "source": [
    "random(b = 6, c = 7, d = 8, 9)"
   ]
  },
  {
   "cell_type": "code",
   "execution_count": 28,
   "id": "3d501e77",
   "metadata": {},
   "outputs": [
    {
     "name": "stdout",
     "output_type": "stream",
     "text": [
      "a -> 9\n",
      "b -> 7\n",
      "c -> 5\n",
      "d -> 6\n"
     ]
    }
   ],
   "source": [
    "random(9, 7, d = 6, c = 5)"
   ]
  },
  {
   "cell_type": "code",
   "execution_count": 29,
   "id": "1fdecce1",
   "metadata": {},
   "outputs": [
    {
     "ename": "TypeError",
     "evalue": "random() got multiple values for argument 'b'",
     "output_type": "error",
     "traceback": [
      "\u001b[0;31m---------------------------------------------------------------------------\u001b[0m",
      "\u001b[0;31mTypeError\u001b[0m                                 Traceback (most recent call last)",
      "\u001b[0;32m/var/folders/nn/c52y0d3j0gq59dpsswchkt2r0000gn/T/ipykernel_41249/2615661076.py\u001b[0m in \u001b[0;36m<module>\u001b[0;34m\u001b[0m\n\u001b[0;32m----> 1\u001b[0;31m \u001b[0mrandom\u001b[0m\u001b[0;34m(\u001b[0m\u001b[0;36m9\u001b[0m\u001b[0;34m,\u001b[0m \u001b[0;36m7\u001b[0m\u001b[0;34m,\u001b[0m \u001b[0mb\u001b[0m \u001b[0;34m=\u001b[0m \u001b[0;36m8\u001b[0m\u001b[0;34m,\u001b[0m \u001b[0md\u001b[0m \u001b[0;34m=\u001b[0m \u001b[0;36m6\u001b[0m\u001b[0;34m)\u001b[0m\u001b[0;34m\u001b[0m\u001b[0;34m\u001b[0m\u001b[0m\n\u001b[0m",
      "\u001b[0;31mTypeError\u001b[0m: random() got multiple values for argument 'b'"
     ]
    }
   ],
   "source": [
    "random(9, 7, b = 8, d = 6)"
   ]
  },
  {
   "cell_type": "code",
   "execution_count": 30,
   "id": "c812101b",
   "metadata": {},
   "outputs": [],
   "source": [
    "def simple_interest(p, r, t):\n",
    "    interest = (p * r * t) / 100\n",
    "    \n",
    "    return interest"
   ]
  },
  {
   "cell_type": "code",
   "execution_count": 31,
   "id": "4f1ca0f9",
   "metadata": {},
   "outputs": [
    {
     "ename": "TypeError",
     "evalue": "simple_interest() missing 1 required positional argument: 't'",
     "output_type": "error",
     "traceback": [
      "\u001b[0;31m---------------------------------------------------------------------------\u001b[0m",
      "\u001b[0;31mTypeError\u001b[0m                                 Traceback (most recent call last)",
      "\u001b[0;32m/var/folders/nn/c52y0d3j0gq59dpsswchkt2r0000gn/T/ipykernel_41249/1519175884.py\u001b[0m in \u001b[0;36m<module>\u001b[0;34m\u001b[0m\n\u001b[0;32m----> 1\u001b[0;31m \u001b[0msimple_interest\u001b[0m\u001b[0;34m(\u001b[0m\u001b[0;36m5000\u001b[0m\u001b[0;34m,\u001b[0m \u001b[0;36m3\u001b[0m\u001b[0;34m)\u001b[0m\u001b[0;34m\u001b[0m\u001b[0;34m\u001b[0m\u001b[0m\n\u001b[0m",
      "\u001b[0;31mTypeError\u001b[0m: simple_interest() missing 1 required positional argument: 't'"
     ]
    }
   ],
   "source": [
    "simple_interest(5000, 3)"
   ]
  },
  {
   "cell_type": "code",
   "execution_count": 32,
   "id": "503f7a9c",
   "metadata": {},
   "outputs": [],
   "source": [
    "def simple_interest(p, r, t = 2): # providing a default value for t\n",
    "    interest = (p * r * t) / 100\n",
    "    \n",
    "    return interest"
   ]
  },
  {
   "cell_type": "code",
   "execution_count": 34,
   "id": "de36a200",
   "metadata": {},
   "outputs": [
    {
     "data": {
      "text/plain": [
       "300.0"
      ]
     },
     "execution_count": 34,
     "metadata": {},
     "output_type": "execute_result"
    }
   ],
   "source": [
    "simple_interest(5000, 3) # t = 2 was taken by default since t was not provided."
   ]
  },
  {
   "cell_type": "code",
   "execution_count": 35,
   "id": "b2105809",
   "metadata": {},
   "outputs": [
    {
     "data": {
      "text/plain": [
       "1500.0"
      ]
     },
     "execution_count": 35,
     "metadata": {},
     "output_type": "execute_result"
    }
   ],
   "source": [
    "simple_interest(5000, 3, 10) # t = 10 since custom value was provided."
   ]
  },
  {
   "cell_type": "code",
   "execution_count": 36,
   "id": "73890dbb",
   "metadata": {},
   "outputs": [
    {
     "ename": "SyntaxError",
     "evalue": "non-default argument follows default argument (2281321899.py, line 1)",
     "output_type": "error",
     "traceback": [
      "\u001b[0;36m  File \u001b[0;32m\"/var/folders/nn/c52y0d3j0gq59dpsswchkt2r0000gn/T/ipykernel_41249/2281321899.py\"\u001b[0;36m, line \u001b[0;32m1\u001b[0m\n\u001b[0;31m    def simple_interest(p, r = 3, t):\u001b[0m\n\u001b[0m                                   ^\u001b[0m\n\u001b[0;31mSyntaxError\u001b[0m\u001b[0;31m:\u001b[0m non-default argument follows default argument\n"
     ]
    }
   ],
   "source": [
    "def simple_interest(p, r = 3, t):\n",
    "    interest = (p * r * t) / 100\n",
    "    \n",
    "    return interest"
   ]
  },
  {
   "cell_type": "code",
   "execution_count": null,
   "id": "170b69ca",
   "metadata": {},
   "outputs": [],
   "source": [
    "FIXES ->\n",
    "1. Have default arguments at the end\n",
    "# 2. Have default values for every argument after a default argument"
   ]
  }
 ],
 "metadata": {
  "kernelspec": {
   "display_name": "Python 3 (ipykernel)",
   "language": "python",
   "name": "python3"
  },
  "language_info": {
   "codemirror_mode": {
    "name": "ipython",
    "version": 3
   },
   "file_extension": ".py",
   "mimetype": "text/x-python",
   "name": "python",
   "nbconvert_exporter": "python",
   "pygments_lexer": "ipython3",
   "version": "3.9.5"
  }
 },
 "nbformat": 4,
 "nbformat_minor": 5
}
