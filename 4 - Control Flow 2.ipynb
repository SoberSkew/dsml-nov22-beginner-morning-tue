{
 "cells": [
  {
   "cell_type": "code",
   "execution_count": 1,
   "id": "0050058a",
   "metadata": {},
   "outputs": [
    {
     "data": {
      "text/plain": [
       "'\\nQuestion 1 - \\nFIZZBUZZ - \\n1. Take an integer input n\\n2. If N is a multiple of 3 -> print FIZZ\\n3. If N is a multiple of 5 -> print BUZZ\\n4. If N is a multiple of both 3 and 5 -> FIZZBUZZ\\n\\nOtherwise print nothing.\\n'"
      ]
     },
     "execution_count": 1,
     "metadata": {},
     "output_type": "execute_result"
    }
   ],
   "source": [
    "'''\n",
    "Question 1 - \n",
    "FIZZBUZZ - \n",
    "1. Take an integer input n\n",
    "2. If N is a multiple of 3 -> print FIZZ\n",
    "3. If N is a multiple of 5 -> print BUZZ\n",
    "4. If N is a multiple of both 3 and 5 -> FIZZBUZZ\n",
    "\n",
    "Otherwise print nothing.\n",
    "'''"
   ]
  },
  {
   "cell_type": "code",
   "execution_count": 4,
   "id": "d7abcf09",
   "metadata": {},
   "outputs": [
    {
     "name": "stdout",
     "output_type": "stream",
     "text": [
      "15\n",
      "FIZZ\n"
     ]
    }
   ],
   "source": [
    "n = int(input())\n",
    "\n",
    "if n % 3 == 0:\n",
    "    print(\"FIZZ\")\n",
    "elif n % 5 == 0:\n",
    "    print(\"BUZZ\")\n",
    "elif n % 3 == 0 and n % 5 == 0:\n",
    "    print(\"FIZZBUZZ\")\n",
    "else:\n",
    "    print()"
   ]
  },
  {
   "cell_type": "code",
   "execution_count": 9,
   "id": "267ac02d",
   "metadata": {},
   "outputs": [
    {
     "name": "stdout",
     "output_type": "stream",
     "text": [
      "15\n",
      "FIZZBUZZ\n"
     ]
    }
   ],
   "source": [
    "n = int(input())\n",
    "\n",
    "if n % 3 == 0 and n % 5 == 0:\n",
    "    print(\"FIZZBUZZ\")\n",
    "elif n % 5 == 0:\n",
    "    print(\"BUZZ\")\n",
    "elif n % 3 == 0:\n",
    "    print(\"FIZZ\")\n",
    "else:\n",
    "    print()"
   ]
  },
  {
   "cell_type": "code",
   "execution_count": 10,
   "id": "2da52029",
   "metadata": {},
   "outputs": [
    {
     "data": {
      "text/plain": [
       "'\\nQuestion 2 - \\nWhat will be the output of the following code?\\n\\na = 50\\nif a > 40:\\n    print(\"A\")\\nif a > 30:\\n    print(\"B\")\\nif a > 20:\\n    print(\"C\")\\n'"
      ]
     },
     "execution_count": 10,
     "metadata": {},
     "output_type": "execute_result"
    }
   ],
   "source": [
    "'''\n",
    "Question 2 - \n",
    "What will be the output of the following code?\n",
    "\n",
    "a = 50\n",
    "if a > 40:\n",
    "    print(\"A\")\n",
    "if a > 30:\n",
    "    print(\"B\")\n",
    "if a > 20:\n",
    "    print(\"C\")\n",
    "'''"
   ]
  },
  {
   "cell_type": "code",
   "execution_count": 11,
   "id": "a67cdefa",
   "metadata": {},
   "outputs": [
    {
     "name": "stdout",
     "output_type": "stream",
     "text": [
      "A\n",
      "B\n",
      "C\n"
     ]
    }
   ],
   "source": [
    "a = 50\n",
    "\n",
    "if a > 40:\n",
    "    print(\"A\")\n",
    "    \n",
    "if a > 30:\n",
    "    print(\"B\")\n",
    "    \n",
    "if a > 20:\n",
    "    print(\"C\")"
   ]
  },
  {
   "cell_type": "code",
   "execution_count": 12,
   "id": "b70f0413",
   "metadata": {},
   "outputs": [
    {
     "name": "stdout",
     "output_type": "stream",
     "text": [
      "A\n"
     ]
    }
   ],
   "source": [
    "a = 50\n",
    "\n",
    "if a > 40:\n",
    "    print(\"A\")\n",
    "elif a > 30:\n",
    "    print(\"B\")\n",
    "elif a > 20:\n",
    "    print(\"C\")"
   ]
  },
  {
   "cell_type": "code",
   "execution_count": 13,
   "id": "7a98fa18",
   "metadata": {},
   "outputs": [
    {
     "data": {
      "text/plain": [
       "'\\nQuestion 3 - \\nTake in three inputs from a user which are marks in english, maths and science.\\nAssign streams according to the following criteria.\\n- if science > 90 or marks in all subjects are greater than equal to 75 -> Science\\n- if marks in all subjects are greater than 60 and less than 75 -> Commerce\\n- if marks in any are less than 60 -> Humanities\\n'"
      ]
     },
     "execution_count": 13,
     "metadata": {},
     "output_type": "execute_result"
    }
   ],
   "source": [
    "'''\n",
    "Question 3 - \n",
    "Take in three inputs from a user which are marks in english, maths and science.\n",
    "Assign streams according to the following criteria.\n",
    "- if science > 90 or marks in all subjects are greater than equal to 75 -> Science\n",
    "- if marks in all subjects are greater than 60 -> Commerce\n",
    "- if marks in any are less than or equal to 60 -> Humanities\n",
    "'''"
   ]
  },
  {
   "cell_type": "code",
   "execution_count": 17,
   "id": "c3c7e308",
   "metadata": {},
   "outputs": [
    {
     "name": "stdout",
     "output_type": "stream",
     "text": [
      "Marks in Maths - 60\n",
      "Marks in Science - 60\n",
      "Marks in English - 60\n",
      "Humanity\n"
     ]
    }
   ],
   "source": [
    "m = int(input(\"Marks in Maths - \"))\n",
    "s = int(input(\"Marks in Science - \"))\n",
    "e = int(input(\"Marks in English - \"))\n",
    "\n",
    "if s > 90 or (s >= 75 and e >= 75 and m >= 75):\n",
    "    print(\"Science\")\n",
    "elif s > 60 and m > 60 and e > 60:\n",
    "    print(\"Commerce\")\n",
    "else:\n",
    "    print(\"Humanity\")"
   ]
  },
  {
   "cell_type": "code",
   "execution_count": 18,
   "id": "61f48de4",
   "metadata": {},
   "outputs": [
    {
     "data": {
      "text/plain": [
       "'\\nBONUS QUESTIONS - \\n1. Build a meter system for an auto. Take into two inputs. \\nKilometers Travelled and Stall Time (in minutes). Rate List -\\n- First 10 kms - Rs 10 per Km\\n- Next 40 kms - Rs 9 per Km\\n- Next 100 kms - Rs 8 per Km\\n- Any leftover km count - Rs. 6 per Km\\n\\n- Rs 5 extra for every minute of Stall Time.\\n\\n------------------------------------------\\n\\n2. Generate electricity bill using the following rate card.\\nTake units consumed as input -\\n- If < 100 units -> Free\\n- If >= 100 units and < 200 units -> Rs 2 per unit\\n- If >= 200 units -> Rs 5 per unit\\n\\n'"
      ]
     },
     "execution_count": 18,
     "metadata": {},
     "output_type": "execute_result"
    }
   ],
   "source": [
    "'''\n",
    "BONUS QUESTIONS - \n",
    "1. Build a meter system for an auto. Take into two inputs. \n",
    "Kilometers Travelled and Stall Time (in minutes). Rate List -\n",
    "- First 10 kms - Rs 10 per Km\n",
    "- Next 40 kms - Rs 9 per Km\n",
    "- Next 100 kms - Rs 8 per Km\n",
    "- Any leftover km count - Rs. 6 per Km\n",
    "\n",
    "- Rs 5 extra for every minute of Stall Time.\n",
    "\n",
    "------------------------------------------\n",
    "\n",
    "2. Generate electricity bill using the following rate card.\n",
    "Take units consumed as input -\n",
    "- If < 100 units -> Free\n",
    "- If >= 100 units and < 200 units -> Rs 2 per unit\n",
    "- If >= 200 units -> Rs 5 per unit\n",
    "\n",
    "'''"
   ]
  },
  {
   "cell_type": "code",
   "execution_count": 19,
   "id": "99694e21",
   "metadata": {},
   "outputs": [],
   "source": [
    "# SHORT CIRCUITING"
   ]
  },
  {
   "cell_type": "code",
   "execution_count": 20,
   "id": "146088b5",
   "metadata": {},
   "outputs": [
    {
     "data": {
      "text/plain": [
       "5"
      ]
     },
     "execution_count": 20,
     "metadata": {},
     "output_type": "execute_result"
    }
   ],
   "source": [
    "5 or True\n",
    "# Truthy or any_other_value"
   ]
  },
  {
   "cell_type": "code",
   "execution_count": 21,
   "id": "2741d452",
   "metadata": {},
   "outputs": [
    {
     "data": {
      "text/plain": [
       "7"
      ]
     },
     "execution_count": 21,
     "metadata": {},
     "output_type": "execute_result"
    }
   ],
   "source": [
    "0 or 7\n",
    "# Falsy or any_other_value"
   ]
  },
  {
   "cell_type": "code",
   "execution_count": 24,
   "id": "5815b37c",
   "metadata": {},
   "outputs": [
    {
     "data": {
      "text/plain": [
       "True"
      ]
     },
     "execution_count": 24,
     "metadata": {},
     "output_type": "execute_result"
    }
   ],
   "source": [
    "True or 0"
   ]
  },
  {
   "cell_type": "code",
   "execution_count": 22,
   "id": "30f5f127",
   "metadata": {
    "scrolled": true
   },
   "outputs": [
    {
     "data": {
      "text/plain": [
       "False"
      ]
     },
     "execution_count": 22,
     "metadata": {},
     "output_type": "execute_result"
    }
   ],
   "source": [
    "0 or False"
   ]
  },
  {
   "cell_type": "code",
   "execution_count": 23,
   "id": "5f8ef156",
   "metadata": {},
   "outputs": [
    {
     "data": {
      "text/plain": [
       "'\\nOR Operation in Python ->\\nFirst Value Truthy -> First Value\\nFirst Value is Falsy -> Second Value\\n'"
      ]
     },
     "execution_count": 23,
     "metadata": {},
     "output_type": "execute_result"
    }
   ],
   "source": [
    "'''\n",
    "OR Operation in Python ->\n",
    "First Value Truthy -> First Value (Ignores the second value)\n",
    "First Value is Falsy -> Second Value\n",
    "'''"
   ]
  },
  {
   "cell_type": "code",
   "execution_count": 25,
   "id": "02bcd662",
   "metadata": {},
   "outputs": [
    {
     "data": {
      "text/plain": [
       "True"
      ]
     },
     "execution_count": 25,
     "metadata": {},
     "output_type": "execute_result"
    }
   ],
   "source": [
    "1 and True"
   ]
  },
  {
   "cell_type": "code",
   "execution_count": 26,
   "id": "bc4599e7",
   "metadata": {},
   "outputs": [
    {
     "data": {
      "text/plain": [
       "True"
      ]
     },
     "execution_count": 26,
     "metadata": {},
     "output_type": "execute_result"
    }
   ],
   "source": [
    "5 and True"
   ]
  },
  {
   "cell_type": "code",
   "execution_count": 27,
   "id": "371c970c",
   "metadata": {},
   "outputs": [
    {
     "data": {
      "text/plain": [
       "5"
      ]
     },
     "execution_count": 27,
     "metadata": {},
     "output_type": "execute_result"
    }
   ],
   "source": [
    "4 and 5"
   ]
  },
  {
   "cell_type": "code",
   "execution_count": 28,
   "id": "c62111f2",
   "metadata": {},
   "outputs": [
    {
     "data": {
      "text/plain": [
       "0"
      ]
     },
     "execution_count": 28,
     "metadata": {},
     "output_type": "execute_result"
    }
   ],
   "source": [
    "5 and 0"
   ]
  },
  {
   "cell_type": "code",
   "execution_count": 29,
   "id": "09299e49",
   "metadata": {},
   "outputs": [
    {
     "data": {
      "text/plain": [
       "False"
      ]
     },
     "execution_count": 29,
     "metadata": {},
     "output_type": "execute_result"
    }
   ],
   "source": [
    "True and False"
   ]
  },
  {
   "cell_type": "code",
   "execution_count": 30,
   "id": "5f3e92a7",
   "metadata": {},
   "outputs": [
    {
     "data": {
      "text/plain": [
       "''"
      ]
     },
     "execution_count": 30,
     "metadata": {},
     "output_type": "execute_result"
    }
   ],
   "source": [
    "True and \"\""
   ]
  },
  {
   "cell_type": "code",
   "execution_count": 31,
   "id": "d3cb0c10",
   "metadata": {},
   "outputs": [
    {
     "data": {
      "text/plain": [
       "False"
      ]
     },
     "execution_count": 31,
     "metadata": {},
     "output_type": "execute_result"
    }
   ],
   "source": [
    "False and 5"
   ]
  },
  {
   "cell_type": "code",
   "execution_count": 32,
   "id": "33ca6cdb",
   "metadata": {},
   "outputs": [
    {
     "data": {
      "text/plain": [
       "False"
      ]
     },
     "execution_count": 32,
     "metadata": {},
     "output_type": "execute_result"
    }
   ],
   "source": [
    "False and 0"
   ]
  },
  {
   "cell_type": "code",
   "execution_count": 33,
   "id": "bdaae7e0",
   "metadata": {},
   "outputs": [
    {
     "data": {
      "text/plain": [
       "0"
      ]
     },
     "execution_count": 33,
     "metadata": {},
     "output_type": "execute_result"
    }
   ],
   "source": [
    "0 and 5"
   ]
  },
  {
   "cell_type": "code",
   "execution_count": 34,
   "id": "e4919381",
   "metadata": {},
   "outputs": [
    {
     "data": {
      "text/plain": [
       "''"
      ]
     },
     "execution_count": 34,
     "metadata": {},
     "output_type": "execute_result"
    }
   ],
   "source": [
    "\"\" and \"something\""
   ]
  },
  {
   "cell_type": "code",
   "execution_count": 35,
   "id": "748125d4",
   "metadata": {},
   "outputs": [
    {
     "data": {
      "text/plain": [
       "'\\nAND Operation in Python ->\\nFirst Value Truthy -> Second Value\\nFirst Value is Falsy -> First Value (Ignores the second value)\\n'"
      ]
     },
     "execution_count": 35,
     "metadata": {},
     "output_type": "execute_result"
    }
   ],
   "source": [
    "'''\n",
    "AND Operation in Python ->\n",
    "First Value Truthy -> Second Value\n",
    "First Value is Falsy -> First Value (Ignores the second value)\n",
    "'''"
   ]
  },
  {
   "cell_type": "code",
   "execution_count": 36,
   "id": "777b751c",
   "metadata": {},
   "outputs": [],
   "source": [
    "# Logical Operators\n",
    "\n",
    "# Not (Highest)\n",
    "# And\n",
    "# Or (Lowest)"
   ]
  },
  {
   "cell_type": "code",
   "execution_count": 37,
   "id": "aeb99314",
   "metadata": {},
   "outputs": [
    {
     "data": {
      "text/plain": [
       "True"
      ]
     },
     "execution_count": 37,
     "metadata": {},
     "output_type": "execute_result"
    }
   ],
   "source": [
    "True and False or True and True\n",
    "# False or True and True\n",
    "# False or True\n",
    "# True"
   ]
  },
  {
   "cell_type": "code",
   "execution_count": 40,
   "id": "d3a9e96e",
   "metadata": {},
   "outputs": [
    {
     "data": {
      "text/plain": [
       "1"
      ]
     },
     "execution_count": 40,
     "metadata": {},
     "output_type": "execute_result"
    }
   ],
   "source": [
    "True and 1 or 0 and True\n",
    "# 1 or 0 and True\n",
    "# 1 or 0\n",
    "# 1"
   ]
  },
  {
   "cell_type": "code",
   "execution_count": 41,
   "id": "a70b2b81",
   "metadata": {
    "scrolled": true
   },
   "outputs": [
    {
     "data": {
      "text/plain": [
       "False"
      ]
     },
     "execution_count": 41,
     "metadata": {},
     "output_type": "execute_result"
    }
   ],
   "source": [
    "not 1"
   ]
  },
  {
   "cell_type": "code",
   "execution_count": 42,
   "id": "448a32fa",
   "metadata": {},
   "outputs": [
    {
     "data": {
      "text/plain": [
       "False"
      ]
     },
     "execution_count": 42,
     "metadata": {},
     "output_type": "execute_result"
    }
   ],
   "source": [
    "not 1 and False or 0 and True and 7 or not True\n",
    "# False and False or 0 and True and 7 or not True\n",
    "# False and False or 0 and True and 7 or False\n",
    "# False or 0 and True and 7 or False\n",
    "# False or 0 and 7 or False\n",
    "# False or 0 or False\n",
    "# 0 or False\n",
    "# False"
   ]
  },
  {
   "cell_type": "code",
   "execution_count": 43,
   "id": "5439fd71",
   "metadata": {},
   "outputs": [
    {
     "data": {
      "text/plain": [
       "False"
      ]
     },
     "execution_count": 43,
     "metadata": {},
     "output_type": "execute_result"
    }
   ],
   "source": [
    "not 2 "
   ]
  },
  {
   "cell_type": "code",
   "execution_count": 44,
   "id": "0e7e3ffa",
   "metadata": {},
   "outputs": [
    {
     "data": {
      "text/plain": [
       "False"
      ]
     },
     "execution_count": 44,
     "metadata": {},
     "output_type": "execute_result"
    }
   ],
   "source": [
    "not 6"
   ]
  },
  {
   "cell_type": "code",
   "execution_count": 45,
   "id": "30fbfa2f",
   "metadata": {},
   "outputs": [
    {
     "data": {
      "text/plain": [
       "False"
      ]
     },
     "execution_count": 45,
     "metadata": {},
     "output_type": "execute_result"
    }
   ],
   "source": [
    "not 10000000003642398562873465"
   ]
  },
  {
   "cell_type": "code",
   "execution_count": 46,
   "id": "b0da544f",
   "metadata": {},
   "outputs": [
    {
     "ename": "NameError",
     "evalue": "name 'x' is not defined",
     "output_type": "error",
     "traceback": [
      "\u001b[0;31m---------------------------------------------------------------------------\u001b[0m",
      "\u001b[0;31mNameError\u001b[0m                                 Traceback (most recent call last)",
      "\u001b[0;32m/var/folders/nn/c52y0d3j0gq59dpsswchkt2r0000gn/T/ipykernel_14148/1584571496.py\u001b[0m in \u001b[0;36m<module>\u001b[0;34m\u001b[0m\n\u001b[0;32m----> 1\u001b[0;31m \u001b[0mx\u001b[0m \u001b[0;34m==\u001b[0m \u001b[0;34m\"super\"\u001b[0m \u001b[0;32mor\u001b[0m \u001b[0;34m\"great\"\u001b[0m \u001b[0;32mor\u001b[0m \u001b[0;34m\"fantastic\"\u001b[0m\u001b[0;34m\u001b[0m\u001b[0;34m\u001b[0m\u001b[0m\n\u001b[0m\u001b[1;32m      2\u001b[0m \u001b[0;31m# x == \"super\" or \"fantastic\"\u001b[0m\u001b[0;34m\u001b[0m\u001b[0;34m\u001b[0m\u001b[0;34m\u001b[0m\u001b[0m\n\u001b[1;32m      3\u001b[0m \u001b[0;31m# x == \"super\"\u001b[0m\u001b[0;34m\u001b[0m\u001b[0;34m\u001b[0m\u001b[0;34m\u001b[0m\u001b[0m\n",
      "\u001b[0;31mNameError\u001b[0m: name 'x' is not defined"
     ]
    }
   ],
   "source": [
    "(x == \"super\") or \"great\" or \"fantastic\"\n",
    "# x == \"super\" or \"fantastic\"\n",
    "# x == \"super\""
   ]
  },
  {
   "cell_type": "code",
   "execution_count": null,
   "id": "ffe9bae9",
   "metadata": {},
   "outputs": [],
   "source": []
  }
 ],
 "metadata": {
  "kernelspec": {
   "display_name": "Python 3 (ipykernel)",
   "language": "python",
   "name": "python3"
  },
  "language_info": {
   "codemirror_mode": {
    "name": "ipython",
    "version": 3
   },
   "file_extension": ".py",
   "mimetype": "text/x-python",
   "name": "python",
   "nbconvert_exporter": "python",
   "pygments_lexer": "ipython3",
   "version": "3.9.5"
  }
 },
 "nbformat": 4,
 "nbformat_minor": 5
}
