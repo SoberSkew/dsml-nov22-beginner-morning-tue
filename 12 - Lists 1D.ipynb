{
 "cells": [
  {
   "cell_type": "code",
   "execution_count": 1,
   "id": "19bc278f",
   "metadata": {},
   "outputs": [],
   "source": [
    "# create a list -> []\n",
    "\n",
    "runs_virat = [67, 54, 12, 34, 77, 89, 101, 123]\n",
    "\n",
    "# There is no hard limit on how many values we can store in a list"
   ]
  },
  {
   "cell_type": "code",
   "execution_count": 3,
   "id": "8b751571",
   "metadata": {},
   "outputs": [
    {
     "name": "stdout",
     "output_type": "stream",
     "text": [
      "[67, 54, 12, 34, 77, 89, 101, 123]\n"
     ]
    }
   ],
   "source": [
    "print(runs_virat)"
   ]
  },
  {
   "cell_type": "code",
   "execution_count": 4,
   "id": "65ab78c0",
   "metadata": {},
   "outputs": [
    {
     "data": {
      "text/plain": [
       "list"
      ]
     },
     "execution_count": 4,
     "metadata": {},
     "output_type": "execute_result"
    }
   ],
   "source": [
    "type(runs_virat)"
   ]
  },
  {
   "cell_type": "code",
   "execution_count": 5,
   "id": "69cc1120",
   "metadata": {},
   "outputs": [],
   "source": [
    "# How do I access a value?"
   ]
  },
  {
   "cell_type": "code",
   "execution_count": 6,
   "id": "a4ec5e11",
   "metadata": {},
   "outputs": [],
   "source": [
    "# Values directly accessible using indexes\n",
    "# Indexes start at 0"
   ]
  },
  {
   "cell_type": "code",
   "execution_count": 7,
   "id": "bbc4e6de",
   "metadata": {},
   "outputs": [
    {
     "data": {
      "text/plain": [
       "12"
      ]
     },
     "execution_count": 7,
     "metadata": {},
     "output_type": "execute_result"
    }
   ],
   "source": [
    "# Runs scored by virat in the third match\n",
    "runs_virat[2]"
   ]
  },
  {
   "cell_type": "code",
   "execution_count": 9,
   "id": "ba852bf4",
   "metadata": {},
   "outputs": [
    {
     "data": {
      "text/plain": [
       "8"
      ]
     },
     "execution_count": 9,
     "metadata": {},
     "output_type": "execute_result"
    }
   ],
   "source": [
    "len(runs_virat) # number of elements in a list"
   ]
  },
  {
   "cell_type": "code",
   "execution_count": 10,
   "id": "33414714",
   "metadata": {},
   "outputs": [],
   "source": [
    "# How would you get the runs scored in the most recent match"
   ]
  },
  {
   "cell_type": "code",
   "execution_count": 11,
   "id": "454820a6",
   "metadata": {},
   "outputs": [
    {
     "data": {
      "text/plain": [
       "[67, 54, 12, 34, 77, 89, 101, 123]"
      ]
     },
     "execution_count": 11,
     "metadata": {},
     "output_type": "execute_result"
    }
   ],
   "source": [
    "runs_virat"
   ]
  },
  {
   "cell_type": "code",
   "execution_count": 12,
   "id": "6b4c5f58",
   "metadata": {},
   "outputs": [],
   "source": [
    "n = len(runs_virat)"
   ]
  },
  {
   "cell_type": "code",
   "execution_count": 13,
   "id": "b6c16456",
   "metadata": {},
   "outputs": [
    {
     "data": {
      "text/plain": [
       "123"
      ]
     },
     "execution_count": 13,
     "metadata": {},
     "output_type": "execute_result"
    }
   ],
   "source": [
    "runs_virat[n - 1]"
   ]
  },
  {
   "cell_type": "code",
   "execution_count": 15,
   "id": "1e067fdc",
   "metadata": {},
   "outputs": [
    {
     "data": {
      "text/plain": [
       "123"
      ]
     },
     "execution_count": 15,
     "metadata": {},
     "output_type": "execute_result"
    }
   ],
   "source": [
    "runs_virat[len(runs_virat) - 1]"
   ]
  },
  {
   "cell_type": "code",
   "execution_count": 16,
   "id": "034e474c",
   "metadata": {},
   "outputs": [
    {
     "data": {
      "text/plain": [
       "101"
      ]
     },
     "execution_count": 16,
     "metadata": {},
     "output_type": "execute_result"
    }
   ],
   "source": [
    "runs_virat[len(runs_virat) - 2]"
   ]
  },
  {
   "cell_type": "code",
   "execution_count": 17,
   "id": "f7d959f0",
   "metadata": {},
   "outputs": [],
   "source": [
    "# NEGATIVE INDEXING"
   ]
  },
  {
   "cell_type": "code",
   "execution_count": 18,
   "id": "4a66fe72",
   "metadata": {},
   "outputs": [
    {
     "data": {
      "text/plain": [
       "123"
      ]
     },
     "execution_count": 18,
     "metadata": {},
     "output_type": "execute_result"
    }
   ],
   "source": [
    "runs_virat[-1]"
   ]
  },
  {
   "cell_type": "code",
   "execution_count": 19,
   "id": "b92fe2d4",
   "metadata": {},
   "outputs": [
    {
     "data": {
      "text/plain": [
       "89"
      ]
     },
     "execution_count": 19,
     "metadata": {},
     "output_type": "execute_result"
    }
   ],
   "source": [
    "runs_virat[-3]"
   ]
  },
  {
   "cell_type": "code",
   "execution_count": 20,
   "id": "8b1f4f1a",
   "metadata": {},
   "outputs": [
    {
     "data": {
      "text/plain": [
       "67"
      ]
     },
     "execution_count": 20,
     "metadata": {},
     "output_type": "execute_result"
    }
   ],
   "source": [
    "runs_virat[-len(runs_virat)]"
   ]
  },
  {
   "cell_type": "code",
   "execution_count": 21,
   "id": "382cc121",
   "metadata": {},
   "outputs": [
    {
     "data": {
      "text/plain": [
       "[67, 54, 12, 34, 77, 89, 101, 123]"
      ]
     },
     "execution_count": 21,
     "metadata": {},
     "output_type": "execute_result"
    }
   ],
   "source": [
    "runs_virat"
   ]
  },
  {
   "cell_type": "code",
   "execution_count": 22,
   "id": "9f122669",
   "metadata": {},
   "outputs": [
    {
     "ename": "IndexError",
     "evalue": "list index out of range",
     "output_type": "error",
     "traceback": [
      "\u001b[0;31m---------------------------------------------------------------------------\u001b[0m",
      "\u001b[0;31mIndexError\u001b[0m                                Traceback (most recent call last)",
      "\u001b[0;32m/var/folders/nn/c52y0d3j0gq59dpsswchkt2r0000gn/T/ipykernel_70363/4176513291.py\u001b[0m in \u001b[0;36m<module>\u001b[0;34m\u001b[0m\n\u001b[0;32m----> 1\u001b[0;31m \u001b[0mruns_virat\u001b[0m\u001b[0;34m[\u001b[0m\u001b[0;36m10000\u001b[0m\u001b[0;34m]\u001b[0m\u001b[0;34m\u001b[0m\u001b[0;34m\u001b[0m\u001b[0m\n\u001b[0m",
      "\u001b[0;31mIndexError\u001b[0m: list index out of range"
     ]
    }
   ],
   "source": [
    "runs_virat[10000]"
   ]
  },
  {
   "cell_type": "code",
   "execution_count": 23,
   "id": "34e7be4d",
   "metadata": {},
   "outputs": [
    {
     "data": {
      "text/plain": [
       "'\\nQuestion 1 - \\nPrint total of runs scored by Virat in odd numbered matches.\\n'"
      ]
     },
     "execution_count": 23,
     "metadata": {},
     "output_type": "execute_result"
    }
   ],
   "source": [
    "'''\n",
    "Question 1 - \n",
    "Print total of runs scored by Virat in odd numbered matches.\n",
    "'''"
   ]
  },
  {
   "cell_type": "code",
   "execution_count": 24,
   "id": "15043dbc",
   "metadata": {},
   "outputs": [
    {
     "data": {
      "text/plain": [
       "257"
      ]
     },
     "execution_count": 24,
     "metadata": {},
     "output_type": "execute_result"
    }
   ],
   "source": [
    "runs_virat[0] + runs_virat[2] + runs_virat[4] + runs_virat[6]"
   ]
  },
  {
   "cell_type": "code",
   "execution_count": 25,
   "id": "37978d9e",
   "metadata": {},
   "outputs": [],
   "source": [
    "# METHODS -> Simply functions attached to certain objects -> OOPS (Intermediate)"
   ]
  },
  {
   "cell_type": "code",
   "execution_count": 26,
   "id": "670ca0d6",
   "metadata": {},
   "outputs": [],
   "source": [
    "runs = [67, 54, 12, 34, 77, 89, 101, 123]"
   ]
  },
  {
   "cell_type": "code",
   "execution_count": 27,
   "id": "485d6291",
   "metadata": {},
   "outputs": [],
   "source": [
    "# 1. Append - Adding more elements to a list"
   ]
  },
  {
   "cell_type": "code",
   "execution_count": 28,
   "id": "73cffda4",
   "metadata": {},
   "outputs": [],
   "source": [
    "runs.append(71)"
   ]
  },
  {
   "cell_type": "code",
   "execution_count": 29,
   "id": "13a8028a",
   "metadata": {},
   "outputs": [
    {
     "data": {
      "text/plain": [
       "[67, 54, 12, 34, 77, 89, 101, 123, 71]"
      ]
     },
     "execution_count": 29,
     "metadata": {},
     "output_type": "execute_result"
    }
   ],
   "source": [
    "runs # append adds the element to the end of the list"
   ]
  },
  {
   "cell_type": "code",
   "execution_count": 30,
   "id": "616e07a1",
   "metadata": {},
   "outputs": [],
   "source": [
    "# 2. Insert - Adding more elements to a list at any index"
   ]
  },
  {
   "cell_type": "code",
   "execution_count": 31,
   "id": "b36a900a",
   "metadata": {},
   "outputs": [],
   "source": [
    "runs.insert(0, 15)"
   ]
  },
  {
   "cell_type": "code",
   "execution_count": 33,
   "id": "718c1e89",
   "metadata": {},
   "outputs": [
    {
     "data": {
      "text/plain": [
       "[15, 67, 54, 12, 34, 77, 89, 101, 123, 71]"
      ]
     },
     "execution_count": 33,
     "metadata": {},
     "output_type": "execute_result"
    }
   ],
   "source": [
    "runs\n",
    "# Move all values one index forward\n",
    "# All element to that index"
   ]
  },
  {
   "cell_type": "code",
   "execution_count": 34,
   "id": "5ece653e",
   "metadata": {},
   "outputs": [],
   "source": [
    "# 3. Extend - Adding multiple elements to a list simultaneously"
   ]
  },
  {
   "cell_type": "code",
   "execution_count": 35,
   "id": "1bd863e4",
   "metadata": {},
   "outputs": [],
   "source": [
    "runs_5 = [100, 99, 90, 105, 75]"
   ]
  },
  {
   "cell_type": "code",
   "execution_count": 36,
   "id": "961582ef",
   "metadata": {},
   "outputs": [],
   "source": [
    "runs.extend(runs_5)"
   ]
  },
  {
   "cell_type": "code",
   "execution_count": 37,
   "id": "f9fba691",
   "metadata": {},
   "outputs": [
    {
     "data": {
      "text/plain": [
       "[15, 67, 54, 12, 34, 77, 89, 101, 123, 71, 100, 99, 90, 105, 75]"
      ]
     },
     "execution_count": 37,
     "metadata": {},
     "output_type": "execute_result"
    }
   ],
   "source": [
    "runs"
   ]
  },
  {
   "cell_type": "code",
   "execution_count": 38,
   "id": "92becdc7",
   "metadata": {},
   "outputs": [],
   "source": [
    "runs = [15, 67, 54, 12, 34]"
   ]
  },
  {
   "cell_type": "code",
   "execution_count": 41,
   "id": "be6fec0a",
   "metadata": {},
   "outputs": [],
   "source": [
    "runs = runs + [56, 99] # does the same job as extend - concatenating two lists"
   ]
  },
  {
   "cell_type": "code",
   "execution_count": 40,
   "id": "51988864",
   "metadata": {},
   "outputs": [
    {
     "data": {
      "text/plain": [
       "[15, 67, 54, 12, 34, 56, 99]"
      ]
     },
     "execution_count": 40,
     "metadata": {},
     "output_type": "execute_result"
    }
   ],
   "source": [
    "runs"
   ]
  },
  {
   "cell_type": "code",
   "execution_count": 42,
   "id": "11ec3dcf",
   "metadata": {},
   "outputs": [
    {
     "data": {
      "text/plain": [
       "[1, 2, 3, 4, 5, 6]"
      ]
     },
     "execution_count": 42,
     "metadata": {},
     "output_type": "execute_result"
    }
   ],
   "source": [
    "[1,2,3] + [4,5,6]"
   ]
  },
  {
   "cell_type": "code",
   "execution_count": 43,
   "id": "a5f80cec",
   "metadata": {},
   "outputs": [],
   "source": [
    "runs = runs + [45] # does the same job as append"
   ]
  },
  {
   "cell_type": "code",
   "execution_count": 44,
   "id": "8c66d956",
   "metadata": {},
   "outputs": [],
   "source": [
    "# Iterations"
   ]
  },
  {
   "cell_type": "code",
   "execution_count": 45,
   "id": "e65c807c",
   "metadata": {},
   "outputs": [],
   "source": [
    "a = \"python\""
   ]
  },
  {
   "cell_type": "code",
   "execution_count": 46,
   "id": "571cd7f4",
   "metadata": {},
   "outputs": [
    {
     "name": "stdout",
     "output_type": "stream",
     "text": [
      "p\n",
      "y\n",
      "t\n",
      "h\n",
      "o\n",
      "n\n"
     ]
    }
   ],
   "source": [
    "for i in a:\n",
    "    print(i)"
   ]
  },
  {
   "cell_type": "code",
   "execution_count": 47,
   "id": "6fc1450b",
   "metadata": {},
   "outputs": [],
   "source": [
    "a = [4, 5, 6, 7, 8, 2, 3]"
   ]
  },
  {
   "cell_type": "code",
   "execution_count": 48,
   "id": "a22ee925",
   "metadata": {},
   "outputs": [
    {
     "name": "stdout",
     "output_type": "stream",
     "text": [
      "4\n",
      "5\n",
      "6\n",
      "7\n",
      "8\n",
      "2\n",
      "3\n"
     ]
    }
   ],
   "source": [
    "for i in a:\n",
    "    print(i)"
   ]
  },
  {
   "cell_type": "code",
   "execution_count": 49,
   "id": "cbfccebd",
   "metadata": {},
   "outputs": [],
   "source": [
    "n = len(a)"
   ]
  },
  {
   "cell_type": "code",
   "execution_count": 50,
   "id": "5e950bff",
   "metadata": {},
   "outputs": [
    {
     "data": {
      "text/plain": [
       "7"
      ]
     },
     "execution_count": 50,
     "metadata": {},
     "output_type": "execute_result"
    }
   ],
   "source": [
    "n"
   ]
  },
  {
   "cell_type": "code",
   "execution_count": 51,
   "id": "1fc69aee",
   "metadata": {},
   "outputs": [
    {
     "data": {
      "text/plain": [
       "range(0, 7)"
      ]
     },
     "execution_count": 51,
     "metadata": {},
     "output_type": "execute_result"
    }
   ],
   "source": [
    "range(n)"
   ]
  },
  {
   "cell_type": "code",
   "execution_count": 52,
   "id": "1258c58e",
   "metadata": {},
   "outputs": [
    {
     "name": "stdout",
     "output_type": "stream",
     "text": [
      "4\n",
      "5\n",
      "6\n",
      "7\n",
      "8\n",
      "2\n",
      "3\n"
     ]
    }
   ],
   "source": [
    "for i in range(n):\n",
    "    print(a[i])"
   ]
  },
  {
   "cell_type": "code",
   "execution_count": 53,
   "id": "d0404fd2",
   "metadata": {},
   "outputs": [
    {
     "name": "stdout",
     "output_type": "stream",
     "text": [
      "4\n",
      "5\n",
      "6\n",
      "7\n",
      "8\n",
      "2\n",
      "3\n"
     ]
    }
   ],
   "source": [
    "i = 0\n",
    "\n",
    "while i < len(a):\n",
    "    print(a[i])\n",
    "    i += 1"
   ]
  },
  {
   "cell_type": "code",
   "execution_count": 54,
   "id": "2822353d",
   "metadata": {},
   "outputs": [
    {
     "data": {
      "text/plain": [
       "'\\nQustion 2 - \\nruns_virat = [67, 54, 12, 34, 77, 89, 101, 123]\\nIn runs_virat -> Calculate, sum, avg, max and min runs.\\nWithout using any internal functions. You can use the length function.\\n'"
      ]
     },
     "execution_count": 54,
     "metadata": {},
     "output_type": "execute_result"
    }
   ],
   "source": [
    "'''\n",
    "Qustion 2 - \n",
    "runs_virat = [67, 54, 12, 34, 77, 89, 101, 123]\n",
    "In runs_virat -> Calculate, sum, avg, max and min runs.\n",
    "Without using any internal functions. You can use the length function.\n",
    "'''"
   ]
  },
  {
   "cell_type": "code",
   "execution_count": 55,
   "id": "ba62e425",
   "metadata": {},
   "outputs": [],
   "source": [
    "runs_virat = [67, 54, 12, 34, 77, 89, 101, 123]"
   ]
  },
  {
   "cell_type": "code",
   "execution_count": 56,
   "id": "248722ca",
   "metadata": {},
   "outputs": [
    {
     "data": {
      "text/plain": [
       "557"
      ]
     },
     "execution_count": 56,
     "metadata": {},
     "output_type": "execute_result"
    }
   ],
   "source": [
    "sum(runs_virat)"
   ]
  },
  {
   "cell_type": "code",
   "execution_count": 57,
   "id": "790a2f9c",
   "metadata": {},
   "outputs": [
    {
     "data": {
      "text/plain": [
       "123"
      ]
     },
     "execution_count": 57,
     "metadata": {},
     "output_type": "execute_result"
    }
   ],
   "source": [
    "max(runs_virat)"
   ]
  },
  {
   "cell_type": "code",
   "execution_count": 58,
   "id": "139269b3",
   "metadata": {},
   "outputs": [
    {
     "data": {
      "text/plain": [
       "12"
      ]
     },
     "execution_count": 58,
     "metadata": {},
     "output_type": "execute_result"
    }
   ],
   "source": [
    "min(runs_virat)"
   ]
  },
  {
   "cell_type": "code",
   "execution_count": 59,
   "id": "e8ea7d32",
   "metadata": {},
   "outputs": [
    {
     "data": {
      "text/plain": [
       "69.625"
      ]
     },
     "execution_count": 59,
     "metadata": {},
     "output_type": "execute_result"
    }
   ],
   "source": [
    "sum(runs_virat) / len(runs_virat)"
   ]
  },
  {
   "cell_type": "code",
   "execution_count": 60,
   "id": "e5039ed0",
   "metadata": {},
   "outputs": [],
   "source": [
    "def custom_length(a):\n",
    "    n = 0\n",
    "    \n",
    "    for i in a:\n",
    "        n += 1\n",
    "        \n",
    "    return n"
   ]
  },
  {
   "cell_type": "code",
   "execution_count": 61,
   "id": "48e13786",
   "metadata": {},
   "outputs": [],
   "source": [
    "length = custom_length(runs_virat)"
   ]
  },
  {
   "cell_type": "code",
   "execution_count": 62,
   "id": "c6be52eb",
   "metadata": {},
   "outputs": [
    {
     "data": {
      "text/plain": [
       "8"
      ]
     },
     "execution_count": 62,
     "metadata": {},
     "output_type": "execute_result"
    }
   ],
   "source": [
    "length"
   ]
  },
  {
   "cell_type": "code",
   "execution_count": 63,
   "id": "3c3ed3d2",
   "metadata": {},
   "outputs": [],
   "source": [
    "def custom_sum(a):\n",
    "    sum_list = 0\n",
    "    \n",
    "    for i in a:\n",
    "        sum_list += i\n",
    "        \n",
    "    return sum_list"
   ]
  },
  {
   "cell_type": "code",
   "execution_count": 64,
   "id": "c61dd1f0",
   "metadata": {},
   "outputs": [],
   "source": [
    "sum_runs = custom_sum(runs_virat)"
   ]
  },
  {
   "cell_type": "code",
   "execution_count": 65,
   "id": "a3952a8c",
   "metadata": {},
   "outputs": [
    {
     "data": {
      "text/plain": [
       "557"
      ]
     },
     "execution_count": 65,
     "metadata": {},
     "output_type": "execute_result"
    }
   ],
   "source": [
    "sum_runs"
   ]
  },
  {
   "cell_type": "code",
   "execution_count": 66,
   "id": "6a1814ab",
   "metadata": {},
   "outputs": [],
   "source": [
    "def custom_max(a):\n",
    "    max_value = a[0]\n",
    "    \n",
    "    for i in range(1, len(a)):\n",
    "        if a[i] > max_value:\n",
    "            max_value = a[i]\n",
    "            \n",
    "    return max_value"
   ]
  },
  {
   "cell_type": "code",
   "execution_count": 106,
   "id": "04be3679",
   "metadata": {},
   "outputs": [
    {
     "data": {
      "text/plain": [
       "9"
      ]
     },
     "execution_count": 106,
     "metadata": {},
     "output_type": "execute_result"
    }
   ],
   "source": [
    "custom_max([6,7,8,9,-3,-4,6,0])"
   ]
  },
  {
   "cell_type": "code",
   "execution_count": 67,
   "id": "c3fab347",
   "metadata": {},
   "outputs": [],
   "source": [
    "max_runs = custom_max(runs_virat)"
   ]
  },
  {
   "cell_type": "code",
   "execution_count": 68,
   "id": "7dd31065",
   "metadata": {},
   "outputs": [
    {
     "data": {
      "text/plain": [
       "123"
      ]
     },
     "execution_count": 68,
     "metadata": {},
     "output_type": "execute_result"
    }
   ],
   "source": [
    "max_runs"
   ]
  },
  {
   "cell_type": "code",
   "execution_count": 69,
   "id": "b04d0d21",
   "metadata": {},
   "outputs": [],
   "source": [
    "def custom_min(a):\n",
    "    min_value = a[0]\n",
    "    \n",
    "    for i in range(1, len(a)):\n",
    "        if a[i] < min_value:\n",
    "            min_value = a[i]\n",
    "            \n",
    "    return min_value"
   ]
  },
  {
   "cell_type": "code",
   "execution_count": 70,
   "id": "0e8ab9bc",
   "metadata": {},
   "outputs": [],
   "source": [
    "min_runs = custom_min(runs_virat)"
   ]
  },
  {
   "cell_type": "code",
   "execution_count": 71,
   "id": "d4148303",
   "metadata": {},
   "outputs": [
    {
     "data": {
      "text/plain": [
       "12"
      ]
     },
     "execution_count": 71,
     "metadata": {},
     "output_type": "execute_result"
    }
   ],
   "source": [
    "min_runs"
   ]
  },
  {
   "cell_type": "code",
   "execution_count": 72,
   "id": "c62d75ac",
   "metadata": {},
   "outputs": [
    {
     "data": {
      "text/plain": [
       "'\\nQuestion 3 -\\nCalculate average of runs scored by virat in all matches with an even index.\\n'"
      ]
     },
     "execution_count": 72,
     "metadata": {},
     "output_type": "execute_result"
    }
   ],
   "source": [
    "'''\n",
    "Question 3 -\n",
    "Calculate average of runs scored by virat in all matches with an even index.\n",
    "'''"
   ]
  },
  {
   "cell_type": "code",
   "execution_count": 76,
   "id": "dda774af",
   "metadata": {},
   "outputs": [],
   "source": [
    "def average_of_even(a):\n",
    "    sum_list_even = 0\n",
    "    count_even = 0\n",
    "    \n",
    "    for i in range(0, len(a), 2):\n",
    "        sum_list_even += a[i]\n",
    "        count_even += 1\n",
    "        \n",
    "    return sum_list_even / count_even"
   ]
  },
  {
   "cell_type": "code",
   "execution_count": 77,
   "id": "2f11f46b",
   "metadata": {},
   "outputs": [],
   "source": [
    "runs_virat = [67, 54, 12, 34, 77, 89, 101, 123]"
   ]
  },
  {
   "cell_type": "code",
   "execution_count": 78,
   "id": "96bae3b1",
   "metadata": {},
   "outputs": [
    {
     "data": {
      "text/plain": [
       "64.25"
      ]
     },
     "execution_count": 78,
     "metadata": {},
     "output_type": "execute_result"
    }
   ],
   "source": [
    "average_of_even(runs_virat)"
   ]
  },
  {
   "cell_type": "code",
   "execution_count": 79,
   "id": "19545270",
   "metadata": {},
   "outputs": [],
   "source": [
    "# Deleting elements from a list"
   ]
  },
  {
   "cell_type": "code",
   "execution_count": 80,
   "id": "0703c327",
   "metadata": {},
   "outputs": [],
   "source": [
    "# 1. pop() -> deletes an element using an index - last element by default"
   ]
  },
  {
   "cell_type": "code",
   "execution_count": 87,
   "id": "76f8cba9",
   "metadata": {},
   "outputs": [],
   "source": [
    "a = [5, 6, 7, 2, 3, 4, 8, 9, 0]"
   ]
  },
  {
   "cell_type": "code",
   "execution_count": 88,
   "id": "dad6f840",
   "metadata": {},
   "outputs": [
    {
     "data": {
      "text/plain": [
       "0"
      ]
     },
     "execution_count": 88,
     "metadata": {},
     "output_type": "execute_result"
    }
   ],
   "source": [
    "a.pop()\n",
    "\n",
    "# the last element is deleted and returned"
   ]
  },
  {
   "cell_type": "code",
   "execution_count": 89,
   "id": "3d13827a",
   "metadata": {},
   "outputs": [
    {
     "data": {
      "text/plain": [
       "5"
      ]
     },
     "execution_count": 89,
     "metadata": {},
     "output_type": "execute_result"
    }
   ],
   "source": [
    "a.pop(0) # element at the given index will be deleted and returned"
   ]
  },
  {
   "cell_type": "code",
   "execution_count": 90,
   "id": "53de6cfd",
   "metadata": {},
   "outputs": [
    {
     "data": {
      "text/plain": [
       "[6, 7, 2, 3, 4, 8, 9]"
      ]
     },
     "execution_count": 90,
     "metadata": {},
     "output_type": "execute_result"
    }
   ],
   "source": [
    "a"
   ]
  },
  {
   "cell_type": "code",
   "execution_count": 91,
   "id": "aebd32f3",
   "metadata": {},
   "outputs": [],
   "source": [
    "# 2. remove() -> deletes an element using a value\n",
    "# - in case of duplicate elements, it only removes first occurence\n",
    "# - it does not return the deleted value"
   ]
  },
  {
   "cell_type": "code",
   "execution_count": 92,
   "id": "4ee54cf8",
   "metadata": {},
   "outputs": [],
   "source": [
    "a.remove(7)"
   ]
  },
  {
   "cell_type": "code",
   "execution_count": 93,
   "id": "a1f8cc4d",
   "metadata": {},
   "outputs": [
    {
     "data": {
      "text/plain": [
       "[6, 2, 3, 4, 8, 9]"
      ]
     },
     "execution_count": 93,
     "metadata": {},
     "output_type": "execute_result"
    }
   ],
   "source": [
    "a"
   ]
  },
  {
   "cell_type": "code",
   "execution_count": 94,
   "id": "9d544d5a",
   "metadata": {},
   "outputs": [],
   "source": [
    "a = [6, 2, 3, 4, 8, 9, 9, 9, 10, 10, 7] "
   ]
  },
  {
   "cell_type": "code",
   "execution_count": 95,
   "id": "946b3a34",
   "metadata": {},
   "outputs": [],
   "source": [
    "a.remove(9)"
   ]
  },
  {
   "cell_type": "code",
   "execution_count": 96,
   "id": "87d5b696",
   "metadata": {},
   "outputs": [
    {
     "data": {
      "text/plain": [
       "[6, 2, 3, 4, 8, 9, 9, 10, 10, 7]"
      ]
     },
     "execution_count": 96,
     "metadata": {},
     "output_type": "execute_result"
    }
   ],
   "source": [
    "a"
   ]
  },
  {
   "cell_type": "code",
   "execution_count": 98,
   "id": "6bc29a0e",
   "metadata": {},
   "outputs": [],
   "source": [
    "# POP BY INDEX\n",
    "# REMOVE BY VALUE"
   ]
  },
  {
   "cell_type": "code",
   "execution_count": 99,
   "id": "f7c8cb06",
   "metadata": {},
   "outputs": [],
   "source": [
    "a = [4, 5, 6, 7, 8]"
   ]
  },
  {
   "cell_type": "code",
   "execution_count": 101,
   "id": "28313276",
   "metadata": {},
   "outputs": [],
   "source": [
    "a[0] = 10"
   ]
  },
  {
   "cell_type": "code",
   "execution_count": 103,
   "id": "408813a8",
   "metadata": {},
   "outputs": [
    {
     "data": {
      "text/plain": [
       "[10, 5, 6, 7, 8]"
      ]
     },
     "execution_count": 103,
     "metadata": {},
     "output_type": "execute_result"
    }
   ],
   "source": [
    "a # lists are mutable"
   ]
  },
  {
   "cell_type": "code",
   "execution_count": 104,
   "id": "2dbd4984",
   "metadata": {},
   "outputs": [],
   "source": [
    "# LISTS ARE HETEROGENEOUS"
   ]
  },
  {
   "cell_type": "code",
   "execution_count": 105,
   "id": "508c18f2",
   "metadata": {},
   "outputs": [],
   "source": [
    "a = [\"bipin\", 45, 67.8, True, [5,6,7,7]]"
   ]
  },
  {
   "cell_type": "code",
   "execution_count": 107,
   "id": "d834776d",
   "metadata": {},
   "outputs": [],
   "source": [
    "a = [1,2,3,4,5]"
   ]
  },
  {
   "cell_type": "code",
   "execution_count": 108,
   "id": "4ff0fbee",
   "metadata": {},
   "outputs": [
    {
     "data": {
      "text/plain": [
       "range(0, 5)"
      ]
     },
     "execution_count": 108,
     "metadata": {},
     "output_type": "execute_result"
    }
   ],
   "source": [
    "range(len(a))"
   ]
  },
  {
   "cell_type": "code",
   "execution_count": 109,
   "id": "f9c07e84",
   "metadata": {},
   "outputs": [],
   "source": [
    "import math"
   ]
  },
  {
   "cell_type": "code",
   "execution_count": 110,
   "id": "092409b5",
   "metadata": {},
   "outputs": [
    {
     "data": {
      "text/plain": [
       "7"
      ]
     },
     "execution_count": 110,
     "metadata": {},
     "output_type": "execute_result"
    }
   ],
   "source": [
    "math.ceil(6.7)"
   ]
  },
  {
   "cell_type": "code",
   "execution_count": 111,
   "id": "b8ec4cd8",
   "metadata": {},
   "outputs": [
    {
     "data": {
      "text/plain": [
       "range(0, 5)"
      ]
     },
     "execution_count": 111,
     "metadata": {},
     "output_type": "execute_result"
    }
   ],
   "source": [
    "range(5)"
   ]
  },
  {
   "cell_type": "code",
   "execution_count": null,
   "id": "2c242009",
   "metadata": {},
   "outputs": [],
   "source": []
  }
 ],
 "metadata": {
  "kernelspec": {
   "display_name": "Python 3 (ipykernel)",
   "language": "python",
   "name": "python3"
  },
  "language_info": {
   "codemirror_mode": {
    "name": "ipython",
    "version": 3
   },
   "file_extension": ".py",
   "mimetype": "text/x-python",
   "name": "python",
   "nbconvert_exporter": "python",
   "pygments_lexer": "ipython3",
   "version": "3.9.5"
  }
 },
 "nbformat": 4,
 "nbformat_minor": 5
}
