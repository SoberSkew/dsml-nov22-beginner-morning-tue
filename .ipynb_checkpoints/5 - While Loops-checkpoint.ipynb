{
 "cells": [
  {
   "cell_type": "code",
   "execution_count": 7,
   "id": "1331bc23",
   "metadata": {},
   "outputs": [
    {
     "name": "stdout",
     "output_type": "stream",
     "text": [
      "45 54\n"
     ]
    }
   ],
   "source": [
    "print(45, end = \" \")\n",
    "print(54)"
   ]
  },
  {
   "cell_type": "code",
   "execution_count": 11,
   "id": "13539db7",
   "metadata": {
    "scrolled": true
   },
   "outputs": [
    {
     "name": "stdout",
     "output_type": "stream",
     "text": [
      "45 _ 56 _ 78 _ 85\n"
     ]
    }
   ],
   "source": [
    "print(45,56,78,85,sep = \" _ \")"
   ]
  },
  {
   "cell_type": "code",
   "execution_count": 12,
   "id": "8bc7aafb",
   "metadata": {},
   "outputs": [
    {
     "name": "stdout",
     "output_type": "stream",
     "text": [
      "45+56 - 67\n"
     ]
    }
   ],
   "source": [
    "print(45, 56, sep = \"+\", end = \" - \")\n",
    "print(67)"
   ]
  },
  {
   "cell_type": "code",
   "execution_count": 1,
   "id": "3d3b5f67",
   "metadata": {},
   "outputs": [
    {
     "data": {
      "text/plain": [
       "'\\nPractice Question - \\nPrint all numbers from 0 to 5 with 5 included.\\n'"
      ]
     },
     "execution_count": 1,
     "metadata": {},
     "output_type": "execute_result"
    }
   ],
   "source": [
    "'''\n",
    "Practice Question - \n",
    "Print all numbers from 0 to 5 with 5 included.\n",
    "'''"
   ]
  },
  {
   "cell_type": "code",
   "execution_count": 2,
   "id": "8673b295",
   "metadata": {},
   "outputs": [
    {
     "name": "stdout",
     "output_type": "stream",
     "text": [
      "0 1 2 3 4 5 "
     ]
    }
   ],
   "source": [
    "number = 0 # initialization\n",
    "\n",
    "while number <= 5: # condition\n",
    "    print(number, end = \" \")\n",
    "    number += 1 # updation"
   ]
  },
  {
   "cell_type": "code",
   "execution_count": 14,
   "id": "4c18b3be",
   "metadata": {},
   "outputs": [
    {
     "name": "stdout",
     "output_type": "stream",
     "text": [
      "5 6 7 8 9 10 11 12 13 14 15 16 17 18 19 20 21 22 23 24 "
     ]
    }
   ],
   "source": [
    "number = 5\n",
    "\n",
    "while number < 25:\n",
    "    print(number, end = \" \")\n",
    "    number += 1"
   ]
  },
  {
   "cell_type": "code",
   "execution_count": 15,
   "id": "7e315bc6",
   "metadata": {},
   "outputs": [
    {
     "data": {
      "text/plain": [
       "'\\nQuestion 1 - \\nTake an input from the user and print alternate numbers from from 1 to input.\\nInput will be a positive number > 1.\\n\\nINPUT - 7\\nOUTPUT - 1 3 5 7\\n'"
      ]
     },
     "execution_count": 15,
     "metadata": {},
     "output_type": "execute_result"
    }
   ],
   "source": [
    "'''\n",
    "Question 1 - \n",
    "Take an input from the user and print alternate numbers from from 1 to input.\n",
    "Input will be a positive number > 1.\n",
    "\n",
    "INPUT - 7\n",
    "OUTPUT - 1 3 5 7\n",
    "'''"
   ]
  },
  {
   "cell_type": "code",
   "execution_count": 19,
   "id": "899a23b3",
   "metadata": {},
   "outputs": [
    {
     "name": "stdout",
     "output_type": "stream",
     "text": [
      "Enter a number > 1 - 7\n",
      "1\n",
      "3\n",
      "5\n",
      "7\n"
     ]
    }
   ],
   "source": [
    "number = int(input(\"Enter a number > 1 - \"))\n",
    "\n",
    "i = 1 # initialization\n",
    "\n",
    "while i <= number: # condition\n",
    "    print(i)\n",
    "    i += 2 # updation"
   ]
  },
  {
   "cell_type": "code",
   "execution_count": 21,
   "id": "59fa5eae",
   "metadata": {},
   "outputs": [
    {
     "name": "stdout",
     "output_type": "stream",
     "text": [
      "Enter a number > 1 - 7\n",
      "3\n",
      "5\n",
      "7\n",
      "9\n"
     ]
    },
    {
     "data": {
      "text/plain": [
       "'\\ni -> 1: True\\n    - i = 3\\n    - 3\\ni -> 3: True\\n    - i = 5\\n    - 5\\ni -> 5: True\\n    - i = 7\\n    - 7\\ni -> 7: True\\n    - i -> 9\\n    - 9\\n'"
      ]
     },
     "execution_count": 21,
     "metadata": {},
     "output_type": "execute_result"
    }
   ],
   "source": [
    "number = int(input(\"Enter a number > 1 - \"))\n",
    "\n",
    "i = 1 \n",
    "\n",
    "while i <= number: \n",
    "    i += 2\n",
    "    print(i)\n",
    "    \n",
    "'''\n",
    "i -> 1: True\n",
    "    - i = 3\n",
    "    - 3\n",
    "i -> 3: True\n",
    "    - i = 5\n",
    "    - 5\n",
    "i -> 5: True\n",
    "    - i = 7\n",
    "    - 7\n",
    "i -> 7: True\n",
    "    - i -> 9\n",
    "    - 9\n",
    "'''"
   ]
  },
  {
   "cell_type": "code",
   "execution_count": 22,
   "id": "3875c4bc",
   "metadata": {},
   "outputs": [
    {
     "data": {
      "text/plain": [
       "'\\nQuestion 2 - \\nTake an input from the user and print alternate numbers from from 1 to input.\\nIf number is > 1 -> Print as required.\\nElse print \"Number is smaller than 1!\"\\n\\nINPUT - 7\\nOUTPUT - 1 3 5 7\\n\\nINPUT - -5\\nOUTPUT - Number is smaller than 1!\\n'"
      ]
     },
     "execution_count": 22,
     "metadata": {},
     "output_type": "execute_result"
    }
   ],
   "source": [
    "'''\n",
    "Question 2 - \n",
    "Take an input from the user and print alternate numbers from from 1 to input.\n",
    "If number is > 1 -> Print as required.\n",
    "Else print \"Number is smaller than 1!\"\n",
    "\n",
    "INPUT - 7\n",
    "OUTPUT - 1 3 5 7\n",
    "\n",
    "INPUT - -5\n",
    "OUTPUT - Number is smaller than or equal to 1!\n",
    "'''"
   ]
  },
  {
   "cell_type": "code",
   "execution_count": 24,
   "id": "5d501b5c",
   "metadata": {},
   "outputs": [
    {
     "name": "stdout",
     "output_type": "stream",
     "text": [
      "Please provide a number - -2\n",
      "Number is smaller than or equal to 1!\n"
     ]
    }
   ],
   "source": [
    "number = int(input(\"Please provide a number - \"))\n",
    "\n",
    "# i = 1\n",
    "\n",
    "if number > 1:\n",
    "    i = 1\n",
    "    \n",
    "    while i <= number:\n",
    "        print(i)\n",
    "        i += 2\n",
    "else:\n",
    "    print(\"Number is smaller than or equal to 1!\")"
   ]
  },
  {
   "cell_type": "code",
   "execution_count": 26,
   "id": "ed207114",
   "metadata": {},
   "outputs": [
    {
     "name": "stdout",
     "output_type": "stream",
     "text": [
      "Please provide a number - -2\n",
      "Number is smaller than or equal to 1!\n"
     ]
    }
   ],
   "source": [
    "number = int(input(\"Please provide a number - \"))\n",
    "\n",
    "# i = 1\n",
    "\n",
    "if number <= 1:\n",
    "    print(\"Number is smaller than or equal to 1!\")\n",
    "else:\n",
    "    i = 1\n",
    "    \n",
    "    while i <= number:\n",
    "        print(i)\n",
    "        i += 2"
   ]
  },
  {
   "cell_type": "code",
   "execution_count": 27,
   "id": "abe32965",
   "metadata": {},
   "outputs": [
    {
     "data": {
      "text/plain": [
       "'\\nQuestion 3 - \\nTake two inputs from user for start and end integer values.\\nPrint every third number starting at start till end (end included).\\n'"
      ]
     },
     "execution_count": 27,
     "metadata": {},
     "output_type": "execute_result"
    }
   ],
   "source": [
    "'''\n",
    "Question 3 - \n",
    "Take two inputs from user for start and end integer values.\n",
    "Print every third number starting at start till end (end included).\n",
    "'''"
   ]
  },
  {
   "cell_type": "code",
   "execution_count": 39,
   "id": "82c56bbe",
   "metadata": {},
   "outputs": [
    {
     "name": "stdout",
     "output_type": "stream",
     "text": [
      "Enter starting value - 8\n",
      "Enter ending value - 1\n"
     ]
    }
   ],
   "source": [
    "s = int(input(\"Enter starting value - \")) # initialization\n",
    "e = int(input(\"Enter ending value - \")) # final value\n",
    "\n",
    "while s <= e: # condition\n",
    "    print(s, end = \" \")\n",
    "    s += 3 # updation"
   ]
  },
  {
   "cell_type": "code",
   "execution_count": 41,
   "id": "ecf3f8dd",
   "metadata": {},
   "outputs": [
    {
     "data": {
      "text/plain": [
       "True"
      ]
     },
     "execution_count": 41,
     "metadata": {},
     "output_type": "execute_result"
    }
   ],
   "source": [
    "6 % 2 == 0"
   ]
  },
  {
   "cell_type": "code",
   "execution_count": 42,
   "id": "d5814054",
   "metadata": {},
   "outputs": [
    {
     "data": {
      "text/plain": [
       "'\\nQuestion 4 - \\nTake an input from user for start and end values.\\nPrint all even numbers between them. (start and end included)\\n\\nINPUT - \\n3\\n7\\n\\nOUTPUT - 4 6\\n'"
      ]
     },
     "execution_count": 42,
     "metadata": {},
     "output_type": "execute_result"
    }
   ],
   "source": [
    "'''\n",
    "Question 4 - \n",
    "Take an input from user for start and end values.\n",
    "Print all even numbers between them. (start and end included)\n",
    "\n",
    "INPUT - \n",
    "3\n",
    "7\n",
    "\n",
    "OUTPUT - 4 6\n",
    "'''"
   ]
  },
  {
   "cell_type": "code",
   "execution_count": 44,
   "id": "c29f07f5",
   "metadata": {},
   "outputs": [
    {
     "name": "stdout",
     "output_type": "stream",
     "text": [
      "Enter start value - 3\n",
      "Enter end value - 11\n",
      "4 6 8 10 This loop ran 9 times.\n"
     ]
    }
   ],
   "source": [
    "s = int(input(\"Enter start value - \"))\n",
    "e = int(input(\"Enter end value - \"))\n",
    "\n",
    "# counter = 0\n",
    "\n",
    "while s <= e:\n",
    "#     counter += 1\n",
    "    \n",
    "    if s % 2 == 0:\n",
    "        print(s, end = \" \")\n",
    "        \n",
    "    s += 1\n",
    "    \n",
    "print(\"This loop ran\", counter, \"times.\")"
   ]
  },
  {
   "cell_type": "code",
   "execution_count": null,
   "id": "a11a6815",
   "metadata": {},
   "outputs": [
    {
     "name": "stdout",
     "output_type": "stream",
     "text": [
      "Enter start value - 4\n",
      "Enter end value - 9\n",
      "4 "
     ]
    }
   ],
   "source": [
    "s = int(input(\"Enter start value - \"))\n",
    "e = int(input(\"Enter end value - \"))\n",
    "\n",
    "while s <= e:\n",
    "    if s % 2 == 0:\n",
    "        print(s, end = \" \")\n",
    "        s += 1"
   ]
  },
  {
   "cell_type": "code",
   "execution_count": null,
   "id": "f8f7d0a1",
   "metadata": {},
   "outputs": [],
   "source": []
  }
 ],
 "metadata": {
  "kernelspec": {
   "display_name": "Python 3 (ipykernel)",
   "language": "python",
   "name": "python3"
  },
  "language_info": {
   "codemirror_mode": {
    "name": "ipython",
    "version": 3
   },
   "file_extension": ".py",
   "mimetype": "text/x-python",
   "name": "python",
   "nbconvert_exporter": "python",
   "pygments_lexer": "ipython3",
   "version": "3.9.5"
  }
 },
 "nbformat": 4,
 "nbformat_minor": 5
}
