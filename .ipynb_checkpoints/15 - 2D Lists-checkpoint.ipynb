{
 "cells": [
  {
   "cell_type": "code",
   "execution_count": 1,
   "id": "8c843508",
   "metadata": {},
   "outputs": [
    {
     "data": {
      "text/plain": [
       "'\\nQuestion 1 - \\nRotate a given list by 1 element.\\n\\nINPUT = [1,2,3,4,5]\\nOUTPUT = [5,1,2,3,4]\\n'"
      ]
     },
     "execution_count": 1,
     "metadata": {},
     "output_type": "execute_result"
    }
   ],
   "source": [
    "'''\n",
    "Question 1 - \n",
    "Rotate a given list by 1 element.\n",
    "\n",
    "INPUT = [1,2,3,4,5]\n",
    "OUTPUT = [5,1,2,3,4]\n",
    "'''"
   ]
  },
  {
   "cell_type": "code",
   "execution_count": 2,
   "id": "5ce62ff5",
   "metadata": {},
   "outputs": [],
   "source": [
    "a = [1,2,3,4,5]"
   ]
  },
  {
   "cell_type": "code",
   "execution_count": 3,
   "id": "624aa8b6",
   "metadata": {},
   "outputs": [
    {
     "data": {
      "text/plain": [
       "[1, 2, 3, 4]"
      ]
     },
     "execution_count": 3,
     "metadata": {},
     "output_type": "execute_result"
    }
   ],
   "source": [
    "a[:len(a) - 1]"
   ]
  },
  {
   "cell_type": "code",
   "execution_count": 4,
   "id": "0781bc5a",
   "metadata": {},
   "outputs": [
    {
     "data": {
      "text/plain": [
       "[1, 2, 3, 4, 5]"
      ]
     },
     "execution_count": 4,
     "metadata": {},
     "output_type": "execute_result"
    }
   ],
   "source": [
    "a"
   ]
  },
  {
   "cell_type": "code",
   "execution_count": 5,
   "id": "9f33cea0",
   "metadata": {},
   "outputs": [
    {
     "data": {
      "text/plain": [
       "5"
      ]
     },
     "execution_count": 5,
     "metadata": {},
     "output_type": "execute_result"
    }
   ],
   "source": [
    "a[-1]"
   ]
  },
  {
   "cell_type": "code",
   "execution_count": 6,
   "id": "1fb39ae0",
   "metadata": {},
   "outputs": [
    {
     "data": {
      "text/plain": [
       "[3, 4, 5, 6]"
      ]
     },
     "execution_count": 6,
     "metadata": {},
     "output_type": "execute_result"
    }
   ],
   "source": [
    "[3,4] + [5,6]"
   ]
  },
  {
   "cell_type": "code",
   "execution_count": 7,
   "id": "f47049a5",
   "metadata": {},
   "outputs": [],
   "source": [
    "def solution_1(a):\n",
    "    last_element = a[-1]\n",
    "    remaining_elements = a[:len(a) - 1]\n",
    "    \n",
    "    result = [last_element] + remaining_elements\n",
    "    \n",
    "    return result"
   ]
  },
  {
   "cell_type": "code",
   "execution_count": 8,
   "id": "7990690e",
   "metadata": {},
   "outputs": [
    {
     "data": {
      "text/plain": [
       "[5, 1, 2, 3, 4]"
      ]
     },
     "execution_count": 8,
     "metadata": {},
     "output_type": "execute_result"
    }
   ],
   "source": [
    "solution_1(a)"
   ]
  },
  {
   "cell_type": "code",
   "execution_count": 9,
   "id": "5c2d437a",
   "metadata": {},
   "outputs": [],
   "source": [
    "def solution_1(a):\n",
    "    return [a[-1]] + a[:len(a) - 1]"
   ]
  },
  {
   "cell_type": "code",
   "execution_count": 10,
   "id": "1d0e23cf",
   "metadata": {},
   "outputs": [],
   "source": [
    "def solution_2(a):\n",
    "    last_element = a.pop()\n",
    "    a.insert(0, last_element)\n",
    "    \n",
    "    return a"
   ]
  },
  {
   "cell_type": "code",
   "execution_count": 11,
   "id": "3e9a8eed",
   "metadata": {},
   "outputs": [
    {
     "data": {
      "text/plain": [
       "[1, 2, 3, 4, 5]"
      ]
     },
     "execution_count": 11,
     "metadata": {},
     "output_type": "execute_result"
    }
   ],
   "source": [
    "a"
   ]
  },
  {
   "cell_type": "code",
   "execution_count": 12,
   "id": "160853b5",
   "metadata": {},
   "outputs": [
    {
     "data": {
      "text/plain": [
       "[5, 1, 2, 3, 4]"
      ]
     },
     "execution_count": 12,
     "metadata": {},
     "output_type": "execute_result"
    }
   ],
   "source": [
    "solution_2(a)"
   ]
  },
  {
   "cell_type": "code",
   "execution_count": 13,
   "id": "0989ee4e",
   "metadata": {},
   "outputs": [
    {
     "data": {
      "text/plain": [
       "'\\nOPTIONAL HOMEWORK - \\nRotate a given list by n element.\\n\\nINPUT - \\na = [1,2,3,4,5]\\nn = 7\\n\\nOUTPUT = [4,5,1,2,3]\\n'"
      ]
     },
     "execution_count": 13,
     "metadata": {},
     "output_type": "execute_result"
    }
   ],
   "source": [
    "'''\n",
    "OPTIONAL HOMEWORK - \n",
    "Rotate a given list by n element.\n",
    "\n",
    "INPUT - \n",
    "a = [1,2,3,4,5]\n",
    "n = 7\n",
    "\n",
    "OUTPUT = [4,5,1,2,3]\n",
    "'''"
   ]
  },
  {
   "cell_type": "code",
   "execution_count": 14,
   "id": "4aac525c",
   "metadata": {},
   "outputs": [],
   "source": [
    "a = [5,6,7,8,9,10]"
   ]
  },
  {
   "cell_type": "code",
   "execution_count": 15,
   "id": "75c393ac",
   "metadata": {},
   "outputs": [
    {
     "data": {
      "text/plain": [
       "2"
      ]
     },
     "execution_count": 15,
     "metadata": {},
     "output_type": "execute_result"
    }
   ],
   "source": [
    "a.index(7)"
   ]
  },
  {
   "cell_type": "code",
   "execution_count": 16,
   "id": "f94ac863",
   "metadata": {},
   "outputs": [
    {
     "ename": "ValueError",
     "evalue": "20 is not in list",
     "output_type": "error",
     "traceback": [
      "\u001b[0;31m---------------------------------------------------------------------------\u001b[0m",
      "\u001b[0;31mValueError\u001b[0m                                Traceback (most recent call last)",
      "\u001b[0;32m/var/folders/nn/c52y0d3j0gq59dpsswchkt2r0000gn/T/ipykernel_6804/1583755094.py\u001b[0m in \u001b[0;36m<module>\u001b[0;34m\u001b[0m\n\u001b[0;32m----> 1\u001b[0;31m \u001b[0ma\u001b[0m\u001b[0;34m.\u001b[0m\u001b[0mindex\u001b[0m\u001b[0;34m(\u001b[0m\u001b[0;36m20\u001b[0m\u001b[0;34m)\u001b[0m\u001b[0;34m\u001b[0m\u001b[0;34m\u001b[0m\u001b[0m\n\u001b[0m",
      "\u001b[0;31mValueError\u001b[0m: 20 is not in list"
     ]
    }
   ],
   "source": [
    "a.index(20)"
   ]
  },
  {
   "cell_type": "code",
   "execution_count": 17,
   "id": "c3da6d42",
   "metadata": {},
   "outputs": [],
   "source": [
    "a = [5,6,7,8,9,10,10,10,10,10,10]"
   ]
  },
  {
   "cell_type": "code",
   "execution_count": 19,
   "id": "29f543f6",
   "metadata": {},
   "outputs": [
    {
     "data": {
      "text/plain": [
       "5"
      ]
     },
     "execution_count": 19,
     "metadata": {},
     "output_type": "execute_result"
    }
   ],
   "source": [
    "a.index(10) # returns first occurence index"
   ]
  },
  {
   "cell_type": "code",
   "execution_count": 20,
   "id": "42361dfe",
   "metadata": {},
   "outputs": [
    {
     "data": {
      "text/plain": [
       "6"
      ]
     },
     "execution_count": 20,
     "metadata": {},
     "output_type": "execute_result"
    }
   ],
   "source": [
    "a.count(10)"
   ]
  },
  {
   "cell_type": "code",
   "execution_count": 21,
   "id": "ff2ef357",
   "metadata": {},
   "outputs": [
    {
     "data": {
      "text/plain": [
       "0"
      ]
     },
     "execution_count": 21,
     "metadata": {},
     "output_type": "execute_result"
    }
   ],
   "source": [
    "a.count(100)"
   ]
  },
  {
   "cell_type": "code",
   "execution_count": 22,
   "id": "7abc5719",
   "metadata": {},
   "outputs": [],
   "source": [
    "a = [[1,2,3], [4,5,6], [7,8,9]]"
   ]
  },
  {
   "cell_type": "code",
   "execution_count": 25,
   "id": "1cd445d2",
   "metadata": {},
   "outputs": [
    {
     "data": {
      "text/plain": [
       "6"
      ]
     },
     "execution_count": 25,
     "metadata": {},
     "output_type": "execute_result"
    }
   ],
   "source": [
    "a[1][2]"
   ]
  },
  {
   "cell_type": "code",
   "execution_count": 26,
   "id": "9eb89911",
   "metadata": {},
   "outputs": [],
   "source": [
    "# MATRICES"
   ]
  },
  {
   "cell_type": "code",
   "execution_count": 27,
   "id": "ee4e5baf",
   "metadata": {},
   "outputs": [],
   "source": [
    "rows = len(a)\n",
    "columns = len(a[0])"
   ]
  },
  {
   "cell_type": "code",
   "execution_count": 28,
   "id": "6cad85e4",
   "metadata": {},
   "outputs": [
    {
     "name": "stdout",
     "output_type": "stream",
     "text": [
      "1 2 3 \n",
      "4 5 6 \n",
      "7 8 9 \n"
     ]
    }
   ],
   "source": [
    "for i in range(rows):\n",
    "    for j in range(columns):\n",
    "        print(a[i][j], end = \" \")\n",
    "    \n",
    "    print()"
   ]
  },
  {
   "cell_type": "code",
   "execution_count": 32,
   "id": "8f1de68d",
   "metadata": {},
   "outputs": [],
   "source": [
    "a = [[1,2,3], [4,5,6], [7,8,9], [0,1,2]]"
   ]
  },
  {
   "cell_type": "code",
   "execution_count": 33,
   "id": "b92fadc8",
   "metadata": {},
   "outputs": [],
   "source": [
    "rows = len(a)\n",
    "columns = len(a[0])"
   ]
  },
  {
   "cell_type": "code",
   "execution_count": 34,
   "id": "3fa2c0cc",
   "metadata": {},
   "outputs": [
    {
     "name": "stdout",
     "output_type": "stream",
     "text": [
      "1 2 3 \n",
      "4 5 6 \n",
      "7 8 9 \n",
      "0 1 2 \n"
     ]
    }
   ],
   "source": [
    "for i in range(rows):\n",
    "    for j in range(columns):\n",
    "        print(a[i][j], end = \" \")\n",
    "    \n",
    "    print()"
   ]
  },
  {
   "cell_type": "code",
   "execution_count": 35,
   "id": "6b5b7af2",
   "metadata": {},
   "outputs": [
    {
     "data": {
      "text/plain": [
       "'\\nQuestion 2 - \\nTake a 3x3 matrix as input from the user.\\n\\nGiven this matrix - \\n1. Calculate the sum of all elements in the matrix\\n2. Calculate and print sum of each row\\n3. Calculate and print sum of each column\\n'"
      ]
     },
     "execution_count": 35,
     "metadata": {},
     "output_type": "execute_result"
    }
   ],
   "source": [
    "'''\n",
    "Question 2 - \n",
    "Take a 3x3 matrix as input from the user.\n",
    "\n",
    "Given this matrix - \n",
    "1. Calculate the sum of all elements in the matrix\n",
    "2. Calculate and print sum of each row\n",
    "3. Calculate and print sum of each column\n",
    "'''"
   ]
  },
  {
   "cell_type": "code",
   "execution_count": 37,
   "id": "0a27815a",
   "metadata": {},
   "outputs": [
    {
     "name": "stdout",
     "output_type": "stream",
     "text": [
      "1\n",
      "2\n",
      "3\n",
      "4\n",
      "5\n",
      "6\n",
      "7\n",
      "8\n",
      "9\n"
     ]
    },
    {
     "data": {
      "text/plain": [
       "'\\nmatrix = []\\n\\ni = 0 -> \\nrow = []\\nj = 0 -> input 1 = 5 -> row = [5]\\nj = 1 -> input 2 = 4 -> row = [5, 4]\\nj = 2 -> input 3 = 6 -> row = [5, 4, 6]\\n\\nrow = [5, 4, 6]\\n\\nmatrix = [[5,4,6]]\\n\\ni = 1 -> \\nrow = []\\nj = 0 -> input 1 = 1 -> row = [1]\\nj = 1 -> input 2 = 2 -> row = [1, 2]\\nj = 2 -> input 3 = 3 -> row = [1, 2, 3]\\n\\nrow = [1, 2, 3]\\n\\nmatrix = [[5,4,6], [1,2,3]]\\n'"
      ]
     },
     "execution_count": 37,
     "metadata": {},
     "output_type": "execute_result"
    }
   ],
   "source": [
    "matrix = []\n",
    "\n",
    "for i in range(3):\n",
    "    row = []\n",
    "    \n",
    "    for j in range(3):\n",
    "        row.append(int(input()))\n",
    "        \n",
    "    matrix.append(row)\n",
    "    \n",
    "'''\n",
    "matrix = []\n",
    "\n",
    "i = 0 -> \n",
    "row = []\n",
    "j = 0 -> input 1 = 5 -> row = [5]\n",
    "j = 1 -> input 2 = 4 -> row = [5, 4]\n",
    "j = 2 -> input 3 = 6 -> row = [5, 4, 6]\n",
    "\n",
    "row = [5, 4, 6]\n",
    "\n",
    "matrix = [[5,4,6]]\n",
    "\n",
    "i = 1 -> \n",
    "row = []\n",
    "j = 0 -> input 1 = 1 -> row = [1]\n",
    "j = 1 -> input 2 = 2 -> row = [1, 2]\n",
    "j = 2 -> input 3 = 3 -> row = [1, 2, 3]\n",
    "\n",
    "row = [1, 2, 3]\n",
    "\n",
    "matrix = [[5,4,6], [1,2,3]]\n",
    "'''"
   ]
  },
  {
   "cell_type": "code",
   "execution_count": 38,
   "id": "35269051",
   "metadata": {},
   "outputs": [
    {
     "data": {
      "text/plain": [
       "[[1, 2, 3], [4, 5, 6], [7, 8, 9]]"
      ]
     },
     "execution_count": 38,
     "metadata": {},
     "output_type": "execute_result"
    }
   ],
   "source": [
    "matrix"
   ]
  },
  {
   "cell_type": "code",
   "execution_count": 39,
   "id": "ee0ad408",
   "metadata": {},
   "outputs": [],
   "source": [
    "def matrix_input(rows, columns):\n",
    "    matrix = []\n",
    "    \n",
    "    for i in range(rows):\n",
    "        row = []\n",
    "        \n",
    "        for j in range(columns):\n",
    "            row.append(int(input()))\n",
    "        \n",
    "        matrix.append(row)\n",
    "        \n",
    "    return matrix"
   ]
  },
  {
   "cell_type": "code",
   "execution_count": 40,
   "id": "48907dab",
   "metadata": {},
   "outputs": [
    {
     "name": "stdout",
     "output_type": "stream",
     "text": [
      "1\n",
      "2\n",
      "3\n",
      "4\n"
     ]
    },
    {
     "data": {
      "text/plain": [
       "[[1, 2], [3, 4]]"
      ]
     },
     "execution_count": 40,
     "metadata": {},
     "output_type": "execute_result"
    }
   ],
   "source": [
    "matrix_input(2,2)"
   ]
  },
  {
   "cell_type": "code",
   "execution_count": 41,
   "id": "909b32a6",
   "metadata": {},
   "outputs": [
    {
     "name": "stdout",
     "output_type": "stream",
     "text": [
      "1\n",
      "2\n",
      "3\n",
      "4\n",
      "5\n",
      "6\n",
      "7\n",
      "8\n",
      "9\n"
     ]
    }
   ],
   "source": [
    "matrix = matrix_input(3,3)"
   ]
  },
  {
   "cell_type": "code",
   "execution_count": 42,
   "id": "184ed0a1",
   "metadata": {},
   "outputs": [
    {
     "data": {
      "text/plain": [
       "[[1, 2, 3], [4, 5, 6], [7, 8, 9]]"
      ]
     },
     "execution_count": 42,
     "metadata": {},
     "output_type": "execute_result"
    }
   ],
   "source": [
    "matrix"
   ]
  },
  {
   "cell_type": "code",
   "execution_count": 45,
   "id": "8b77ac96",
   "metadata": {},
   "outputs": [],
   "source": [
    "def sum_all_elements(matrix):\n",
    "    sum_all = 0\n",
    "    \n",
    "    for i in matrix:\n",
    "        for j in i:\n",
    "            sum_all += j\n",
    "            \n",
    "    return sum_all"
   ]
  },
  {
   "cell_type": "code",
   "execution_count": 46,
   "id": "b4c8d58c",
   "metadata": {},
   "outputs": [
    {
     "data": {
      "text/plain": [
       "45"
      ]
     },
     "execution_count": 46,
     "metadata": {},
     "output_type": "execute_result"
    }
   ],
   "source": [
    "sum_all_elements(matrix)"
   ]
  },
  {
   "cell_type": "code",
   "execution_count": 49,
   "id": "87876734",
   "metadata": {},
   "outputs": [],
   "source": [
    "def sum_each_row(matrix):\n",
    "    rows = len(matrix)\n",
    "    columns = len(matrix[0])\n",
    "    \n",
    "    for i in range(rows):\n",
    "        sum_row = 0\n",
    "        \n",
    "        for j in range(columns):\n",
    "            sum_row += matrix[i][j]\n",
    "            \n",
    "        print(\"Sum of row\", i, \"=\", sum_row)"
   ]
  },
  {
   "cell_type": "code",
   "execution_count": 50,
   "id": "8149e580",
   "metadata": {},
   "outputs": [
    {
     "name": "stdout",
     "output_type": "stream",
     "text": [
      "Sum of row 0 = 6\n",
      "Sum of row 1 = 15\n",
      "Sum of row 2 = 24\n"
     ]
    },
    {
     "data": {
      "text/plain": [
       "'\\nrow = 3\\ncolumns = 3\\n\\n\\n'"
      ]
     },
     "execution_count": 50,
     "metadata": {},
     "output_type": "execute_result"
    }
   ],
   "source": [
    "sum_each_row(matrix)\n",
    "\n",
    "'''\n",
    "row = 3\n",
    "columns = 3\n",
    "\n",
    "\n",
    "'''"
   ]
  },
  {
   "cell_type": "code",
   "execution_count": null,
   "id": "f0ddd8c3",
   "metadata": {},
   "outputs": [],
   "source": []
  }
 ],
 "metadata": {
  "kernelspec": {
   "display_name": "Python 3 (ipykernel)",
   "language": "python",
   "name": "python3"
  },
  "language_info": {
   "codemirror_mode": {
    "name": "ipython",
    "version": 3
   },
   "file_extension": ".py",
   "mimetype": "text/x-python",
   "name": "python",
   "nbconvert_exporter": "python",
   "pygments_lexer": "ipython3",
   "version": "3.9.5"
  }
 },
 "nbformat": 4,
 "nbformat_minor": 5
}
