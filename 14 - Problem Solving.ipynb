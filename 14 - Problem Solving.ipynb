{
 "cells": [
  {
   "cell_type": "code",
   "execution_count": 1,
   "id": "8b0be71d",
   "metadata": {
    "scrolled": true
   },
   "outputs": [
    {
     "data": {
      "text/plain": [
       "4"
      ]
     },
     "execution_count": 1,
     "metadata": {},
     "output_type": "execute_result"
    }
   ],
   "source": [
    "round(4.5)"
   ]
  },
  {
   "cell_type": "code",
   "execution_count": 4,
   "id": "a7c3440c",
   "metadata": {},
   "outputs": [
    {
     "data": {
      "text/plain": [
       "4"
      ]
     },
     "execution_count": 4,
     "metadata": {},
     "output_type": "execute_result"
    }
   ],
   "source": [
    "round(3.5) # rounds to the nearest even integer in case of 0.5"
   ]
  },
  {
   "cell_type": "code",
   "execution_count": 6,
   "id": "8851d38e",
   "metadata": {},
   "outputs": [
    {
     "data": {
      "text/plain": [
       "4.0"
      ]
     },
     "execution_count": 6,
     "metadata": {},
     "output_type": "execute_result"
    }
   ],
   "source": [
    "(3.6 // 1) + 1"
   ]
  },
  {
   "cell_type": "code",
   "execution_count": 7,
   "id": "93eb8b26",
   "metadata": {},
   "outputs": [],
   "source": [
    "def round_custom(a):\n",
    "    floor = a // 1\n",
    "    ceil = floor + 1\n",
    "    \n",
    "    if ceil - a <= 0.5:\n",
    "        return ceil\n",
    "    else:\n",
    "        return floor"
   ]
  },
  {
   "cell_type": "code",
   "execution_count": 12,
   "id": "a601619d",
   "metadata": {},
   "outputs": [
    {
     "data": {
      "text/plain": [
       "2.0"
      ]
     },
     "execution_count": 12,
     "metadata": {},
     "output_type": "execute_result"
    }
   ],
   "source": [
    "round_custom(2.4)"
   ]
  },
  {
   "cell_type": "code",
   "execution_count": 13,
   "id": "383137c8",
   "metadata": {},
   "outputs": [
    {
     "data": {
      "text/plain": [
       "2.0"
      ]
     },
     "execution_count": 13,
     "metadata": {},
     "output_type": "execute_result"
    }
   ],
   "source": [
    "4 ** 0.5"
   ]
  },
  {
   "cell_type": "code",
   "execution_count": 24,
   "id": "3ea6c5ef",
   "metadata": {},
   "outputs": [],
   "source": [
    "'''\n",
    "a = [3,5,6,2,1,8,9]\n",
    "\n",
    "largest = 3 -> a[0]\n",
    "second_largest = 0\n",
    "\n",
    "Traverse list from second element ->\n",
    "if current_element > largest ->\n",
    "    second_largest = largest\n",
    "    largest = current_element\n",
    "    \n",
    "largest = 5\n",
    "second_largest = 3\n",
    "\n",
    "'''\n",
    "\n",
    "\n",
    "def second_largest(a):\n",
    "    largest = a[0]\n",
    "    second_largest = largest\n",
    "    \n",
    "    if len(a) > 1:\n",
    "        for i in range(1, len(a)):\n",
    "            if a[i] > largest:\n",
    "                second_largest = largest\n",
    "                largest = a[i]\n",
    "            elif a[i] > second_largest and a[i] < largest:\n",
    "                second_largest = a[i]\n",
    "    \n",
    "    return second_largest"
   ]
  },
  {
   "cell_type": "code",
   "execution_count": 27,
   "id": "2dfe4350",
   "metadata": {},
   "outputs": [
    {
     "data": {
      "text/plain": [
       "6"
      ]
     },
     "execution_count": 27,
     "metadata": {},
     "output_type": "execute_result"
    }
   ],
   "source": [
    "second_largest([3,2,1,9,6])"
   ]
  },
  {
   "cell_type": "code",
   "execution_count": 28,
   "id": "32473d75",
   "metadata": {},
   "outputs": [],
   "source": [
    "def second_largest(a):\n",
    "    largest = a[0]\n",
    "    second_largest = -1\n",
    "    \n",
    "    if len(a) > 1:\n",
    "        for i in range(1, len(a)):\n",
    "            if a[i] > largest:\n",
    "                second_largest = largest\n",
    "                largest = a[i]\n",
    "            elif a[i] > second_largest and a[i] < largest:\n",
    "                second_largest = a[i]\n",
    "    \n",
    "    return second_largest"
   ]
  },
  {
   "cell_type": "code",
   "execution_count": 36,
   "id": "99af5751",
   "metadata": {},
   "outputs": [
    {
     "data": {
      "text/plain": [
       "17"
      ]
     },
     "execution_count": 36,
     "metadata": {},
     "output_type": "execute_result"
    }
   ],
   "source": [
    "second_largest([13, 7, 16, 18, 14, 17, 18, 8, 10])"
   ]
  },
  {
   "cell_type": "code",
   "execution_count": 30,
   "id": "2a7de985",
   "metadata": {},
   "outputs": [
    {
     "data": {
      "text/plain": [
       "'\\nProblem Description\\nGiven three integers, A, B and C. \\nYou have to find the number of days it will take to reach zero cases of Corona in a city.\\nA - Average cases recovered in a day of the corona.\\nB - Number of new cases of corona daily.\\nC - Current active cases of the corona. \\nReturn the minimum number of days it will take to reach 0 active cases of Covid.\\n'"
      ]
     },
     "execution_count": 30,
     "metadata": {},
     "output_type": "execute_result"
    }
   ],
   "source": [
    "'''\n",
    "Problem Description\n",
    "Given three integers, A, B and C. \n",
    "You have to find the number of days it will take to reach zero cases of Corona in a city.\n",
    "A - Average cases recovered in a day of the corona.\n",
    "B - Number of new cases of corona daily.\n",
    "C - Current active cases of the corona. \n",
    "Return the minimum number of days it will take to reach 0 active cases of Covid.\n",
    "'''"
   ]
  },
  {
   "cell_type": "code",
   "execution_count": 31,
   "id": "9bfb92ef",
   "metadata": {},
   "outputs": [],
   "source": [
    "def go_corona_go(A, B, C):\n",
    "    count = 0\n",
    "\n",
    "    while True:\n",
    "        count += 1\n",
    "\n",
    "        if C - count*A + count*B <= 0:\n",
    "            break\n",
    "\n",
    "    return count"
   ]
  },
  {
   "cell_type": "code",
   "execution_count": 32,
   "id": "6ba605aa",
   "metadata": {},
   "outputs": [
    {
     "data": {
      "text/plain": [
       "12"
      ]
     },
     "execution_count": 32,
     "metadata": {},
     "output_type": "execute_result"
    }
   ],
   "source": [
    "go_corona_go(10, 5, 60)"
   ]
  },
  {
   "cell_type": "code",
   "execution_count": 33,
   "id": "89303749",
   "metadata": {},
   "outputs": [
    {
     "data": {
      "text/plain": [
       "range(-1, -5)"
      ]
     },
     "execution_count": 33,
     "metadata": {},
     "output_type": "execute_result"
    }
   ],
   "source": [
    "range(-1,-5)"
   ]
  },
  {
   "cell_type": "code",
   "execution_count": 35,
   "id": "b284f268",
   "metadata": {},
   "outputs": [
    {
     "name": "stdout",
     "output_type": "stream",
     "text": [
      "-1\n",
      "-2\n",
      "-3\n",
      "-4\n"
     ]
    }
   ],
   "source": [
    "for i in range(-1,-5,-1):\n",
    "    print(i)"
   ]
  },
  {
   "cell_type": "code",
   "execution_count": 43,
   "id": "b2a1e771",
   "metadata": {},
   "outputs": [],
   "source": [
    "def faltu_pattern(n):\n",
    "    for i in range(n):\n",
    "        print(\"0 \"*(n - i - 1), end = \"\")\n",
    "        \n",
    "        for j in range(1, 2 * i + 2):\n",
    "            print((n - i) * j, end = \" \")\n",
    "        \n",
    "        print(\"0 \"*(n - i - 1), end = \"\")\n",
    "        print()"
   ]
  },
  {
   "cell_type": "code",
   "execution_count": 44,
   "id": "4fdbd7d8",
   "metadata": {},
   "outputs": [
    {
     "name": "stdout",
     "output_type": "stream",
     "text": [
      "0 0 0 0 5 0 0 0 0 \n",
      "0 0 0 4 8 12 0 0 0 \n",
      "0 0 3 6 9 12 15 0 0 \n",
      "0 2 4 6 8 10 12 14 0 \n",
      "1 2 3 4 5 6 7 8 9 \n"
     ]
    }
   ],
   "source": [
    "faltu_pattern(5)"
   ]
  },
  {
   "cell_type": "code",
   "execution_count": null,
   "id": "93d02bb7",
   "metadata": {},
   "outputs": [],
   "source": []
  }
 ],
 "metadata": {
  "kernelspec": {
   "display_name": "Python 3 (ipykernel)",
   "language": "python",
   "name": "python3"
  },
  "language_info": {
   "codemirror_mode": {
    "name": "ipython",
    "version": 3
   },
   "file_extension": ".py",
   "mimetype": "text/x-python",
   "name": "python",
   "nbconvert_exporter": "python",
   "pygments_lexer": "ipython3",
   "version": "3.9.5"
  }
 },
 "nbformat": 4,
 "nbformat_minor": 5
}
